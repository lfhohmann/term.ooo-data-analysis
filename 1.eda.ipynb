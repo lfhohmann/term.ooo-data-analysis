{
 "cells": [
  {
   "cell_type": "markdown",
   "metadata": {},
   "source": [
    "# **EDA and Pre Processing to simplify further Analysis and Simulations**\n",
    "\n",
    "### Steps:\n",
    "\n",
    "+ Split each word into separate columns\n",
    "+ Count the amount of unique letters per word\n",
    "+ Count how many times does a letter appear in each word\n",
    "+ Count the minimum and maximum times a letter can appear in all words\n",
    "+ Count how many times does each letter appear in each position across all words\n",
    "+ Correlate elements across positions\n",
    "+ Correlate letters\n",
    "\n",
    "### Note:\n",
    "\n",
    "*For this analysis we will be only using the set of `valid_answers` for now*"
   ]
  },
  {
   "cell_type": "code",
   "execution_count": 2,
   "metadata": {},
   "outputs": [],
   "source": [
    "import plotly.graph_objects as go\n",
    "import plotly.subplots as sp\n",
    "from tqdm import tqdm\n",
    "import pandas as pd\n",
    "import numpy as np\n",
    "\n",
    "\n",
    "pd.set_option('display.max_columns', 50)\n",
    "pd.set_option('display.max_rows', 10)"
   ]
  },
  {
   "cell_type": "markdown",
   "metadata": {},
   "source": [
    "## Defining constants"
   ]
  },
  {
   "cell_type": "code",
   "execution_count": 3,
   "metadata": {},
   "outputs": [],
   "source": [
    "NUMBER_OF_ELEMENTS = 5\n",
    "ALPHABET = list(\"abcdefghijklmnopqrstuvwxyz\")"
   ]
  },
  {
   "cell_type": "markdown",
   "metadata": {},
   "source": [
    "# Loading the data\n",
    "\n",
    "*(And setting the index)*"
   ]
  },
  {
   "cell_type": "code",
   "execution_count": 4,
   "metadata": {},
   "outputs": [
    {
     "data": {
      "text/html": [
       "<div>\n",
       "<style scoped>\n",
       "    .dataframe tbody tr th:only-of-type {\n",
       "        vertical-align: middle;\n",
       "    }\n",
       "\n",
       "    .dataframe tbody tr th {\n",
       "        vertical-align: top;\n",
       "    }\n",
       "\n",
       "    .dataframe thead th {\n",
       "        text-align: right;\n",
       "    }\n",
       "</style>\n",
       "<table border=\"1\" class=\"dataframe\">\n",
       "  <thead>\n",
       "    <tr style=\"text-align: right;\">\n",
       "      <th></th>\n",
       "      <th>word</th>\n",
       "    </tr>\n",
       "    <tr>\n",
       "      <th>word</th>\n",
       "      <th></th>\n",
       "    </tr>\n",
       "  </thead>\n",
       "  <tbody>\n",
       "    <tr>\n",
       "      <th>abano</th>\n",
       "      <td>abano</td>\n",
       "    </tr>\n",
       "    <tr>\n",
       "      <th>abono</th>\n",
       "      <td>abono</td>\n",
       "    </tr>\n",
       "    <tr>\n",
       "      <th>abril</th>\n",
       "      <td>abril</td>\n",
       "    </tr>\n",
       "    <tr>\n",
       "      <th>abrir</th>\n",
       "      <td>abrir</td>\n",
       "    </tr>\n",
       "    <tr>\n",
       "      <th>abuso</th>\n",
       "      <td>abuso</td>\n",
       "    </tr>\n",
       "    <tr>\n",
       "      <th>...</th>\n",
       "      <td>...</td>\n",
       "    </tr>\n",
       "    <tr>\n",
       "      <th>zerar</th>\n",
       "      <td>zerar</td>\n",
       "    </tr>\n",
       "    <tr>\n",
       "      <th>zinco</th>\n",
       "      <td>zinco</td>\n",
       "    </tr>\n",
       "    <tr>\n",
       "      <th>ziper</th>\n",
       "      <td>ziper</td>\n",
       "    </tr>\n",
       "    <tr>\n",
       "      <th>zonas</th>\n",
       "      <td>zonas</td>\n",
       "    </tr>\n",
       "    <tr>\n",
       "      <th>zonzo</th>\n",
       "      <td>zonzo</td>\n",
       "    </tr>\n",
       "  </tbody>\n",
       "</table>\n",
       "<p>1442 rows × 1 columns</p>\n",
       "</div>"
      ],
      "text/plain": [
       "        word\n",
       "word        \n",
       "abano  abano\n",
       "abono  abono\n",
       "abril  abril\n",
       "abrir  abrir\n",
       "abuso  abuso\n",
       "...      ...\n",
       "zerar  zerar\n",
       "zinco  zinco\n",
       "ziper  ziper\n",
       "zonas  zonas\n",
       "zonzo  zonzo\n",
       "\n",
       "[1442 rows x 1 columns]"
      ]
     },
     "execution_count": 4,
     "metadata": {},
     "output_type": "execute_result"
    }
   ],
   "source": [
    "df_raw = pd.read_csv(\"./data/1.raw/valid_answers.csv\")\n",
    "df_raw.index = df_raw[\"word\"]\n",
    "\n",
    "df_raw"
   ]
  },
  {
   "cell_type": "markdown",
   "metadata": {},
   "source": [
    "### Spliting the words"
   ]
  },
  {
   "cell_type": "code",
   "execution_count": 5,
   "metadata": {},
   "outputs": [
    {
     "data": {
      "text/html": [
       "<div>\n",
       "<style scoped>\n",
       "    .dataframe tbody tr th:only-of-type {\n",
       "        vertical-align: middle;\n",
       "    }\n",
       "\n",
       "    .dataframe tbody tr th {\n",
       "        vertical-align: top;\n",
       "    }\n",
       "\n",
       "    .dataframe thead th {\n",
       "        text-align: right;\n",
       "    }\n",
       "</style>\n",
       "<table border=\"1\" class=\"dataframe\">\n",
       "  <thead>\n",
       "    <tr style=\"text-align: right;\">\n",
       "      <th></th>\n",
       "      <th>p0</th>\n",
       "      <th>p1</th>\n",
       "      <th>p2</th>\n",
       "      <th>p3</th>\n",
       "      <th>p4</th>\n",
       "    </tr>\n",
       "    <tr>\n",
       "      <th>word</th>\n",
       "      <th></th>\n",
       "      <th></th>\n",
       "      <th></th>\n",
       "      <th></th>\n",
       "      <th></th>\n",
       "    </tr>\n",
       "  </thead>\n",
       "  <tbody>\n",
       "    <tr>\n",
       "      <th>abano</th>\n",
       "      <td>a</td>\n",
       "      <td>b</td>\n",
       "      <td>a</td>\n",
       "      <td>n</td>\n",
       "      <td>o</td>\n",
       "    </tr>\n",
       "    <tr>\n",
       "      <th>abono</th>\n",
       "      <td>a</td>\n",
       "      <td>b</td>\n",
       "      <td>o</td>\n",
       "      <td>n</td>\n",
       "      <td>o</td>\n",
       "    </tr>\n",
       "    <tr>\n",
       "      <th>abril</th>\n",
       "      <td>a</td>\n",
       "      <td>b</td>\n",
       "      <td>r</td>\n",
       "      <td>i</td>\n",
       "      <td>l</td>\n",
       "    </tr>\n",
       "    <tr>\n",
       "      <th>abrir</th>\n",
       "      <td>a</td>\n",
       "      <td>b</td>\n",
       "      <td>r</td>\n",
       "      <td>i</td>\n",
       "      <td>r</td>\n",
       "    </tr>\n",
       "    <tr>\n",
       "      <th>abuso</th>\n",
       "      <td>a</td>\n",
       "      <td>b</td>\n",
       "      <td>u</td>\n",
       "      <td>s</td>\n",
       "      <td>o</td>\n",
       "    </tr>\n",
       "    <tr>\n",
       "      <th>...</th>\n",
       "      <td>...</td>\n",
       "      <td>...</td>\n",
       "      <td>...</td>\n",
       "      <td>...</td>\n",
       "      <td>...</td>\n",
       "    </tr>\n",
       "    <tr>\n",
       "      <th>zerar</th>\n",
       "      <td>z</td>\n",
       "      <td>e</td>\n",
       "      <td>r</td>\n",
       "      <td>a</td>\n",
       "      <td>r</td>\n",
       "    </tr>\n",
       "    <tr>\n",
       "      <th>zinco</th>\n",
       "      <td>z</td>\n",
       "      <td>i</td>\n",
       "      <td>n</td>\n",
       "      <td>c</td>\n",
       "      <td>o</td>\n",
       "    </tr>\n",
       "    <tr>\n",
       "      <th>ziper</th>\n",
       "      <td>z</td>\n",
       "      <td>i</td>\n",
       "      <td>p</td>\n",
       "      <td>e</td>\n",
       "      <td>r</td>\n",
       "    </tr>\n",
       "    <tr>\n",
       "      <th>zonas</th>\n",
       "      <td>z</td>\n",
       "      <td>o</td>\n",
       "      <td>n</td>\n",
       "      <td>a</td>\n",
       "      <td>s</td>\n",
       "    </tr>\n",
       "    <tr>\n",
       "      <th>zonzo</th>\n",
       "      <td>z</td>\n",
       "      <td>o</td>\n",
       "      <td>n</td>\n",
       "      <td>z</td>\n",
       "      <td>o</td>\n",
       "    </tr>\n",
       "  </tbody>\n",
       "</table>\n",
       "<p>1442 rows × 5 columns</p>\n",
       "</div>"
      ],
      "text/plain": [
       "      p0 p1 p2 p3 p4\n",
       "word                \n",
       "abano  a  b  a  n  o\n",
       "abono  a  b  o  n  o\n",
       "abril  a  b  r  i  l\n",
       "abrir  a  b  r  i  r\n",
       "abuso  a  b  u  s  o\n",
       "...   .. .. .. .. ..\n",
       "zerar  z  e  r  a  r\n",
       "zinco  z  i  n  c  o\n",
       "ziper  z  i  p  e  r\n",
       "zonas  z  o  n  a  s\n",
       "zonzo  z  o  n  z  o\n",
       "\n",
       "[1442 rows x 5 columns]"
      ]
     },
     "execution_count": 5,
     "metadata": {},
     "output_type": "execute_result"
    }
   ],
   "source": [
    "df_positions = pd.DataFrame()\n",
    "\n",
    "# Extract each position\n",
    "for i in range(NUMBER_OF_ELEMENTS):\n",
    "    df_positions[f\"p{i}\"] = df_raw[\"word\"].str[i].astype(\"category\")\n",
    "\n",
    "\n",
    "df_positions"
   ]
  },
  {
   "cell_type": "markdown",
   "metadata": {},
   "source": [
    "### Counting the number of unique letters per word"
   ]
  },
  {
   "cell_type": "code",
   "execution_count": 6,
   "metadata": {},
   "outputs": [
    {
     "data": {
      "text/html": [
       "<div>\n",
       "<style scoped>\n",
       "    .dataframe tbody tr th:only-of-type {\n",
       "        vertical-align: middle;\n",
       "    }\n",
       "\n",
       "    .dataframe tbody tr th {\n",
       "        vertical-align: top;\n",
       "    }\n",
       "\n",
       "    .dataframe thead th {\n",
       "        text-align: right;\n",
       "    }\n",
       "</style>\n",
       "<table border=\"1\" class=\"dataframe\">\n",
       "  <thead>\n",
       "    <tr style=\"text-align: right;\">\n",
       "      <th></th>\n",
       "      <th>count</th>\n",
       "    </tr>\n",
       "    <tr>\n",
       "      <th>word</th>\n",
       "      <th></th>\n",
       "    </tr>\n",
       "  </thead>\n",
       "  <tbody>\n",
       "    <tr>\n",
       "      <th>abano</th>\n",
       "      <td>4</td>\n",
       "    </tr>\n",
       "    <tr>\n",
       "      <th>abono</th>\n",
       "      <td>4</td>\n",
       "    </tr>\n",
       "    <tr>\n",
       "      <th>abril</th>\n",
       "      <td>5</td>\n",
       "    </tr>\n",
       "    <tr>\n",
       "      <th>abrir</th>\n",
       "      <td>4</td>\n",
       "    </tr>\n",
       "    <tr>\n",
       "      <th>abuso</th>\n",
       "      <td>5</td>\n",
       "    </tr>\n",
       "    <tr>\n",
       "      <th>...</th>\n",
       "      <td>...</td>\n",
       "    </tr>\n",
       "    <tr>\n",
       "      <th>zerar</th>\n",
       "      <td>4</td>\n",
       "    </tr>\n",
       "    <tr>\n",
       "      <th>zinco</th>\n",
       "      <td>5</td>\n",
       "    </tr>\n",
       "    <tr>\n",
       "      <th>ziper</th>\n",
       "      <td>5</td>\n",
       "    </tr>\n",
       "    <tr>\n",
       "      <th>zonas</th>\n",
       "      <td>5</td>\n",
       "    </tr>\n",
       "    <tr>\n",
       "      <th>zonzo</th>\n",
       "      <td>3</td>\n",
       "    </tr>\n",
       "  </tbody>\n",
       "</table>\n",
       "<p>1442 rows × 1 columns</p>\n",
       "</div>"
      ],
      "text/plain": [
       "       count\n",
       "word        \n",
       "abano      4\n",
       "abono      4\n",
       "abril      5\n",
       "abrir      4\n",
       "abuso      5\n",
       "...      ...\n",
       "zerar      4\n",
       "zinco      5\n",
       "ziper      5\n",
       "zonas      5\n",
       "zonzo      3\n",
       "\n",
       "[1442 rows x 1 columns]"
      ]
     },
     "execution_count": 6,
     "metadata": {},
     "output_type": "execute_result"
    }
   ],
   "source": [
    "df_unique = pd.DataFrame()\n",
    "\n",
    "# Compute the number of unique elements\n",
    "df_unique[\"count\"] = df_raw[\"word\"].apply(lambda x: len(set(x))).astype(\"uint8\")\n",
    "\n",
    "\n",
    "df_unique"
   ]
  },
  {
   "cell_type": "markdown",
   "metadata": {},
   "source": [
    "Counting the distribution of words by number of unique elements"
   ]
  },
  {
   "cell_type": "code",
   "execution_count": 7,
   "metadata": {},
   "outputs": [
    {
     "data": {
      "application/vnd.plotly.v1+json": {
       "config": {
        "plotlyServerURL": "https://plot.ly"
       },
       "data": [
        {
         "labels": [
          5,
          4,
          3,
          2
         ],
         "type": "pie",
         "values": [
          853,
          533,
          55,
          1
         ]
        }
       ],
       "layout": {
        "height": 600,
        "template": {
         "data": {
          "bar": [
           {
            "error_x": {
             "color": "#2a3f5f"
            },
            "error_y": {
             "color": "#2a3f5f"
            },
            "marker": {
             "line": {
              "color": "#E5ECF6",
              "width": 0.5
             },
             "pattern": {
              "fillmode": "overlay",
              "size": 10,
              "solidity": 0.2
             }
            },
            "type": "bar"
           }
          ],
          "barpolar": [
           {
            "marker": {
             "line": {
              "color": "#E5ECF6",
              "width": 0.5
             },
             "pattern": {
              "fillmode": "overlay",
              "size": 10,
              "solidity": 0.2
             }
            },
            "type": "barpolar"
           }
          ],
          "carpet": [
           {
            "aaxis": {
             "endlinecolor": "#2a3f5f",
             "gridcolor": "white",
             "linecolor": "white",
             "minorgridcolor": "white",
             "startlinecolor": "#2a3f5f"
            },
            "baxis": {
             "endlinecolor": "#2a3f5f",
             "gridcolor": "white",
             "linecolor": "white",
             "minorgridcolor": "white",
             "startlinecolor": "#2a3f5f"
            },
            "type": "carpet"
           }
          ],
          "choropleth": [
           {
            "colorbar": {
             "outlinewidth": 0,
             "ticks": ""
            },
            "type": "choropleth"
           }
          ],
          "contour": [
           {
            "colorbar": {
             "outlinewidth": 0,
             "ticks": ""
            },
            "colorscale": [
             [
              0,
              "#0d0887"
             ],
             [
              0.1111111111111111,
              "#46039f"
             ],
             [
              0.2222222222222222,
              "#7201a8"
             ],
             [
              0.3333333333333333,
              "#9c179e"
             ],
             [
              0.4444444444444444,
              "#bd3786"
             ],
             [
              0.5555555555555556,
              "#d8576b"
             ],
             [
              0.6666666666666666,
              "#ed7953"
             ],
             [
              0.7777777777777778,
              "#fb9f3a"
             ],
             [
              0.8888888888888888,
              "#fdca26"
             ],
             [
              1,
              "#f0f921"
             ]
            ],
            "type": "contour"
           }
          ],
          "contourcarpet": [
           {
            "colorbar": {
             "outlinewidth": 0,
             "ticks": ""
            },
            "type": "contourcarpet"
           }
          ],
          "heatmap": [
           {
            "colorbar": {
             "outlinewidth": 0,
             "ticks": ""
            },
            "colorscale": [
             [
              0,
              "#0d0887"
             ],
             [
              0.1111111111111111,
              "#46039f"
             ],
             [
              0.2222222222222222,
              "#7201a8"
             ],
             [
              0.3333333333333333,
              "#9c179e"
             ],
             [
              0.4444444444444444,
              "#bd3786"
             ],
             [
              0.5555555555555556,
              "#d8576b"
             ],
             [
              0.6666666666666666,
              "#ed7953"
             ],
             [
              0.7777777777777778,
              "#fb9f3a"
             ],
             [
              0.8888888888888888,
              "#fdca26"
             ],
             [
              1,
              "#f0f921"
             ]
            ],
            "type": "heatmap"
           }
          ],
          "heatmapgl": [
           {
            "colorbar": {
             "outlinewidth": 0,
             "ticks": ""
            },
            "colorscale": [
             [
              0,
              "#0d0887"
             ],
             [
              0.1111111111111111,
              "#46039f"
             ],
             [
              0.2222222222222222,
              "#7201a8"
             ],
             [
              0.3333333333333333,
              "#9c179e"
             ],
             [
              0.4444444444444444,
              "#bd3786"
             ],
             [
              0.5555555555555556,
              "#d8576b"
             ],
             [
              0.6666666666666666,
              "#ed7953"
             ],
             [
              0.7777777777777778,
              "#fb9f3a"
             ],
             [
              0.8888888888888888,
              "#fdca26"
             ],
             [
              1,
              "#f0f921"
             ]
            ],
            "type": "heatmapgl"
           }
          ],
          "histogram": [
           {
            "marker": {
             "pattern": {
              "fillmode": "overlay",
              "size": 10,
              "solidity": 0.2
             }
            },
            "type": "histogram"
           }
          ],
          "histogram2d": [
           {
            "colorbar": {
             "outlinewidth": 0,
             "ticks": ""
            },
            "colorscale": [
             [
              0,
              "#0d0887"
             ],
             [
              0.1111111111111111,
              "#46039f"
             ],
             [
              0.2222222222222222,
              "#7201a8"
             ],
             [
              0.3333333333333333,
              "#9c179e"
             ],
             [
              0.4444444444444444,
              "#bd3786"
             ],
             [
              0.5555555555555556,
              "#d8576b"
             ],
             [
              0.6666666666666666,
              "#ed7953"
             ],
             [
              0.7777777777777778,
              "#fb9f3a"
             ],
             [
              0.8888888888888888,
              "#fdca26"
             ],
             [
              1,
              "#f0f921"
             ]
            ],
            "type": "histogram2d"
           }
          ],
          "histogram2dcontour": [
           {
            "colorbar": {
             "outlinewidth": 0,
             "ticks": ""
            },
            "colorscale": [
             [
              0,
              "#0d0887"
             ],
             [
              0.1111111111111111,
              "#46039f"
             ],
             [
              0.2222222222222222,
              "#7201a8"
             ],
             [
              0.3333333333333333,
              "#9c179e"
             ],
             [
              0.4444444444444444,
              "#bd3786"
             ],
             [
              0.5555555555555556,
              "#d8576b"
             ],
             [
              0.6666666666666666,
              "#ed7953"
             ],
             [
              0.7777777777777778,
              "#fb9f3a"
             ],
             [
              0.8888888888888888,
              "#fdca26"
             ],
             [
              1,
              "#f0f921"
             ]
            ],
            "type": "histogram2dcontour"
           }
          ],
          "mesh3d": [
           {
            "colorbar": {
             "outlinewidth": 0,
             "ticks": ""
            },
            "type": "mesh3d"
           }
          ],
          "parcoords": [
           {
            "line": {
             "colorbar": {
              "outlinewidth": 0,
              "ticks": ""
             }
            },
            "type": "parcoords"
           }
          ],
          "pie": [
           {
            "automargin": true,
            "type": "pie"
           }
          ],
          "scatter": [
           {
            "fillpattern": {
             "fillmode": "overlay",
             "size": 10,
             "solidity": 0.2
            },
            "type": "scatter"
           }
          ],
          "scatter3d": [
           {
            "line": {
             "colorbar": {
              "outlinewidth": 0,
              "ticks": ""
             }
            },
            "marker": {
             "colorbar": {
              "outlinewidth": 0,
              "ticks": ""
             }
            },
            "type": "scatter3d"
           }
          ],
          "scattercarpet": [
           {
            "marker": {
             "colorbar": {
              "outlinewidth": 0,
              "ticks": ""
             }
            },
            "type": "scattercarpet"
           }
          ],
          "scattergeo": [
           {
            "marker": {
             "colorbar": {
              "outlinewidth": 0,
              "ticks": ""
             }
            },
            "type": "scattergeo"
           }
          ],
          "scattergl": [
           {
            "marker": {
             "colorbar": {
              "outlinewidth": 0,
              "ticks": ""
             }
            },
            "type": "scattergl"
           }
          ],
          "scattermapbox": [
           {
            "marker": {
             "colorbar": {
              "outlinewidth": 0,
              "ticks": ""
             }
            },
            "type": "scattermapbox"
           }
          ],
          "scatterpolar": [
           {
            "marker": {
             "colorbar": {
              "outlinewidth": 0,
              "ticks": ""
             }
            },
            "type": "scatterpolar"
           }
          ],
          "scatterpolargl": [
           {
            "marker": {
             "colorbar": {
              "outlinewidth": 0,
              "ticks": ""
             }
            },
            "type": "scatterpolargl"
           }
          ],
          "scatterternary": [
           {
            "marker": {
             "colorbar": {
              "outlinewidth": 0,
              "ticks": ""
             }
            },
            "type": "scatterternary"
           }
          ],
          "surface": [
           {
            "colorbar": {
             "outlinewidth": 0,
             "ticks": ""
            },
            "colorscale": [
             [
              0,
              "#0d0887"
             ],
             [
              0.1111111111111111,
              "#46039f"
             ],
             [
              0.2222222222222222,
              "#7201a8"
             ],
             [
              0.3333333333333333,
              "#9c179e"
             ],
             [
              0.4444444444444444,
              "#bd3786"
             ],
             [
              0.5555555555555556,
              "#d8576b"
             ],
             [
              0.6666666666666666,
              "#ed7953"
             ],
             [
              0.7777777777777778,
              "#fb9f3a"
             ],
             [
              0.8888888888888888,
              "#fdca26"
             ],
             [
              1,
              "#f0f921"
             ]
            ],
            "type": "surface"
           }
          ],
          "table": [
           {
            "cells": {
             "fill": {
              "color": "#EBF0F8"
             },
             "line": {
              "color": "white"
             }
            },
            "header": {
             "fill": {
              "color": "#C8D4E3"
             },
             "line": {
              "color": "white"
             }
            },
            "type": "table"
           }
          ]
         },
         "layout": {
          "annotationdefaults": {
           "arrowcolor": "#2a3f5f",
           "arrowhead": 0,
           "arrowwidth": 1
          },
          "autotypenumbers": "strict",
          "coloraxis": {
           "colorbar": {
            "outlinewidth": 0,
            "ticks": ""
           }
          },
          "colorscale": {
           "diverging": [
            [
             0,
             "#8e0152"
            ],
            [
             0.1,
             "#c51b7d"
            ],
            [
             0.2,
             "#de77ae"
            ],
            [
             0.3,
             "#f1b6da"
            ],
            [
             0.4,
             "#fde0ef"
            ],
            [
             0.5,
             "#f7f7f7"
            ],
            [
             0.6,
             "#e6f5d0"
            ],
            [
             0.7,
             "#b8e186"
            ],
            [
             0.8,
             "#7fbc41"
            ],
            [
             0.9,
             "#4d9221"
            ],
            [
             1,
             "#276419"
            ]
           ],
           "sequential": [
            [
             0,
             "#0d0887"
            ],
            [
             0.1111111111111111,
             "#46039f"
            ],
            [
             0.2222222222222222,
             "#7201a8"
            ],
            [
             0.3333333333333333,
             "#9c179e"
            ],
            [
             0.4444444444444444,
             "#bd3786"
            ],
            [
             0.5555555555555556,
             "#d8576b"
            ],
            [
             0.6666666666666666,
             "#ed7953"
            ],
            [
             0.7777777777777778,
             "#fb9f3a"
            ],
            [
             0.8888888888888888,
             "#fdca26"
            ],
            [
             1,
             "#f0f921"
            ]
           ],
           "sequentialminus": [
            [
             0,
             "#0d0887"
            ],
            [
             0.1111111111111111,
             "#46039f"
            ],
            [
             0.2222222222222222,
             "#7201a8"
            ],
            [
             0.3333333333333333,
             "#9c179e"
            ],
            [
             0.4444444444444444,
             "#bd3786"
            ],
            [
             0.5555555555555556,
             "#d8576b"
            ],
            [
             0.6666666666666666,
             "#ed7953"
            ],
            [
             0.7777777777777778,
             "#fb9f3a"
            ],
            [
             0.8888888888888888,
             "#fdca26"
            ],
            [
             1,
             "#f0f921"
            ]
           ]
          },
          "colorway": [
           "#636efa",
           "#EF553B",
           "#00cc96",
           "#ab63fa",
           "#FFA15A",
           "#19d3f3",
           "#FF6692",
           "#B6E880",
           "#FF97FF",
           "#FECB52"
          ],
          "font": {
           "color": "#2a3f5f"
          },
          "geo": {
           "bgcolor": "white",
           "lakecolor": "white",
           "landcolor": "#E5ECF6",
           "showlakes": true,
           "showland": true,
           "subunitcolor": "white"
          },
          "hoverlabel": {
           "align": "left"
          },
          "hovermode": "closest",
          "mapbox": {
           "style": "light"
          },
          "paper_bgcolor": "white",
          "plot_bgcolor": "#E5ECF6",
          "polar": {
           "angularaxis": {
            "gridcolor": "white",
            "linecolor": "white",
            "ticks": ""
           },
           "bgcolor": "#E5ECF6",
           "radialaxis": {
            "gridcolor": "white",
            "linecolor": "white",
            "ticks": ""
           }
          },
          "scene": {
           "xaxis": {
            "backgroundcolor": "#E5ECF6",
            "gridcolor": "white",
            "gridwidth": 2,
            "linecolor": "white",
            "showbackground": true,
            "ticks": "",
            "zerolinecolor": "white"
           },
           "yaxis": {
            "backgroundcolor": "#E5ECF6",
            "gridcolor": "white",
            "gridwidth": 2,
            "linecolor": "white",
            "showbackground": true,
            "ticks": "",
            "zerolinecolor": "white"
           },
           "zaxis": {
            "backgroundcolor": "#E5ECF6",
            "gridcolor": "white",
            "gridwidth": 2,
            "linecolor": "white",
            "showbackground": true,
            "ticks": "",
            "zerolinecolor": "white"
           }
          },
          "shapedefaults": {
           "line": {
            "color": "#2a3f5f"
           }
          },
          "ternary": {
           "aaxis": {
            "gridcolor": "white",
            "linecolor": "white",
            "ticks": ""
           },
           "baxis": {
            "gridcolor": "white",
            "linecolor": "white",
            "ticks": ""
           },
           "bgcolor": "#E5ECF6",
           "caxis": {
            "gridcolor": "white",
            "linecolor": "white",
            "ticks": ""
           }
          },
          "title": {
           "x": 0.05
          },
          "xaxis": {
           "automargin": true,
           "gridcolor": "white",
           "linecolor": "white",
           "ticks": "",
           "title": {
            "standoff": 15
           },
           "zerolinecolor": "white",
           "zerolinewidth": 2
          },
          "yaxis": {
           "automargin": true,
           "gridcolor": "white",
           "linecolor": "white",
           "ticks": "",
           "title": {
            "standoff": 15
           },
           "zerolinecolor": "white",
           "zerolinewidth": 2
          }
         }
        },
        "title": {
         "text": "Unique letters distribution"
        },
        "width": 600
       }
      }
     },
     "metadata": {},
     "output_type": "display_data"
    }
   ],
   "source": [
    "# Counting unique elements distribution\n",
    "df_temp = df_unique[\"count\"].value_counts()\n",
    "\n",
    "# Creating figure\n",
    "fig = go.Figure()\n",
    "\n",
    "# Adding trace\n",
    "fig.add_trace(\n",
    "    go.Pie(\n",
    "        labels=df_temp.index,\n",
    "        values=df_temp,\n",
    "    )\n",
    ")\n",
    "\n",
    "# Updating the layout\n",
    "fig.update_layout(\n",
    "    title=\"Unique letters distribution\",\n",
    "    height=600,\n",
    "    width=600,\n",
    ")\n",
    "\n",
    "# Showing the figure\n",
    "fig.show()"
   ]
  },
  {
   "cell_type": "markdown",
   "metadata": {},
   "source": [
    "Checking the mean element *\"uniqueness\"*"
   ]
  },
  {
   "cell_type": "code",
   "execution_count": 8,
   "metadata": {},
   "outputs": [
    {
     "data": {
      "text/plain": [
       "4.552011095700416"
      ]
     },
     "execution_count": 8,
     "metadata": {},
     "output_type": "execute_result"
    }
   ],
   "source": [
    "df_unique[\"count\"].mean()"
   ]
  },
  {
   "cell_type": "markdown",
   "metadata": {},
   "source": [
    "### Counting the amount of each letter in each word"
   ]
  },
  {
   "cell_type": "code",
   "execution_count": 9,
   "metadata": {},
   "outputs": [
    {
     "data": {
      "text/html": [
       "<div>\n",
       "<style scoped>\n",
       "    .dataframe tbody tr th:only-of-type {\n",
       "        vertical-align: middle;\n",
       "    }\n",
       "\n",
       "    .dataframe tbody tr th {\n",
       "        vertical-align: top;\n",
       "    }\n",
       "\n",
       "    .dataframe thead th {\n",
       "        text-align: right;\n",
       "    }\n",
       "</style>\n",
       "<table border=\"1\" class=\"dataframe\">\n",
       "  <thead>\n",
       "    <tr style=\"text-align: right;\">\n",
       "      <th></th>\n",
       "      <th>a</th>\n",
       "      <th>b</th>\n",
       "      <th>c</th>\n",
       "      <th>d</th>\n",
       "      <th>e</th>\n",
       "      <th>f</th>\n",
       "      <th>g</th>\n",
       "      <th>h</th>\n",
       "      <th>i</th>\n",
       "      <th>j</th>\n",
       "      <th>k</th>\n",
       "      <th>l</th>\n",
       "      <th>m</th>\n",
       "      <th>n</th>\n",
       "      <th>o</th>\n",
       "      <th>p</th>\n",
       "      <th>q</th>\n",
       "      <th>r</th>\n",
       "      <th>s</th>\n",
       "      <th>t</th>\n",
       "      <th>u</th>\n",
       "      <th>v</th>\n",
       "      <th>w</th>\n",
       "      <th>x</th>\n",
       "      <th>y</th>\n",
       "      <th>z</th>\n",
       "    </tr>\n",
       "    <tr>\n",
       "      <th>word</th>\n",
       "      <th></th>\n",
       "      <th></th>\n",
       "      <th></th>\n",
       "      <th></th>\n",
       "      <th></th>\n",
       "      <th></th>\n",
       "      <th></th>\n",
       "      <th></th>\n",
       "      <th></th>\n",
       "      <th></th>\n",
       "      <th></th>\n",
       "      <th></th>\n",
       "      <th></th>\n",
       "      <th></th>\n",
       "      <th></th>\n",
       "      <th></th>\n",
       "      <th></th>\n",
       "      <th></th>\n",
       "      <th></th>\n",
       "      <th></th>\n",
       "      <th></th>\n",
       "      <th></th>\n",
       "      <th></th>\n",
       "      <th></th>\n",
       "      <th></th>\n",
       "      <th></th>\n",
       "    </tr>\n",
       "  </thead>\n",
       "  <tbody>\n",
       "    <tr>\n",
       "      <th>abano</th>\n",
       "      <td>2</td>\n",
       "      <td>1</td>\n",
       "      <td>0</td>\n",
       "      <td>0</td>\n",
       "      <td>0</td>\n",
       "      <td>0</td>\n",
       "      <td>0</td>\n",
       "      <td>0</td>\n",
       "      <td>0</td>\n",
       "      <td>0</td>\n",
       "      <td>0</td>\n",
       "      <td>0</td>\n",
       "      <td>0</td>\n",
       "      <td>1</td>\n",
       "      <td>1</td>\n",
       "      <td>0</td>\n",
       "      <td>0</td>\n",
       "      <td>0</td>\n",
       "      <td>0</td>\n",
       "      <td>0</td>\n",
       "      <td>0</td>\n",
       "      <td>0</td>\n",
       "      <td>0</td>\n",
       "      <td>0</td>\n",
       "      <td>0</td>\n",
       "      <td>0</td>\n",
       "    </tr>\n",
       "    <tr>\n",
       "      <th>abono</th>\n",
       "      <td>1</td>\n",
       "      <td>1</td>\n",
       "      <td>0</td>\n",
       "      <td>0</td>\n",
       "      <td>0</td>\n",
       "      <td>0</td>\n",
       "      <td>0</td>\n",
       "      <td>0</td>\n",
       "      <td>0</td>\n",
       "      <td>0</td>\n",
       "      <td>0</td>\n",
       "      <td>0</td>\n",
       "      <td>0</td>\n",
       "      <td>1</td>\n",
       "      <td>2</td>\n",
       "      <td>0</td>\n",
       "      <td>0</td>\n",
       "      <td>0</td>\n",
       "      <td>0</td>\n",
       "      <td>0</td>\n",
       "      <td>0</td>\n",
       "      <td>0</td>\n",
       "      <td>0</td>\n",
       "      <td>0</td>\n",
       "      <td>0</td>\n",
       "      <td>0</td>\n",
       "    </tr>\n",
       "    <tr>\n",
       "      <th>abril</th>\n",
       "      <td>1</td>\n",
       "      <td>1</td>\n",
       "      <td>0</td>\n",
       "      <td>0</td>\n",
       "      <td>0</td>\n",
       "      <td>0</td>\n",
       "      <td>0</td>\n",
       "      <td>0</td>\n",
       "      <td>1</td>\n",
       "      <td>0</td>\n",
       "      <td>0</td>\n",
       "      <td>1</td>\n",
       "      <td>0</td>\n",
       "      <td>0</td>\n",
       "      <td>0</td>\n",
       "      <td>0</td>\n",
       "      <td>0</td>\n",
       "      <td>1</td>\n",
       "      <td>0</td>\n",
       "      <td>0</td>\n",
       "      <td>0</td>\n",
       "      <td>0</td>\n",
       "      <td>0</td>\n",
       "      <td>0</td>\n",
       "      <td>0</td>\n",
       "      <td>0</td>\n",
       "    </tr>\n",
       "    <tr>\n",
       "      <th>abrir</th>\n",
       "      <td>1</td>\n",
       "      <td>1</td>\n",
       "      <td>0</td>\n",
       "      <td>0</td>\n",
       "      <td>0</td>\n",
       "      <td>0</td>\n",
       "      <td>0</td>\n",
       "      <td>0</td>\n",
       "      <td>1</td>\n",
       "      <td>0</td>\n",
       "      <td>0</td>\n",
       "      <td>0</td>\n",
       "      <td>0</td>\n",
       "      <td>0</td>\n",
       "      <td>0</td>\n",
       "      <td>0</td>\n",
       "      <td>0</td>\n",
       "      <td>2</td>\n",
       "      <td>0</td>\n",
       "      <td>0</td>\n",
       "      <td>0</td>\n",
       "      <td>0</td>\n",
       "      <td>0</td>\n",
       "      <td>0</td>\n",
       "      <td>0</td>\n",
       "      <td>0</td>\n",
       "    </tr>\n",
       "    <tr>\n",
       "      <th>abuso</th>\n",
       "      <td>1</td>\n",
       "      <td>1</td>\n",
       "      <td>0</td>\n",
       "      <td>0</td>\n",
       "      <td>0</td>\n",
       "      <td>0</td>\n",
       "      <td>0</td>\n",
       "      <td>0</td>\n",
       "      <td>0</td>\n",
       "      <td>0</td>\n",
       "      <td>0</td>\n",
       "      <td>0</td>\n",
       "      <td>0</td>\n",
       "      <td>0</td>\n",
       "      <td>1</td>\n",
       "      <td>0</td>\n",
       "      <td>0</td>\n",
       "      <td>0</td>\n",
       "      <td>1</td>\n",
       "      <td>0</td>\n",
       "      <td>1</td>\n",
       "      <td>0</td>\n",
       "      <td>0</td>\n",
       "      <td>0</td>\n",
       "      <td>0</td>\n",
       "      <td>0</td>\n",
       "    </tr>\n",
       "    <tr>\n",
       "      <th>...</th>\n",
       "      <td>...</td>\n",
       "      <td>...</td>\n",
       "      <td>...</td>\n",
       "      <td>...</td>\n",
       "      <td>...</td>\n",
       "      <td>...</td>\n",
       "      <td>...</td>\n",
       "      <td>...</td>\n",
       "      <td>...</td>\n",
       "      <td>...</td>\n",
       "      <td>...</td>\n",
       "      <td>...</td>\n",
       "      <td>...</td>\n",
       "      <td>...</td>\n",
       "      <td>...</td>\n",
       "      <td>...</td>\n",
       "      <td>...</td>\n",
       "      <td>...</td>\n",
       "      <td>...</td>\n",
       "      <td>...</td>\n",
       "      <td>...</td>\n",
       "      <td>...</td>\n",
       "      <td>...</td>\n",
       "      <td>...</td>\n",
       "      <td>...</td>\n",
       "      <td>...</td>\n",
       "    </tr>\n",
       "    <tr>\n",
       "      <th>zerar</th>\n",
       "      <td>1</td>\n",
       "      <td>0</td>\n",
       "      <td>0</td>\n",
       "      <td>0</td>\n",
       "      <td>1</td>\n",
       "      <td>0</td>\n",
       "      <td>0</td>\n",
       "      <td>0</td>\n",
       "      <td>0</td>\n",
       "      <td>0</td>\n",
       "      <td>0</td>\n",
       "      <td>0</td>\n",
       "      <td>0</td>\n",
       "      <td>0</td>\n",
       "      <td>0</td>\n",
       "      <td>0</td>\n",
       "      <td>0</td>\n",
       "      <td>2</td>\n",
       "      <td>0</td>\n",
       "      <td>0</td>\n",
       "      <td>0</td>\n",
       "      <td>0</td>\n",
       "      <td>0</td>\n",
       "      <td>0</td>\n",
       "      <td>0</td>\n",
       "      <td>1</td>\n",
       "    </tr>\n",
       "    <tr>\n",
       "      <th>zinco</th>\n",
       "      <td>0</td>\n",
       "      <td>0</td>\n",
       "      <td>1</td>\n",
       "      <td>0</td>\n",
       "      <td>0</td>\n",
       "      <td>0</td>\n",
       "      <td>0</td>\n",
       "      <td>0</td>\n",
       "      <td>1</td>\n",
       "      <td>0</td>\n",
       "      <td>0</td>\n",
       "      <td>0</td>\n",
       "      <td>0</td>\n",
       "      <td>1</td>\n",
       "      <td>1</td>\n",
       "      <td>0</td>\n",
       "      <td>0</td>\n",
       "      <td>0</td>\n",
       "      <td>0</td>\n",
       "      <td>0</td>\n",
       "      <td>0</td>\n",
       "      <td>0</td>\n",
       "      <td>0</td>\n",
       "      <td>0</td>\n",
       "      <td>0</td>\n",
       "      <td>1</td>\n",
       "    </tr>\n",
       "    <tr>\n",
       "      <th>ziper</th>\n",
       "      <td>0</td>\n",
       "      <td>0</td>\n",
       "      <td>0</td>\n",
       "      <td>0</td>\n",
       "      <td>1</td>\n",
       "      <td>0</td>\n",
       "      <td>0</td>\n",
       "      <td>0</td>\n",
       "      <td>1</td>\n",
       "      <td>0</td>\n",
       "      <td>0</td>\n",
       "      <td>0</td>\n",
       "      <td>0</td>\n",
       "      <td>0</td>\n",
       "      <td>0</td>\n",
       "      <td>1</td>\n",
       "      <td>0</td>\n",
       "      <td>1</td>\n",
       "      <td>0</td>\n",
       "      <td>0</td>\n",
       "      <td>0</td>\n",
       "      <td>0</td>\n",
       "      <td>0</td>\n",
       "      <td>0</td>\n",
       "      <td>0</td>\n",
       "      <td>1</td>\n",
       "    </tr>\n",
       "    <tr>\n",
       "      <th>zonas</th>\n",
       "      <td>1</td>\n",
       "      <td>0</td>\n",
       "      <td>0</td>\n",
       "      <td>0</td>\n",
       "      <td>0</td>\n",
       "      <td>0</td>\n",
       "      <td>0</td>\n",
       "      <td>0</td>\n",
       "      <td>0</td>\n",
       "      <td>0</td>\n",
       "      <td>0</td>\n",
       "      <td>0</td>\n",
       "      <td>0</td>\n",
       "      <td>1</td>\n",
       "      <td>1</td>\n",
       "      <td>0</td>\n",
       "      <td>0</td>\n",
       "      <td>0</td>\n",
       "      <td>1</td>\n",
       "      <td>0</td>\n",
       "      <td>0</td>\n",
       "      <td>0</td>\n",
       "      <td>0</td>\n",
       "      <td>0</td>\n",
       "      <td>0</td>\n",
       "      <td>1</td>\n",
       "    </tr>\n",
       "    <tr>\n",
       "      <th>zonzo</th>\n",
       "      <td>0</td>\n",
       "      <td>0</td>\n",
       "      <td>0</td>\n",
       "      <td>0</td>\n",
       "      <td>0</td>\n",
       "      <td>0</td>\n",
       "      <td>0</td>\n",
       "      <td>0</td>\n",
       "      <td>0</td>\n",
       "      <td>0</td>\n",
       "      <td>0</td>\n",
       "      <td>0</td>\n",
       "      <td>0</td>\n",
       "      <td>1</td>\n",
       "      <td>2</td>\n",
       "      <td>0</td>\n",
       "      <td>0</td>\n",
       "      <td>0</td>\n",
       "      <td>0</td>\n",
       "      <td>0</td>\n",
       "      <td>0</td>\n",
       "      <td>0</td>\n",
       "      <td>0</td>\n",
       "      <td>0</td>\n",
       "      <td>0</td>\n",
       "      <td>2</td>\n",
       "    </tr>\n",
       "  </tbody>\n",
       "</table>\n",
       "<p>1442 rows × 26 columns</p>\n",
       "</div>"
      ],
      "text/plain": [
       "       a  b  c  d  e  f  g  h  i  j  k  l  m  n  o  p  q  r  s  t  u  v  w  x  \\\n",
       "word                                                                            \n",
       "abano  2  1  0  0  0  0  0  0  0  0  0  0  0  1  1  0  0  0  0  0  0  0  0  0   \n",
       "abono  1  1  0  0  0  0  0  0  0  0  0  0  0  1  2  0  0  0  0  0  0  0  0  0   \n",
       "abril  1  1  0  0  0  0  0  0  1  0  0  1  0  0  0  0  0  1  0  0  0  0  0  0   \n",
       "abrir  1  1  0  0  0  0  0  0  1  0  0  0  0  0  0  0  0  2  0  0  0  0  0  0   \n",
       "abuso  1  1  0  0  0  0  0  0  0  0  0  0  0  0  1  0  0  0  1  0  1  0  0  0   \n",
       "...   .. .. .. .. .. .. .. .. .. .. .. .. .. .. .. .. .. .. .. .. .. .. .. ..   \n",
       "zerar  1  0  0  0  1  0  0  0  0  0  0  0  0  0  0  0  0  2  0  0  0  0  0  0   \n",
       "zinco  0  0  1  0  0  0  0  0  1  0  0  0  0  1  1  0  0  0  0  0  0  0  0  0   \n",
       "ziper  0  0  0  0  1  0  0  0  1  0  0  0  0  0  0  1  0  1  0  0  0  0  0  0   \n",
       "zonas  1  0  0  0  0  0  0  0  0  0  0  0  0  1  1  0  0  0  1  0  0  0  0  0   \n",
       "zonzo  0  0  0  0  0  0  0  0  0  0  0  0  0  1  2  0  0  0  0  0  0  0  0  0   \n",
       "\n",
       "       y  z  \n",
       "word         \n",
       "abano  0  0  \n",
       "abono  0  0  \n",
       "abril  0  0  \n",
       "abrir  0  0  \n",
       "abuso  0  0  \n",
       "...   .. ..  \n",
       "zerar  0  1  \n",
       "zinco  0  1  \n",
       "ziper  0  1  \n",
       "zonas  0  1  \n",
       "zonzo  0  2  \n",
       "\n",
       "[1442 rows x 26 columns]"
      ]
     },
     "execution_count": 9,
     "metadata": {},
     "output_type": "execute_result"
    }
   ],
   "source": [
    "df_letters = pd.DataFrame()\n",
    "\n",
    "# Compute the letter count in each word\n",
    "for letter in ALPHABET:\n",
    "    df_letters[letter] = df_raw[\"word\"].apply(lambda x: x.count(letter)).astype(\"uint8\")\n",
    "\n",
    "\n",
    "df_letters"
   ]
  },
  {
   "cell_type": "markdown",
   "metadata": {},
   "source": [
    "## Joining all DataFrames"
   ]
  },
  {
   "cell_type": "code",
   "execution_count": 10,
   "metadata": {},
   "outputs": [
    {
     "data": {
      "text/html": [
       "<div>\n",
       "<style scoped>\n",
       "    .dataframe tbody tr th:only-of-type {\n",
       "        vertical-align: middle;\n",
       "    }\n",
       "\n",
       "    .dataframe tbody tr th {\n",
       "        vertical-align: top;\n",
       "    }\n",
       "\n",
       "    .dataframe thead tr th {\n",
       "        text-align: left;\n",
       "    }\n",
       "\n",
       "    .dataframe thead tr:last-of-type th {\n",
       "        text-align: right;\n",
       "    }\n",
       "</style>\n",
       "<table border=\"1\" class=\"dataframe\">\n",
       "  <thead>\n",
       "    <tr>\n",
       "      <th></th>\n",
       "      <th colspan=\"5\" halign=\"left\">positions</th>\n",
       "      <th>unique</th>\n",
       "      <th colspan=\"26\" halign=\"left\">letters</th>\n",
       "    </tr>\n",
       "    <tr>\n",
       "      <th></th>\n",
       "      <th>p0</th>\n",
       "      <th>p1</th>\n",
       "      <th>p2</th>\n",
       "      <th>p3</th>\n",
       "      <th>p4</th>\n",
       "      <th>count</th>\n",
       "      <th>a</th>\n",
       "      <th>b</th>\n",
       "      <th>c</th>\n",
       "      <th>d</th>\n",
       "      <th>e</th>\n",
       "      <th>f</th>\n",
       "      <th>g</th>\n",
       "      <th>h</th>\n",
       "      <th>i</th>\n",
       "      <th>j</th>\n",
       "      <th>k</th>\n",
       "      <th>l</th>\n",
       "      <th>m</th>\n",
       "      <th>n</th>\n",
       "      <th>o</th>\n",
       "      <th>p</th>\n",
       "      <th>q</th>\n",
       "      <th>r</th>\n",
       "      <th>s</th>\n",
       "      <th>t</th>\n",
       "      <th>u</th>\n",
       "      <th>v</th>\n",
       "      <th>w</th>\n",
       "      <th>x</th>\n",
       "      <th>y</th>\n",
       "      <th>z</th>\n",
       "    </tr>\n",
       "    <tr>\n",
       "      <th>word</th>\n",
       "      <th></th>\n",
       "      <th></th>\n",
       "      <th></th>\n",
       "      <th></th>\n",
       "      <th></th>\n",
       "      <th></th>\n",
       "      <th></th>\n",
       "      <th></th>\n",
       "      <th></th>\n",
       "      <th></th>\n",
       "      <th></th>\n",
       "      <th></th>\n",
       "      <th></th>\n",
       "      <th></th>\n",
       "      <th></th>\n",
       "      <th></th>\n",
       "      <th></th>\n",
       "      <th></th>\n",
       "      <th></th>\n",
       "      <th></th>\n",
       "      <th></th>\n",
       "      <th></th>\n",
       "      <th></th>\n",
       "      <th></th>\n",
       "      <th></th>\n",
       "      <th></th>\n",
       "      <th></th>\n",
       "      <th></th>\n",
       "      <th></th>\n",
       "      <th></th>\n",
       "      <th></th>\n",
       "      <th></th>\n",
       "    </tr>\n",
       "  </thead>\n",
       "  <tbody>\n",
       "    <tr>\n",
       "      <th>abano</th>\n",
       "      <td>a</td>\n",
       "      <td>b</td>\n",
       "      <td>a</td>\n",
       "      <td>n</td>\n",
       "      <td>o</td>\n",
       "      <td>4</td>\n",
       "      <td>2</td>\n",
       "      <td>1</td>\n",
       "      <td>0</td>\n",
       "      <td>0</td>\n",
       "      <td>0</td>\n",
       "      <td>0</td>\n",
       "      <td>0</td>\n",
       "      <td>0</td>\n",
       "      <td>0</td>\n",
       "      <td>0</td>\n",
       "      <td>0</td>\n",
       "      <td>0</td>\n",
       "      <td>0</td>\n",
       "      <td>1</td>\n",
       "      <td>1</td>\n",
       "      <td>0</td>\n",
       "      <td>0</td>\n",
       "      <td>0</td>\n",
       "      <td>0</td>\n",
       "      <td>0</td>\n",
       "      <td>0</td>\n",
       "      <td>0</td>\n",
       "      <td>0</td>\n",
       "      <td>0</td>\n",
       "      <td>0</td>\n",
       "      <td>0</td>\n",
       "    </tr>\n",
       "    <tr>\n",
       "      <th>abono</th>\n",
       "      <td>a</td>\n",
       "      <td>b</td>\n",
       "      <td>o</td>\n",
       "      <td>n</td>\n",
       "      <td>o</td>\n",
       "      <td>4</td>\n",
       "      <td>1</td>\n",
       "      <td>1</td>\n",
       "      <td>0</td>\n",
       "      <td>0</td>\n",
       "      <td>0</td>\n",
       "      <td>0</td>\n",
       "      <td>0</td>\n",
       "      <td>0</td>\n",
       "      <td>0</td>\n",
       "      <td>0</td>\n",
       "      <td>0</td>\n",
       "      <td>0</td>\n",
       "      <td>0</td>\n",
       "      <td>1</td>\n",
       "      <td>2</td>\n",
       "      <td>0</td>\n",
       "      <td>0</td>\n",
       "      <td>0</td>\n",
       "      <td>0</td>\n",
       "      <td>0</td>\n",
       "      <td>0</td>\n",
       "      <td>0</td>\n",
       "      <td>0</td>\n",
       "      <td>0</td>\n",
       "      <td>0</td>\n",
       "      <td>0</td>\n",
       "    </tr>\n",
       "    <tr>\n",
       "      <th>abril</th>\n",
       "      <td>a</td>\n",
       "      <td>b</td>\n",
       "      <td>r</td>\n",
       "      <td>i</td>\n",
       "      <td>l</td>\n",
       "      <td>5</td>\n",
       "      <td>1</td>\n",
       "      <td>1</td>\n",
       "      <td>0</td>\n",
       "      <td>0</td>\n",
       "      <td>0</td>\n",
       "      <td>0</td>\n",
       "      <td>0</td>\n",
       "      <td>0</td>\n",
       "      <td>1</td>\n",
       "      <td>0</td>\n",
       "      <td>0</td>\n",
       "      <td>1</td>\n",
       "      <td>0</td>\n",
       "      <td>0</td>\n",
       "      <td>0</td>\n",
       "      <td>0</td>\n",
       "      <td>0</td>\n",
       "      <td>1</td>\n",
       "      <td>0</td>\n",
       "      <td>0</td>\n",
       "      <td>0</td>\n",
       "      <td>0</td>\n",
       "      <td>0</td>\n",
       "      <td>0</td>\n",
       "      <td>0</td>\n",
       "      <td>0</td>\n",
       "    </tr>\n",
       "    <tr>\n",
       "      <th>abrir</th>\n",
       "      <td>a</td>\n",
       "      <td>b</td>\n",
       "      <td>r</td>\n",
       "      <td>i</td>\n",
       "      <td>r</td>\n",
       "      <td>4</td>\n",
       "      <td>1</td>\n",
       "      <td>1</td>\n",
       "      <td>0</td>\n",
       "      <td>0</td>\n",
       "      <td>0</td>\n",
       "      <td>0</td>\n",
       "      <td>0</td>\n",
       "      <td>0</td>\n",
       "      <td>1</td>\n",
       "      <td>0</td>\n",
       "      <td>0</td>\n",
       "      <td>0</td>\n",
       "      <td>0</td>\n",
       "      <td>0</td>\n",
       "      <td>0</td>\n",
       "      <td>0</td>\n",
       "      <td>0</td>\n",
       "      <td>2</td>\n",
       "      <td>0</td>\n",
       "      <td>0</td>\n",
       "      <td>0</td>\n",
       "      <td>0</td>\n",
       "      <td>0</td>\n",
       "      <td>0</td>\n",
       "      <td>0</td>\n",
       "      <td>0</td>\n",
       "    </tr>\n",
       "    <tr>\n",
       "      <th>abuso</th>\n",
       "      <td>a</td>\n",
       "      <td>b</td>\n",
       "      <td>u</td>\n",
       "      <td>s</td>\n",
       "      <td>o</td>\n",
       "      <td>5</td>\n",
       "      <td>1</td>\n",
       "      <td>1</td>\n",
       "      <td>0</td>\n",
       "      <td>0</td>\n",
       "      <td>0</td>\n",
       "      <td>0</td>\n",
       "      <td>0</td>\n",
       "      <td>0</td>\n",
       "      <td>0</td>\n",
       "      <td>0</td>\n",
       "      <td>0</td>\n",
       "      <td>0</td>\n",
       "      <td>0</td>\n",
       "      <td>0</td>\n",
       "      <td>1</td>\n",
       "      <td>0</td>\n",
       "      <td>0</td>\n",
       "      <td>0</td>\n",
       "      <td>1</td>\n",
       "      <td>0</td>\n",
       "      <td>1</td>\n",
       "      <td>0</td>\n",
       "      <td>0</td>\n",
       "      <td>0</td>\n",
       "      <td>0</td>\n",
       "      <td>0</td>\n",
       "    </tr>\n",
       "  </tbody>\n",
       "</table>\n",
       "</div>"
      ],
      "text/plain": [
       "      positions             unique letters                                   \\\n",
       "             p0 p1 p2 p3 p4  count       a  b  c  d  e  f  g  h  i  j  k  l   \n",
       "word                                                                          \n",
       "abano         a  b  a  n  o      4       2  1  0  0  0  0  0  0  0  0  0  0   \n",
       "abono         a  b  o  n  o      4       1  1  0  0  0  0  0  0  0  0  0  0   \n",
       "abril         a  b  r  i  l      5       1  1  0  0  0  0  0  0  1  0  0  1   \n",
       "abrir         a  b  r  i  r      4       1  1  0  0  0  0  0  0  1  0  0  0   \n",
       "abuso         a  b  u  s  o      5       1  1  0  0  0  0  0  0  0  0  0  0   \n",
       "\n",
       "                                                 \n",
       "       m  n  o  p  q  r  s  t  u  v  w  x  y  z  \n",
       "word                                             \n",
       "abano  0  1  1  0  0  0  0  0  0  0  0  0  0  0  \n",
       "abono  0  1  2  0  0  0  0  0  0  0  0  0  0  0  \n",
       "abril  0  0  0  0  0  1  0  0  0  0  0  0  0  0  \n",
       "abrir  0  0  0  0  0  2  0  0  0  0  0  0  0  0  \n",
       "abuso  0  0  1  0  0  0  1  0  1  0  0  0  0  0  "
      ]
     },
     "execution_count": 10,
     "metadata": {},
     "output_type": "execute_result"
    }
   ],
   "source": [
    "# Concatenating the DataFrames into a multi-indexed single one\n",
    "df = pd.concat([df_positions, df_unique, df_letters], axis=1, keys=['positions', 'unique', 'letters'])\n",
    "\n",
    "df.head()"
   ]
  },
  {
   "cell_type": "markdown",
   "metadata": {},
   "source": [
    "# Counting letter occurances"
   ]
  },
  {
   "cell_type": "code",
   "execution_count": 11,
   "metadata": {},
   "outputs": [
    {
     "data": {
      "text/html": [
       "<div>\n",
       "<style scoped>\n",
       "    .dataframe tbody tr th:only-of-type {\n",
       "        vertical-align: middle;\n",
       "    }\n",
       "\n",
       "    .dataframe tbody tr th {\n",
       "        vertical-align: top;\n",
       "    }\n",
       "\n",
       "    .dataframe thead th {\n",
       "        text-align: right;\n",
       "    }\n",
       "</style>\n",
       "<table border=\"1\" class=\"dataframe\">\n",
       "  <thead>\n",
       "    <tr style=\"text-align: right;\">\n",
       "      <th></th>\n",
       "      <th>1</th>\n",
       "      <th>0</th>\n",
       "      <th>2</th>\n",
       "      <th>3</th>\n",
       "    </tr>\n",
       "  </thead>\n",
       "  <tbody>\n",
       "    <tr>\n",
       "      <th>a</th>\n",
       "      <td>675</td>\n",
       "      <td>529</td>\n",
       "      <td>236</td>\n",
       "      <td>2</td>\n",
       "    </tr>\n",
       "    <tr>\n",
       "      <th>b</th>\n",
       "      <td>151</td>\n",
       "      <td>1284</td>\n",
       "      <td>7</td>\n",
       "      <td>0</td>\n",
       "    </tr>\n",
       "    <tr>\n",
       "      <th>c</th>\n",
       "      <td>289</td>\n",
       "      <td>1137</td>\n",
       "      <td>16</td>\n",
       "      <td>0</td>\n",
       "    </tr>\n",
       "    <tr>\n",
       "      <th>d</th>\n",
       "      <td>183</td>\n",
       "      <td>1251</td>\n",
       "      <td>8</td>\n",
       "      <td>0</td>\n",
       "    </tr>\n",
       "    <tr>\n",
       "      <th>e</th>\n",
       "      <td>432</td>\n",
       "      <td>948</td>\n",
       "      <td>62</td>\n",
       "      <td>0</td>\n",
       "    </tr>\n",
       "    <tr>\n",
       "      <th>...</th>\n",
       "      <td>...</td>\n",
       "      <td>...</td>\n",
       "      <td>...</td>\n",
       "      <td>...</td>\n",
       "    </tr>\n",
       "    <tr>\n",
       "      <th>v</th>\n",
       "      <td>145</td>\n",
       "      <td>1295</td>\n",
       "      <td>2</td>\n",
       "      <td>0</td>\n",
       "    </tr>\n",
       "    <tr>\n",
       "      <th>w</th>\n",
       "      <td>0</td>\n",
       "      <td>1442</td>\n",
       "      <td>0</td>\n",
       "      <td>0</td>\n",
       "    </tr>\n",
       "    <tr>\n",
       "      <th>x</th>\n",
       "      <td>34</td>\n",
       "      <td>1408</td>\n",
       "      <td>0</td>\n",
       "      <td>0</td>\n",
       "    </tr>\n",
       "    <tr>\n",
       "      <th>y</th>\n",
       "      <td>0</td>\n",
       "      <td>1442</td>\n",
       "      <td>0</td>\n",
       "      <td>0</td>\n",
       "    </tr>\n",
       "    <tr>\n",
       "      <th>z</th>\n",
       "      <td>46</td>\n",
       "      <td>1394</td>\n",
       "      <td>2</td>\n",
       "      <td>0</td>\n",
       "    </tr>\n",
       "  </tbody>\n",
       "</table>\n",
       "<p>26 rows × 4 columns</p>\n",
       "</div>"
      ],
      "text/plain": [
       "      1     0    2  3\n",
       "a   675   529  236  2\n",
       "b   151  1284    7  0\n",
       "c   289  1137   16  0\n",
       "d   183  1251    8  0\n",
       "e   432   948   62  0\n",
       "..  ...   ...  ... ..\n",
       "v   145  1295    2  0\n",
       "w     0  1442    0  0\n",
       "x    34  1408    0  0\n",
       "y     0  1442    0  0\n",
       "z    46  1394    2  0\n",
       "\n",
       "[26 rows x 4 columns]"
      ]
     },
     "execution_count": 11,
     "metadata": {},
     "output_type": "execute_result"
    }
   ],
   "source": [
    "df_letters_occurances = pd.DataFrame()\n",
    "\n",
    "# Counting the values of each letter\n",
    "for letter in ALPHABET:\n",
    "    df_letters_occurances[letter] = df[\"letters\"][letter].value_counts()\n",
    "\n",
    "# Transposing the DataFrame\n",
    "df_letters_occurances = df_letters_occurances.transpose()\n",
    "\n",
    "# Fillin the missing values and converting \"dtypes\"\n",
    "df_letters_occurances = df_letters_occurances.fillna(0)\n",
    "df_letters_occurances = df_letters_occurances.astype(\"uint16\")\n",
    "\n",
    "\n",
    "df_letters_occurances"
   ]
  },
  {
   "cell_type": "code",
   "execution_count": 12,
   "metadata": {},
   "outputs": [
    {
     "data": {
      "application/vnd.plotly.v1+json": {
       "config": {
        "plotlyServerURL": "https://plot.ly"
       },
       "data": [
        {
         "name": "0",
         "type": "bar",
         "x": [
          "a",
          "b",
          "c",
          "d",
          "e",
          "f",
          "g",
          "h",
          "i",
          "j",
          "k",
          "l",
          "m",
          "n",
          "o",
          "p",
          "q",
          "r",
          "s",
          "t",
          "u",
          "v",
          "w",
          "x",
          "y",
          "z"
         ],
         "y": [
          529,
          1284,
          1137,
          1251,
          948,
          1314,
          1301,
          1369,
          1031,
          1404,
          1442,
          1123,
          1209,
          1187,
          668,
          1232,
          1425,
          806,
          1015,
          1098,
          1174,
          1295,
          1442,
          1408,
          1442,
          1394
         ]
        },
        {
         "name": "1",
         "type": "bar",
         "x": [
          "a",
          "b",
          "c",
          "d",
          "e",
          "f",
          "g",
          "h",
          "i",
          "j",
          "k",
          "l",
          "m",
          "n",
          "o",
          "p",
          "q",
          "r",
          "s",
          "t",
          "u",
          "v",
          "w",
          "x",
          "y",
          "z"
         ],
         "y": [
          675,
          151,
          289,
          183,
          432,
          127,
          138,
          73,
          393,
          37,
          0,
          315,
          223,
          249,
          662,
          206,
          17,
          561,
          381,
          326,
          260,
          145,
          0,
          34,
          0,
          46
         ]
        },
        {
         "name": "2",
         "type": "bar",
         "x": [
          "a",
          "b",
          "c",
          "d",
          "e",
          "f",
          "g",
          "h",
          "i",
          "j",
          "k",
          "l",
          "m",
          "n",
          "o",
          "p",
          "q",
          "r",
          "s",
          "t",
          "u",
          "v",
          "w",
          "x",
          "y",
          "z"
         ],
         "y": [
          236,
          7,
          16,
          8,
          62,
          1,
          3,
          0,
          18,
          1,
          0,
          4,
          10,
          6,
          112,
          4,
          0,
          74,
          45,
          18,
          7,
          2,
          0,
          0,
          0,
          2
         ]
        },
        {
         "name": "3",
         "type": "bar",
         "x": [
          "a",
          "b",
          "c",
          "d",
          "e",
          "f",
          "g",
          "h",
          "i",
          "j",
          "k",
          "l",
          "m",
          "n",
          "o",
          "p",
          "q",
          "r",
          "s",
          "t",
          "u",
          "v",
          "w",
          "x",
          "y",
          "z"
         ],
         "y": [
          2,
          0,
          0,
          0,
          0,
          0,
          0,
          0,
          0,
          0,
          0,
          0,
          0,
          0,
          0,
          0,
          0,
          1,
          1,
          0,
          1,
          0,
          0,
          0,
          0,
          0
         ]
        }
       ],
       "layout": {
        "barmode": "stack",
        "height": 500,
        "template": {
         "data": {
          "bar": [
           {
            "error_x": {
             "color": "#2a3f5f"
            },
            "error_y": {
             "color": "#2a3f5f"
            },
            "marker": {
             "line": {
              "color": "#E5ECF6",
              "width": 0.5
             },
             "pattern": {
              "fillmode": "overlay",
              "size": 10,
              "solidity": 0.2
             }
            },
            "type": "bar"
           }
          ],
          "barpolar": [
           {
            "marker": {
             "line": {
              "color": "#E5ECF6",
              "width": 0.5
             },
             "pattern": {
              "fillmode": "overlay",
              "size": 10,
              "solidity": 0.2
             }
            },
            "type": "barpolar"
           }
          ],
          "carpet": [
           {
            "aaxis": {
             "endlinecolor": "#2a3f5f",
             "gridcolor": "white",
             "linecolor": "white",
             "minorgridcolor": "white",
             "startlinecolor": "#2a3f5f"
            },
            "baxis": {
             "endlinecolor": "#2a3f5f",
             "gridcolor": "white",
             "linecolor": "white",
             "minorgridcolor": "white",
             "startlinecolor": "#2a3f5f"
            },
            "type": "carpet"
           }
          ],
          "choropleth": [
           {
            "colorbar": {
             "outlinewidth": 0,
             "ticks": ""
            },
            "type": "choropleth"
           }
          ],
          "contour": [
           {
            "colorbar": {
             "outlinewidth": 0,
             "ticks": ""
            },
            "colorscale": [
             [
              0,
              "#0d0887"
             ],
             [
              0.1111111111111111,
              "#46039f"
             ],
             [
              0.2222222222222222,
              "#7201a8"
             ],
             [
              0.3333333333333333,
              "#9c179e"
             ],
             [
              0.4444444444444444,
              "#bd3786"
             ],
             [
              0.5555555555555556,
              "#d8576b"
             ],
             [
              0.6666666666666666,
              "#ed7953"
             ],
             [
              0.7777777777777778,
              "#fb9f3a"
             ],
             [
              0.8888888888888888,
              "#fdca26"
             ],
             [
              1,
              "#f0f921"
             ]
            ],
            "type": "contour"
           }
          ],
          "contourcarpet": [
           {
            "colorbar": {
             "outlinewidth": 0,
             "ticks": ""
            },
            "type": "contourcarpet"
           }
          ],
          "heatmap": [
           {
            "colorbar": {
             "outlinewidth": 0,
             "ticks": ""
            },
            "colorscale": [
             [
              0,
              "#0d0887"
             ],
             [
              0.1111111111111111,
              "#46039f"
             ],
             [
              0.2222222222222222,
              "#7201a8"
             ],
             [
              0.3333333333333333,
              "#9c179e"
             ],
             [
              0.4444444444444444,
              "#bd3786"
             ],
             [
              0.5555555555555556,
              "#d8576b"
             ],
             [
              0.6666666666666666,
              "#ed7953"
             ],
             [
              0.7777777777777778,
              "#fb9f3a"
             ],
             [
              0.8888888888888888,
              "#fdca26"
             ],
             [
              1,
              "#f0f921"
             ]
            ],
            "type": "heatmap"
           }
          ],
          "heatmapgl": [
           {
            "colorbar": {
             "outlinewidth": 0,
             "ticks": ""
            },
            "colorscale": [
             [
              0,
              "#0d0887"
             ],
             [
              0.1111111111111111,
              "#46039f"
             ],
             [
              0.2222222222222222,
              "#7201a8"
             ],
             [
              0.3333333333333333,
              "#9c179e"
             ],
             [
              0.4444444444444444,
              "#bd3786"
             ],
             [
              0.5555555555555556,
              "#d8576b"
             ],
             [
              0.6666666666666666,
              "#ed7953"
             ],
             [
              0.7777777777777778,
              "#fb9f3a"
             ],
             [
              0.8888888888888888,
              "#fdca26"
             ],
             [
              1,
              "#f0f921"
             ]
            ],
            "type": "heatmapgl"
           }
          ],
          "histogram": [
           {
            "marker": {
             "pattern": {
              "fillmode": "overlay",
              "size": 10,
              "solidity": 0.2
             }
            },
            "type": "histogram"
           }
          ],
          "histogram2d": [
           {
            "colorbar": {
             "outlinewidth": 0,
             "ticks": ""
            },
            "colorscale": [
             [
              0,
              "#0d0887"
             ],
             [
              0.1111111111111111,
              "#46039f"
             ],
             [
              0.2222222222222222,
              "#7201a8"
             ],
             [
              0.3333333333333333,
              "#9c179e"
             ],
             [
              0.4444444444444444,
              "#bd3786"
             ],
             [
              0.5555555555555556,
              "#d8576b"
             ],
             [
              0.6666666666666666,
              "#ed7953"
             ],
             [
              0.7777777777777778,
              "#fb9f3a"
             ],
             [
              0.8888888888888888,
              "#fdca26"
             ],
             [
              1,
              "#f0f921"
             ]
            ],
            "type": "histogram2d"
           }
          ],
          "histogram2dcontour": [
           {
            "colorbar": {
             "outlinewidth": 0,
             "ticks": ""
            },
            "colorscale": [
             [
              0,
              "#0d0887"
             ],
             [
              0.1111111111111111,
              "#46039f"
             ],
             [
              0.2222222222222222,
              "#7201a8"
             ],
             [
              0.3333333333333333,
              "#9c179e"
             ],
             [
              0.4444444444444444,
              "#bd3786"
             ],
             [
              0.5555555555555556,
              "#d8576b"
             ],
             [
              0.6666666666666666,
              "#ed7953"
             ],
             [
              0.7777777777777778,
              "#fb9f3a"
             ],
             [
              0.8888888888888888,
              "#fdca26"
             ],
             [
              1,
              "#f0f921"
             ]
            ],
            "type": "histogram2dcontour"
           }
          ],
          "mesh3d": [
           {
            "colorbar": {
             "outlinewidth": 0,
             "ticks": ""
            },
            "type": "mesh3d"
           }
          ],
          "parcoords": [
           {
            "line": {
             "colorbar": {
              "outlinewidth": 0,
              "ticks": ""
             }
            },
            "type": "parcoords"
           }
          ],
          "pie": [
           {
            "automargin": true,
            "type": "pie"
           }
          ],
          "scatter": [
           {
            "fillpattern": {
             "fillmode": "overlay",
             "size": 10,
             "solidity": 0.2
            },
            "type": "scatter"
           }
          ],
          "scatter3d": [
           {
            "line": {
             "colorbar": {
              "outlinewidth": 0,
              "ticks": ""
             }
            },
            "marker": {
             "colorbar": {
              "outlinewidth": 0,
              "ticks": ""
             }
            },
            "type": "scatter3d"
           }
          ],
          "scattercarpet": [
           {
            "marker": {
             "colorbar": {
              "outlinewidth": 0,
              "ticks": ""
             }
            },
            "type": "scattercarpet"
           }
          ],
          "scattergeo": [
           {
            "marker": {
             "colorbar": {
              "outlinewidth": 0,
              "ticks": ""
             }
            },
            "type": "scattergeo"
           }
          ],
          "scattergl": [
           {
            "marker": {
             "colorbar": {
              "outlinewidth": 0,
              "ticks": ""
             }
            },
            "type": "scattergl"
           }
          ],
          "scattermapbox": [
           {
            "marker": {
             "colorbar": {
              "outlinewidth": 0,
              "ticks": ""
             }
            },
            "type": "scattermapbox"
           }
          ],
          "scatterpolar": [
           {
            "marker": {
             "colorbar": {
              "outlinewidth": 0,
              "ticks": ""
             }
            },
            "type": "scatterpolar"
           }
          ],
          "scatterpolargl": [
           {
            "marker": {
             "colorbar": {
              "outlinewidth": 0,
              "ticks": ""
             }
            },
            "type": "scatterpolargl"
           }
          ],
          "scatterternary": [
           {
            "marker": {
             "colorbar": {
              "outlinewidth": 0,
              "ticks": ""
             }
            },
            "type": "scatterternary"
           }
          ],
          "surface": [
           {
            "colorbar": {
             "outlinewidth": 0,
             "ticks": ""
            },
            "colorscale": [
             [
              0,
              "#0d0887"
             ],
             [
              0.1111111111111111,
              "#46039f"
             ],
             [
              0.2222222222222222,
              "#7201a8"
             ],
             [
              0.3333333333333333,
              "#9c179e"
             ],
             [
              0.4444444444444444,
              "#bd3786"
             ],
             [
              0.5555555555555556,
              "#d8576b"
             ],
             [
              0.6666666666666666,
              "#ed7953"
             ],
             [
              0.7777777777777778,
              "#fb9f3a"
             ],
             [
              0.8888888888888888,
              "#fdca26"
             ],
             [
              1,
              "#f0f921"
             ]
            ],
            "type": "surface"
           }
          ],
          "table": [
           {
            "cells": {
             "fill": {
              "color": "#EBF0F8"
             },
             "line": {
              "color": "white"
             }
            },
            "header": {
             "fill": {
              "color": "#C8D4E3"
             },
             "line": {
              "color": "white"
             }
            },
            "type": "table"
           }
          ]
         },
         "layout": {
          "annotationdefaults": {
           "arrowcolor": "#2a3f5f",
           "arrowhead": 0,
           "arrowwidth": 1
          },
          "autotypenumbers": "strict",
          "coloraxis": {
           "colorbar": {
            "outlinewidth": 0,
            "ticks": ""
           }
          },
          "colorscale": {
           "diverging": [
            [
             0,
             "#8e0152"
            ],
            [
             0.1,
             "#c51b7d"
            ],
            [
             0.2,
             "#de77ae"
            ],
            [
             0.3,
             "#f1b6da"
            ],
            [
             0.4,
             "#fde0ef"
            ],
            [
             0.5,
             "#f7f7f7"
            ],
            [
             0.6,
             "#e6f5d0"
            ],
            [
             0.7,
             "#b8e186"
            ],
            [
             0.8,
             "#7fbc41"
            ],
            [
             0.9,
             "#4d9221"
            ],
            [
             1,
             "#276419"
            ]
           ],
           "sequential": [
            [
             0,
             "#0d0887"
            ],
            [
             0.1111111111111111,
             "#46039f"
            ],
            [
             0.2222222222222222,
             "#7201a8"
            ],
            [
             0.3333333333333333,
             "#9c179e"
            ],
            [
             0.4444444444444444,
             "#bd3786"
            ],
            [
             0.5555555555555556,
             "#d8576b"
            ],
            [
             0.6666666666666666,
             "#ed7953"
            ],
            [
             0.7777777777777778,
             "#fb9f3a"
            ],
            [
             0.8888888888888888,
             "#fdca26"
            ],
            [
             1,
             "#f0f921"
            ]
           ],
           "sequentialminus": [
            [
             0,
             "#0d0887"
            ],
            [
             0.1111111111111111,
             "#46039f"
            ],
            [
             0.2222222222222222,
             "#7201a8"
            ],
            [
             0.3333333333333333,
             "#9c179e"
            ],
            [
             0.4444444444444444,
             "#bd3786"
            ],
            [
             0.5555555555555556,
             "#d8576b"
            ],
            [
             0.6666666666666666,
             "#ed7953"
            ],
            [
             0.7777777777777778,
             "#fb9f3a"
            ],
            [
             0.8888888888888888,
             "#fdca26"
            ],
            [
             1,
             "#f0f921"
            ]
           ]
          },
          "colorway": [
           "#636efa",
           "#EF553B",
           "#00cc96",
           "#ab63fa",
           "#FFA15A",
           "#19d3f3",
           "#FF6692",
           "#B6E880",
           "#FF97FF",
           "#FECB52"
          ],
          "font": {
           "color": "#2a3f5f"
          },
          "geo": {
           "bgcolor": "white",
           "lakecolor": "white",
           "landcolor": "#E5ECF6",
           "showlakes": true,
           "showland": true,
           "subunitcolor": "white"
          },
          "hoverlabel": {
           "align": "left"
          },
          "hovermode": "closest",
          "mapbox": {
           "style": "light"
          },
          "paper_bgcolor": "white",
          "plot_bgcolor": "#E5ECF6",
          "polar": {
           "angularaxis": {
            "gridcolor": "white",
            "linecolor": "white",
            "ticks": ""
           },
           "bgcolor": "#E5ECF6",
           "radialaxis": {
            "gridcolor": "white",
            "linecolor": "white",
            "ticks": ""
           }
          },
          "scene": {
           "xaxis": {
            "backgroundcolor": "#E5ECF6",
            "gridcolor": "white",
            "gridwidth": 2,
            "linecolor": "white",
            "showbackground": true,
            "ticks": "",
            "zerolinecolor": "white"
           },
           "yaxis": {
            "backgroundcolor": "#E5ECF6",
            "gridcolor": "white",
            "gridwidth": 2,
            "linecolor": "white",
            "showbackground": true,
            "ticks": "",
            "zerolinecolor": "white"
           },
           "zaxis": {
            "backgroundcolor": "#E5ECF6",
            "gridcolor": "white",
            "gridwidth": 2,
            "linecolor": "white",
            "showbackground": true,
            "ticks": "",
            "zerolinecolor": "white"
           }
          },
          "shapedefaults": {
           "line": {
            "color": "#2a3f5f"
           }
          },
          "ternary": {
           "aaxis": {
            "gridcolor": "white",
            "linecolor": "white",
            "ticks": ""
           },
           "baxis": {
            "gridcolor": "white",
            "linecolor": "white",
            "ticks": ""
           },
           "bgcolor": "#E5ECF6",
           "caxis": {
            "gridcolor": "white",
            "linecolor": "white",
            "ticks": ""
           }
          },
          "title": {
           "x": 0.05
          },
          "xaxis": {
           "automargin": true,
           "gridcolor": "white",
           "linecolor": "white",
           "ticks": "",
           "title": {
            "standoff": 15
           },
           "zerolinecolor": "white",
           "zerolinewidth": 2
          },
          "yaxis": {
           "automargin": true,
           "gridcolor": "white",
           "linecolor": "white",
           "ticks": "",
           "title": {
            "standoff": 15
           },
           "zerolinecolor": "white",
           "zerolinewidth": 2
          }
         }
        },
        "title": {
         "text": "Letters occurances"
        },
        "width": 1000
       }
      }
     },
     "metadata": {},
     "output_type": "display_data"
    }
   ],
   "source": [
    "# Plotting bars\n",
    "\n",
    "fig = go.Figure()\n",
    "\n",
    "for i in range(min(*df_letters_occurances.columns), max(*df_letters_occurances.columns) + 1):\n",
    "    fig.add_trace(go.Bar(x=df_letters_occurances.index, y=df_letters_occurances[i], name=i))\n",
    "\n",
    "fig.update_layout(\n",
    "    title=\"Letters occurances\",\n",
    "    barmode='stack',\n",
    "    height=500,\n",
    "    width=1000,\n",
    ")\n",
    "\n",
    "fig.show()"
   ]
  },
  {
   "cell_type": "markdown",
   "metadata": {},
   "source": [
    "# Counting the 'min' and 'max' times a letter can be found in a word"
   ]
  },
  {
   "cell_type": "code",
   "execution_count": 13,
   "metadata": {},
   "outputs": [
    {
     "data": {
      "text/html": [
       "<style type=\"text/css\">\n",
       "#T_ea8e9_row0_col0, #T_ea8e9_row0_col1, #T_ea8e9_row0_col2, #T_ea8e9_row0_col3, #T_ea8e9_row0_col4, #T_ea8e9_row0_col5, #T_ea8e9_row0_col6, #T_ea8e9_row0_col7, #T_ea8e9_row0_col8, #T_ea8e9_row0_col9, #T_ea8e9_row0_col10, #T_ea8e9_row0_col11, #T_ea8e9_row0_col12, #T_ea8e9_row0_col13, #T_ea8e9_row0_col14, #T_ea8e9_row0_col15, #T_ea8e9_row0_col16, #T_ea8e9_row0_col17, #T_ea8e9_row0_col18, #T_ea8e9_row0_col19, #T_ea8e9_row0_col20, #T_ea8e9_row0_col21, #T_ea8e9_row0_col22, #T_ea8e9_row0_col23, #T_ea8e9_row0_col24, #T_ea8e9_row0_col25, #T_ea8e9_row1_col10, #T_ea8e9_row1_col22, #T_ea8e9_row1_col24 {\n",
       "  background-color: #0d0887;\n",
       "  color: #f1f1f1;\n",
       "}\n",
       "#T_ea8e9_row1_col0, #T_ea8e9_row1_col17, #T_ea8e9_row1_col18, #T_ea8e9_row1_col20 {\n",
       "  background-color: #f0f921;\n",
       "  color: #000000;\n",
       "}\n",
       "#T_ea8e9_row1_col1, #T_ea8e9_row1_col2, #T_ea8e9_row1_col3, #T_ea8e9_row1_col4, #T_ea8e9_row1_col5, #T_ea8e9_row1_col6, #T_ea8e9_row1_col8, #T_ea8e9_row1_col9, #T_ea8e9_row1_col11, #T_ea8e9_row1_col12, #T_ea8e9_row1_col13, #T_ea8e9_row1_col14, #T_ea8e9_row1_col15, #T_ea8e9_row1_col19, #T_ea8e9_row1_col21, #T_ea8e9_row1_col25 {\n",
       "  background-color: #ed7953;\n",
       "  color: #f1f1f1;\n",
       "}\n",
       "#T_ea8e9_row1_col7, #T_ea8e9_row1_col16, #T_ea8e9_row1_col23 {\n",
       "  background-color: #9c179e;\n",
       "  color: #f1f1f1;\n",
       "}\n",
       "</style>\n",
       "<table id=\"T_ea8e9\">\n",
       "  <thead>\n",
       "    <tr>\n",
       "      <th class=\"blank level0\" >&nbsp;</th>\n",
       "      <th id=\"T_ea8e9_level0_col0\" class=\"col_heading level0 col0\" >a</th>\n",
       "      <th id=\"T_ea8e9_level0_col1\" class=\"col_heading level0 col1\" >b</th>\n",
       "      <th id=\"T_ea8e9_level0_col2\" class=\"col_heading level0 col2\" >c</th>\n",
       "      <th id=\"T_ea8e9_level0_col3\" class=\"col_heading level0 col3\" >d</th>\n",
       "      <th id=\"T_ea8e9_level0_col4\" class=\"col_heading level0 col4\" >e</th>\n",
       "      <th id=\"T_ea8e9_level0_col5\" class=\"col_heading level0 col5\" >f</th>\n",
       "      <th id=\"T_ea8e9_level0_col6\" class=\"col_heading level0 col6\" >g</th>\n",
       "      <th id=\"T_ea8e9_level0_col7\" class=\"col_heading level0 col7\" >h</th>\n",
       "      <th id=\"T_ea8e9_level0_col8\" class=\"col_heading level0 col8\" >i</th>\n",
       "      <th id=\"T_ea8e9_level0_col9\" class=\"col_heading level0 col9\" >j</th>\n",
       "      <th id=\"T_ea8e9_level0_col10\" class=\"col_heading level0 col10\" >k</th>\n",
       "      <th id=\"T_ea8e9_level0_col11\" class=\"col_heading level0 col11\" >l</th>\n",
       "      <th id=\"T_ea8e9_level0_col12\" class=\"col_heading level0 col12\" >m</th>\n",
       "      <th id=\"T_ea8e9_level0_col13\" class=\"col_heading level0 col13\" >n</th>\n",
       "      <th id=\"T_ea8e9_level0_col14\" class=\"col_heading level0 col14\" >o</th>\n",
       "      <th id=\"T_ea8e9_level0_col15\" class=\"col_heading level0 col15\" >p</th>\n",
       "      <th id=\"T_ea8e9_level0_col16\" class=\"col_heading level0 col16\" >q</th>\n",
       "      <th id=\"T_ea8e9_level0_col17\" class=\"col_heading level0 col17\" >r</th>\n",
       "      <th id=\"T_ea8e9_level0_col18\" class=\"col_heading level0 col18\" >s</th>\n",
       "      <th id=\"T_ea8e9_level0_col19\" class=\"col_heading level0 col19\" >t</th>\n",
       "      <th id=\"T_ea8e9_level0_col20\" class=\"col_heading level0 col20\" >u</th>\n",
       "      <th id=\"T_ea8e9_level0_col21\" class=\"col_heading level0 col21\" >v</th>\n",
       "      <th id=\"T_ea8e9_level0_col22\" class=\"col_heading level0 col22\" >w</th>\n",
       "      <th id=\"T_ea8e9_level0_col23\" class=\"col_heading level0 col23\" >x</th>\n",
       "      <th id=\"T_ea8e9_level0_col24\" class=\"col_heading level0 col24\" >y</th>\n",
       "      <th id=\"T_ea8e9_level0_col25\" class=\"col_heading level0 col25\" >z</th>\n",
       "    </tr>\n",
       "  </thead>\n",
       "  <tbody>\n",
       "    <tr>\n",
       "      <th id=\"T_ea8e9_level0_row0\" class=\"row_heading level0 row0\" >min</th>\n",
       "      <td id=\"T_ea8e9_row0_col0\" class=\"data row0 col0\" >0</td>\n",
       "      <td id=\"T_ea8e9_row0_col1\" class=\"data row0 col1\" >0</td>\n",
       "      <td id=\"T_ea8e9_row0_col2\" class=\"data row0 col2\" >0</td>\n",
       "      <td id=\"T_ea8e9_row0_col3\" class=\"data row0 col3\" >0</td>\n",
       "      <td id=\"T_ea8e9_row0_col4\" class=\"data row0 col4\" >0</td>\n",
       "      <td id=\"T_ea8e9_row0_col5\" class=\"data row0 col5\" >0</td>\n",
       "      <td id=\"T_ea8e9_row0_col6\" class=\"data row0 col6\" >0</td>\n",
       "      <td id=\"T_ea8e9_row0_col7\" class=\"data row0 col7\" >0</td>\n",
       "      <td id=\"T_ea8e9_row0_col8\" class=\"data row0 col8\" >0</td>\n",
       "      <td id=\"T_ea8e9_row0_col9\" class=\"data row0 col9\" >0</td>\n",
       "      <td id=\"T_ea8e9_row0_col10\" class=\"data row0 col10\" >0</td>\n",
       "      <td id=\"T_ea8e9_row0_col11\" class=\"data row0 col11\" >0</td>\n",
       "      <td id=\"T_ea8e9_row0_col12\" class=\"data row0 col12\" >0</td>\n",
       "      <td id=\"T_ea8e9_row0_col13\" class=\"data row0 col13\" >0</td>\n",
       "      <td id=\"T_ea8e9_row0_col14\" class=\"data row0 col14\" >0</td>\n",
       "      <td id=\"T_ea8e9_row0_col15\" class=\"data row0 col15\" >0</td>\n",
       "      <td id=\"T_ea8e9_row0_col16\" class=\"data row0 col16\" >0</td>\n",
       "      <td id=\"T_ea8e9_row0_col17\" class=\"data row0 col17\" >0</td>\n",
       "      <td id=\"T_ea8e9_row0_col18\" class=\"data row0 col18\" >0</td>\n",
       "      <td id=\"T_ea8e9_row0_col19\" class=\"data row0 col19\" >0</td>\n",
       "      <td id=\"T_ea8e9_row0_col20\" class=\"data row0 col20\" >0</td>\n",
       "      <td id=\"T_ea8e9_row0_col21\" class=\"data row0 col21\" >0</td>\n",
       "      <td id=\"T_ea8e9_row0_col22\" class=\"data row0 col22\" >0</td>\n",
       "      <td id=\"T_ea8e9_row0_col23\" class=\"data row0 col23\" >0</td>\n",
       "      <td id=\"T_ea8e9_row0_col24\" class=\"data row0 col24\" >0</td>\n",
       "      <td id=\"T_ea8e9_row0_col25\" class=\"data row0 col25\" >0</td>\n",
       "    </tr>\n",
       "    <tr>\n",
       "      <th id=\"T_ea8e9_level0_row1\" class=\"row_heading level0 row1\" >max</th>\n",
       "      <td id=\"T_ea8e9_row1_col0\" class=\"data row1 col0\" >3</td>\n",
       "      <td id=\"T_ea8e9_row1_col1\" class=\"data row1 col1\" >2</td>\n",
       "      <td id=\"T_ea8e9_row1_col2\" class=\"data row1 col2\" >2</td>\n",
       "      <td id=\"T_ea8e9_row1_col3\" class=\"data row1 col3\" >2</td>\n",
       "      <td id=\"T_ea8e9_row1_col4\" class=\"data row1 col4\" >2</td>\n",
       "      <td id=\"T_ea8e9_row1_col5\" class=\"data row1 col5\" >2</td>\n",
       "      <td id=\"T_ea8e9_row1_col6\" class=\"data row1 col6\" >2</td>\n",
       "      <td id=\"T_ea8e9_row1_col7\" class=\"data row1 col7\" >1</td>\n",
       "      <td id=\"T_ea8e9_row1_col8\" class=\"data row1 col8\" >2</td>\n",
       "      <td id=\"T_ea8e9_row1_col9\" class=\"data row1 col9\" >2</td>\n",
       "      <td id=\"T_ea8e9_row1_col10\" class=\"data row1 col10\" >0</td>\n",
       "      <td id=\"T_ea8e9_row1_col11\" class=\"data row1 col11\" >2</td>\n",
       "      <td id=\"T_ea8e9_row1_col12\" class=\"data row1 col12\" >2</td>\n",
       "      <td id=\"T_ea8e9_row1_col13\" class=\"data row1 col13\" >2</td>\n",
       "      <td id=\"T_ea8e9_row1_col14\" class=\"data row1 col14\" >2</td>\n",
       "      <td id=\"T_ea8e9_row1_col15\" class=\"data row1 col15\" >2</td>\n",
       "      <td id=\"T_ea8e9_row1_col16\" class=\"data row1 col16\" >1</td>\n",
       "      <td id=\"T_ea8e9_row1_col17\" class=\"data row1 col17\" >3</td>\n",
       "      <td id=\"T_ea8e9_row1_col18\" class=\"data row1 col18\" >3</td>\n",
       "      <td id=\"T_ea8e9_row1_col19\" class=\"data row1 col19\" >2</td>\n",
       "      <td id=\"T_ea8e9_row1_col20\" class=\"data row1 col20\" >3</td>\n",
       "      <td id=\"T_ea8e9_row1_col21\" class=\"data row1 col21\" >2</td>\n",
       "      <td id=\"T_ea8e9_row1_col22\" class=\"data row1 col22\" >0</td>\n",
       "      <td id=\"T_ea8e9_row1_col23\" class=\"data row1 col23\" >1</td>\n",
       "      <td id=\"T_ea8e9_row1_col24\" class=\"data row1 col24\" >0</td>\n",
       "      <td id=\"T_ea8e9_row1_col25\" class=\"data row1 col25\" >2</td>\n",
       "    </tr>\n",
       "  </tbody>\n",
       "</table>\n"
      ],
      "text/plain": [
       "<pandas.io.formats.style.Styler at 0x24e1a2c6c80>"
      ]
     },
     "execution_count": 13,
     "metadata": {},
     "output_type": "execute_result"
    }
   ],
   "source": [
    "df_letters_minmax = pd.DataFrame()\n",
    "\n",
    "# Computing the minimum and maximum number of occurances of each letter\n",
    "for letter in ALPHABET:\n",
    "    df_letters_minmax.loc[\"min\", letter]= df[(\"letters\", letter)].min()\n",
    "    df_letters_minmax.loc[\"max\", letter]= df[(\"letters\", letter)].max()\n",
    "\n",
    "# Converting 'dtypes'\n",
    "df_letters_minmax = df_letters_minmax.astype(\"uint8\")\n",
    "\n",
    "\n",
    "df_letters_minmax.style.background_gradient(axis=1, cmap=\"plasma\")"
   ]
  },
  {
   "cell_type": "markdown",
   "metadata": {},
   "source": [
    "# Counting letter frequency"
   ]
  },
  {
   "cell_type": "code",
   "execution_count": 14,
   "metadata": {},
   "outputs": [
    {
     "data": {
      "text/html": [
       "<div>\n",
       "<style scoped>\n",
       "    .dataframe tbody tr th:only-of-type {\n",
       "        vertical-align: middle;\n",
       "    }\n",
       "\n",
       "    .dataframe tbody tr th {\n",
       "        vertical-align: top;\n",
       "    }\n",
       "\n",
       "    .dataframe thead th {\n",
       "        text-align: right;\n",
       "    }\n",
       "</style>\n",
       "<table border=\"1\" class=\"dataframe\">\n",
       "  <thead>\n",
       "    <tr style=\"text-align: right;\">\n",
       "      <th></th>\n",
       "      <th>p0</th>\n",
       "      <th>p1</th>\n",
       "      <th>p2</th>\n",
       "      <th>p3</th>\n",
       "      <th>p4</th>\n",
       "      <th>sum</th>\n",
       "      <th>total</th>\n",
       "    </tr>\n",
       "  </thead>\n",
       "  <tbody>\n",
       "    <tr>\n",
       "      <th>a</th>\n",
       "      <td>113</td>\n",
       "      <td>302</td>\n",
       "      <td>81</td>\n",
       "      <td>283</td>\n",
       "      <td>374</td>\n",
       "      <td>1153</td>\n",
       "      <td>913</td>\n",
       "    </tr>\n",
       "    <tr>\n",
       "      <th>b</th>\n",
       "      <td>88</td>\n",
       "      <td>10</td>\n",
       "      <td>42</td>\n",
       "      <td>25</td>\n",
       "      <td>0</td>\n",
       "      <td>165</td>\n",
       "      <td>158</td>\n",
       "    </tr>\n",
       "    <tr>\n",
       "      <th>c</th>\n",
       "      <td>154</td>\n",
       "      <td>13</td>\n",
       "      <td>74</td>\n",
       "      <td>80</td>\n",
       "      <td>0</td>\n",
       "      <td>321</td>\n",
       "      <td>305</td>\n",
       "    </tr>\n",
       "    <tr>\n",
       "      <th>d</th>\n",
       "      <td>53</td>\n",
       "      <td>12</td>\n",
       "      <td>53</td>\n",
       "      <td>81</td>\n",
       "      <td>0</td>\n",
       "      <td>199</td>\n",
       "      <td>191</td>\n",
       "    </tr>\n",
       "    <tr>\n",
       "      <th>e</th>\n",
       "      <td>25</td>\n",
       "      <td>235</td>\n",
       "      <td>76</td>\n",
       "      <td>93</td>\n",
       "      <td>127</td>\n",
       "      <td>556</td>\n",
       "      <td>494</td>\n",
       "    </tr>\n",
       "    <tr>\n",
       "      <th>...</th>\n",
       "      <td>...</td>\n",
       "      <td>...</td>\n",
       "      <td>...</td>\n",
       "      <td>...</td>\n",
       "      <td>...</td>\n",
       "      <td>...</td>\n",
       "      <td>...</td>\n",
       "    </tr>\n",
       "    <tr>\n",
       "      <th>v</th>\n",
       "      <td>70</td>\n",
       "      <td>7</td>\n",
       "      <td>39</td>\n",
       "      <td>33</td>\n",
       "      <td>0</td>\n",
       "      <td>149</td>\n",
       "      <td>147</td>\n",
       "    </tr>\n",
       "    <tr>\n",
       "      <th>w</th>\n",
       "      <td>0</td>\n",
       "      <td>0</td>\n",
       "      <td>0</td>\n",
       "      <td>0</td>\n",
       "      <td>0</td>\n",
       "      <td>0</td>\n",
       "      <td>0</td>\n",
       "    </tr>\n",
       "    <tr>\n",
       "      <th>x</th>\n",
       "      <td>1</td>\n",
       "      <td>9</td>\n",
       "      <td>12</td>\n",
       "      <td>11</td>\n",
       "      <td>1</td>\n",
       "      <td>34</td>\n",
       "      <td>34</td>\n",
       "    </tr>\n",
       "    <tr>\n",
       "      <th>y</th>\n",
       "      <td>0</td>\n",
       "      <td>0</td>\n",
       "      <td>0</td>\n",
       "      <td>0</td>\n",
       "      <td>0</td>\n",
       "      <td>0</td>\n",
       "      <td>0</td>\n",
       "    </tr>\n",
       "    <tr>\n",
       "      <th>z</th>\n",
       "      <td>7</td>\n",
       "      <td>1</td>\n",
       "      <td>19</td>\n",
       "      <td>7</td>\n",
       "      <td>16</td>\n",
       "      <td>50</td>\n",
       "      <td>48</td>\n",
       "    </tr>\n",
       "  </tbody>\n",
       "</table>\n",
       "<p>26 rows × 7 columns</p>\n",
       "</div>"
      ],
      "text/plain": [
       "     p0   p1  p2   p3   p4   sum  total\n",
       "a   113  302  81  283  374  1153    913\n",
       "b    88   10  42   25    0   165    158\n",
       "c   154   13  74   80    0   321    305\n",
       "d    53   12  53   81    0   199    191\n",
       "e    25  235  76   93  127   556    494\n",
       "..  ...  ...  ..  ...  ...   ...    ...\n",
       "v    70    7  39   33    0   149    147\n",
       "w     0    0   0    0    0     0      0\n",
       "x     1    9  12   11    1    34     34\n",
       "y     0    0   0    0    0     0      0\n",
       "z     7    1  19    7   16    50     48\n",
       "\n",
       "[26 rows x 7 columns]"
      ]
     },
     "execution_count": 14,
     "metadata": {},
     "output_type": "execute_result"
    }
   ],
   "source": [
    "# Computing letter frequency\n",
    "df_freq_count = df[\"positions\"].apply(pd.Series.value_counts)\n",
    "\n",
    "# Computing the \"sum\"\n",
    "df_freq_count[\"sum\"] = df_freq_count.sum(axis=1)\n",
    "\n",
    "# Inserting missing letters\n",
    "for letter in ALPHABET:\n",
    "    if letter not in df_freq_count.index:\n",
    "        df_freq_count.loc[letter] = 0\n",
    "\n",
    "# Computing the \"total\"\n",
    "totals = []\n",
    "for letter in df_freq_count.index:\n",
    "    totals.append(df[\"letters\"][letter].value_counts().drop(0, errors=\"ignore\").sum())\n",
    "\n",
    "df_freq_count[\"total\"] = totals\n",
    "\n",
    "# Filling the missing values, converting the \"dtypes\" and sorting\n",
    "df_freq_count = df_freq_count.fillna(0)\n",
    "df_freq_count = df_freq_count.astype(\"uint16\")\n",
    "df_freq_count = df_freq_count.sort_index()\n",
    "\n",
    "\n",
    "df_freq_count"
   ]
  },
  {
   "cell_type": "code",
   "execution_count": 15,
   "metadata": {},
   "outputs": [
    {
     "data": {
      "application/vnd.plotly.v1+json": {
       "config": {
        "plotlyServerURL": "https://plot.ly"
       },
       "data": [
        {
         "coloraxis": "coloraxis",
         "name": "Positions",
         "type": "heatmap",
         "x": [
          "p0",
          "p1",
          "p2",
          "p3",
          "p4"
         ],
         "xaxis": "x",
         "y": [
          "a",
          "b",
          "c",
          "d",
          "e",
          "f",
          "g",
          "h",
          "i",
          "j",
          "k",
          "l",
          "m",
          "n",
          "o",
          "p",
          "q",
          "r",
          "s",
          "t",
          "u",
          "v",
          "w",
          "x",
          "y",
          "z"
         ],
         "yaxis": "y",
         "z": [
          [
           0.07836338418862691,
           0.20943134535367544,
           0.05617198335644938,
           0.19625520110957004,
           0.2593619972260749,
           0.7995839112343966,
           0.6331484049930652
          ],
          [
           0.06102635228848821,
           0.006934812760055479,
           0.02912621359223301,
           0.017337031900138695,
           0,
           0.1144244105409154,
           0.10957004160887657
          ],
          [
           0.10679611650485436,
           0.009015256588072122,
           0.05131761442441054,
           0.05547850208044383,
           0,
           0.22260748959778087,
           0.21151178918169208
          ],
          [
           0.036754507628294034,
           0.008321775312066574,
           0.036754507628294034,
           0.05617198335644938,
           0,
           0.13800277392510402,
           0.13245492371705964
          ],
          [
           0.017337031900138695,
           0.16296809986130376,
           0.052704576976421634,
           0.06449375866851595,
           0.08807212205270458,
           0.3855755894590846,
           0.34257975034674065
          ],
          [
           0.07420249653259361,
           0.0020804438280166435,
           0.009015256588072122,
           0.004160887656033287,
           0,
           0.08945908460471567,
           0.08876560332871013
          ],
          [
           0.03952843273231623,
           0.0034674063800277394,
           0.03259361997226075,
           0.024271844660194174,
           0,
           0.09986130374479889,
           0.09778085991678225
          ],
          [
           0.011095700416088766,
           0.008321775312066574,
           0.0034674063800277394,
           0.027739251040221916,
           0,
           0.05062413314840499,
           0.05062413314840499
          ],
          [
           0.013176144244105409,
           0.1130374479889043,
           0.0811373092926491,
           0.08460471567267684,
           0.005547850208044383,
           0.29750346740638,
           0.28502080443828015
          ],
          [
           0.014563106796116505,
           0.0006934812760055479,
           0.005547850208044383,
           0.0062413314840499305,
           0,
           0.027045769764216365,
           0.026352288488210817
          ],
          [
           0,
           0,
           0,
           0,
           0,
           0,
           0
          ],
          [
           0.06102635228848821,
           0.026352288488210817,
           0.07350901525658807,
           0.020804438280166437,
           0.04230235783633842,
           0.22399445214979197,
           0.22122052704576978
          ],
          [
           0.07073509015256588,
           0.011789181692094313,
           0.036754507628294034,
           0.030513176144244106,
           0.01872399445214979,
           0.16851595006934814,
           0.16158113730929266
          ],
          [
           0.027045769764216365,
           0.02011095700416089,
           0.10194174757281553,
           0.02912621359223301,
           0.0027739251040221915,
           0.180998613037448,
           0.1768377253814147
          ],
          [
           0.024965325936199722,
           0.1796116504854369,
           0.029819694868238558,
           0.08945908460471567,
           0.29056865464632453,
           0.6144244105409153,
           0.536754507628294
          ],
          [
           0.09778085991678225,
           0.006934812760055479,
           0.02011095700416089,
           0.023578363384188627,
           0,
           0.14840499306518723,
           0.14563106796116504
          ],
          [
           0.005547850208044383,
           0,
           0.0062413314840499305,
           0,
           0,
           0.011789181692094313,
           0.011789181692094313
          ],
          [
           0.05131761442441054,
           0.09084604715672677,
           0.13869625520110956,
           0.06449375866851595,
           0.14840499306518723,
           0.49375866851595007,
           0.44105409153952846
          ],
          [
           0.06657420249653259,
           0.010402219140083218,
           0.07975034674063801,
           0.044382801664355064,
           0.1276005547850208,
           0.3287101248266297,
           0.2961165048543689
          ],
          [
           0.0769764216366158,
           0.011789181692094313,
           0.060332871012482664,
           0.10194174757281553,
           0,
           0.2510402219140083,
           0.23855755894590847
          ],
          [
           0.011095700416088766,
           0.10610263522884882,
           0.046463245492371706,
           0.023578363384188627,
           0.0048543689320388345,
           0.19209431345353675,
           0.18585298196948682
          ],
          [
           0.04854368932038835,
           0.0048543689320388345,
           0.027045769764216365,
           0.02288488210818308,
           0,
           0.10332871012482663,
           0.10194174757281553
          ],
          [
           0,
           0,
           0,
           0,
           0,
           0,
           0
          ],
          [
           0.0006934812760055479,
           0.0062413314840499305,
           0.008321775312066574,
           0.0076282940360610264,
           0.0006934812760055479,
           0.023578363384188627,
           0.023578363384188627
          ],
          [
           0,
           0,
           0,
           0,
           0,
           0,
           0
          ],
          [
           0.0048543689320388345,
           0.0006934812760055479,
           0.013176144244105409,
           0.0048543689320388345,
           0.011095700416088766,
           0.03467406380027739,
           0.033287101248266296
          ]
         ]
        },
        {
         "coloraxis": "coloraxis2",
         "name": "Total",
         "type": "heatmap",
         "x": [
          "Total"
         ],
         "xaxis": "x2",
         "y": [
          "a",
          "b",
          "c",
          "d",
          "e",
          "f",
          "g",
          "h",
          "i",
          "j",
          "k",
          "l",
          "m",
          "n",
          "o",
          "p",
          "q",
          "r",
          "s",
          "t",
          "u",
          "v",
          "w",
          "x",
          "y",
          "z"
         ],
         "yaxis": "y2",
         "z": [
          [
           0.6331484049930652
          ],
          [
           0.10957004160887657
          ],
          [
           0.21151178918169208
          ],
          [
           0.13245492371705964
          ],
          [
           0.34257975034674065
          ],
          [
           0.08876560332871013
          ],
          [
           0.09778085991678225
          ],
          [
           0.05062413314840499
          ],
          [
           0.28502080443828015
          ],
          [
           0.026352288488210817
          ],
          [
           0
          ],
          [
           0.22122052704576978
          ],
          [
           0.16158113730929266
          ],
          [
           0.1768377253814147
          ],
          [
           0.536754507628294
          ],
          [
           0.14563106796116504
          ],
          [
           0.011789181692094313
          ],
          [
           0.44105409153952846
          ],
          [
           0.2961165048543689
          ],
          [
           0.23855755894590847
          ],
          [
           0.18585298196948682
          ],
          [
           0.10194174757281553
          ],
          [
           0
          ],
          [
           0.023578363384188627
          ],
          [
           0
          ],
          [
           0.033287101248266296
          ]
         ]
        }
       ],
       "layout": {
        "coloraxis": {
         "colorscale": [
          [
           0,
           "rgb(12,51,131)"
          ],
          [
           0.25,
           "rgb(10,136,186)"
          ],
          [
           0.5,
           "rgb(242,211,56)"
          ],
          [
           0.75,
           "rgb(242,143,56)"
          ],
          [
           1,
           "rgb(217,30,30)"
          ]
         ],
         "showscale": false
        },
        "coloraxis2": {
         "colorscale": [
          [
           0,
           "rgb(12,51,131)"
          ],
          [
           0.25,
           "rgb(10,136,186)"
          ],
          [
           0.5,
           "rgb(242,211,56)"
          ],
          [
           0.75,
           "rgb(242,143,56)"
          ],
          [
           1,
           "rgb(217,30,30)"
          ]
         ],
         "showscale": false
        },
        "height": 600,
        "template": {
         "data": {
          "bar": [
           {
            "error_x": {
             "color": "#2a3f5f"
            },
            "error_y": {
             "color": "#2a3f5f"
            },
            "marker": {
             "line": {
              "color": "#E5ECF6",
              "width": 0.5
             },
             "pattern": {
              "fillmode": "overlay",
              "size": 10,
              "solidity": 0.2
             }
            },
            "type": "bar"
           }
          ],
          "barpolar": [
           {
            "marker": {
             "line": {
              "color": "#E5ECF6",
              "width": 0.5
             },
             "pattern": {
              "fillmode": "overlay",
              "size": 10,
              "solidity": 0.2
             }
            },
            "type": "barpolar"
           }
          ],
          "carpet": [
           {
            "aaxis": {
             "endlinecolor": "#2a3f5f",
             "gridcolor": "white",
             "linecolor": "white",
             "minorgridcolor": "white",
             "startlinecolor": "#2a3f5f"
            },
            "baxis": {
             "endlinecolor": "#2a3f5f",
             "gridcolor": "white",
             "linecolor": "white",
             "minorgridcolor": "white",
             "startlinecolor": "#2a3f5f"
            },
            "type": "carpet"
           }
          ],
          "choropleth": [
           {
            "colorbar": {
             "outlinewidth": 0,
             "ticks": ""
            },
            "type": "choropleth"
           }
          ],
          "contour": [
           {
            "colorbar": {
             "outlinewidth": 0,
             "ticks": ""
            },
            "colorscale": [
             [
              0,
              "#0d0887"
             ],
             [
              0.1111111111111111,
              "#46039f"
             ],
             [
              0.2222222222222222,
              "#7201a8"
             ],
             [
              0.3333333333333333,
              "#9c179e"
             ],
             [
              0.4444444444444444,
              "#bd3786"
             ],
             [
              0.5555555555555556,
              "#d8576b"
             ],
             [
              0.6666666666666666,
              "#ed7953"
             ],
             [
              0.7777777777777778,
              "#fb9f3a"
             ],
             [
              0.8888888888888888,
              "#fdca26"
             ],
             [
              1,
              "#f0f921"
             ]
            ],
            "type": "contour"
           }
          ],
          "contourcarpet": [
           {
            "colorbar": {
             "outlinewidth": 0,
             "ticks": ""
            },
            "type": "contourcarpet"
           }
          ],
          "heatmap": [
           {
            "colorbar": {
             "outlinewidth": 0,
             "ticks": ""
            },
            "colorscale": [
             [
              0,
              "#0d0887"
             ],
             [
              0.1111111111111111,
              "#46039f"
             ],
             [
              0.2222222222222222,
              "#7201a8"
             ],
             [
              0.3333333333333333,
              "#9c179e"
             ],
             [
              0.4444444444444444,
              "#bd3786"
             ],
             [
              0.5555555555555556,
              "#d8576b"
             ],
             [
              0.6666666666666666,
              "#ed7953"
             ],
             [
              0.7777777777777778,
              "#fb9f3a"
             ],
             [
              0.8888888888888888,
              "#fdca26"
             ],
             [
              1,
              "#f0f921"
             ]
            ],
            "type": "heatmap"
           }
          ],
          "heatmapgl": [
           {
            "colorbar": {
             "outlinewidth": 0,
             "ticks": ""
            },
            "colorscale": [
             [
              0,
              "#0d0887"
             ],
             [
              0.1111111111111111,
              "#46039f"
             ],
             [
              0.2222222222222222,
              "#7201a8"
             ],
             [
              0.3333333333333333,
              "#9c179e"
             ],
             [
              0.4444444444444444,
              "#bd3786"
             ],
             [
              0.5555555555555556,
              "#d8576b"
             ],
             [
              0.6666666666666666,
              "#ed7953"
             ],
             [
              0.7777777777777778,
              "#fb9f3a"
             ],
             [
              0.8888888888888888,
              "#fdca26"
             ],
             [
              1,
              "#f0f921"
             ]
            ],
            "type": "heatmapgl"
           }
          ],
          "histogram": [
           {
            "marker": {
             "pattern": {
              "fillmode": "overlay",
              "size": 10,
              "solidity": 0.2
             }
            },
            "type": "histogram"
           }
          ],
          "histogram2d": [
           {
            "colorbar": {
             "outlinewidth": 0,
             "ticks": ""
            },
            "colorscale": [
             [
              0,
              "#0d0887"
             ],
             [
              0.1111111111111111,
              "#46039f"
             ],
             [
              0.2222222222222222,
              "#7201a8"
             ],
             [
              0.3333333333333333,
              "#9c179e"
             ],
             [
              0.4444444444444444,
              "#bd3786"
             ],
             [
              0.5555555555555556,
              "#d8576b"
             ],
             [
              0.6666666666666666,
              "#ed7953"
             ],
             [
              0.7777777777777778,
              "#fb9f3a"
             ],
             [
              0.8888888888888888,
              "#fdca26"
             ],
             [
              1,
              "#f0f921"
             ]
            ],
            "type": "histogram2d"
           }
          ],
          "histogram2dcontour": [
           {
            "colorbar": {
             "outlinewidth": 0,
             "ticks": ""
            },
            "colorscale": [
             [
              0,
              "#0d0887"
             ],
             [
              0.1111111111111111,
              "#46039f"
             ],
             [
              0.2222222222222222,
              "#7201a8"
             ],
             [
              0.3333333333333333,
              "#9c179e"
             ],
             [
              0.4444444444444444,
              "#bd3786"
             ],
             [
              0.5555555555555556,
              "#d8576b"
             ],
             [
              0.6666666666666666,
              "#ed7953"
             ],
             [
              0.7777777777777778,
              "#fb9f3a"
             ],
             [
              0.8888888888888888,
              "#fdca26"
             ],
             [
              1,
              "#f0f921"
             ]
            ],
            "type": "histogram2dcontour"
           }
          ],
          "mesh3d": [
           {
            "colorbar": {
             "outlinewidth": 0,
             "ticks": ""
            },
            "type": "mesh3d"
           }
          ],
          "parcoords": [
           {
            "line": {
             "colorbar": {
              "outlinewidth": 0,
              "ticks": ""
             }
            },
            "type": "parcoords"
           }
          ],
          "pie": [
           {
            "automargin": true,
            "type": "pie"
           }
          ],
          "scatter": [
           {
            "fillpattern": {
             "fillmode": "overlay",
             "size": 10,
             "solidity": 0.2
            },
            "type": "scatter"
           }
          ],
          "scatter3d": [
           {
            "line": {
             "colorbar": {
              "outlinewidth": 0,
              "ticks": ""
             }
            },
            "marker": {
             "colorbar": {
              "outlinewidth": 0,
              "ticks": ""
             }
            },
            "type": "scatter3d"
           }
          ],
          "scattercarpet": [
           {
            "marker": {
             "colorbar": {
              "outlinewidth": 0,
              "ticks": ""
             }
            },
            "type": "scattercarpet"
           }
          ],
          "scattergeo": [
           {
            "marker": {
             "colorbar": {
              "outlinewidth": 0,
              "ticks": ""
             }
            },
            "type": "scattergeo"
           }
          ],
          "scattergl": [
           {
            "marker": {
             "colorbar": {
              "outlinewidth": 0,
              "ticks": ""
             }
            },
            "type": "scattergl"
           }
          ],
          "scattermapbox": [
           {
            "marker": {
             "colorbar": {
              "outlinewidth": 0,
              "ticks": ""
             }
            },
            "type": "scattermapbox"
           }
          ],
          "scatterpolar": [
           {
            "marker": {
             "colorbar": {
              "outlinewidth": 0,
              "ticks": ""
             }
            },
            "type": "scatterpolar"
           }
          ],
          "scatterpolargl": [
           {
            "marker": {
             "colorbar": {
              "outlinewidth": 0,
              "ticks": ""
             }
            },
            "type": "scatterpolargl"
           }
          ],
          "scatterternary": [
           {
            "marker": {
             "colorbar": {
              "outlinewidth": 0,
              "ticks": ""
             }
            },
            "type": "scatterternary"
           }
          ],
          "surface": [
           {
            "colorbar": {
             "outlinewidth": 0,
             "ticks": ""
            },
            "colorscale": [
             [
              0,
              "#0d0887"
             ],
             [
              0.1111111111111111,
              "#46039f"
             ],
             [
              0.2222222222222222,
              "#7201a8"
             ],
             [
              0.3333333333333333,
              "#9c179e"
             ],
             [
              0.4444444444444444,
              "#bd3786"
             ],
             [
              0.5555555555555556,
              "#d8576b"
             ],
             [
              0.6666666666666666,
              "#ed7953"
             ],
             [
              0.7777777777777778,
              "#fb9f3a"
             ],
             [
              0.8888888888888888,
              "#fdca26"
             ],
             [
              1,
              "#f0f921"
             ]
            ],
            "type": "surface"
           }
          ],
          "table": [
           {
            "cells": {
             "fill": {
              "color": "#EBF0F8"
             },
             "line": {
              "color": "white"
             }
            },
            "header": {
             "fill": {
              "color": "#C8D4E3"
             },
             "line": {
              "color": "white"
             }
            },
            "type": "table"
           }
          ]
         },
         "layout": {
          "annotationdefaults": {
           "arrowcolor": "#2a3f5f",
           "arrowhead": 0,
           "arrowwidth": 1
          },
          "autotypenumbers": "strict",
          "coloraxis": {
           "colorbar": {
            "outlinewidth": 0,
            "ticks": ""
           }
          },
          "colorscale": {
           "diverging": [
            [
             0,
             "#8e0152"
            ],
            [
             0.1,
             "#c51b7d"
            ],
            [
             0.2,
             "#de77ae"
            ],
            [
             0.3,
             "#f1b6da"
            ],
            [
             0.4,
             "#fde0ef"
            ],
            [
             0.5,
             "#f7f7f7"
            ],
            [
             0.6,
             "#e6f5d0"
            ],
            [
             0.7,
             "#b8e186"
            ],
            [
             0.8,
             "#7fbc41"
            ],
            [
             0.9,
             "#4d9221"
            ],
            [
             1,
             "#276419"
            ]
           ],
           "sequential": [
            [
             0,
             "#0d0887"
            ],
            [
             0.1111111111111111,
             "#46039f"
            ],
            [
             0.2222222222222222,
             "#7201a8"
            ],
            [
             0.3333333333333333,
             "#9c179e"
            ],
            [
             0.4444444444444444,
             "#bd3786"
            ],
            [
             0.5555555555555556,
             "#d8576b"
            ],
            [
             0.6666666666666666,
             "#ed7953"
            ],
            [
             0.7777777777777778,
             "#fb9f3a"
            ],
            [
             0.8888888888888888,
             "#fdca26"
            ],
            [
             1,
             "#f0f921"
            ]
           ],
           "sequentialminus": [
            [
             0,
             "#0d0887"
            ],
            [
             0.1111111111111111,
             "#46039f"
            ],
            [
             0.2222222222222222,
             "#7201a8"
            ],
            [
             0.3333333333333333,
             "#9c179e"
            ],
            [
             0.4444444444444444,
             "#bd3786"
            ],
            [
             0.5555555555555556,
             "#d8576b"
            ],
            [
             0.6666666666666666,
             "#ed7953"
            ],
            [
             0.7777777777777778,
             "#fb9f3a"
            ],
            [
             0.8888888888888888,
             "#fdca26"
            ],
            [
             1,
             "#f0f921"
            ]
           ]
          },
          "colorway": [
           "#636efa",
           "#EF553B",
           "#00cc96",
           "#ab63fa",
           "#FFA15A",
           "#19d3f3",
           "#FF6692",
           "#B6E880",
           "#FF97FF",
           "#FECB52"
          ],
          "font": {
           "color": "#2a3f5f"
          },
          "geo": {
           "bgcolor": "white",
           "lakecolor": "white",
           "landcolor": "#E5ECF6",
           "showlakes": true,
           "showland": true,
           "subunitcolor": "white"
          },
          "hoverlabel": {
           "align": "left"
          },
          "hovermode": "closest",
          "mapbox": {
           "style": "light"
          },
          "paper_bgcolor": "white",
          "plot_bgcolor": "#E5ECF6",
          "polar": {
           "angularaxis": {
            "gridcolor": "white",
            "linecolor": "white",
            "ticks": ""
           },
           "bgcolor": "#E5ECF6",
           "radialaxis": {
            "gridcolor": "white",
            "linecolor": "white",
            "ticks": ""
           }
          },
          "scene": {
           "xaxis": {
            "backgroundcolor": "#E5ECF6",
            "gridcolor": "white",
            "gridwidth": 2,
            "linecolor": "white",
            "showbackground": true,
            "ticks": "",
            "zerolinecolor": "white"
           },
           "yaxis": {
            "backgroundcolor": "#E5ECF6",
            "gridcolor": "white",
            "gridwidth": 2,
            "linecolor": "white",
            "showbackground": true,
            "ticks": "",
            "zerolinecolor": "white"
           },
           "zaxis": {
            "backgroundcolor": "#E5ECF6",
            "gridcolor": "white",
            "gridwidth": 2,
            "linecolor": "white",
            "showbackground": true,
            "ticks": "",
            "zerolinecolor": "white"
           }
          },
          "shapedefaults": {
           "line": {
            "color": "#2a3f5f"
           }
          },
          "ternary": {
           "aaxis": {
            "gridcolor": "white",
            "linecolor": "white",
            "ticks": ""
           },
           "baxis": {
            "gridcolor": "white",
            "linecolor": "white",
            "ticks": ""
           },
           "bgcolor": "#E5ECF6",
           "caxis": {
            "gridcolor": "white",
            "linecolor": "white",
            "ticks": ""
           }
          },
          "title": {
           "x": 0.05
          },
          "xaxis": {
           "automargin": true,
           "gridcolor": "white",
           "linecolor": "white",
           "ticks": "",
           "title": {
            "standoff": 15
           },
           "zerolinecolor": "white",
           "zerolinewidth": 2
          },
          "yaxis": {
           "automargin": true,
           "gridcolor": "white",
           "linecolor": "white",
           "ticks": "",
           "title": {
            "standoff": 15
           },
           "zerolinecolor": "white",
           "zerolinewidth": 2
          }
         }
        },
        "title": {
         "text": "Letter Frequency"
        },
        "width": 600,
        "xaxis": {
         "anchor": "y",
         "domain": [
          0,
          0.765
         ]
        },
        "xaxis2": {
         "anchor": "y2",
         "domain": [
          0.865,
          1
         ]
        },
        "yaxis": {
         "anchor": "x",
         "domain": [
          0,
          1
         ]
        },
        "yaxis2": {
         "anchor": "x2",
         "domain": [
          0,
          1
         ]
        }
       }
      }
     },
     "metadata": {},
     "output_type": "display_data"
    }
   ],
   "source": [
    "# Ploting Heatmap\n",
    "\n",
    "# Sorting data\n",
    "df_freq_count = df_freq_count.sort_index()\n",
    "\n",
    "# Creating figure\n",
    "fig = sp.make_subplots(\n",
    "    rows=1, \n",
    "    cols=2,\n",
    "    column_widths=[0.85, 0.15],\n",
    ")\n",
    "\n",
    "# Creating \"Positions\" traces\n",
    "fig.add_trace(\n",
    "    go.Heatmap(\n",
    "        x=df[\"positions\"].columns,\n",
    "        y=df_freq_count.index,\n",
    "        z=df_freq_count / len(df),\n",
    "        coloraxis=f\"coloraxis1\",\n",
    "        name=\"Positions\",\n",
    "    ),\n",
    "    row=1,\n",
    "    col=1,\n",
    ")\n",
    "\n",
    "# Creating \"Total\" trace\n",
    "fig.add_trace(\n",
    "    go.Heatmap(\n",
    "        x=[\"Total\"],\n",
    "        y=df_freq_count.index,\n",
    "        z=df_freq_count[[\"total\"]] / len(df),\n",
    "        coloraxis=f\"coloraxis2\",\n",
    "        name=\"Total\",\n",
    "    ),\n",
    "    row=1,\n",
    "    col=2,\n",
    ")\n",
    "\n",
    "# Updating layout\n",
    "fig.update_layout(\n",
    "    title=\"Letter Frequency\",\n",
    "    height=600,\n",
    "    width=600,\n",
    "    coloraxis1=dict(\n",
    "        showscale=False,\n",
    "        colorscale=\"Portland\",\n",
    "    ),\n",
    "    coloraxis2=dict(\n",
    "        showscale=False,\n",
    "        colorscale=\"Portland\",\n",
    "    ),\n",
    ")\n",
    "\n",
    "# Showing figure\n",
    "fig.show()"
   ]
  },
  {
   "cell_type": "code",
   "execution_count": 16,
   "metadata": {},
   "outputs": [
    {
     "data": {
      "application/vnd.plotly.v1+json": {
       "config": {
        "plotlyServerURL": "https://plot.ly"
       },
       "data": [
        {
         "name": "p0",
         "type": "bar",
         "x": [
          "c",
          "p",
          "a",
          "t",
          "f",
          "m",
          "s",
          "b",
          "l",
          "r",
          "v",
          "g",
          "d",
          "n",
          "o",
          "e",
          "j",
          "i",
          "h",
          "u",
          "q",
          "z",
          "x",
          "k",
          "w",
          "y"
         ],
         "xaxis": "x",
         "y": [
          0.10679611650485436,
          0.09778085991678225,
          0.07836338418862691,
          0.0769764216366158,
          0.07420249653259361,
          0.07073509015256588,
          0.06657420249653259,
          0.06102635228848821,
          0.06102635228848821,
          0.05131761442441054,
          0.04854368932038835,
          0.03952843273231623,
          0.036754507628294034,
          0.027045769764216365,
          0.024965325936199722,
          0.017337031900138695,
          0.014563106796116505,
          0.013176144244105409,
          0.011095700416088766,
          0.011095700416088766,
          0.005547850208044383,
          0.0048543689320388345,
          0.0006934812760055479,
          0,
          0,
          0
         ],
         "yaxis": "y"
        },
        {
         "name": "p1",
         "type": "bar",
         "x": [
          "a",
          "o",
          "e",
          "i",
          "u",
          "r",
          "l",
          "n",
          "t",
          "m",
          "s",
          "c",
          "h",
          "d",
          "p",
          "b",
          "x",
          "v",
          "g",
          "f",
          "j",
          "z",
          "q",
          "k",
          "w",
          "y"
         ],
         "xaxis": "x2",
         "y": [
          0.20943134535367544,
          0.1796116504854369,
          0.16296809986130376,
          0.1130374479889043,
          0.10610263522884882,
          0.09084604715672677,
          0.026352288488210817,
          0.02011095700416089,
          0.011789181692094313,
          0.011789181692094313,
          0.010402219140083218,
          0.009015256588072122,
          0.008321775312066574,
          0.008321775312066574,
          0.006934812760055479,
          0.006934812760055479,
          0.0062413314840499305,
          0.0048543689320388345,
          0.0034674063800277394,
          0.0020804438280166435,
          0.0006934812760055479,
          0.0006934812760055479,
          0,
          0,
          0,
          0
         ],
         "yaxis": "y2"
        },
        {
         "name": "p2",
         "type": "bar",
         "x": [
          "r",
          "n",
          "i",
          "s",
          "l",
          "t",
          "a",
          "e",
          "c",
          "u",
          "m",
          "d",
          "g",
          "o",
          "b",
          "v",
          "p",
          "z",
          "f",
          "x",
          "q",
          "j",
          "h",
          "k",
          "w",
          "y"
         ],
         "xaxis": "x3",
         "y": [
          0.13869625520110956,
          0.10194174757281553,
          0.0811373092926491,
          0.07975034674063801,
          0.07350901525658807,
          0.060332871012482664,
          0.05617198335644938,
          0.052704576976421634,
          0.05131761442441054,
          0.046463245492371706,
          0.036754507628294034,
          0.036754507628294034,
          0.03259361997226075,
          0.029819694868238558,
          0.02912621359223301,
          0.027045769764216365,
          0.02011095700416089,
          0.013176144244105409,
          0.009015256588072122,
          0.008321775312066574,
          0.0062413314840499305,
          0.005547850208044383,
          0.0034674063800277394,
          0,
          0,
          0
         ],
         "yaxis": "y3"
        },
        {
         "name": "p3",
         "type": "bar",
         "x": [
          "a",
          "t",
          "o",
          "i",
          "e",
          "r",
          "d",
          "c",
          "s",
          "m",
          "n",
          "h",
          "g",
          "p",
          "u",
          "v",
          "l",
          "b",
          "x",
          "j",
          "z",
          "f",
          "k",
          "q",
          "w",
          "y"
         ],
         "xaxis": "x4",
         "y": [
          0.19625520110957004,
          0.10194174757281553,
          0.08945908460471567,
          0.08460471567267684,
          0.06449375866851595,
          0.06449375866851595,
          0.05617198335644938,
          0.05547850208044383,
          0.044382801664355064,
          0.030513176144244106,
          0.02912621359223301,
          0.027739251040221916,
          0.024271844660194174,
          0.023578363384188627,
          0.023578363384188627,
          0.02288488210818308,
          0.020804438280166437,
          0.017337031900138695,
          0.0076282940360610264,
          0.0062413314840499305,
          0.0048543689320388345,
          0.004160887656033287,
          0,
          0,
          0,
          0
         ],
         "yaxis": "y4"
        },
        {
         "name": "p4",
         "type": "bar",
         "x": [
          "o",
          "a",
          "r",
          "s",
          "e",
          "l",
          "m",
          "z",
          "i",
          "u",
          "n",
          "x",
          "h",
          "g",
          "b",
          "f",
          "p",
          "q",
          "j",
          "c",
          "t",
          "k",
          "v",
          "w",
          "y",
          "d"
         ],
         "xaxis": "x5",
         "y": [
          0.29056865464632453,
          0.2593619972260749,
          0.14840499306518723,
          0.1276005547850208,
          0.08807212205270458,
          0.04230235783633842,
          0.01872399445214979,
          0.011095700416088766,
          0.005547850208044383,
          0.0048543689320388345,
          0.0027739251040221915,
          0.0006934812760055479,
          0,
          0,
          0,
          0,
          0,
          0,
          0,
          0,
          0,
          0,
          0,
          0,
          0,
          0
         ],
         "yaxis": "y5"
        },
        {
         "name": "Total",
         "type": "bar",
         "x": [
          "a",
          "o",
          "r",
          "e",
          "s",
          "i",
          "t",
          "l",
          "c",
          "u",
          "n",
          "m",
          "p",
          "d",
          "b",
          "v",
          "g",
          "f",
          "h",
          "z",
          "j",
          "x",
          "q",
          "k",
          "w",
          "y"
         ],
         "xaxis": "x6",
         "y": [
          0.6331484049930652,
          0.536754507628294,
          0.44105409153952846,
          0.34257975034674065,
          0.2961165048543689,
          0.28502080443828015,
          0.23855755894590847,
          0.22122052704576978,
          0.21151178918169208,
          0.18585298196948682,
          0.1768377253814147,
          0.16158113730929266,
          0.14563106796116504,
          0.13245492371705964,
          0.10957004160887657,
          0.10194174757281553,
          0.09778085991678225,
          0.08876560332871013,
          0.05062413314840499,
          0.033287101248266296,
          0.026352288488210817,
          0.023578363384188627,
          0.011789181692094313,
          0,
          0,
          0
         ],
         "yaxis": "y6"
        }
       ],
       "layout": {
        "height": 800,
        "showlegend": false,
        "template": {
         "data": {
          "bar": [
           {
            "error_x": {
             "color": "#2a3f5f"
            },
            "error_y": {
             "color": "#2a3f5f"
            },
            "marker": {
             "line": {
              "color": "#E5ECF6",
              "width": 0.5
             },
             "pattern": {
              "fillmode": "overlay",
              "size": 10,
              "solidity": 0.2
             }
            },
            "type": "bar"
           }
          ],
          "barpolar": [
           {
            "marker": {
             "line": {
              "color": "#E5ECF6",
              "width": 0.5
             },
             "pattern": {
              "fillmode": "overlay",
              "size": 10,
              "solidity": 0.2
             }
            },
            "type": "barpolar"
           }
          ],
          "carpet": [
           {
            "aaxis": {
             "endlinecolor": "#2a3f5f",
             "gridcolor": "white",
             "linecolor": "white",
             "minorgridcolor": "white",
             "startlinecolor": "#2a3f5f"
            },
            "baxis": {
             "endlinecolor": "#2a3f5f",
             "gridcolor": "white",
             "linecolor": "white",
             "minorgridcolor": "white",
             "startlinecolor": "#2a3f5f"
            },
            "type": "carpet"
           }
          ],
          "choropleth": [
           {
            "colorbar": {
             "outlinewidth": 0,
             "ticks": ""
            },
            "type": "choropleth"
           }
          ],
          "contour": [
           {
            "colorbar": {
             "outlinewidth": 0,
             "ticks": ""
            },
            "colorscale": [
             [
              0,
              "#0d0887"
             ],
             [
              0.1111111111111111,
              "#46039f"
             ],
             [
              0.2222222222222222,
              "#7201a8"
             ],
             [
              0.3333333333333333,
              "#9c179e"
             ],
             [
              0.4444444444444444,
              "#bd3786"
             ],
             [
              0.5555555555555556,
              "#d8576b"
             ],
             [
              0.6666666666666666,
              "#ed7953"
             ],
             [
              0.7777777777777778,
              "#fb9f3a"
             ],
             [
              0.8888888888888888,
              "#fdca26"
             ],
             [
              1,
              "#f0f921"
             ]
            ],
            "type": "contour"
           }
          ],
          "contourcarpet": [
           {
            "colorbar": {
             "outlinewidth": 0,
             "ticks": ""
            },
            "type": "contourcarpet"
           }
          ],
          "heatmap": [
           {
            "colorbar": {
             "outlinewidth": 0,
             "ticks": ""
            },
            "colorscale": [
             [
              0,
              "#0d0887"
             ],
             [
              0.1111111111111111,
              "#46039f"
             ],
             [
              0.2222222222222222,
              "#7201a8"
             ],
             [
              0.3333333333333333,
              "#9c179e"
             ],
             [
              0.4444444444444444,
              "#bd3786"
             ],
             [
              0.5555555555555556,
              "#d8576b"
             ],
             [
              0.6666666666666666,
              "#ed7953"
             ],
             [
              0.7777777777777778,
              "#fb9f3a"
             ],
             [
              0.8888888888888888,
              "#fdca26"
             ],
             [
              1,
              "#f0f921"
             ]
            ],
            "type": "heatmap"
           }
          ],
          "heatmapgl": [
           {
            "colorbar": {
             "outlinewidth": 0,
             "ticks": ""
            },
            "colorscale": [
             [
              0,
              "#0d0887"
             ],
             [
              0.1111111111111111,
              "#46039f"
             ],
             [
              0.2222222222222222,
              "#7201a8"
             ],
             [
              0.3333333333333333,
              "#9c179e"
             ],
             [
              0.4444444444444444,
              "#bd3786"
             ],
             [
              0.5555555555555556,
              "#d8576b"
             ],
             [
              0.6666666666666666,
              "#ed7953"
             ],
             [
              0.7777777777777778,
              "#fb9f3a"
             ],
             [
              0.8888888888888888,
              "#fdca26"
             ],
             [
              1,
              "#f0f921"
             ]
            ],
            "type": "heatmapgl"
           }
          ],
          "histogram": [
           {
            "marker": {
             "pattern": {
              "fillmode": "overlay",
              "size": 10,
              "solidity": 0.2
             }
            },
            "type": "histogram"
           }
          ],
          "histogram2d": [
           {
            "colorbar": {
             "outlinewidth": 0,
             "ticks": ""
            },
            "colorscale": [
             [
              0,
              "#0d0887"
             ],
             [
              0.1111111111111111,
              "#46039f"
             ],
             [
              0.2222222222222222,
              "#7201a8"
             ],
             [
              0.3333333333333333,
              "#9c179e"
             ],
             [
              0.4444444444444444,
              "#bd3786"
             ],
             [
              0.5555555555555556,
              "#d8576b"
             ],
             [
              0.6666666666666666,
              "#ed7953"
             ],
             [
              0.7777777777777778,
              "#fb9f3a"
             ],
             [
              0.8888888888888888,
              "#fdca26"
             ],
             [
              1,
              "#f0f921"
             ]
            ],
            "type": "histogram2d"
           }
          ],
          "histogram2dcontour": [
           {
            "colorbar": {
             "outlinewidth": 0,
             "ticks": ""
            },
            "colorscale": [
             [
              0,
              "#0d0887"
             ],
             [
              0.1111111111111111,
              "#46039f"
             ],
             [
              0.2222222222222222,
              "#7201a8"
             ],
             [
              0.3333333333333333,
              "#9c179e"
             ],
             [
              0.4444444444444444,
              "#bd3786"
             ],
             [
              0.5555555555555556,
              "#d8576b"
             ],
             [
              0.6666666666666666,
              "#ed7953"
             ],
             [
              0.7777777777777778,
              "#fb9f3a"
             ],
             [
              0.8888888888888888,
              "#fdca26"
             ],
             [
              1,
              "#f0f921"
             ]
            ],
            "type": "histogram2dcontour"
           }
          ],
          "mesh3d": [
           {
            "colorbar": {
             "outlinewidth": 0,
             "ticks": ""
            },
            "type": "mesh3d"
           }
          ],
          "parcoords": [
           {
            "line": {
             "colorbar": {
              "outlinewidth": 0,
              "ticks": ""
             }
            },
            "type": "parcoords"
           }
          ],
          "pie": [
           {
            "automargin": true,
            "type": "pie"
           }
          ],
          "scatter": [
           {
            "fillpattern": {
             "fillmode": "overlay",
             "size": 10,
             "solidity": 0.2
            },
            "type": "scatter"
           }
          ],
          "scatter3d": [
           {
            "line": {
             "colorbar": {
              "outlinewidth": 0,
              "ticks": ""
             }
            },
            "marker": {
             "colorbar": {
              "outlinewidth": 0,
              "ticks": ""
             }
            },
            "type": "scatter3d"
           }
          ],
          "scattercarpet": [
           {
            "marker": {
             "colorbar": {
              "outlinewidth": 0,
              "ticks": ""
             }
            },
            "type": "scattercarpet"
           }
          ],
          "scattergeo": [
           {
            "marker": {
             "colorbar": {
              "outlinewidth": 0,
              "ticks": ""
             }
            },
            "type": "scattergeo"
           }
          ],
          "scattergl": [
           {
            "marker": {
             "colorbar": {
              "outlinewidth": 0,
              "ticks": ""
             }
            },
            "type": "scattergl"
           }
          ],
          "scattermapbox": [
           {
            "marker": {
             "colorbar": {
              "outlinewidth": 0,
              "ticks": ""
             }
            },
            "type": "scattermapbox"
           }
          ],
          "scatterpolar": [
           {
            "marker": {
             "colorbar": {
              "outlinewidth": 0,
              "ticks": ""
             }
            },
            "type": "scatterpolar"
           }
          ],
          "scatterpolargl": [
           {
            "marker": {
             "colorbar": {
              "outlinewidth": 0,
              "ticks": ""
             }
            },
            "type": "scatterpolargl"
           }
          ],
          "scatterternary": [
           {
            "marker": {
             "colorbar": {
              "outlinewidth": 0,
              "ticks": ""
             }
            },
            "type": "scatterternary"
           }
          ],
          "surface": [
           {
            "colorbar": {
             "outlinewidth": 0,
             "ticks": ""
            },
            "colorscale": [
             [
              0,
              "#0d0887"
             ],
             [
              0.1111111111111111,
              "#46039f"
             ],
             [
              0.2222222222222222,
              "#7201a8"
             ],
             [
              0.3333333333333333,
              "#9c179e"
             ],
             [
              0.4444444444444444,
              "#bd3786"
             ],
             [
              0.5555555555555556,
              "#d8576b"
             ],
             [
              0.6666666666666666,
              "#ed7953"
             ],
             [
              0.7777777777777778,
              "#fb9f3a"
             ],
             [
              0.8888888888888888,
              "#fdca26"
             ],
             [
              1,
              "#f0f921"
             ]
            ],
            "type": "surface"
           }
          ],
          "table": [
           {
            "cells": {
             "fill": {
              "color": "#EBF0F8"
             },
             "line": {
              "color": "white"
             }
            },
            "header": {
             "fill": {
              "color": "#C8D4E3"
             },
             "line": {
              "color": "white"
             }
            },
            "type": "table"
           }
          ]
         },
         "layout": {
          "annotationdefaults": {
           "arrowcolor": "#2a3f5f",
           "arrowhead": 0,
           "arrowwidth": 1
          },
          "autotypenumbers": "strict",
          "coloraxis": {
           "colorbar": {
            "outlinewidth": 0,
            "ticks": ""
           }
          },
          "colorscale": {
           "diverging": [
            [
             0,
             "#8e0152"
            ],
            [
             0.1,
             "#c51b7d"
            ],
            [
             0.2,
             "#de77ae"
            ],
            [
             0.3,
             "#f1b6da"
            ],
            [
             0.4,
             "#fde0ef"
            ],
            [
             0.5,
             "#f7f7f7"
            ],
            [
             0.6,
             "#e6f5d0"
            ],
            [
             0.7,
             "#b8e186"
            ],
            [
             0.8,
             "#7fbc41"
            ],
            [
             0.9,
             "#4d9221"
            ],
            [
             1,
             "#276419"
            ]
           ],
           "sequential": [
            [
             0,
             "#0d0887"
            ],
            [
             0.1111111111111111,
             "#46039f"
            ],
            [
             0.2222222222222222,
             "#7201a8"
            ],
            [
             0.3333333333333333,
             "#9c179e"
            ],
            [
             0.4444444444444444,
             "#bd3786"
            ],
            [
             0.5555555555555556,
             "#d8576b"
            ],
            [
             0.6666666666666666,
             "#ed7953"
            ],
            [
             0.7777777777777778,
             "#fb9f3a"
            ],
            [
             0.8888888888888888,
             "#fdca26"
            ],
            [
             1,
             "#f0f921"
            ]
           ],
           "sequentialminus": [
            [
             0,
             "#0d0887"
            ],
            [
             0.1111111111111111,
             "#46039f"
            ],
            [
             0.2222222222222222,
             "#7201a8"
            ],
            [
             0.3333333333333333,
             "#9c179e"
            ],
            [
             0.4444444444444444,
             "#bd3786"
            ],
            [
             0.5555555555555556,
             "#d8576b"
            ],
            [
             0.6666666666666666,
             "#ed7953"
            ],
            [
             0.7777777777777778,
             "#fb9f3a"
            ],
            [
             0.8888888888888888,
             "#fdca26"
            ],
            [
             1,
             "#f0f921"
            ]
           ]
          },
          "colorway": [
           "#636efa",
           "#EF553B",
           "#00cc96",
           "#ab63fa",
           "#FFA15A",
           "#19d3f3",
           "#FF6692",
           "#B6E880",
           "#FF97FF",
           "#FECB52"
          ],
          "font": {
           "color": "#2a3f5f"
          },
          "geo": {
           "bgcolor": "white",
           "lakecolor": "white",
           "landcolor": "#E5ECF6",
           "showlakes": true,
           "showland": true,
           "subunitcolor": "white"
          },
          "hoverlabel": {
           "align": "left"
          },
          "hovermode": "closest",
          "mapbox": {
           "style": "light"
          },
          "paper_bgcolor": "white",
          "plot_bgcolor": "#E5ECF6",
          "polar": {
           "angularaxis": {
            "gridcolor": "white",
            "linecolor": "white",
            "ticks": ""
           },
           "bgcolor": "#E5ECF6",
           "radialaxis": {
            "gridcolor": "white",
            "linecolor": "white",
            "ticks": ""
           }
          },
          "scene": {
           "xaxis": {
            "backgroundcolor": "#E5ECF6",
            "gridcolor": "white",
            "gridwidth": 2,
            "linecolor": "white",
            "showbackground": true,
            "ticks": "",
            "zerolinecolor": "white"
           },
           "yaxis": {
            "backgroundcolor": "#E5ECF6",
            "gridcolor": "white",
            "gridwidth": 2,
            "linecolor": "white",
            "showbackground": true,
            "ticks": "",
            "zerolinecolor": "white"
           },
           "zaxis": {
            "backgroundcolor": "#E5ECF6",
            "gridcolor": "white",
            "gridwidth": 2,
            "linecolor": "white",
            "showbackground": true,
            "ticks": "",
            "zerolinecolor": "white"
           }
          },
          "shapedefaults": {
           "line": {
            "color": "#2a3f5f"
           }
          },
          "ternary": {
           "aaxis": {
            "gridcolor": "white",
            "linecolor": "white",
            "ticks": ""
           },
           "baxis": {
            "gridcolor": "white",
            "linecolor": "white",
            "ticks": ""
           },
           "bgcolor": "#E5ECF6",
           "caxis": {
            "gridcolor": "white",
            "linecolor": "white",
            "ticks": ""
           }
          },
          "title": {
           "x": 0.05
          },
          "xaxis": {
           "automargin": true,
           "gridcolor": "white",
           "linecolor": "white",
           "ticks": "",
           "title": {
            "standoff": 15
           },
           "zerolinecolor": "white",
           "zerolinewidth": 2
          },
          "yaxis": {
           "automargin": true,
           "gridcolor": "white",
           "linecolor": "white",
           "ticks": "",
           "title": {
            "standoff": 15
           },
           "zerolinecolor": "white",
           "zerolinewidth": 2
          }
         }
        },
        "title": {
         "text": "Letter frequency"
        },
        "width": 1000,
        "xaxis": {
         "anchor": "y",
         "domain": [
          0,
          1
         ]
        },
        "xaxis2": {
         "anchor": "y2",
         "domain": [
          0,
          1
         ]
        },
        "xaxis3": {
         "anchor": "y3",
         "domain": [
          0,
          1
         ]
        },
        "xaxis4": {
         "anchor": "y4",
         "domain": [
          0,
          1
         ]
        },
        "xaxis5": {
         "anchor": "y5",
         "domain": [
          0,
          1
         ]
        },
        "xaxis6": {
         "anchor": "y6",
         "domain": [
          0,
          1
         ]
        },
        "yaxis": {
         "anchor": "x",
         "domain": [
          0.875,
          1
         ],
         "title": {
          "text": "p0"
         }
        },
        "yaxis2": {
         "anchor": "x2",
         "domain": [
          0.7,
          0.825
         ],
         "title": {
          "text": "p1"
         }
        },
        "yaxis3": {
         "anchor": "x3",
         "domain": [
          0.525,
          0.65
         ],
         "title": {
          "text": "p2"
         }
        },
        "yaxis4": {
         "anchor": "x4",
         "domain": [
          0.35,
          0.475
         ],
         "title": {
          "text": "p3"
         }
        },
        "yaxis5": {
         "anchor": "x5",
         "domain": [
          0.175,
          0.3
         ],
         "title": {
          "text": "p4"
         }
        },
        "yaxis6": {
         "anchor": "x6",
         "domain": [
          0,
          0.125
         ],
         "title": {
          "text": "Total"
         }
        }
       }
      }
     },
     "metadata": {},
     "output_type": "display_data"
    }
   ],
   "source": [
    "# Ploting Bars\n",
    "\n",
    "# Creating figure\n",
    "fig = sp.make_subplots(\n",
    "    rows=NUMBER_OF_ELEMENTS + 1, \n",
    "    cols=1,\n",
    ")\n",
    "\n",
    "# Creating a trace for each position\n",
    "for i, position in enumerate(df[\"positions\"].columns):\n",
    "\n",
    "    # Sorting the data\n",
    "    df_temp = df_freq_count.sort_values(by=position, ascending=False)\n",
    "\n",
    "    # Creating the trace\n",
    "    fig.add_trace(\n",
    "        go.Bar(\n",
    "            x=df_temp.index,\n",
    "            y=df_temp[position] / len(df),\n",
    "            name=position,\n",
    "        ),\n",
    "        row=i+1,\n",
    "        col=1,\n",
    "    )\n",
    "\n",
    "# Creating a trace for the \"Total\"\n",
    "df_freq_count = df_freq_count.sort_values(by=\"total\", ascending=False)\n",
    "\n",
    "fig.add_trace(\n",
    "    go.Bar(\n",
    "        x=df_freq_count.index,\n",
    "        y=df_freq_count[\"total\"] / len(df),\n",
    "        name=\"Total\",\n",
    "    ),\n",
    "    row=NUMBER_OF_ELEMENTS + 1,\n",
    "    col=1,\n",
    ")\n",
    "\n",
    "titles_positions = {f\"yaxis{i + 1}_title\": position for i, position in enumerate(df[\"positions\"].columns)}\n",
    "title_total = {f\"yaxis{NUMBER_OF_ELEMENTS + 1}_title\": \"Total\"}\n",
    "\n",
    "# Updating the layout\n",
    "fig.update_layout(\n",
    "    title=\"Letter frequency\",\n",
    "    height=800,\n",
    "    width=1000,\n",
    "    showlegend=False,\n",
    "    **titles_positions,\n",
    ")\n",
    "\n",
    "fig.update_layout(\n",
    "    **title_total,\n",
    ")\n",
    "\n",
    "# Showing the figure\n",
    "fig.show()"
   ]
  },
  {
   "cell_type": "markdown",
   "metadata": {},
   "source": [
    "# Correlating letters"
   ]
  },
  {
   "cell_type": "code",
   "execution_count": 17,
   "metadata": {},
   "outputs": [
    {
     "data": {
      "text/html": [
       "<div>\n",
       "<style scoped>\n",
       "    .dataframe tbody tr th:only-of-type {\n",
       "        vertical-align: middle;\n",
       "    }\n",
       "\n",
       "    .dataframe tbody tr th {\n",
       "        vertical-align: top;\n",
       "    }\n",
       "\n",
       "    .dataframe thead th {\n",
       "        text-align: right;\n",
       "    }\n",
       "</style>\n",
       "<table border=\"1\" class=\"dataframe\">\n",
       "  <thead>\n",
       "    <tr style=\"text-align: right;\">\n",
       "      <th></th>\n",
       "      <th>a</th>\n",
       "      <th>b</th>\n",
       "      <th>c</th>\n",
       "      <th>d</th>\n",
       "      <th>e</th>\n",
       "      <th>f</th>\n",
       "      <th>g</th>\n",
       "      <th>h</th>\n",
       "      <th>i</th>\n",
       "      <th>j</th>\n",
       "      <th>k</th>\n",
       "      <th>l</th>\n",
       "      <th>m</th>\n",
       "      <th>n</th>\n",
       "      <th>o</th>\n",
       "      <th>p</th>\n",
       "      <th>q</th>\n",
       "      <th>r</th>\n",
       "      <th>s</th>\n",
       "      <th>t</th>\n",
       "      <th>u</th>\n",
       "      <th>v</th>\n",
       "      <th>w</th>\n",
       "      <th>x</th>\n",
       "      <th>y</th>\n",
       "      <th>z</th>\n",
       "    </tr>\n",
       "  </thead>\n",
       "  <tbody>\n",
       "    <tr>\n",
       "      <th>a</th>\n",
       "      <td>1.000000</td>\n",
       "      <td>0.038622</td>\n",
       "      <td>0.040860</td>\n",
       "      <td>-0.016704</td>\n",
       "      <td>-0.354524</td>\n",
       "      <td>-0.017608</td>\n",
       "      <td>0.038084</td>\n",
       "      <td>-0.024120</td>\n",
       "      <td>-0.156813</td>\n",
       "      <td>-0.030672</td>\n",
       "      <td>NaN</td>\n",
       "      <td>0.027285</td>\n",
       "      <td>-0.010788</td>\n",
       "      <td>-0.056476</td>\n",
       "      <td>-0.445665</td>\n",
       "      <td>0.005122</td>\n",
       "      <td>-0.032781</td>\n",
       "      <td>-0.007096</td>\n",
       "      <td>-0.067992</td>\n",
       "      <td>-0.090581</td>\n",
       "      <td>-0.154444</td>\n",
       "      <td>-0.029131</td>\n",
       "      <td>NaN</td>\n",
       "      <td>0.005284</td>\n",
       "      <td>NaN</td>\n",
       "      <td>0.010453</td>\n",
       "    </tr>\n",
       "    <tr>\n",
       "      <th>b</th>\n",
       "      <td>0.038622</td>\n",
       "      <td>1.000000</td>\n",
       "      <td>-0.064667</td>\n",
       "      <td>-0.079466</td>\n",
       "      <td>-0.053544</td>\n",
       "      <td>-0.070575</td>\n",
       "      <td>-0.077884</td>\n",
       "      <td>-0.022337</td>\n",
       "      <td>-0.034799</td>\n",
       "      <td>-0.018288</td>\n",
       "      <td>NaN</td>\n",
       "      <td>-0.024368</td>\n",
       "      <td>-0.025483</td>\n",
       "      <td>-0.072923</td>\n",
       "      <td>0.012029</td>\n",
       "      <td>-0.111652</td>\n",
       "      <td>0.001056</td>\n",
       "      <td>-0.005122</td>\n",
       "      <td>-0.063050</td>\n",
       "      <td>-0.105618</td>\n",
       "      <td>-0.008582</td>\n",
       "      <td>-0.074438</td>\n",
       "      <td>NaN</td>\n",
       "      <td>-0.012213</td>\n",
       "      <td>NaN</td>\n",
       "      <td>-0.040677</td>\n",
       "    </tr>\n",
       "    <tr>\n",
       "      <th>c</th>\n",
       "      <td>0.040860</td>\n",
       "      <td>-0.064667</td>\n",
       "      <td>1.000000</td>\n",
       "      <td>-0.127507</td>\n",
       "      <td>-0.084984</td>\n",
       "      <td>-0.047528</td>\n",
       "      <td>-0.143577</td>\n",
       "      <td>0.062638</td>\n",
       "      <td>-0.060022</td>\n",
       "      <td>-0.053576</td>\n",
       "      <td>NaN</td>\n",
       "      <td>-0.025578</td>\n",
       "      <td>-0.120358</td>\n",
       "      <td>-0.071795</td>\n",
       "      <td>0.057059</td>\n",
       "      <td>-0.045966</td>\n",
       "      <td>-0.025945</td>\n",
       "      <td>-0.077505</td>\n",
       "      <td>-0.095219</td>\n",
       "      <td>-0.110809</td>\n",
       "      <td>-0.029247</td>\n",
       "      <td>-0.077065</td>\n",
       "      <td>NaN</td>\n",
       "      <td>-0.047256</td>\n",
       "      <td>NaN</td>\n",
       "      <td>-0.058780</td>\n",
       "    </tr>\n",
       "    <tr>\n",
       "      <th>d</th>\n",
       "      <td>-0.016704</td>\n",
       "      <td>-0.079466</td>\n",
       "      <td>-0.127507</td>\n",
       "      <td>1.000000</td>\n",
       "      <td>0.031372</td>\n",
       "      <td>-0.065490</td>\n",
       "      <td>-0.074445</td>\n",
       "      <td>-0.079595</td>\n",
       "      <td>0.034973</td>\n",
       "      <td>-0.050630</td>\n",
       "      <td>NaN</td>\n",
       "      <td>-0.079798</td>\n",
       "      <td>-0.061425</td>\n",
       "      <td>-0.019531</td>\n",
       "      <td>0.017592</td>\n",
       "      <td>-0.055762</td>\n",
       "      <td>0.029467</td>\n",
       "      <td>-0.058781</td>\n",
       "      <td>-0.062479</td>\n",
       "      <td>-0.141491</td>\n",
       "      <td>0.008293</td>\n",
       "      <td>-0.065751</td>\n",
       "      <td>NaN</td>\n",
       "      <td>-0.034118</td>\n",
       "      <td>NaN</td>\n",
       "      <td>-0.029293</td>\n",
       "    </tr>\n",
       "    <tr>\n",
       "      <th>e</th>\n",
       "      <td>-0.354524</td>\n",
       "      <td>-0.053544</td>\n",
       "      <td>-0.084984</td>\n",
       "      <td>0.031372</td>\n",
       "      <td>1.000000</td>\n",
       "      <td>-0.037055</td>\n",
       "      <td>-0.014019</td>\n",
       "      <td>-0.056486</td>\n",
       "      <td>-0.147378</td>\n",
       "      <td>-0.036937</td>\n",
       "      <td>NaN</td>\n",
       "      <td>-0.041901</td>\n",
       "      <td>-0.017711</td>\n",
       "      <td>0.022715</td>\n",
       "      <td>-0.248680</td>\n",
       "      <td>-0.005084</td>\n",
       "      <td>0.050261</td>\n",
       "      <td>0.027523</td>\n",
       "      <td>-0.022231</td>\n",
       "      <td>0.067225</td>\n",
       "      <td>-0.144856</td>\n",
       "      <td>0.045627</td>\n",
       "      <td>NaN</td>\n",
       "      <td>0.039334</td>\n",
       "      <td>NaN</td>\n",
       "      <td>0.011033</td>\n",
       "    </tr>\n",
       "    <tr>\n",
       "      <th>...</th>\n",
       "      <td>...</td>\n",
       "      <td>...</td>\n",
       "      <td>...</td>\n",
       "      <td>...</td>\n",
       "      <td>...</td>\n",
       "      <td>...</td>\n",
       "      <td>...</td>\n",
       "      <td>...</td>\n",
       "      <td>...</td>\n",
       "      <td>...</td>\n",
       "      <td>...</td>\n",
       "      <td>...</td>\n",
       "      <td>...</td>\n",
       "      <td>...</td>\n",
       "      <td>...</td>\n",
       "      <td>...</td>\n",
       "      <td>...</td>\n",
       "      <td>...</td>\n",
       "      <td>...</td>\n",
       "      <td>...</td>\n",
       "      <td>...</td>\n",
       "      <td>...</td>\n",
       "      <td>...</td>\n",
       "      <td>...</td>\n",
       "      <td>...</td>\n",
       "      <td>...</td>\n",
       "    </tr>\n",
       "    <tr>\n",
       "      <th>v</th>\n",
       "      <td>-0.029131</td>\n",
       "      <td>-0.074438</td>\n",
       "      <td>-0.077065</td>\n",
       "      <td>-0.065751</td>\n",
       "      <td>0.045627</td>\n",
       "      <td>-0.088365</td>\n",
       "      <td>-0.057678</td>\n",
       "      <td>-0.015800</td>\n",
       "      <td>0.054172</td>\n",
       "      <td>-0.040867</td>\n",
       "      <td>NaN</td>\n",
       "      <td>0.019214</td>\n",
       "      <td>-0.115039</td>\n",
       "      <td>-0.045212</td>\n",
       "      <td>-0.027060</td>\n",
       "      <td>-0.081042</td>\n",
       "      <td>-0.036535</td>\n",
       "      <td>-0.009660</td>\n",
       "      <td>-0.029228</td>\n",
       "      <td>-0.104122</td>\n",
       "      <td>-0.068914</td>\n",
       "      <td>1.000000</td>\n",
       "      <td>NaN</td>\n",
       "      <td>-0.051979</td>\n",
       "      <td>NaN</td>\n",
       "      <td>0.033412</td>\n",
       "    </tr>\n",
       "    <tr>\n",
       "      <th>w</th>\n",
       "      <td>NaN</td>\n",
       "      <td>NaN</td>\n",
       "      <td>NaN</td>\n",
       "      <td>NaN</td>\n",
       "      <td>NaN</td>\n",
       "      <td>NaN</td>\n",
       "      <td>NaN</td>\n",
       "      <td>NaN</td>\n",
       "      <td>NaN</td>\n",
       "      <td>NaN</td>\n",
       "      <td>NaN</td>\n",
       "      <td>NaN</td>\n",
       "      <td>NaN</td>\n",
       "      <td>NaN</td>\n",
       "      <td>NaN</td>\n",
       "      <td>NaN</td>\n",
       "      <td>NaN</td>\n",
       "      <td>NaN</td>\n",
       "      <td>NaN</td>\n",
       "      <td>NaN</td>\n",
       "      <td>NaN</td>\n",
       "      <td>NaN</td>\n",
       "      <td>NaN</td>\n",
       "      <td>NaN</td>\n",
       "      <td>NaN</td>\n",
       "      <td>NaN</td>\n",
       "    </tr>\n",
       "    <tr>\n",
       "      <th>x</th>\n",
       "      <td>0.005284</td>\n",
       "      <td>-0.012213</td>\n",
       "      <td>-0.047256</td>\n",
       "      <td>-0.034118</td>\n",
       "      <td>0.039334</td>\n",
       "      <td>0.031098</td>\n",
       "      <td>-0.035697</td>\n",
       "      <td>-0.035884</td>\n",
       "      <td>0.017810</td>\n",
       "      <td>-0.025252</td>\n",
       "      <td>NaN</td>\n",
       "      <td>-0.039020</td>\n",
       "      <td>-0.031791</td>\n",
       "      <td>-0.059533</td>\n",
       "      <td>-0.013796</td>\n",
       "      <td>0.012007</td>\n",
       "      <td>-0.016973</td>\n",
       "      <td>-0.044288</td>\n",
       "      <td>-0.052669</td>\n",
       "      <td>0.004601</td>\n",
       "      <td>-0.005905</td>\n",
       "      <td>-0.051979</td>\n",
       "      <td>NaN</td>\n",
       "      <td>1.000000</td>\n",
       "      <td>NaN</td>\n",
       "      <td>-0.028302</td>\n",
       "    </tr>\n",
       "    <tr>\n",
       "      <th>y</th>\n",
       "      <td>NaN</td>\n",
       "      <td>NaN</td>\n",
       "      <td>NaN</td>\n",
       "      <td>NaN</td>\n",
       "      <td>NaN</td>\n",
       "      <td>NaN</td>\n",
       "      <td>NaN</td>\n",
       "      <td>NaN</td>\n",
       "      <td>NaN</td>\n",
       "      <td>NaN</td>\n",
       "      <td>NaN</td>\n",
       "      <td>NaN</td>\n",
       "      <td>NaN</td>\n",
       "      <td>NaN</td>\n",
       "      <td>NaN</td>\n",
       "      <td>NaN</td>\n",
       "      <td>NaN</td>\n",
       "      <td>NaN</td>\n",
       "      <td>NaN</td>\n",
       "      <td>NaN</td>\n",
       "      <td>NaN</td>\n",
       "      <td>NaN</td>\n",
       "      <td>NaN</td>\n",
       "      <td>NaN</td>\n",
       "      <td>NaN</td>\n",
       "      <td>NaN</td>\n",
       "    </tr>\n",
       "    <tr>\n",
       "      <th>z</th>\n",
       "      <td>0.010453</td>\n",
       "      <td>-0.040677</td>\n",
       "      <td>-0.058780</td>\n",
       "      <td>-0.029293</td>\n",
       "      <td>0.011033</td>\n",
       "      <td>0.006670</td>\n",
       "      <td>-0.011795</td>\n",
       "      <td>-0.042057</td>\n",
       "      <td>0.000940</td>\n",
       "      <td>0.014175</td>\n",
       "      <td>NaN</td>\n",
       "      <td>-0.036120</td>\n",
       "      <td>-0.068930</td>\n",
       "      <td>-0.000460</td>\n",
       "      <td>-0.050723</td>\n",
       "      <td>-0.004214</td>\n",
       "      <td>-0.019893</td>\n",
       "      <td>-0.004195</td>\n",
       "      <td>-0.070925</td>\n",
       "      <td>-0.067500</td>\n",
       "      <td>-0.005357</td>\n",
       "      <td>0.033412</td>\n",
       "      <td>NaN</td>\n",
       "      <td>-0.028302</td>\n",
       "      <td>NaN</td>\n",
       "      <td>1.000000</td>\n",
       "    </tr>\n",
       "  </tbody>\n",
       "</table>\n",
       "<p>26 rows × 26 columns</p>\n",
       "</div>"
      ],
      "text/plain": [
       "           a         b         c         d         e         f         g  \\\n",
       "a   1.000000  0.038622  0.040860 -0.016704 -0.354524 -0.017608  0.038084   \n",
       "b   0.038622  1.000000 -0.064667 -0.079466 -0.053544 -0.070575 -0.077884   \n",
       "c   0.040860 -0.064667  1.000000 -0.127507 -0.084984 -0.047528 -0.143577   \n",
       "d  -0.016704 -0.079466 -0.127507  1.000000  0.031372 -0.065490 -0.074445   \n",
       "e  -0.354524 -0.053544 -0.084984  0.031372  1.000000 -0.037055 -0.014019   \n",
       "..       ...       ...       ...       ...       ...       ...       ...   \n",
       "v  -0.029131 -0.074438 -0.077065 -0.065751  0.045627 -0.088365 -0.057678   \n",
       "w        NaN       NaN       NaN       NaN       NaN       NaN       NaN   \n",
       "x   0.005284 -0.012213 -0.047256 -0.034118  0.039334  0.031098 -0.035697   \n",
       "y        NaN       NaN       NaN       NaN       NaN       NaN       NaN   \n",
       "z   0.010453 -0.040677 -0.058780 -0.029293  0.011033  0.006670 -0.011795   \n",
       "\n",
       "           h         i         j   k         l         m         n         o  \\\n",
       "a  -0.024120 -0.156813 -0.030672 NaN  0.027285 -0.010788 -0.056476 -0.445665   \n",
       "b  -0.022337 -0.034799 -0.018288 NaN -0.024368 -0.025483 -0.072923  0.012029   \n",
       "c   0.062638 -0.060022 -0.053576 NaN -0.025578 -0.120358 -0.071795  0.057059   \n",
       "d  -0.079595  0.034973 -0.050630 NaN -0.079798 -0.061425 -0.019531  0.017592   \n",
       "e  -0.056486 -0.147378 -0.036937 NaN -0.041901 -0.017711  0.022715 -0.248680   \n",
       "..       ...       ...       ...  ..       ...       ...       ...       ...   \n",
       "v  -0.015800  0.054172 -0.040867 NaN  0.019214 -0.115039 -0.045212 -0.027060   \n",
       "w        NaN       NaN       NaN NaN       NaN       NaN       NaN       NaN   \n",
       "x  -0.035884  0.017810 -0.025252 NaN -0.039020 -0.031791 -0.059533 -0.013796   \n",
       "y        NaN       NaN       NaN NaN       NaN       NaN       NaN       NaN   \n",
       "z  -0.042057  0.000940  0.014175 NaN -0.036120 -0.068930 -0.000460 -0.050723   \n",
       "\n",
       "           p         q         r         s         t         u         v   w  \\\n",
       "a   0.005122 -0.032781 -0.007096 -0.067992 -0.090581 -0.154444 -0.029131 NaN   \n",
       "b  -0.111652  0.001056 -0.005122 -0.063050 -0.105618 -0.008582 -0.074438 NaN   \n",
       "c  -0.045966 -0.025945 -0.077505 -0.095219 -0.110809 -0.029247 -0.077065 NaN   \n",
       "d  -0.055762  0.029467 -0.058781 -0.062479 -0.141491  0.008293 -0.065751 NaN   \n",
       "e  -0.005084  0.050261  0.027523 -0.022231  0.067225 -0.144856  0.045627 NaN   \n",
       "..       ...       ...       ...       ...       ...       ...       ...  ..   \n",
       "v  -0.081042 -0.036535 -0.009660 -0.029228 -0.104122 -0.068914  1.000000 NaN   \n",
       "w        NaN       NaN       NaN       NaN       NaN       NaN       NaN NaN   \n",
       "x   0.012007 -0.016973 -0.044288 -0.052669  0.004601 -0.005905 -0.051979 NaN   \n",
       "y        NaN       NaN       NaN       NaN       NaN       NaN       NaN NaN   \n",
       "z  -0.004214 -0.019893 -0.004195 -0.070925 -0.067500 -0.005357  0.033412 NaN   \n",
       "\n",
       "           x   y         z  \n",
       "a   0.005284 NaN  0.010453  \n",
       "b  -0.012213 NaN -0.040677  \n",
       "c  -0.047256 NaN -0.058780  \n",
       "d  -0.034118 NaN -0.029293  \n",
       "e   0.039334 NaN  0.011033  \n",
       "..       ...  ..       ...  \n",
       "v  -0.051979 NaN  0.033412  \n",
       "w        NaN NaN       NaN  \n",
       "x   1.000000 NaN -0.028302  \n",
       "y        NaN NaN       NaN  \n",
       "z  -0.028302 NaN  1.000000  \n",
       "\n",
       "[26 rows x 26 columns]"
      ]
     },
     "execution_count": 17,
     "metadata": {},
     "output_type": "execute_result"
    }
   ],
   "source": [
    "df_letters_corr = df[\"letters\"].corr()\n",
    "df_letters_corr"
   ]
  },
  {
   "cell_type": "code",
   "execution_count": 18,
   "metadata": {},
   "outputs": [
    {
     "data": {
      "application/vnd.plotly.v1+json": {
       "config": {
        "plotlyServerURL": "https://plot.ly"
       },
       "data": [
        {
         "colorscale": [
          [
           0,
           "rgb(12,51,131)"
          ],
          [
           0.25,
           "rgb(10,136,186)"
          ],
          [
           0.5,
           "rgb(242,211,56)"
          ],
          [
           0.75,
           "rgb(242,143,56)"
          ],
          [
           1,
           "rgb(217,30,30)"
          ]
         ],
         "type": "heatmap",
         "x": [
          "a",
          "b",
          "c",
          "d",
          "e",
          "f",
          "g",
          "h",
          "i",
          "j",
          "k",
          "l",
          "m",
          "n",
          "o",
          "p",
          "q",
          "r",
          "s",
          "t",
          "u",
          "v",
          "w",
          "x",
          "y",
          "z"
         ],
         "y": [
          "a",
          "b",
          "c",
          "d",
          "e",
          "f",
          "g",
          "h",
          "i",
          "j",
          "k",
          "l",
          "m",
          "n",
          "o",
          "p",
          "q",
          "r",
          "s",
          "t",
          "u",
          "v",
          "w",
          "x",
          "y",
          "z"
         ],
         "z": [
          [
           null,
           null,
           null,
           null,
           null,
           null,
           null,
           null,
           null,
           null,
           null,
           null,
           null,
           null,
           null,
           null,
           null,
           null,
           null,
           null,
           null,
           null,
           null,
           null,
           null,
           null
          ],
          [
           0.038621655740000774,
           null,
           null,
           null,
           null,
           null,
           null,
           null,
           null,
           null,
           null,
           null,
           null,
           null,
           null,
           null,
           null,
           null,
           null,
           null,
           null,
           null,
           null,
           null,
           null,
           null
          ],
          [
           0.04085990071015454,
           -0.06466702450291453,
           null,
           null,
           null,
           null,
           null,
           null,
           null,
           null,
           null,
           null,
           null,
           null,
           null,
           null,
           null,
           null,
           null,
           null,
           null,
           null,
           null,
           null,
           null,
           null
          ],
          [
           -0.016704416919462173,
           -0.07946604912733599,
           -0.12750722935869416,
           null,
           null,
           null,
           null,
           null,
           null,
           null,
           null,
           null,
           null,
           null,
           null,
           null,
           null,
           null,
           null,
           null,
           null,
           null,
           null,
           null,
           null,
           null
          ],
          [
           -0.35452433313376186,
           -0.05354365271950328,
           -0.08498377218263654,
           0.03137193996662643,
           null,
           null,
           null,
           null,
           null,
           null,
           null,
           null,
           null,
           null,
           null,
           null,
           null,
           null,
           null,
           null,
           null,
           null,
           null,
           null,
           null,
           null
          ],
          [
           -0.01760796147978053,
           -0.07057478084617662,
           -0.04752829667341078,
           -0.06549010695620254,
           -0.03705506357839258,
           null,
           null,
           null,
           null,
           null,
           null,
           null,
           null,
           null,
           null,
           null,
           null,
           null,
           null,
           null,
           null,
           null,
           null,
           null,
           null,
           null
          ],
          [
           0.03808400172748655,
           -0.0778839840250233,
           -0.1435765425300359,
           -0.07444450961214309,
           -0.014019122349123041,
           -0.030499657072430134,
           null,
           null,
           null,
           null,
           null,
           null,
           null,
           null,
           null,
           null,
           null,
           null,
           null,
           null,
           null,
           null,
           null,
           null,
           null,
           null
          ],
          [
           -0.02412049604879008,
           -0.022336510262893322,
           0.06263801045770094,
           -0.079594661798411,
           -0.056486167280796314,
           -0.005830486565725627,
           -0.054563607280905986,
           null,
           null,
           null,
           null,
           null,
           null,
           null,
           null,
           null,
           null,
           null,
           null,
           null,
           null,
           null,
           null,
           null,
           null,
           null
          ],
          [
           -0.1568125576724737,
           -0.0347991294747441,
           -0.06002233987494172,
           0.034972552275247606,
           -0.14737772822442385,
           0.018042222377986732,
           -0.031979531375029326,
           0.014925476868735412,
           null,
           null,
           null,
           null,
           null,
           null,
           null,
           null,
           null,
           null,
           null,
           null,
           null,
           null,
           null,
           null,
           null,
           null
          ],
          [
           -0.03067159177320656,
           -0.01828757772072425,
           -0.05357632856384957,
           -0.05062985838763764,
           -0.03693706582917301,
           -0.05050633136055209,
           -0.01215430815059457,
           0.00048766721344656685,
           -0.039647909520368396,
           null,
           null,
           null,
           null,
           null,
           null,
           null,
           null,
           null,
           null,
           null,
           null,
           null,
           null,
           null,
           null,
           null
          ],
          [
           null,
           null,
           null,
           null,
           null,
           null,
           null,
           null,
           null,
           null,
           null,
           null,
           null,
           null,
           null,
           null,
           null,
           null,
           null,
           null,
           null,
           null,
           null,
           null,
           null,
           null
          ],
          [
           0.027285219912703548,
           -0.024368157772096635,
           -0.025577630738177422,
           -0.07979812658591202,
           -0.04190056513166252,
           -0.022160126997323636,
           -0.028058952136568706,
           0.05712606184262831,
           -0.0003169265033910101,
           -0.056429254445970446,
           null,
           null,
           null,
           null,
           null,
           null,
           null,
           null,
           null,
           null,
           null,
           null,
           null,
           null,
           null,
           null
          ],
          [
           -0.010788303034813398,
           -0.02548335174147653,
           -0.12035830679658649,
           -0.06142470021375238,
           -0.01771095097464896,
           -0.07821380294297026,
           -0.0072970561498523516,
           -0.026614995559426795,
           0.028156986499593313,
           -0.016692749617159577,
           null,
           -0.07273301041450059,
           null,
           null,
           null,
           null,
           null,
           null,
           null,
           null,
           null,
           null,
           null,
           null,
           null,
           null
          ],
          [
           -0.05647564283772334,
           -0.07292342667279739,
           -0.07179540305703973,
           -0.019530856740233384,
           0.02271540955649418,
           -0.050838346602409414,
           0.005350369774085698,
           0.06225473846544418,
           0.02301473781966639,
           0.02044006968781103,
           null,
           -0.08467999916128822,
           -0.062451231395541,
           null,
           null,
           null,
           null,
           null,
           null,
           null,
           null,
           null,
           null,
           null,
           null,
           null
          ],
          [
           -0.4456647350698953,
           0.012028739548061848,
           0.057058953431487154,
           0.017591932957130515,
           -0.24867978171946273,
           -0.012544233935267868,
           -0.012554368600940138,
           -0.004308210938270542,
           -0.1524334190644557,
           0.0268603823991682,
           null,
           -0.050874947201084576,
           -0.020612928007383364,
           -0.017811378813706723,
           null,
           null,
           null,
           null,
           null,
           null,
           null,
           null,
           null,
           null,
           null,
           null
          ],
          [
           0.005121676745287144,
           -0.11165183574060422,
           -0.04596585016165391,
           -0.05576207018723659,
           -0.005084183854165396,
           -0.11372476588085458,
           -0.0583364654545978,
           -0.04209539173209328,
           -0.04999474037477752,
           -0.0663939183680458,
           null,
           -0.04929499713831553,
           -0.02463083654608414,
           -0.06626929254072969,
           0.0015644138523464592,
           null,
           null,
           null,
           null,
           null,
           null,
           null,
           null,
           null,
           null,
           null
          ],
          [
           -0.03278097218625215,
           0.001056306166547663,
           -0.02594495366280121,
           0.029466588579783275,
           0.05026060432265293,
           -0.0339479267797034,
           -0.03556600333009475,
           -0.025221838152336494,
           0.05236752680979664,
           -0.017748703073429975,
           null,
           -0.027426503298732773,
           -0.04690451750215476,
           -0.03372557937001561,
           -0.07637753039171719,
           -0.044626798634130514,
           null,
           null,
           null,
           null,
           null,
           null,
           null,
           null,
           null,
           null
          ],
          [
           -0.007095782423486605,
           -0.005122463433054912,
           -0.07750498240167444,
           -0.058781359654720255,
           0.027522547384404347,
           0.01736627266189006,
           0.018546186553885173,
           -0.11674772848746247,
           -0.1411953470296297,
           -0.02271754860201418,
           null,
           -0.2014503546459723,
           -0.09167131974397062,
           -0.23436746612459627,
           -0.08614756548552024,
           -0.014909743892608317,
           -0.09029119717001995,
           null,
           null,
           null,
           null,
           null,
           null,
           null,
           null,
           null
          ],
          [
           -0.06799179445635066,
           -0.06305028608401109,
           -0.09521898443517196,
           -0.06247940892950629,
           -0.022231018552733614,
           -0.0422749437361489,
           -0.09001506048341588,
           -0.08850946371045834,
           -0.056222342591344204,
           -0.01414704222751909,
           null,
           -0.1105178349935775,
           -0.0853257292333361,
           -0.07780939420501161,
           0.04289667479803638,
           -0.08672381373960135,
           -0.019037960448216543,
           -0.22322514381028838,
           null,
           null,
           null,
           null,
           null,
           null,
           null,
           null
          ],
          [
           -0.09058109945041622,
           -0.10561801572712193,
           -0.11080882983666746,
           -0.14149102260836433,
           0.06722506404536932,
           -0.08031696014390464,
           -0.10363054748565474,
           -0.05706844948136375,
           -0.06740225349861423,
           -0.025194390053937216,
           null,
           -0.10319801108065813,
           -0.061279157996283716,
           0.009412606903091682,
           0.025380468356396547,
           -0.06504525978247147,
           -0.03157015746561247,
           -0.06978964400300779,
           -0.04484093780052886,
           null,
           null,
           null,
           null,
           null,
           null,
           null
          ],
          [
           -0.15444430676965928,
           -0.008581891460340926,
           -0.02924674354402783,
           0.008293037595941853,
           -0.14485573222692116,
           0.01886751652178239,
           -0.036635967393426776,
           -0.01556262355129294,
           -0.10254407576153252,
           0.09635264843362028,
           null,
           -0.024078948511887122,
           -0.015811981452825426,
           -0.05173290750128694,
           -0.11632389224033823,
           -0.05158016867445885,
           0.23023707665669996,
           -0.04453347466717271,
           0.00298110358909354,
           -0.02754862768567542,
           null,
           null,
           null,
           null,
           null,
           null
          ],
          [
           -0.029131207141444328,
           -0.07443787699809651,
           -0.07706464186699843,
           -0.065751186245885,
           0.04562700217615441,
           -0.08836507136670259,
           -0.05767825790924984,
           -0.01580042128657168,
           0.054172042817612995,
           -0.04086663120658689,
           null,
           0.01921390365652816,
           -0.11503930380225025,
           -0.04521204127722536,
           -0.027059834570134746,
           -0.08104240685152303,
           -0.03653466272437889,
           -0.009659521416325225,
           -0.02922825914487243,
           -0.10412213044452168,
           -0.06891386257196215,
           null,
           null,
           null,
           null,
           null
          ],
          [
           null,
           null,
           null,
           null,
           null,
           null,
           null,
           null,
           null,
           null,
           null,
           null,
           null,
           null,
           null,
           null,
           null,
           null,
           null,
           null,
           null,
           null,
           null,
           null,
           null,
           null
          ],
          [
           0.005284056356328704,
           -0.01221290150269372,
           -0.04725609279024251,
           -0.03411835738195861,
           0.039334450474458604,
           0.031097854298135334,
           -0.035697441578139685,
           -0.03588375122298104,
           0.01781033769486811,
           -0.025251531699267554,
           null,
           -0.03902038445190891,
           -0.03179110873965185,
           -0.05953322373690466,
           -0.013795583281248809,
           0.012007223078844633,
           -0.016972865106406054,
           -0.04428799135485618,
           -0.05266944422170025,
           0.0046014520953723366,
           -0.005904695699613488,
           -0.051978794737277394,
           null,
           null,
           null,
           null
          ],
          [
           null,
           null,
           null,
           null,
           null,
           null,
           null,
           null,
           null,
           null,
           null,
           null,
           null,
           null,
           null,
           null,
           null,
           null,
           null,
           null,
           null,
           null,
           null,
           null,
           null,
           null
          ],
          [
           0.010452885228673804,
           -0.04067726920496784,
           -0.05877993617661017,
           -0.02929300339845184,
           0.01103341239982882,
           0.006670011994127942,
           -0.011795193415958546,
           -0.04205679900677552,
           0.0009400316957282837,
           0.014175499442395401,
           null,
           -0.03612049341025991,
           -0.06892967611125547,
           -0.0004596565851515208,
           -0.050722895253192506,
           -0.004214480610669924,
           -0.01989269103761033,
           -0.004195334234457021,
           -0.07092545293289897,
           -0.06749955488171061,
           -0.005357134211828535,
           0.033412323099686954,
           null,
           -0.02830183795637059,
           null,
           null
          ]
         ]
        }
       ],
       "layout": {
        "height": 600,
        "template": {
         "data": {
          "bar": [
           {
            "error_x": {
             "color": "#2a3f5f"
            },
            "error_y": {
             "color": "#2a3f5f"
            },
            "marker": {
             "line": {
              "color": "#E5ECF6",
              "width": 0.5
             },
             "pattern": {
              "fillmode": "overlay",
              "size": 10,
              "solidity": 0.2
             }
            },
            "type": "bar"
           }
          ],
          "barpolar": [
           {
            "marker": {
             "line": {
              "color": "#E5ECF6",
              "width": 0.5
             },
             "pattern": {
              "fillmode": "overlay",
              "size": 10,
              "solidity": 0.2
             }
            },
            "type": "barpolar"
           }
          ],
          "carpet": [
           {
            "aaxis": {
             "endlinecolor": "#2a3f5f",
             "gridcolor": "white",
             "linecolor": "white",
             "minorgridcolor": "white",
             "startlinecolor": "#2a3f5f"
            },
            "baxis": {
             "endlinecolor": "#2a3f5f",
             "gridcolor": "white",
             "linecolor": "white",
             "minorgridcolor": "white",
             "startlinecolor": "#2a3f5f"
            },
            "type": "carpet"
           }
          ],
          "choropleth": [
           {
            "colorbar": {
             "outlinewidth": 0,
             "ticks": ""
            },
            "type": "choropleth"
           }
          ],
          "contour": [
           {
            "colorbar": {
             "outlinewidth": 0,
             "ticks": ""
            },
            "colorscale": [
             [
              0,
              "#0d0887"
             ],
             [
              0.1111111111111111,
              "#46039f"
             ],
             [
              0.2222222222222222,
              "#7201a8"
             ],
             [
              0.3333333333333333,
              "#9c179e"
             ],
             [
              0.4444444444444444,
              "#bd3786"
             ],
             [
              0.5555555555555556,
              "#d8576b"
             ],
             [
              0.6666666666666666,
              "#ed7953"
             ],
             [
              0.7777777777777778,
              "#fb9f3a"
             ],
             [
              0.8888888888888888,
              "#fdca26"
             ],
             [
              1,
              "#f0f921"
             ]
            ],
            "type": "contour"
           }
          ],
          "contourcarpet": [
           {
            "colorbar": {
             "outlinewidth": 0,
             "ticks": ""
            },
            "type": "contourcarpet"
           }
          ],
          "heatmap": [
           {
            "colorbar": {
             "outlinewidth": 0,
             "ticks": ""
            },
            "colorscale": [
             [
              0,
              "#0d0887"
             ],
             [
              0.1111111111111111,
              "#46039f"
             ],
             [
              0.2222222222222222,
              "#7201a8"
             ],
             [
              0.3333333333333333,
              "#9c179e"
             ],
             [
              0.4444444444444444,
              "#bd3786"
             ],
             [
              0.5555555555555556,
              "#d8576b"
             ],
             [
              0.6666666666666666,
              "#ed7953"
             ],
             [
              0.7777777777777778,
              "#fb9f3a"
             ],
             [
              0.8888888888888888,
              "#fdca26"
             ],
             [
              1,
              "#f0f921"
             ]
            ],
            "type": "heatmap"
           }
          ],
          "heatmapgl": [
           {
            "colorbar": {
             "outlinewidth": 0,
             "ticks": ""
            },
            "colorscale": [
             [
              0,
              "#0d0887"
             ],
             [
              0.1111111111111111,
              "#46039f"
             ],
             [
              0.2222222222222222,
              "#7201a8"
             ],
             [
              0.3333333333333333,
              "#9c179e"
             ],
             [
              0.4444444444444444,
              "#bd3786"
             ],
             [
              0.5555555555555556,
              "#d8576b"
             ],
             [
              0.6666666666666666,
              "#ed7953"
             ],
             [
              0.7777777777777778,
              "#fb9f3a"
             ],
             [
              0.8888888888888888,
              "#fdca26"
             ],
             [
              1,
              "#f0f921"
             ]
            ],
            "type": "heatmapgl"
           }
          ],
          "histogram": [
           {
            "marker": {
             "pattern": {
              "fillmode": "overlay",
              "size": 10,
              "solidity": 0.2
             }
            },
            "type": "histogram"
           }
          ],
          "histogram2d": [
           {
            "colorbar": {
             "outlinewidth": 0,
             "ticks": ""
            },
            "colorscale": [
             [
              0,
              "#0d0887"
             ],
             [
              0.1111111111111111,
              "#46039f"
             ],
             [
              0.2222222222222222,
              "#7201a8"
             ],
             [
              0.3333333333333333,
              "#9c179e"
             ],
             [
              0.4444444444444444,
              "#bd3786"
             ],
             [
              0.5555555555555556,
              "#d8576b"
             ],
             [
              0.6666666666666666,
              "#ed7953"
             ],
             [
              0.7777777777777778,
              "#fb9f3a"
             ],
             [
              0.8888888888888888,
              "#fdca26"
             ],
             [
              1,
              "#f0f921"
             ]
            ],
            "type": "histogram2d"
           }
          ],
          "histogram2dcontour": [
           {
            "colorbar": {
             "outlinewidth": 0,
             "ticks": ""
            },
            "colorscale": [
             [
              0,
              "#0d0887"
             ],
             [
              0.1111111111111111,
              "#46039f"
             ],
             [
              0.2222222222222222,
              "#7201a8"
             ],
             [
              0.3333333333333333,
              "#9c179e"
             ],
             [
              0.4444444444444444,
              "#bd3786"
             ],
             [
              0.5555555555555556,
              "#d8576b"
             ],
             [
              0.6666666666666666,
              "#ed7953"
             ],
             [
              0.7777777777777778,
              "#fb9f3a"
             ],
             [
              0.8888888888888888,
              "#fdca26"
             ],
             [
              1,
              "#f0f921"
             ]
            ],
            "type": "histogram2dcontour"
           }
          ],
          "mesh3d": [
           {
            "colorbar": {
             "outlinewidth": 0,
             "ticks": ""
            },
            "type": "mesh3d"
           }
          ],
          "parcoords": [
           {
            "line": {
             "colorbar": {
              "outlinewidth": 0,
              "ticks": ""
             }
            },
            "type": "parcoords"
           }
          ],
          "pie": [
           {
            "automargin": true,
            "type": "pie"
           }
          ],
          "scatter": [
           {
            "fillpattern": {
             "fillmode": "overlay",
             "size": 10,
             "solidity": 0.2
            },
            "type": "scatter"
           }
          ],
          "scatter3d": [
           {
            "line": {
             "colorbar": {
              "outlinewidth": 0,
              "ticks": ""
             }
            },
            "marker": {
             "colorbar": {
              "outlinewidth": 0,
              "ticks": ""
             }
            },
            "type": "scatter3d"
           }
          ],
          "scattercarpet": [
           {
            "marker": {
             "colorbar": {
              "outlinewidth": 0,
              "ticks": ""
             }
            },
            "type": "scattercarpet"
           }
          ],
          "scattergeo": [
           {
            "marker": {
             "colorbar": {
              "outlinewidth": 0,
              "ticks": ""
             }
            },
            "type": "scattergeo"
           }
          ],
          "scattergl": [
           {
            "marker": {
             "colorbar": {
              "outlinewidth": 0,
              "ticks": ""
             }
            },
            "type": "scattergl"
           }
          ],
          "scattermapbox": [
           {
            "marker": {
             "colorbar": {
              "outlinewidth": 0,
              "ticks": ""
             }
            },
            "type": "scattermapbox"
           }
          ],
          "scatterpolar": [
           {
            "marker": {
             "colorbar": {
              "outlinewidth": 0,
              "ticks": ""
             }
            },
            "type": "scatterpolar"
           }
          ],
          "scatterpolargl": [
           {
            "marker": {
             "colorbar": {
              "outlinewidth": 0,
              "ticks": ""
             }
            },
            "type": "scatterpolargl"
           }
          ],
          "scatterternary": [
           {
            "marker": {
             "colorbar": {
              "outlinewidth": 0,
              "ticks": ""
             }
            },
            "type": "scatterternary"
           }
          ],
          "surface": [
           {
            "colorbar": {
             "outlinewidth": 0,
             "ticks": ""
            },
            "colorscale": [
             [
              0,
              "#0d0887"
             ],
             [
              0.1111111111111111,
              "#46039f"
             ],
             [
              0.2222222222222222,
              "#7201a8"
             ],
             [
              0.3333333333333333,
              "#9c179e"
             ],
             [
              0.4444444444444444,
              "#bd3786"
             ],
             [
              0.5555555555555556,
              "#d8576b"
             ],
             [
              0.6666666666666666,
              "#ed7953"
             ],
             [
              0.7777777777777778,
              "#fb9f3a"
             ],
             [
              0.8888888888888888,
              "#fdca26"
             ],
             [
              1,
              "#f0f921"
             ]
            ],
            "type": "surface"
           }
          ],
          "table": [
           {
            "cells": {
             "fill": {
              "color": "#EBF0F8"
             },
             "line": {
              "color": "white"
             }
            },
            "header": {
             "fill": {
              "color": "#C8D4E3"
             },
             "line": {
              "color": "white"
             }
            },
            "type": "table"
           }
          ]
         },
         "layout": {
          "annotationdefaults": {
           "arrowcolor": "#2a3f5f",
           "arrowhead": 0,
           "arrowwidth": 1
          },
          "autotypenumbers": "strict",
          "coloraxis": {
           "colorbar": {
            "outlinewidth": 0,
            "ticks": ""
           }
          },
          "colorscale": {
           "diverging": [
            [
             0,
             "#8e0152"
            ],
            [
             0.1,
             "#c51b7d"
            ],
            [
             0.2,
             "#de77ae"
            ],
            [
             0.3,
             "#f1b6da"
            ],
            [
             0.4,
             "#fde0ef"
            ],
            [
             0.5,
             "#f7f7f7"
            ],
            [
             0.6,
             "#e6f5d0"
            ],
            [
             0.7,
             "#b8e186"
            ],
            [
             0.8,
             "#7fbc41"
            ],
            [
             0.9,
             "#4d9221"
            ],
            [
             1,
             "#276419"
            ]
           ],
           "sequential": [
            [
             0,
             "#0d0887"
            ],
            [
             0.1111111111111111,
             "#46039f"
            ],
            [
             0.2222222222222222,
             "#7201a8"
            ],
            [
             0.3333333333333333,
             "#9c179e"
            ],
            [
             0.4444444444444444,
             "#bd3786"
            ],
            [
             0.5555555555555556,
             "#d8576b"
            ],
            [
             0.6666666666666666,
             "#ed7953"
            ],
            [
             0.7777777777777778,
             "#fb9f3a"
            ],
            [
             0.8888888888888888,
             "#fdca26"
            ],
            [
             1,
             "#f0f921"
            ]
           ],
           "sequentialminus": [
            [
             0,
             "#0d0887"
            ],
            [
             0.1111111111111111,
             "#46039f"
            ],
            [
             0.2222222222222222,
             "#7201a8"
            ],
            [
             0.3333333333333333,
             "#9c179e"
            ],
            [
             0.4444444444444444,
             "#bd3786"
            ],
            [
             0.5555555555555556,
             "#d8576b"
            ],
            [
             0.6666666666666666,
             "#ed7953"
            ],
            [
             0.7777777777777778,
             "#fb9f3a"
            ],
            [
             0.8888888888888888,
             "#fdca26"
            ],
            [
             1,
             "#f0f921"
            ]
           ]
          },
          "colorway": [
           "#636efa",
           "#EF553B",
           "#00cc96",
           "#ab63fa",
           "#FFA15A",
           "#19d3f3",
           "#FF6692",
           "#B6E880",
           "#FF97FF",
           "#FECB52"
          ],
          "font": {
           "color": "#2a3f5f"
          },
          "geo": {
           "bgcolor": "white",
           "lakecolor": "white",
           "landcolor": "#E5ECF6",
           "showlakes": true,
           "showland": true,
           "subunitcolor": "white"
          },
          "hoverlabel": {
           "align": "left"
          },
          "hovermode": "closest",
          "mapbox": {
           "style": "light"
          },
          "paper_bgcolor": "white",
          "plot_bgcolor": "#E5ECF6",
          "polar": {
           "angularaxis": {
            "gridcolor": "white",
            "linecolor": "white",
            "ticks": ""
           },
           "bgcolor": "#E5ECF6",
           "radialaxis": {
            "gridcolor": "white",
            "linecolor": "white",
            "ticks": ""
           }
          },
          "scene": {
           "xaxis": {
            "backgroundcolor": "#E5ECF6",
            "gridcolor": "white",
            "gridwidth": 2,
            "linecolor": "white",
            "showbackground": true,
            "ticks": "",
            "zerolinecolor": "white"
           },
           "yaxis": {
            "backgroundcolor": "#E5ECF6",
            "gridcolor": "white",
            "gridwidth": 2,
            "linecolor": "white",
            "showbackground": true,
            "ticks": "",
            "zerolinecolor": "white"
           },
           "zaxis": {
            "backgroundcolor": "#E5ECF6",
            "gridcolor": "white",
            "gridwidth": 2,
            "linecolor": "white",
            "showbackground": true,
            "ticks": "",
            "zerolinecolor": "white"
           }
          },
          "shapedefaults": {
           "line": {
            "color": "#2a3f5f"
           }
          },
          "ternary": {
           "aaxis": {
            "gridcolor": "white",
            "linecolor": "white",
            "ticks": ""
           },
           "baxis": {
            "gridcolor": "white",
            "linecolor": "white",
            "ticks": ""
           },
           "bgcolor": "#E5ECF6",
           "caxis": {
            "gridcolor": "white",
            "linecolor": "white",
            "ticks": ""
           }
          },
          "title": {
           "x": 0.05
          },
          "xaxis": {
           "automargin": true,
           "gridcolor": "white",
           "linecolor": "white",
           "ticks": "",
           "title": {
            "standoff": 15
           },
           "zerolinecolor": "white",
           "zerolinewidth": 2
          },
          "yaxis": {
           "automargin": true,
           "gridcolor": "white",
           "linecolor": "white",
           "ticks": "",
           "title": {
            "standoff": 15
           },
           "zerolinecolor": "white",
           "zerolinewidth": 2
          }
         }
        },
        "title": {
         "text": "Letters correlation"
        },
        "width": 600
       }
      }
     },
     "metadata": {},
     "output_type": "display_data"
    }
   ],
   "source": [
    "# Ploting Heatmap\n",
    "\n",
    "# Masking the diagonal\n",
    "mask = np.triu(np.ones_like(df_letters_corr, dtype=bool))\n",
    "df_temp = df_letters_corr.mask(mask)\n",
    "\n",
    "# Creating figure\n",
    "fig = go.Figure()\n",
    "\n",
    "# Creating trace\n",
    "fig.add_trace(\n",
    "    go.Heatmap(\n",
    "        x=df_temp.columns,\n",
    "        y=df_temp.columns,\n",
    "        z=df_temp,\n",
    "        colorscale=\"Portland\",\n",
    "    )\n",
    ")\n",
    "\n",
    "# Updating layout\n",
    "fig.update_layout(\n",
    "    title=\"Letters correlation\",\n",
    "    height=600,\n",
    "    width=600,\n",
    ")\n",
    "\n",
    "# Showing figure\n",
    "fig.show()"
   ]
  },
  {
   "cell_type": "markdown",
   "metadata": {},
   "source": [
    "# Correlating positions"
   ]
  },
  {
   "cell_type": "code",
   "execution_count": 19,
   "metadata": {},
   "outputs": [
    {
     "data": {
      "text/html": [
       "<div>\n",
       "<style scoped>\n",
       "    .dataframe tbody tr th:only-of-type {\n",
       "        vertical-align: middle;\n",
       "    }\n",
       "\n",
       "    .dataframe tbody tr th {\n",
       "        vertical-align: top;\n",
       "    }\n",
       "\n",
       "    .dataframe thead th {\n",
       "        text-align: right;\n",
       "    }\n",
       "</style>\n",
       "<table border=\"1\" class=\"dataframe\">\n",
       "  <thead>\n",
       "    <tr style=\"text-align: right;\">\n",
       "      <th></th>\n",
       "      <th>p0</th>\n",
       "      <th>p1</th>\n",
       "      <th>p2</th>\n",
       "      <th>p3</th>\n",
       "      <th>p4</th>\n",
       "    </tr>\n",
       "  </thead>\n",
       "  <tbody>\n",
       "    <tr>\n",
       "      <th>p0</th>\n",
       "      <td>1.000000</td>\n",
       "      <td>0.003509</td>\n",
       "      <td>0.350497</td>\n",
       "      <td>0.391996</td>\n",
       "      <td>0.164631</td>\n",
       "    </tr>\n",
       "    <tr>\n",
       "      <th>p1</th>\n",
       "      <td>0.003509</td>\n",
       "      <td>1.000000</td>\n",
       "      <td>0.387563</td>\n",
       "      <td>0.759070</td>\n",
       "      <td>0.791053</td>\n",
       "    </tr>\n",
       "    <tr>\n",
       "      <th>p2</th>\n",
       "      <td>0.350497</td>\n",
       "      <td>0.387563</td>\n",
       "      <td>1.000000</td>\n",
       "      <td>0.479782</td>\n",
       "      <td>0.354777</td>\n",
       "    </tr>\n",
       "    <tr>\n",
       "      <th>p3</th>\n",
       "      <td>0.391996</td>\n",
       "      <td>0.759070</td>\n",
       "      <td>0.479782</td>\n",
       "      <td>1.000000</td>\n",
       "      <td>0.700144</td>\n",
       "    </tr>\n",
       "    <tr>\n",
       "      <th>p4</th>\n",
       "      <td>0.164631</td>\n",
       "      <td>0.791053</td>\n",
       "      <td>0.354777</td>\n",
       "      <td>0.700144</td>\n",
       "      <td>1.000000</td>\n",
       "    </tr>\n",
       "  </tbody>\n",
       "</table>\n",
       "</div>"
      ],
      "text/plain": [
       "          p0        p1        p2        p3        p4\n",
       "p0  1.000000  0.003509  0.350497  0.391996  0.164631\n",
       "p1  0.003509  1.000000  0.387563  0.759070  0.791053\n",
       "p2  0.350497  0.387563  1.000000  0.479782  0.354777\n",
       "p3  0.391996  0.759070  0.479782  1.000000  0.700144\n",
       "p4  0.164631  0.791053  0.354777  0.700144  1.000000"
      ]
     },
     "execution_count": 19,
     "metadata": {},
     "output_type": "execute_result"
    }
   ],
   "source": [
    "df_positions_corr = df_freq_count[df[\"positions\"].columns].corr()\n",
    "df_positions_corr"
   ]
  },
  {
   "cell_type": "code",
   "execution_count": 20,
   "metadata": {},
   "outputs": [
    {
     "data": {
      "application/vnd.plotly.v1+json": {
       "config": {
        "plotlyServerURL": "https://plot.ly"
       },
       "data": [
        {
         "colorscale": [
          [
           0,
           "rgb(12,51,131)"
          ],
          [
           0.25,
           "rgb(10,136,186)"
          ],
          [
           0.5,
           "rgb(242,211,56)"
          ],
          [
           0.75,
           "rgb(242,143,56)"
          ],
          [
           1,
           "rgb(217,30,30)"
          ]
         ],
         "type": "heatmap",
         "x": [
          "p0",
          "p1",
          "p2",
          "p3",
          "p4"
         ],
         "y": [
          "p0",
          "p1",
          "p2",
          "p3",
          "p4"
         ],
         "z": [
          [
           null,
           null,
           null,
           null,
           null
          ],
          [
           0.0035085998870343113,
           null,
           null,
           null,
           null
          ],
          [
           0.3504970263977243,
           0.38756332849514896,
           null,
           null,
           null
          ],
          [
           0.39199603178623377,
           0.7590700918344264,
           0.47978187531103095,
           null,
           null
          ],
          [
           0.16463107311539626,
           0.7910526726389909,
           0.3547772421616648,
           0.7001436349767532,
           null
          ]
         ]
        }
       ],
       "layout": {
        "height": 600,
        "template": {
         "data": {
          "bar": [
           {
            "error_x": {
             "color": "#2a3f5f"
            },
            "error_y": {
             "color": "#2a3f5f"
            },
            "marker": {
             "line": {
              "color": "#E5ECF6",
              "width": 0.5
             },
             "pattern": {
              "fillmode": "overlay",
              "size": 10,
              "solidity": 0.2
             }
            },
            "type": "bar"
           }
          ],
          "barpolar": [
           {
            "marker": {
             "line": {
              "color": "#E5ECF6",
              "width": 0.5
             },
             "pattern": {
              "fillmode": "overlay",
              "size": 10,
              "solidity": 0.2
             }
            },
            "type": "barpolar"
           }
          ],
          "carpet": [
           {
            "aaxis": {
             "endlinecolor": "#2a3f5f",
             "gridcolor": "white",
             "linecolor": "white",
             "minorgridcolor": "white",
             "startlinecolor": "#2a3f5f"
            },
            "baxis": {
             "endlinecolor": "#2a3f5f",
             "gridcolor": "white",
             "linecolor": "white",
             "minorgridcolor": "white",
             "startlinecolor": "#2a3f5f"
            },
            "type": "carpet"
           }
          ],
          "choropleth": [
           {
            "colorbar": {
             "outlinewidth": 0,
             "ticks": ""
            },
            "type": "choropleth"
           }
          ],
          "contour": [
           {
            "colorbar": {
             "outlinewidth": 0,
             "ticks": ""
            },
            "colorscale": [
             [
              0,
              "#0d0887"
             ],
             [
              0.1111111111111111,
              "#46039f"
             ],
             [
              0.2222222222222222,
              "#7201a8"
             ],
             [
              0.3333333333333333,
              "#9c179e"
             ],
             [
              0.4444444444444444,
              "#bd3786"
             ],
             [
              0.5555555555555556,
              "#d8576b"
             ],
             [
              0.6666666666666666,
              "#ed7953"
             ],
             [
              0.7777777777777778,
              "#fb9f3a"
             ],
             [
              0.8888888888888888,
              "#fdca26"
             ],
             [
              1,
              "#f0f921"
             ]
            ],
            "type": "contour"
           }
          ],
          "contourcarpet": [
           {
            "colorbar": {
             "outlinewidth": 0,
             "ticks": ""
            },
            "type": "contourcarpet"
           }
          ],
          "heatmap": [
           {
            "colorbar": {
             "outlinewidth": 0,
             "ticks": ""
            },
            "colorscale": [
             [
              0,
              "#0d0887"
             ],
             [
              0.1111111111111111,
              "#46039f"
             ],
             [
              0.2222222222222222,
              "#7201a8"
             ],
             [
              0.3333333333333333,
              "#9c179e"
             ],
             [
              0.4444444444444444,
              "#bd3786"
             ],
             [
              0.5555555555555556,
              "#d8576b"
             ],
             [
              0.6666666666666666,
              "#ed7953"
             ],
             [
              0.7777777777777778,
              "#fb9f3a"
             ],
             [
              0.8888888888888888,
              "#fdca26"
             ],
             [
              1,
              "#f0f921"
             ]
            ],
            "type": "heatmap"
           }
          ],
          "heatmapgl": [
           {
            "colorbar": {
             "outlinewidth": 0,
             "ticks": ""
            },
            "colorscale": [
             [
              0,
              "#0d0887"
             ],
             [
              0.1111111111111111,
              "#46039f"
             ],
             [
              0.2222222222222222,
              "#7201a8"
             ],
             [
              0.3333333333333333,
              "#9c179e"
             ],
             [
              0.4444444444444444,
              "#bd3786"
             ],
             [
              0.5555555555555556,
              "#d8576b"
             ],
             [
              0.6666666666666666,
              "#ed7953"
             ],
             [
              0.7777777777777778,
              "#fb9f3a"
             ],
             [
              0.8888888888888888,
              "#fdca26"
             ],
             [
              1,
              "#f0f921"
             ]
            ],
            "type": "heatmapgl"
           }
          ],
          "histogram": [
           {
            "marker": {
             "pattern": {
              "fillmode": "overlay",
              "size": 10,
              "solidity": 0.2
             }
            },
            "type": "histogram"
           }
          ],
          "histogram2d": [
           {
            "colorbar": {
             "outlinewidth": 0,
             "ticks": ""
            },
            "colorscale": [
             [
              0,
              "#0d0887"
             ],
             [
              0.1111111111111111,
              "#46039f"
             ],
             [
              0.2222222222222222,
              "#7201a8"
             ],
             [
              0.3333333333333333,
              "#9c179e"
             ],
             [
              0.4444444444444444,
              "#bd3786"
             ],
             [
              0.5555555555555556,
              "#d8576b"
             ],
             [
              0.6666666666666666,
              "#ed7953"
             ],
             [
              0.7777777777777778,
              "#fb9f3a"
             ],
             [
              0.8888888888888888,
              "#fdca26"
             ],
             [
              1,
              "#f0f921"
             ]
            ],
            "type": "histogram2d"
           }
          ],
          "histogram2dcontour": [
           {
            "colorbar": {
             "outlinewidth": 0,
             "ticks": ""
            },
            "colorscale": [
             [
              0,
              "#0d0887"
             ],
             [
              0.1111111111111111,
              "#46039f"
             ],
             [
              0.2222222222222222,
              "#7201a8"
             ],
             [
              0.3333333333333333,
              "#9c179e"
             ],
             [
              0.4444444444444444,
              "#bd3786"
             ],
             [
              0.5555555555555556,
              "#d8576b"
             ],
             [
              0.6666666666666666,
              "#ed7953"
             ],
             [
              0.7777777777777778,
              "#fb9f3a"
             ],
             [
              0.8888888888888888,
              "#fdca26"
             ],
             [
              1,
              "#f0f921"
             ]
            ],
            "type": "histogram2dcontour"
           }
          ],
          "mesh3d": [
           {
            "colorbar": {
             "outlinewidth": 0,
             "ticks": ""
            },
            "type": "mesh3d"
           }
          ],
          "parcoords": [
           {
            "line": {
             "colorbar": {
              "outlinewidth": 0,
              "ticks": ""
             }
            },
            "type": "parcoords"
           }
          ],
          "pie": [
           {
            "automargin": true,
            "type": "pie"
           }
          ],
          "scatter": [
           {
            "fillpattern": {
             "fillmode": "overlay",
             "size": 10,
             "solidity": 0.2
            },
            "type": "scatter"
           }
          ],
          "scatter3d": [
           {
            "line": {
             "colorbar": {
              "outlinewidth": 0,
              "ticks": ""
             }
            },
            "marker": {
             "colorbar": {
              "outlinewidth": 0,
              "ticks": ""
             }
            },
            "type": "scatter3d"
           }
          ],
          "scattercarpet": [
           {
            "marker": {
             "colorbar": {
              "outlinewidth": 0,
              "ticks": ""
             }
            },
            "type": "scattercarpet"
           }
          ],
          "scattergeo": [
           {
            "marker": {
             "colorbar": {
              "outlinewidth": 0,
              "ticks": ""
             }
            },
            "type": "scattergeo"
           }
          ],
          "scattergl": [
           {
            "marker": {
             "colorbar": {
              "outlinewidth": 0,
              "ticks": ""
             }
            },
            "type": "scattergl"
           }
          ],
          "scattermapbox": [
           {
            "marker": {
             "colorbar": {
              "outlinewidth": 0,
              "ticks": ""
             }
            },
            "type": "scattermapbox"
           }
          ],
          "scatterpolar": [
           {
            "marker": {
             "colorbar": {
              "outlinewidth": 0,
              "ticks": ""
             }
            },
            "type": "scatterpolar"
           }
          ],
          "scatterpolargl": [
           {
            "marker": {
             "colorbar": {
              "outlinewidth": 0,
              "ticks": ""
             }
            },
            "type": "scatterpolargl"
           }
          ],
          "scatterternary": [
           {
            "marker": {
             "colorbar": {
              "outlinewidth": 0,
              "ticks": ""
             }
            },
            "type": "scatterternary"
           }
          ],
          "surface": [
           {
            "colorbar": {
             "outlinewidth": 0,
             "ticks": ""
            },
            "colorscale": [
             [
              0,
              "#0d0887"
             ],
             [
              0.1111111111111111,
              "#46039f"
             ],
             [
              0.2222222222222222,
              "#7201a8"
             ],
             [
              0.3333333333333333,
              "#9c179e"
             ],
             [
              0.4444444444444444,
              "#bd3786"
             ],
             [
              0.5555555555555556,
              "#d8576b"
             ],
             [
              0.6666666666666666,
              "#ed7953"
             ],
             [
              0.7777777777777778,
              "#fb9f3a"
             ],
             [
              0.8888888888888888,
              "#fdca26"
             ],
             [
              1,
              "#f0f921"
             ]
            ],
            "type": "surface"
           }
          ],
          "table": [
           {
            "cells": {
             "fill": {
              "color": "#EBF0F8"
             },
             "line": {
              "color": "white"
             }
            },
            "header": {
             "fill": {
              "color": "#C8D4E3"
             },
             "line": {
              "color": "white"
             }
            },
            "type": "table"
           }
          ]
         },
         "layout": {
          "annotationdefaults": {
           "arrowcolor": "#2a3f5f",
           "arrowhead": 0,
           "arrowwidth": 1
          },
          "autotypenumbers": "strict",
          "coloraxis": {
           "colorbar": {
            "outlinewidth": 0,
            "ticks": ""
           }
          },
          "colorscale": {
           "diverging": [
            [
             0,
             "#8e0152"
            ],
            [
             0.1,
             "#c51b7d"
            ],
            [
             0.2,
             "#de77ae"
            ],
            [
             0.3,
             "#f1b6da"
            ],
            [
             0.4,
             "#fde0ef"
            ],
            [
             0.5,
             "#f7f7f7"
            ],
            [
             0.6,
             "#e6f5d0"
            ],
            [
             0.7,
             "#b8e186"
            ],
            [
             0.8,
             "#7fbc41"
            ],
            [
             0.9,
             "#4d9221"
            ],
            [
             1,
             "#276419"
            ]
           ],
           "sequential": [
            [
             0,
             "#0d0887"
            ],
            [
             0.1111111111111111,
             "#46039f"
            ],
            [
             0.2222222222222222,
             "#7201a8"
            ],
            [
             0.3333333333333333,
             "#9c179e"
            ],
            [
             0.4444444444444444,
             "#bd3786"
            ],
            [
             0.5555555555555556,
             "#d8576b"
            ],
            [
             0.6666666666666666,
             "#ed7953"
            ],
            [
             0.7777777777777778,
             "#fb9f3a"
            ],
            [
             0.8888888888888888,
             "#fdca26"
            ],
            [
             1,
             "#f0f921"
            ]
           ],
           "sequentialminus": [
            [
             0,
             "#0d0887"
            ],
            [
             0.1111111111111111,
             "#46039f"
            ],
            [
             0.2222222222222222,
             "#7201a8"
            ],
            [
             0.3333333333333333,
             "#9c179e"
            ],
            [
             0.4444444444444444,
             "#bd3786"
            ],
            [
             0.5555555555555556,
             "#d8576b"
            ],
            [
             0.6666666666666666,
             "#ed7953"
            ],
            [
             0.7777777777777778,
             "#fb9f3a"
            ],
            [
             0.8888888888888888,
             "#fdca26"
            ],
            [
             1,
             "#f0f921"
            ]
           ]
          },
          "colorway": [
           "#636efa",
           "#EF553B",
           "#00cc96",
           "#ab63fa",
           "#FFA15A",
           "#19d3f3",
           "#FF6692",
           "#B6E880",
           "#FF97FF",
           "#FECB52"
          ],
          "font": {
           "color": "#2a3f5f"
          },
          "geo": {
           "bgcolor": "white",
           "lakecolor": "white",
           "landcolor": "#E5ECF6",
           "showlakes": true,
           "showland": true,
           "subunitcolor": "white"
          },
          "hoverlabel": {
           "align": "left"
          },
          "hovermode": "closest",
          "mapbox": {
           "style": "light"
          },
          "paper_bgcolor": "white",
          "plot_bgcolor": "#E5ECF6",
          "polar": {
           "angularaxis": {
            "gridcolor": "white",
            "linecolor": "white",
            "ticks": ""
           },
           "bgcolor": "#E5ECF6",
           "radialaxis": {
            "gridcolor": "white",
            "linecolor": "white",
            "ticks": ""
           }
          },
          "scene": {
           "xaxis": {
            "backgroundcolor": "#E5ECF6",
            "gridcolor": "white",
            "gridwidth": 2,
            "linecolor": "white",
            "showbackground": true,
            "ticks": "",
            "zerolinecolor": "white"
           },
           "yaxis": {
            "backgroundcolor": "#E5ECF6",
            "gridcolor": "white",
            "gridwidth": 2,
            "linecolor": "white",
            "showbackground": true,
            "ticks": "",
            "zerolinecolor": "white"
           },
           "zaxis": {
            "backgroundcolor": "#E5ECF6",
            "gridcolor": "white",
            "gridwidth": 2,
            "linecolor": "white",
            "showbackground": true,
            "ticks": "",
            "zerolinecolor": "white"
           }
          },
          "shapedefaults": {
           "line": {
            "color": "#2a3f5f"
           }
          },
          "ternary": {
           "aaxis": {
            "gridcolor": "white",
            "linecolor": "white",
            "ticks": ""
           },
           "baxis": {
            "gridcolor": "white",
            "linecolor": "white",
            "ticks": ""
           },
           "bgcolor": "#E5ECF6",
           "caxis": {
            "gridcolor": "white",
            "linecolor": "white",
            "ticks": ""
           }
          },
          "title": {
           "x": 0.05
          },
          "xaxis": {
           "automargin": true,
           "gridcolor": "white",
           "linecolor": "white",
           "ticks": "",
           "title": {
            "standoff": 15
           },
           "zerolinecolor": "white",
           "zerolinewidth": 2
          },
          "yaxis": {
           "automargin": true,
           "gridcolor": "white",
           "linecolor": "white",
           "ticks": "",
           "title": {
            "standoff": 15
           },
           "zerolinecolor": "white",
           "zerolinewidth": 2
          }
         }
        },
        "title": {
         "text": "Positions correlation"
        },
        "width": 600
       }
      }
     },
     "metadata": {},
     "output_type": "display_data"
    }
   ],
   "source": [
    "# Plotting Heatmap\n",
    "\n",
    "# Masking the diagonal\n",
    "mask = np.triu(np.ones_like(df_positions_corr, dtype=bool))\n",
    "df_temp = df_positions_corr.mask(mask)\n",
    "\n",
    "# Creating figure\n",
    "fig = go.Figure()\n",
    "\n",
    "# Creating trace\n",
    "fig.add_trace(\n",
    "    go.Heatmap(\n",
    "        x=df_temp.columns,\n",
    "        y=df_temp.columns,\n",
    "        z=df_temp,\n",
    "        colorscale=\"Portland\",\n",
    "    )\n",
    ")\n",
    "\n",
    "# Updating layout\n",
    "fig.update_layout(\n",
    "    title=\"Positions correlation\",\n",
    "    height=600,\n",
    "    width=600,\n",
    ")\n",
    "\n",
    "# Showing figure\n",
    "fig.show()"
   ]
  },
  {
   "cell_type": "markdown",
   "metadata": {},
   "source": [
    "# Correlating each element to another element based on their positions\n",
    "\n",
    "*(This method is extremely slow, but it's an easy way to get all elements in the table (including the ones not present in a given position))*"
   ]
  },
  {
   "cell_type": "code",
   "execution_count": 21,
   "metadata": {},
   "outputs": [
    {
     "name": "stderr",
     "output_type": "stream",
     "text": [
      "100%|██████████| 9747920/9747920 [00:43<00:00, 222675.87it/s, Positions: 3,4 - Elements: z,z]\n"
     ]
    }
   ],
   "source": [
    "def correlate_positions(df, position_0, position_1, pbar):\n",
    "    \"\"\" Correlating the frequencies of elements in two given positions \"\"\"\n",
    "\n",
    "    # Initializing a temporary dataframe\n",
    "    df_positions_corr = pd.DataFrame([[0 for _, _ in enumerate(ALPHABET)] for _, _ in enumerate(ALPHABET)], columns=ALPHABET, index=ALPHABET)\n",
    "\n",
    "    # Iterating over the first element\n",
    "    for i, _ in enumerate(ALPHABET):\n",
    "\n",
    "        # Iterating over the second element\n",
    "        for j, _ in enumerate(ALPHABET):\n",
    "            counter = 0\n",
    "\n",
    "            # Update the progress bar\n",
    "            pbar.set_postfix_str(f\"Positions: {position_0},{position_1} - Elements: {ALPHABET[i]},{ALPHABET[j]}\")\n",
    "\n",
    "            # Iterating over all the equations in the dataframe\n",
    "            for row in df.itertuples():\n",
    "\n",
    "                # If the element in the positions are the same, increment the counter\n",
    "                if row[position_0 + 1] == ALPHABET[i] and row[position_1 + 1] == ALPHABET[j]:\n",
    "                    counter += 1\n",
    "                \n",
    "                # Update the progress bar\n",
    "                pbar.update(1)\n",
    "\n",
    "            # Storing the counter value\n",
    "            df_positions_corr[ALPHABET[i]].loc[ALPHABET[j]] = counter\n",
    "    \n",
    "    # Returning the dataframe\n",
    "    return df_positions_corr\n",
    "\n",
    "\n",
    "def correlate_elements(df):\n",
    "    \"\"\" Correlating the frequencies of elements across all positions \"\"\"\n",
    "\n",
    "    # Creating the progress bar and an empty DataFrame\n",
    "    pbar = tqdm(total=int(((NUMBER_OF_ELEMENTS ** 2) - NUMBER_OF_ELEMENTS) / 2) * len(df) * len(ALPHABET) ** 2)\n",
    "    df_elements_corr = pd.DataFrame()\n",
    "\n",
    "    # Iterating over the first position\n",
    "    for i in range(NUMBER_OF_ELEMENTS):\n",
    "        df_i = pd.DataFrame()\n",
    "\n",
    "        # Iterating over the second position\n",
    "        for j in range(i + 1, NUMBER_OF_ELEMENTS):\n",
    "            \n",
    "            # Computing the correlation between the two positions\n",
    "            df_j = correlate_positions(df, i, j, pbar)\n",
    "\n",
    "            # Concatenating the dataframes\n",
    "            df_j = pd.concat([df_j], keys=[f\"p{j}\"], names=[f'position', 'letter'], axis=0)\n",
    "            df_j = pd.concat([df_j], keys=[f\"p{i}\"], names=[f'position', 'letter'], axis=1)\n",
    "            df_i = pd.concat([df_i, df_j], axis=0)\n",
    "\n",
    "        # Concatenating the dataframes again\n",
    "        df_elements_corr = pd.concat([df_elements_corr, df_i], axis=1)\n",
    "\n",
    "    # Converting dtypes and closing the progress bar\n",
    "    df_elements_corr = df_elements_corr.convert_dtypes()\n",
    "    pbar.close()\n",
    "\n",
    "    # Returning the dataframe\n",
    "    return df_elements_corr\n",
    "\n",
    "\n",
    "df_elements_pos_corr = correlate_elements(df[\"positions\"])"
   ]
  },
  {
   "cell_type": "code",
   "execution_count": 22,
   "metadata": {},
   "outputs": [
    {
     "data": {
      "application/vnd.plotly.v1+json": {
       "config": {
        "plotlyServerURL": "https://plot.ly"
       },
       "data": [
        {
         "coloraxis": "coloraxis2",
         "name": "0-1",
         "type": "heatmap",
         "visible": true,
         "x": [
          "a",
          "b",
          "c",
          "d",
          "e",
          "f",
          "g",
          "h",
          "i",
          "j",
          "k",
          "l",
          "m",
          "n",
          "o",
          "p",
          "q",
          "r",
          "s",
          "t",
          "u",
          "v",
          "w",
          "x",
          "y",
          "z"
         ],
         "xaxis": "x",
         "y": [
          "a",
          "b",
          "c",
          "d",
          "e",
          "f",
          "g",
          "h",
          "i",
          "j",
          "k",
          "l",
          "m",
          "n",
          "o",
          "p",
          "q",
          "r",
          "s",
          "t",
          "u",
          "v",
          "w",
          "x",
          "y",
          "z"
         ],
         "yaxis": "y",
         "z": [
          [
           0,
           0.021497919556171984,
           0.03536754507628294,
           0.0034674063800277394,
           0,
           0.0159500693481276,
           0.008321775312066574,
           0.0027739251040221915,
           0,
           0.0027739251040221915,
           0,
           0.015256588072122053,
           0.021497919556171984,
           0.0062413314840499305,
           0.0006934812760055479,
           0.02288488210818308,
           0,
           0.008321775312066574,
           0.021497919556171984,
           0.009708737864077669,
           0,
           0.012482662968099861,
           0,
           0.0006934812760055479,
           0,
           0
          ],
          [
           0.0034674063800277394,
           0,
           0,
           0,
           0.0006934812760055479,
           0,
           0,
           0,
           0,
           0,
           0,
           0,
           0,
           0,
           0.0027739251040221915,
           0,
           0,
           0,
           0,
           0,
           0,
           0,
           0,
           0,
           0,
           0
          ],
          [
           0.006934812760055479,
           0,
           0,
           0,
           0.0006934812760055479,
           0,
           0,
           0,
           0.0006934812760055479,
           0,
           0,
           0,
           0,
           0,
           0,
           0,
           0,
           0,
           0,
           0.0006934812760055479,
           0,
           0,
           0,
           0,
           0,
           0
          ],
          [
           0.0034674063800277394,
           0,
           0,
           0,
           0,
           0,
           0,
           0,
           0.004160887656033287,
           0,
           0,
           0,
           0,
           0,
           0.0006934812760055479,
           0,
           0,
           0,
           0,
           0,
           0,
           0,
           0,
           0,
           0,
           0
          ],
          [
           0.0013869625520110957,
           0.0076282940360610264,
           0.011095700416088766,
           0.008321775312066574,
           0,
           0.011789181692094313,
           0.009015256588072122,
           0.0006934812760055479,
           0,
           0.0020804438280166435,
           0,
           0.014563106796116505,
           0.013869625520110958,
           0.004160887656033287,
           0.0006934812760055479,
           0.014563106796116505,
           0,
           0.018030513176144243,
           0.012482662968099861,
           0.017337031900138695,
           0,
           0.013176144244105409,
           0,
           0,
           0,
           0.0020804438280166435
          ],
          [
           0.0020804438280166435,
           0,
           0,
           0,
           0,
           0,
           0,
           0,
           0,
           0,
           0,
           0,
           0,
           0,
           0,
           0,
           0,
           0,
           0,
           0,
           0,
           0,
           0,
           0,
           0,
           0
          ],
          [
           0.0027739251040221915,
           0,
           0,
           0,
           0,
           0,
           0,
           0,
           0.0006934812760055479,
           0,
           0,
           0,
           0,
           0,
           0,
           0,
           0,
           0,
           0,
           0,
           0,
           0,
           0,
           0,
           0,
           0
          ],
          [
           0,
           0,
           0.008321775312066574,
           0,
           0,
           0,
           0,
           0,
           0,
           0,
           0,
           0,
           0,
           0,
           0,
           0,
           0,
           0,
           0,
           0,
           0,
           0,
           0,
           0,
           0,
           0
          ],
          [
           0.0006934812760055479,
           0.004160887656033287,
           0.009708737864077669,
           0.006934812760055479,
           0,
           0.009708737864077669,
           0.0020804438280166435,
           0.0027739251040221915,
           0,
           0,
           0,
           0.014563106796116505,
           0.010402219140083218,
           0.005547850208044383,
           0,
           0.011789181692094313,
           0,
           0.006934812760055479,
           0.0048543689320388345,
           0.0062413314840499305,
           0,
           0.015256588072122053,
           0,
           0,
           0,
           0.0013869625520110957
          ],
          [
           0.0006934812760055479,
           0,
           0,
           0,
           0,
           0,
           0,
           0,
           0,
           0,
           0,
           0,
           0,
           0,
           0,
           0,
           0,
           0,
           0,
           0,
           0,
           0,
           0,
           0,
           0,
           0
          ],
          [
           0,
           0,
           0,
           0,
           0,
           0,
           0,
           0,
           0,
           0,
           0,
           0,
           0,
           0,
           0,
           0,
           0,
           0,
           0,
           0,
           0,
           0,
           0,
           0,
           0,
           0
          ],
          [
           0.008321775312066574,
           0.0013869625520110957,
           0.0062413314840499305,
           0,
           0.0006934812760055479,
           0.0034674063800277394,
           0.0006934812760055479,
           0,
           0.0006934812760055479,
           0,
           0,
           0,
           0,
           0,
           0.0013869625520110957,
           0.0034674063800277394,
           0,
           0,
           0,
           0,
           0,
           0,
           0,
           0,
           0,
           0
          ],
          [
           0.0076282940360610264,
           0,
           0,
           0,
           0,
           0,
           0,
           0,
           0.0020804438280166435,
           0,
           0,
           0,
           0,
           0,
           0.0013869625520110957,
           0,
           0,
           0,
           0,
           0,
           0.0006934812760055479,
           0,
           0,
           0,
           0,
           0
          ],
          [
           0.008321775312066574,
           0,
           0,
           0,
           0.0020804438280166435,
           0,
           0.0006934812760055479,
           0,
           0.0027739251040221915,
           0,
           0,
           0,
           0,
           0,
           0.0013869625520110957,
           0.0006934812760055479,
           0,
           0,
           0,
           0,
           0.004160887656033287,
           0,
           0,
           0,
           0,
           0
          ],
          [
           0.0006934812760055479,
           0.011789181692094313,
           0.020804438280166437,
           0.009708737864077669,
           0,
           0.015256588072122053,
           0.005547850208044383,
           0.004160887656033287,
           0,
           0.0034674063800277394,
           0,
           0.012482662968099861,
           0.015256588072122053,
           0.008321775312066574,
           0,
           0.024965325936199722,
           0,
           0.010402219140083218,
           0.011789181692094313,
           0.017337031900138695,
           0,
           0.0062413314840499305,
           0,
           0,
           0,
           0.0013869625520110957
          ],
          [
           0.0027739251040221915,
           0,
           0,
           0,
           0.0013869625520110957,
           0,
           0,
           0,
           0,
           0,
           0,
           0,
           0,
           0,
           0.0027739251040221915,
           0,
           0,
           0,
           0,
           0,
           0,
           0,
           0,
           0,
           0,
           0
          ],
          [
           0,
           0,
           0,
           0,
           0,
           0,
           0,
           0,
           0,
           0,
           0,
           0,
           0,
           0,
           0,
           0,
           0,
           0,
           0,
           0,
           0,
           0,
           0,
           0,
           0,
           0
          ],
          [
           0.012482662968099861,
           0.009015256588072122,
           0.0062413314840499305,
           0.0013869625520110957,
           0.0020804438280166435,
           0.008321775312066574,
           0.011095700416088766,
           0,
           0.0020804438280166435,
           0,
           0,
           0,
           0,
           0,
           0.0027739251040221915,
           0.013176144244105409,
           0,
           0,
           0,
           0.02011095700416089,
           0.0020804438280166435,
           0,
           0,
           0,
           0,
           0
          ],
          [
           0.0027739251040221915,
           0,
           0,
           0,
           0.0020804438280166435,
           0,
           0,
           0,
           0,
           0,
           0,
           0,
           0,
           0,
           0.0027739251040221915,
           0,
           0,
           0,
           0,
           0,
           0.0027739251040221915,
           0,
           0,
           0,
           0,
           0
          ],
          [
           0.0048543689320388345,
           0,
           0,
           0,
           0.0027739251040221915,
           0,
           0,
           0,
           0,
           0,
           0,
           0,
           0,
           0,
           0.0027739251040221915,
           0,
           0,
           0,
           0,
           0,
           0.0013869625520110957,
           0,
           0,
           0,
           0,
           0
          ],
          [
           0.0034674063800277394,
           0.005547850208044383,
           0.009015256588072122,
           0.006934812760055479,
           0.0006934812760055479,
           0.009708737864077669,
           0.0020804438280166435,
           0.0006934812760055479,
           0,
           0.0062413314840499305,
           0,
           0.004160887656033287,
           0.009708737864077669,
           0.0027739251040221915,
           0.0027739251040221915,
           0.0062413314840499305,
           0.005547850208044383,
           0.0076282940360610264,
           0.0159500693481276,
           0.005547850208044383,
           0,
           0.0013869625520110957,
           0,
           0,
           0,
           0
          ],
          [
           0.004160887656033287,
           0,
           0,
           0,
           0,
           0,
           0,
           0,
           0,
           0,
           0,
           0,
           0,
           0,
           0.0006934812760055479,
           0,
           0,
           0,
           0,
           0,
           0,
           0,
           0,
           0,
           0,
           0
          ],
          [
           0,
           0,
           0,
           0,
           0,
           0,
           0,
           0,
           0,
           0,
           0,
           0,
           0,
           0,
           0,
           0,
           0,
           0,
           0,
           0,
           0,
           0,
           0,
           0,
           0,
           0
          ],
          [
           0.0006934812760055479,
           0,
           0,
           0,
           0.004160887656033287,
           0,
           0,
           0,
           0,
           0,
           0,
           0,
           0,
           0,
           0.0013869625520110957,
           0,
           0,
           0,
           0,
           0,
           0,
           0,
           0,
           0,
           0,
           0
          ],
          [
           0,
           0,
           0,
           0,
           0,
           0,
           0,
           0,
           0,
           0,
           0,
           0,
           0,
           0,
           0,
           0,
           0,
           0,
           0,
           0,
           0,
           0,
           0,
           0,
           0,
           0
          ],
          [
           0.0006934812760055479,
           0,
           0,
           0,
           0,
           0,
           0,
           0,
           0,
           0,
           0,
           0,
           0,
           0,
           0,
           0,
           0,
           0,
           0,
           0,
           0,
           0,
           0,
           0,
           0,
           0
          ]
         ]
        },
        {
         "coloraxis": "coloraxis",
         "name": "0-1",
         "type": "heatmap",
         "visible": false,
         "x": [
          "a",
          "b",
          "c",
          "d",
          "e",
          "f",
          "g",
          "h",
          "i",
          "j",
          "k",
          "l",
          "m",
          "n",
          "o",
          "p",
          "q",
          "r",
          "s",
          "t",
          "u",
          "v",
          "w",
          "x",
          "y",
          "z"
         ],
         "xaxis": "x",
         "y": [
          "a",
          "b",
          "c",
          "d",
          "e",
          "f",
          "g",
          "h",
          "i",
          "j",
          "k",
          "l",
          "m",
          "n",
          "o",
          "p",
          "q",
          "r",
          "s",
          "t",
          "u",
          "v",
          "w",
          "x",
          "y",
          "z"
         ],
         "yaxis": "y",
         "z": [
          [
           0,
           0.021497919556171984,
           0.03536754507628294,
           0.0034674063800277394,
           0,
           0.0159500693481276,
           0.008321775312066574,
           0.0027739251040221915,
           0,
           0.0027739251040221915,
           0,
           0.015256588072122053,
           0.021497919556171984,
           0.0062413314840499305,
           0.0006934812760055479,
           0.02288488210818308,
           0,
           0.008321775312066574,
           0.021497919556171984,
           0.009708737864077669,
           0,
           0.012482662968099861,
           0,
           0.0006934812760055479,
           0,
           0
          ],
          [
           0.0034674063800277394,
           0,
           0,
           0,
           0.0006934812760055479,
           0,
           0,
           0,
           0,
           0,
           0,
           0,
           0,
           0,
           0.0027739251040221915,
           0,
           0,
           0,
           0,
           0,
           0,
           0,
           0,
           0,
           0,
           0
          ],
          [
           0.006934812760055479,
           0,
           0,
           0,
           0.0006934812760055479,
           0,
           0,
           0,
           0.0006934812760055479,
           0,
           0,
           0,
           0,
           0,
           0,
           0,
           0,
           0,
           0,
           0.0006934812760055479,
           0,
           0,
           0,
           0,
           0,
           0
          ],
          [
           0.0034674063800277394,
           0,
           0,
           0,
           0,
           0,
           0,
           0,
           0.004160887656033287,
           0,
           0,
           0,
           0,
           0,
           0.0006934812760055479,
           0,
           0,
           0,
           0,
           0,
           0,
           0,
           0,
           0,
           0,
           0
          ],
          [
           0.0013869625520110957,
           0.0076282940360610264,
           0.011095700416088766,
           0.008321775312066574,
           0,
           0.011789181692094313,
           0.009015256588072122,
           0.0006934812760055479,
           0,
           0.0020804438280166435,
           0,
           0.014563106796116505,
           0.013869625520110958,
           0.004160887656033287,
           0.0006934812760055479,
           0.014563106796116505,
           0,
           0.018030513176144243,
           0.012482662968099861,
           0.017337031900138695,
           0,
           0.013176144244105409,
           0,
           0,
           0,
           0.0020804438280166435
          ],
          [
           0.0020804438280166435,
           0,
           0,
           0,
           0,
           0,
           0,
           0,
           0,
           0,
           0,
           0,
           0,
           0,
           0,
           0,
           0,
           0,
           0,
           0,
           0,
           0,
           0,
           0,
           0,
           0
          ],
          [
           0.0027739251040221915,
           0,
           0,
           0,
           0,
           0,
           0,
           0,
           0.0006934812760055479,
           0,
           0,
           0,
           0,
           0,
           0,
           0,
           0,
           0,
           0,
           0,
           0,
           0,
           0,
           0,
           0,
           0
          ],
          [
           0,
           0,
           0.008321775312066574,
           0,
           0,
           0,
           0,
           0,
           0,
           0,
           0,
           0,
           0,
           0,
           0,
           0,
           0,
           0,
           0,
           0,
           0,
           0,
           0,
           0,
           0,
           0
          ],
          [
           0.0006934812760055479,
           0.004160887656033287,
           0.009708737864077669,
           0.006934812760055479,
           0,
           0.009708737864077669,
           0.0020804438280166435,
           0.0027739251040221915,
           0,
           0,
           0,
           0.014563106796116505,
           0.010402219140083218,
           0.005547850208044383,
           0,
           0.011789181692094313,
           0,
           0.006934812760055479,
           0.0048543689320388345,
           0.0062413314840499305,
           0,
           0.015256588072122053,
           0,
           0,
           0,
           0.0013869625520110957
          ],
          [
           0.0006934812760055479,
           0,
           0,
           0,
           0,
           0,
           0,
           0,
           0,
           0,
           0,
           0,
           0,
           0,
           0,
           0,
           0,
           0,
           0,
           0,
           0,
           0,
           0,
           0,
           0,
           0
          ],
          [
           0,
           0,
           0,
           0,
           0,
           0,
           0,
           0,
           0,
           0,
           0,
           0,
           0,
           0,
           0,
           0,
           0,
           0,
           0,
           0,
           0,
           0,
           0,
           0,
           0,
           0
          ],
          [
           0.008321775312066574,
           0.0013869625520110957,
           0.0062413314840499305,
           0,
           0.0006934812760055479,
           0.0034674063800277394,
           0.0006934812760055479,
           0,
           0.0006934812760055479,
           0,
           0,
           0,
           0,
           0,
           0.0013869625520110957,
           0.0034674063800277394,
           0,
           0,
           0,
           0,
           0,
           0,
           0,
           0,
           0,
           0
          ],
          [
           0.0076282940360610264,
           0,
           0,
           0,
           0,
           0,
           0,
           0,
           0.0020804438280166435,
           0,
           0,
           0,
           0,
           0,
           0.0013869625520110957,
           0,
           0,
           0,
           0,
           0,
           0.0006934812760055479,
           0,
           0,
           0,
           0,
           0
          ],
          [
           0.008321775312066574,
           0,
           0,
           0,
           0.0020804438280166435,
           0,
           0.0006934812760055479,
           0,
           0.0027739251040221915,
           0,
           0,
           0,
           0,
           0,
           0.0013869625520110957,
           0.0006934812760055479,
           0,
           0,
           0,
           0,
           0.004160887656033287,
           0,
           0,
           0,
           0,
           0
          ],
          [
           0.0006934812760055479,
           0.011789181692094313,
           0.020804438280166437,
           0.009708737864077669,
           0,
           0.015256588072122053,
           0.005547850208044383,
           0.004160887656033287,
           0,
           0.0034674063800277394,
           0,
           0.012482662968099861,
           0.015256588072122053,
           0.008321775312066574,
           0,
           0.024965325936199722,
           0,
           0.010402219140083218,
           0.011789181692094313,
           0.017337031900138695,
           0,
           0.0062413314840499305,
           0,
           0,
           0,
           0.0013869625520110957
          ],
          [
           0.0027739251040221915,
           0,
           0,
           0,
           0.0013869625520110957,
           0,
           0,
           0,
           0,
           0,
           0,
           0,
           0,
           0,
           0.0027739251040221915,
           0,
           0,
           0,
           0,
           0,
           0,
           0,
           0,
           0,
           0,
           0
          ],
          [
           0,
           0,
           0,
           0,
           0,
           0,
           0,
           0,
           0,
           0,
           0,
           0,
           0,
           0,
           0,
           0,
           0,
           0,
           0,
           0,
           0,
           0,
           0,
           0,
           0,
           0
          ],
          [
           0.012482662968099861,
           0.009015256588072122,
           0.0062413314840499305,
           0.0013869625520110957,
           0.0020804438280166435,
           0.008321775312066574,
           0.011095700416088766,
           0,
           0.0020804438280166435,
           0,
           0,
           0,
           0,
           0,
           0.0027739251040221915,
           0.013176144244105409,
           0,
           0,
           0,
           0.02011095700416089,
           0.0020804438280166435,
           0,
           0,
           0,
           0,
           0
          ],
          [
           0.0027739251040221915,
           0,
           0,
           0,
           0.0020804438280166435,
           0,
           0,
           0,
           0,
           0,
           0,
           0,
           0,
           0,
           0.0027739251040221915,
           0,
           0,
           0,
           0,
           0,
           0.0027739251040221915,
           0,
           0,
           0,
           0,
           0
          ],
          [
           0.0048543689320388345,
           0,
           0,
           0,
           0.0027739251040221915,
           0,
           0,
           0,
           0,
           0,
           0,
           0,
           0,
           0,
           0.0027739251040221915,
           0,
           0,
           0,
           0,
           0,
           0.0013869625520110957,
           0,
           0,
           0,
           0,
           0
          ],
          [
           0.0034674063800277394,
           0.005547850208044383,
           0.009015256588072122,
           0.006934812760055479,
           0.0006934812760055479,
           0.009708737864077669,
           0.0020804438280166435,
           0.0006934812760055479,
           0,
           0.0062413314840499305,
           0,
           0.004160887656033287,
           0.009708737864077669,
           0.0027739251040221915,
           0.0027739251040221915,
           0.0062413314840499305,
           0.005547850208044383,
           0.0076282940360610264,
           0.0159500693481276,
           0.005547850208044383,
           0,
           0.0013869625520110957,
           0,
           0,
           0,
           0
          ],
          [
           0.004160887656033287,
           0,
           0,
           0,
           0,
           0,
           0,
           0,
           0,
           0,
           0,
           0,
           0,
           0,
           0.0006934812760055479,
           0,
           0,
           0,
           0,
           0,
           0,
           0,
           0,
           0,
           0,
           0
          ],
          [
           0,
           0,
           0,
           0,
           0,
           0,
           0,
           0,
           0,
           0,
           0,
           0,
           0,
           0,
           0,
           0,
           0,
           0,
           0,
           0,
           0,
           0,
           0,
           0,
           0,
           0
          ],
          [
           0.0006934812760055479,
           0,
           0,
           0,
           0.004160887656033287,
           0,
           0,
           0,
           0,
           0,
           0,
           0,
           0,
           0,
           0.0013869625520110957,
           0,
           0,
           0,
           0,
           0,
           0,
           0,
           0,
           0,
           0,
           0
          ],
          [
           0,
           0,
           0,
           0,
           0,
           0,
           0,
           0,
           0,
           0,
           0,
           0,
           0,
           0,
           0,
           0,
           0,
           0,
           0,
           0,
           0,
           0,
           0,
           0,
           0,
           0
          ],
          [
           0.0006934812760055479,
           0,
           0,
           0,
           0,
           0,
           0,
           0,
           0,
           0,
           0,
           0,
           0,
           0,
           0,
           0,
           0,
           0,
           0,
           0,
           0,
           0,
           0,
           0,
           0,
           0
          ]
         ]
        },
        {
         "coloraxis": "coloraxis3",
         "name": "0-2",
         "type": "heatmap",
         "visible": true,
         "x": [
          "a",
          "b",
          "c",
          "d",
          "e",
          "f",
          "g",
          "h",
          "i",
          "j",
          "k",
          "l",
          "m",
          "n",
          "o",
          "p",
          "q",
          "r",
          "s",
          "t",
          "u",
          "v",
          "w",
          "x",
          "y",
          "z"
         ],
         "xaxis": "x5",
         "y": [
          "a",
          "b",
          "c",
          "d",
          "e",
          "f",
          "g",
          "h",
          "i",
          "j",
          "k",
          "l",
          "m",
          "n",
          "o",
          "p",
          "q",
          "r",
          "s",
          "t",
          "u",
          "v",
          "w",
          "x",
          "y",
          "z"
         ],
         "yaxis": "y5",
         "z": [
          [
           0.0076282940360610264,
           0.005547850208044383,
           0.0076282940360610264,
           0.0006934812760055479,
           0.0020804438280166435,
           0.004160887656033287,
           0.0062413314840499305,
           0.0006934812760055479,
           0.0020804438280166435,
           0,
           0,
           0,
           0,
           0,
           0.0013869625520110957,
           0.0076282940360610264,
           0.0013869625520110957,
           0.0006934812760055479,
           0.0020804438280166435,
           0.005547850208044383,
           0.0006934812760055479,
           0,
           0,
           0,
           0,
           0
          ],
          [
           0.0027739251040221915,
           0.0020804438280166435,
           0.004160887656033287,
           0.0020804438280166435,
           0,
           0.0020804438280166435,
           0,
           0.0006934812760055479,
           0,
           0,
           0,
           0.0034674063800277394,
           0,
           0.0006934812760055479,
           0.0006934812760055479,
           0.0006934812760055479,
           0,
           0.0020804438280166435,
           0.005547850208044383,
           0.0013869625520110957,
           0,
           0,
           0,
           0,
           0,
           0.0006934812760055479
          ],
          [
           0.0020804438280166435,
           0.005547850208044383,
           0.0048543689320388345,
           0.0027739251040221915,
           0,
           0.0062413314840499305,
           0,
           0,
           0,
           0,
           0,
           0.0048543689320388345,
           0.0034674063800277394,
           0.0020804438280166435,
           0.0006934812760055479,
           0.0027739251040221915,
           0,
           0.0034674063800277394,
           0.005547850208044383,
           0.0034674063800277394,
           0,
           0.0034674063800277394,
           0,
           0,
           0,
           0
          ],
          [
           0.004160887656033287,
           0,
           0.0013869625520110957,
           0.0020804438280166435,
           0,
           0.0006934812760055479,
           0,
           0,
           0.0006934812760055479,
           0,
           0,
           0.0027739251040221915,
           0.0048543689320388345,
           0.0013869625520110957,
           0.0013869625520110957,
           0.006934812760055479,
           0,
           0.004160887656033287,
           0.0020804438280166435,
           0.0020804438280166435,
           0,
           0.0020804438280166435,
           0,
           0,
           0,
           0
          ],
          [
           0.012482662968099861,
           0.0020804438280166435,
           0.0062413314840499305,
           0.0027739251040221915,
           0,
           0.0020804438280166435,
           0.0034674063800277394,
           0.0006934812760055479,
           0.0020804438280166435,
           0,
           0,
           0,
           0.0013869625520110957,
           0,
           0.0020804438280166435,
           0.008321775312066574,
           0.0006934812760055479,
           0.0006934812760055479,
           0.0006934812760055479,
           0.005547850208044383,
           0.0013869625520110957,
           0,
           0,
           0,
           0,
           0
          ],
          [
           0,
           0.0013869625520110957,
           0.0013869625520110957,
           0,
           0.0006934812760055479,
           0.0006934812760055479,
           0,
           0.0006934812760055479,
           0.0006934812760055479,
           0,
           0,
           0,
           0.0006934812760055479,
           0,
           0.0006934812760055479,
           0,
           0,
           0.0006934812760055479,
           0.0006934812760055479,
           0.0006934812760055479,
           0,
           0,
           0,
           0,
           0,
           0
          ],
          [
           0.0020804438280166435,
           0,
           0,
           0.0013869625520110957,
           0,
           0.0027739251040221915,
           0,
           0,
           0,
           0.0020804438280166435,
           0,
           0.0034674063800277394,
           0.0034674063800277394,
           0.0013869625520110957,
           0.0013869625520110957,
           0.0027739251040221915,
           0,
           0.004160887656033287,
           0.004160887656033287,
           0.0006934812760055479,
           0,
           0.0027739251040221915,
           0,
           0,
           0,
           0
          ],
          [
           0.0006934812760055479,
           0,
           0,
           0,
           0,
           0,
           0,
           0,
           0,
           0,
           0,
           0,
           0,
           0,
           0.0013869625520110957,
           0,
           0,
           0,
           0,
           0.0006934812760055479,
           0.0006934812760055479,
           0,
           0,
           0,
           0,
           0
          ],
          [
           0.011789181692094313,
           0.0062413314840499305,
           0.006934812760055479,
           0.0006934812760055479,
           0.0034674063800277394,
           0.0062413314840499305,
           0.0034674063800277394,
           0,
           0,
           0.0027739251040221915,
           0,
           0.004160887656033287,
           0.0062413314840499305,
           0.0020804438280166435,
           0.004160887656033287,
           0.0020804438280166435,
           0.0027739251040221915,
           0.0048543689320388345,
           0.0034674063800277394,
           0.004160887656033287,
           0.004160887656033287,
           0.0013869625520110957,
           0,
           0,
           0,
           0
          ],
          [
           0.0006934812760055479,
           0,
           0.0006934812760055479,
           0,
           0.0006934812760055479,
           0,
           0,
           0,
           0,
           0.0006934812760055479,
           0,
           0.0006934812760055479,
           0.0006934812760055479,
           0,
           0,
           0,
           0,
           0,
           0.0013869625520110957,
           0,
           0,
           0,
           0,
           0,
           0,
           0
          ],
          [
           0,
           0,
           0,
           0,
           0,
           0,
           0,
           0,
           0,
           0,
           0,
           0,
           0,
           0,
           0,
           0,
           0,
           0,
           0,
           0,
           0,
           0,
           0,
           0,
           0,
           0
          ],
          [
           0.0013869625520110957,
           0.006934812760055479,
           0.010402219140083218,
           0.0013869625520110957,
           0,
           0.0076282940360610264,
           0.0034674063800277394,
           0,
           0,
           0.0006934812760055479,
           0,
           0.0006934812760055479,
           0.005547850208044383,
           0.0006934812760055479,
           0,
           0.010402219140083218,
           0,
           0.0048543689320388345,
           0.008321775312066574,
           0.0034674063800277394,
           0,
           0.006934812760055479,
           0,
           0,
           0,
           0.0006934812760055479
          ],
          [
           0.0013869625520110957,
           0.0020804438280166435,
           0.0020804438280166435,
           0.0013869625520110957,
           0,
           0.0013869625520110957,
           0.0020804438280166435,
           0.0013869625520110957,
           0.0013869625520110957,
           0,
           0,
           0.0034674063800277394,
           0.0027739251040221915,
           0.0006934812760055479,
           0,
           0.0034674063800277394,
           0,
           0.005547850208044383,
           0.0027739251040221915,
           0.004160887656033287,
           0,
           0,
           0,
           0.0006934812760055479,
           0,
           0
          ],
          [
           0.0013869625520110957,
           0.0076282940360610264,
           0.010402219140083218,
           0.004160887656033287,
           0.0006934812760055479,
           0.0048543689320388345,
           0.004160887656033287,
           0.0013869625520110957,
           0,
           0.0020804438280166435,
           0,
           0.011095700416088766,
           0.011095700416088766,
           0.004160887656033287,
           0,
           0.012482662968099861,
           0,
           0.0013869625520110957,
           0.006934812760055479,
           0.010402219140083218,
           0.0006934812760055479,
           0.0048543689320388345,
           0,
           0,
           0,
           0.0020804438280166435
          ],
          [
           0.0062413314840499305,
           0.0020804438280166435,
           0.0020804438280166435,
           0.0006934812760055479,
           0.0020804438280166435,
           0.0020804438280166435,
           0.0013869625520110957,
           0,
           0.0027739251040221915,
           0,
           0,
           0.0006934812760055479,
           0.0020804438280166435,
           0,
           0,
           0.0027739251040221915,
           0.0006934812760055479,
           0,
           0,
           0.0034674063800277394,
           0,
           0.0006934812760055479,
           0,
           0,
           0,
           0
          ],
          [
           0.0020804438280166435,
           0,
           0.0048543689320388345,
           0.0020804438280166435,
           0.0006934812760055479,
           0,
           0,
           0,
           0.0013869625520110957,
           0,
           0,
           0.0013869625520110957,
           0,
           0,
           0,
           0.0006934812760055479,
           0,
           0.0013869625520110957,
           0.0020804438280166435,
           0.0020804438280166435,
           0,
           0.0006934812760055479,
           0,
           0,
           0,
           0.0006934812760055479
          ],
          [
           0,
           0.0006934812760055479,
           0.0006934812760055479,
           0.0020804438280166435,
           0.0006934812760055479,
           0,
           0,
           0,
           0,
           0,
           0,
           0.0006934812760055479,
           0,
           0,
           0,
           0,
           0,
           0,
           0.0006934812760055479,
           0.0006934812760055479,
           0,
           0,
           0,
           0,
           0,
           0
          ],
          [
           0.0062413314840499305,
           0.008321775312066574,
           0.01872399445214979,
           0.0034674063800277394,
           0.0027739251040221915,
           0.015256588072122053,
           0.008321775312066574,
           0.0034674063800277394,
           0,
           0.0034674063800277394,
           0,
           0.0034674063800277394,
           0.009708737864077669,
           0.0027739251040221915,
           0.0006934812760055479,
           0.016643550624133148,
           0,
           0.0013869625520110957,
           0.009708737864077669,
           0.014563106796116505,
           0,
           0.009015256588072122,
           0,
           0,
           0,
           0.0006934812760055479
          ],
          [
           0.0020804438280166435,
           0.004160887656033287,
           0.010402219140083218,
           0.0027739251040221915,
           0,
           0.005547850208044383,
           0.004160887656033287,
           0.0006934812760055479,
           0,
           0.0013869625520110957,
           0,
           0.0034674063800277394,
           0.0076282940360610264,
           0.0027739251040221915,
           0.004160887656033287,
           0.009015256588072122,
           0,
           0.005547850208044383,
           0.0027739251040221915,
           0.0048543689320388345,
           0.0006934812760055479,
           0.0076282940360610264,
           0,
           0,
           0,
           0
          ],
          [
           0.005547850208044383,
           0.0027739251040221915,
           0.0034674063800277394,
           0.0027739251040221915,
           0.0027739251040221915,
           0.004160887656033287,
           0.0006934812760055479,
           0.0006934812760055479,
           0,
           0,
           0,
           0.006934812760055479,
           0.008321775312066574,
           0.0013869625520110957,
           0.004160887656033287,
           0.0013869625520110957,
           0,
           0.0034674063800277394,
           0.004160887656033287,
           0.0034674063800277394,
           0.0006934812760055479,
           0.0034674063800277394,
           0,
           0,
           0,
           0
          ],
          [
           0.0062413314840499305,
           0.0027739251040221915,
           0.006934812760055479,
           0.0006934812760055479,
           0,
           0.0048543689320388345,
           0.0013869625520110957,
           0,
           0.0013869625520110957,
           0.0006934812760055479,
           0,
           0.004160887656033287,
           0.0006934812760055479,
           0,
           0.0006934812760055479,
           0.0048543689320388345,
           0,
           0.0034674063800277394,
           0.0013869625520110957,
           0.004160887656033287,
           0.0020804438280166435,
           0,
           0,
           0,
           0,
           0
          ],
          [
           0.0006934812760055479,
           0,
           0.0020804438280166435,
           0.0013869625520110957,
           0.0006934812760055479,
           0.0006934812760055479,
           0,
           0.0006934812760055479,
           0.0006934812760055479,
           0.0006934812760055479,
           0,
           0.0034674063800277394,
           0.0013869625520110957,
           0.0062413314840499305,
           0.0013869625520110957,
           0.0027739251040221915,
           0,
           0.0020804438280166435,
           0.0006934812760055479,
           0,
           0,
           0.0013869625520110957,
           0,
           0,
           0,
           0
          ],
          [
           0,
           0,
           0,
           0,
           0,
           0,
           0,
           0,
           0,
           0,
           0,
           0,
           0,
           0,
           0,
           0,
           0,
           0,
           0,
           0,
           0,
           0,
           0,
           0,
           0,
           0
          ],
          [
           0,
           0,
           0.0013869625520110957,
           0,
           0,
           0.0013869625520110957,
           0,
           0,
           0,
           0,
           0,
           0.0006934812760055479,
           0.0006934812760055479,
           0,
           0,
           0.0013869625520110957,
           0,
           0,
           0.0013869625520110957,
           0.0013869625520110957,
           0,
           0,
           0,
           0,
           0,
           0
          ],
          [
           0,
           0,
           0,
           0,
           0,
           0,
           0,
           0,
           0,
           0,
           0,
           0,
           0,
           0,
           0,
           0,
           0,
           0,
           0,
           0,
           0,
           0,
           0,
           0,
           0,
           0
          ],
          [
           0.0006934812760055479,
           0.0006934812760055479,
           0,
           0.0013869625520110957,
           0,
           0.0013869625520110957,
           0.0006934812760055479,
           0,
           0,
           0,
           0,
           0.0013869625520110957,
           0,
           0.0006934812760055479,
           0,
           0.0006934812760055479,
           0,
           0.0013869625520110957,
           0,
           0,
           0,
           0.004160887656033287,
           0,
           0,
           0,
           0
          ]
         ]
        },
        {
         "coloraxis": "coloraxis",
         "name": "0-2",
         "type": "heatmap",
         "visible": false,
         "x": [
          "a",
          "b",
          "c",
          "d",
          "e",
          "f",
          "g",
          "h",
          "i",
          "j",
          "k",
          "l",
          "m",
          "n",
          "o",
          "p",
          "q",
          "r",
          "s",
          "t",
          "u",
          "v",
          "w",
          "x",
          "y",
          "z"
         ],
         "xaxis": "x5",
         "y": [
          "a",
          "b",
          "c",
          "d",
          "e",
          "f",
          "g",
          "h",
          "i",
          "j",
          "k",
          "l",
          "m",
          "n",
          "o",
          "p",
          "q",
          "r",
          "s",
          "t",
          "u",
          "v",
          "w",
          "x",
          "y",
          "z"
         ],
         "yaxis": "y5",
         "z": [
          [
           0.0076282940360610264,
           0.005547850208044383,
           0.0076282940360610264,
           0.0006934812760055479,
           0.0020804438280166435,
           0.004160887656033287,
           0.0062413314840499305,
           0.0006934812760055479,
           0.0020804438280166435,
           0,
           0,
           0,
           0,
           0,
           0.0013869625520110957,
           0.0076282940360610264,
           0.0013869625520110957,
           0.0006934812760055479,
           0.0020804438280166435,
           0.005547850208044383,
           0.0006934812760055479,
           0,
           0,
           0,
           0,
           0
          ],
          [
           0.0027739251040221915,
           0.0020804438280166435,
           0.004160887656033287,
           0.0020804438280166435,
           0,
           0.0020804438280166435,
           0,
           0.0006934812760055479,
           0,
           0,
           0,
           0.0034674063800277394,
           0,
           0.0006934812760055479,
           0.0006934812760055479,
           0.0006934812760055479,
           0,
           0.0020804438280166435,
           0.005547850208044383,
           0.0013869625520110957,
           0,
           0,
           0,
           0,
           0,
           0.0006934812760055479
          ],
          [
           0.0020804438280166435,
           0.005547850208044383,
           0.0048543689320388345,
           0.0027739251040221915,
           0,
           0.0062413314840499305,
           0,
           0,
           0,
           0,
           0,
           0.0048543689320388345,
           0.0034674063800277394,
           0.0020804438280166435,
           0.0006934812760055479,
           0.0027739251040221915,
           0,
           0.0034674063800277394,
           0.005547850208044383,
           0.0034674063800277394,
           0,
           0.0034674063800277394,
           0,
           0,
           0,
           0
          ],
          [
           0.004160887656033287,
           0,
           0.0013869625520110957,
           0.0020804438280166435,
           0,
           0.0006934812760055479,
           0,
           0,
           0.0006934812760055479,
           0,
           0,
           0.0027739251040221915,
           0.0048543689320388345,
           0.0013869625520110957,
           0.0013869625520110957,
           0.006934812760055479,
           0,
           0.004160887656033287,
           0.0020804438280166435,
           0.0020804438280166435,
           0,
           0.0020804438280166435,
           0,
           0,
           0,
           0
          ],
          [
           0.012482662968099861,
           0.0020804438280166435,
           0.0062413314840499305,
           0.0027739251040221915,
           0,
           0.0020804438280166435,
           0.0034674063800277394,
           0.0006934812760055479,
           0.0020804438280166435,
           0,
           0,
           0,
           0.0013869625520110957,
           0,
           0.0020804438280166435,
           0.008321775312066574,
           0.0006934812760055479,
           0.0006934812760055479,
           0.0006934812760055479,
           0.005547850208044383,
           0.0013869625520110957,
           0,
           0,
           0,
           0,
           0
          ],
          [
           0,
           0.0013869625520110957,
           0.0013869625520110957,
           0,
           0.0006934812760055479,
           0.0006934812760055479,
           0,
           0.0006934812760055479,
           0.0006934812760055479,
           0,
           0,
           0,
           0.0006934812760055479,
           0,
           0.0006934812760055479,
           0,
           0,
           0.0006934812760055479,
           0.0006934812760055479,
           0.0006934812760055479,
           0,
           0,
           0,
           0,
           0,
           0
          ],
          [
           0.0020804438280166435,
           0,
           0,
           0.0013869625520110957,
           0,
           0.0027739251040221915,
           0,
           0,
           0,
           0.0020804438280166435,
           0,
           0.0034674063800277394,
           0.0034674063800277394,
           0.0013869625520110957,
           0.0013869625520110957,
           0.0027739251040221915,
           0,
           0.004160887656033287,
           0.004160887656033287,
           0.0006934812760055479,
           0,
           0.0027739251040221915,
           0,
           0,
           0,
           0
          ],
          [
           0.0006934812760055479,
           0,
           0,
           0,
           0,
           0,
           0,
           0,
           0,
           0,
           0,
           0,
           0,
           0,
           0.0013869625520110957,
           0,
           0,
           0,
           0,
           0.0006934812760055479,
           0.0006934812760055479,
           0,
           0,
           0,
           0,
           0
          ],
          [
           0.011789181692094313,
           0.0062413314840499305,
           0.006934812760055479,
           0.0006934812760055479,
           0.0034674063800277394,
           0.0062413314840499305,
           0.0034674063800277394,
           0,
           0,
           0.0027739251040221915,
           0,
           0.004160887656033287,
           0.0062413314840499305,
           0.0020804438280166435,
           0.004160887656033287,
           0.0020804438280166435,
           0.0027739251040221915,
           0.0048543689320388345,
           0.0034674063800277394,
           0.004160887656033287,
           0.004160887656033287,
           0.0013869625520110957,
           0,
           0,
           0,
           0
          ],
          [
           0.0006934812760055479,
           0,
           0.0006934812760055479,
           0,
           0.0006934812760055479,
           0,
           0,
           0,
           0,
           0.0006934812760055479,
           0,
           0.0006934812760055479,
           0.0006934812760055479,
           0,
           0,
           0,
           0,
           0,
           0.0013869625520110957,
           0,
           0,
           0,
           0,
           0,
           0,
           0
          ],
          [
           0,
           0,
           0,
           0,
           0,
           0,
           0,
           0,
           0,
           0,
           0,
           0,
           0,
           0,
           0,
           0,
           0,
           0,
           0,
           0,
           0,
           0,
           0,
           0,
           0,
           0
          ],
          [
           0.0013869625520110957,
           0.006934812760055479,
           0.010402219140083218,
           0.0013869625520110957,
           0,
           0.0076282940360610264,
           0.0034674063800277394,
           0,
           0,
           0.0006934812760055479,
           0,
           0.0006934812760055479,
           0.005547850208044383,
           0.0006934812760055479,
           0,
           0.010402219140083218,
           0,
           0.0048543689320388345,
           0.008321775312066574,
           0.0034674063800277394,
           0,
           0.006934812760055479,
           0,
           0,
           0,
           0.0006934812760055479
          ],
          [
           0.0013869625520110957,
           0.0020804438280166435,
           0.0020804438280166435,
           0.0013869625520110957,
           0,
           0.0013869625520110957,
           0.0020804438280166435,
           0.0013869625520110957,
           0.0013869625520110957,
           0,
           0,
           0.0034674063800277394,
           0.0027739251040221915,
           0.0006934812760055479,
           0,
           0.0034674063800277394,
           0,
           0.005547850208044383,
           0.0027739251040221915,
           0.004160887656033287,
           0,
           0,
           0,
           0.0006934812760055479,
           0,
           0
          ],
          [
           0.0013869625520110957,
           0.0076282940360610264,
           0.010402219140083218,
           0.004160887656033287,
           0.0006934812760055479,
           0.0048543689320388345,
           0.004160887656033287,
           0.0013869625520110957,
           0,
           0.0020804438280166435,
           0,
           0.011095700416088766,
           0.011095700416088766,
           0.004160887656033287,
           0,
           0.012482662968099861,
           0,
           0.0013869625520110957,
           0.006934812760055479,
           0.010402219140083218,
           0.0006934812760055479,
           0.0048543689320388345,
           0,
           0,
           0,
           0.0020804438280166435
          ],
          [
           0.0062413314840499305,
           0.0020804438280166435,
           0.0020804438280166435,
           0.0006934812760055479,
           0.0020804438280166435,
           0.0020804438280166435,
           0.0013869625520110957,
           0,
           0.0027739251040221915,
           0,
           0,
           0.0006934812760055479,
           0.0020804438280166435,
           0,
           0,
           0.0027739251040221915,
           0.0006934812760055479,
           0,
           0,
           0.0034674063800277394,
           0,
           0.0006934812760055479,
           0,
           0,
           0,
           0
          ],
          [
           0.0020804438280166435,
           0,
           0.0048543689320388345,
           0.0020804438280166435,
           0.0006934812760055479,
           0,
           0,
           0,
           0.0013869625520110957,
           0,
           0,
           0.0013869625520110957,
           0,
           0,
           0,
           0.0006934812760055479,
           0,
           0.0013869625520110957,
           0.0020804438280166435,
           0.0020804438280166435,
           0,
           0.0006934812760055479,
           0,
           0,
           0,
           0.0006934812760055479
          ],
          [
           0,
           0.0006934812760055479,
           0.0006934812760055479,
           0.0020804438280166435,
           0.0006934812760055479,
           0,
           0,
           0,
           0,
           0,
           0,
           0.0006934812760055479,
           0,
           0,
           0,
           0,
           0,
           0,
           0.0006934812760055479,
           0.0006934812760055479,
           0,
           0,
           0,
           0,
           0,
           0
          ],
          [
           0.0062413314840499305,
           0.008321775312066574,
           0.01872399445214979,
           0.0034674063800277394,
           0.0027739251040221915,
           0.015256588072122053,
           0.008321775312066574,
           0.0034674063800277394,
           0,
           0.0034674063800277394,
           0,
           0.0034674063800277394,
           0.009708737864077669,
           0.0027739251040221915,
           0.0006934812760055479,
           0.016643550624133148,
           0,
           0.0013869625520110957,
           0.009708737864077669,
           0.014563106796116505,
           0,
           0.009015256588072122,
           0,
           0,
           0,
           0.0006934812760055479
          ],
          [
           0.0020804438280166435,
           0.004160887656033287,
           0.010402219140083218,
           0.0027739251040221915,
           0,
           0.005547850208044383,
           0.004160887656033287,
           0.0006934812760055479,
           0,
           0.0013869625520110957,
           0,
           0.0034674063800277394,
           0.0076282940360610264,
           0.0027739251040221915,
           0.004160887656033287,
           0.009015256588072122,
           0,
           0.005547850208044383,
           0.0027739251040221915,
           0.0048543689320388345,
           0.0006934812760055479,
           0.0076282940360610264,
           0,
           0,
           0,
           0
          ],
          [
           0.005547850208044383,
           0.0027739251040221915,
           0.0034674063800277394,
           0.0027739251040221915,
           0.0027739251040221915,
           0.004160887656033287,
           0.0006934812760055479,
           0.0006934812760055479,
           0,
           0,
           0,
           0.006934812760055479,
           0.008321775312066574,
           0.0013869625520110957,
           0.004160887656033287,
           0.0013869625520110957,
           0,
           0.0034674063800277394,
           0.004160887656033287,
           0.0034674063800277394,
           0.0006934812760055479,
           0.0034674063800277394,
           0,
           0,
           0,
           0
          ],
          [
           0.0062413314840499305,
           0.0027739251040221915,
           0.006934812760055479,
           0.0006934812760055479,
           0,
           0.0048543689320388345,
           0.0013869625520110957,
           0,
           0.0013869625520110957,
           0.0006934812760055479,
           0,
           0.004160887656033287,
           0.0006934812760055479,
           0,
           0.0006934812760055479,
           0.0048543689320388345,
           0,
           0.0034674063800277394,
           0.0013869625520110957,
           0.004160887656033287,
           0.0020804438280166435,
           0,
           0,
           0,
           0,
           0
          ],
          [
           0.0006934812760055479,
           0,
           0.0020804438280166435,
           0.0013869625520110957,
           0.0006934812760055479,
           0.0006934812760055479,
           0,
           0.0006934812760055479,
           0.0006934812760055479,
           0.0006934812760055479,
           0,
           0.0034674063800277394,
           0.0013869625520110957,
           0.0062413314840499305,
           0.0013869625520110957,
           0.0027739251040221915,
           0,
           0.0020804438280166435,
           0.0006934812760055479,
           0,
           0,
           0.0013869625520110957,
           0,
           0,
           0,
           0
          ],
          [
           0,
           0,
           0,
           0,
           0,
           0,
           0,
           0,
           0,
           0,
           0,
           0,
           0,
           0,
           0,
           0,
           0,
           0,
           0,
           0,
           0,
           0,
           0,
           0,
           0,
           0
          ],
          [
           0,
           0,
           0.0013869625520110957,
           0,
           0,
           0.0013869625520110957,
           0,
           0,
           0,
           0,
           0,
           0.0006934812760055479,
           0.0006934812760055479,
           0,
           0,
           0.0013869625520110957,
           0,
           0,
           0.0013869625520110957,
           0.0013869625520110957,
           0,
           0,
           0,
           0,
           0,
           0
          ],
          [
           0,
           0,
           0,
           0,
           0,
           0,
           0,
           0,
           0,
           0,
           0,
           0,
           0,
           0,
           0,
           0,
           0,
           0,
           0,
           0,
           0,
           0,
           0,
           0,
           0,
           0
          ],
          [
           0.0006934812760055479,
           0.0006934812760055479,
           0,
           0.0013869625520110957,
           0,
           0.0013869625520110957,
           0.0006934812760055479,
           0,
           0,
           0,
           0,
           0.0013869625520110957,
           0,
           0.0006934812760055479,
           0,
           0.0006934812760055479,
           0,
           0.0013869625520110957,
           0,
           0,
           0,
           0.004160887656033287,
           0,
           0,
           0,
           0
          ]
         ]
        },
        {
         "coloraxis": "coloraxis4",
         "name": "0-3",
         "type": "heatmap",
         "visible": true,
         "x": [
          "a",
          "b",
          "c",
          "d",
          "e",
          "f",
          "g",
          "h",
          "i",
          "j",
          "k",
          "l",
          "m",
          "n",
          "o",
          "p",
          "q",
          "r",
          "s",
          "t",
          "u",
          "v",
          "w",
          "x",
          "y",
          "z"
         ],
         "xaxis": "x9",
         "y": [
          "a",
          "b",
          "c",
          "d",
          "e",
          "f",
          "g",
          "h",
          "i",
          "j",
          "k",
          "l",
          "m",
          "n",
          "o",
          "p",
          "q",
          "r",
          "s",
          "t",
          "u",
          "v",
          "w",
          "x",
          "y",
          "z"
         ],
         "yaxis": "y9",
         "z": [
          [
           0.0159500693481276,
           0.010402219140083218,
           0.0159500693481276,
           0.0076282940360610264,
           0.0034674063800277394,
           0.015256588072122053,
           0.005547850208044383,
           0.0006934812760055479,
           0.0034674063800277394,
           0.0020804438280166435,
           0,
           0.015256588072122053,
           0.011095700416088766,
           0.0076282940360610264,
           0.0062413314840499305,
           0.016643550624133148,
           0,
           0.012482662968099861,
           0.014563106796116505,
           0.011095700416088766,
           0.0034674063800277394,
           0.015256588072122053,
           0,
           0,
           0,
           0.0020804438280166435
          ],
          [
           0.0020804438280166435,
           0.0027739251040221915,
           0.0006934812760055479,
           0,
           0,
           0,
           0.0013869625520110957,
           0,
           0,
           0,
           0,
           0.0020804438280166435,
           0,
           0,
           0,
           0.0020804438280166435,
           0.0006934812760055479,
           0.0013869625520110957,
           0.0006934812760055479,
           0.0013869625520110957,
           0.0006934812760055479,
           0.0013869625520110957,
           0,
           0,
           0,
           0
          ],
          [
           0.0006934812760055479,
           0.005547850208044383,
           0.0062413314840499305,
           0,
           0.0027739251040221915,
           0.005547850208044383,
           0.0013869625520110957,
           0,
           0,
           0,
           0,
           0.004160887656033287,
           0.0020804438280166435,
           0.0006934812760055479,
           0.0020804438280166435,
           0.009015256588072122,
           0.0006934812760055479,
           0.0027739251040221915,
           0.0006934812760055479,
           0.009015256588072122,
           0.0013869625520110957,
           0,
           0,
           0,
           0,
           0.0006934812760055479
          ],
          [
           0.008321775312066574,
           0.004160887656033287,
           0.0048543689320388345,
           0.0027739251040221915,
           0.0006934812760055479,
           0.0048543689320388345,
           0.0020804438280166435,
           0,
           0.0013869625520110957,
           0,
           0,
           0.0048543689320388345,
           0.0034674063800277394,
           0,
           0.0006934812760055479,
           0.004160887656033287,
           0.0006934812760055479,
           0.0006934812760055479,
           0.0048543689320388345,
           0.0034674063800277394,
           0.0020804438280166435,
           0.0020804438280166435,
           0,
           0,
           0,
           0
          ],
          [
           0.0062413314840499305,
           0.0020804438280166435,
           0.0027739251040221915,
           0.004160887656033287,
           0.0006934812760055479,
           0.0020804438280166435,
           0.0020804438280166435,
           0.0027739251040221915,
           0.0006934812760055479,
           0.0006934812760055479,
           0,
           0.0034674063800277394,
           0.005547850208044383,
           0.0048543689320388345,
           0.0034674063800277394,
           0.005547850208044383,
           0,
           0.006934812760055479,
           0.0013869625520110957,
           0.0034674063800277394,
           0,
           0.0048543689320388345,
           0,
           0,
           0,
           0.0006934812760055479
          ],
          [
           0,
           0,
           0.0006934812760055479,
           0,
           0,
           0,
           0.0013869625520110957,
           0,
           0,
           0,
           0,
           0,
           0,
           0.0006934812760055479,
           0,
           0,
           0,
           0,
           0.0006934812760055479,
           0.0006934812760055479,
           0,
           0,
           0,
           0,
           0,
           0
          ],
          [
           0.0027739251040221915,
           0.0020804438280166435,
           0.0013869625520110957,
           0,
           0,
           0.0013869625520110957,
           0.0020804438280166435,
           0,
           0,
           0,
           0,
           0.0027739251040221915,
           0.0034674063800277394,
           0,
           0.0006934812760055479,
           0.0034674063800277394,
           0,
           0,
           0.0006934812760055479,
           0.0020804438280166435,
           0,
           0.0013869625520110957,
           0,
           0,
           0,
           0
          ],
          [
           0,
           0.0034674063800277394,
           0.0006934812760055479,
           0.0006934812760055479,
           0,
           0.0027739251040221915,
           0.0013869625520110957,
           0,
           0,
           0.0013869625520110957,
           0,
           0.0020804438280166435,
           0.004160887656033287,
           0.0013869625520110957,
           0,
           0.0027739251040221915,
           0,
           0.0013869625520110957,
           0.0020804438280166435,
           0.0013869625520110957,
           0,
           0.0020804438280166435,
           0,
           0,
           0,
           0
          ],
          [
           0.009015256588072122,
           0.0027739251040221915,
           0.008321775312066574,
           0.0020804438280166435,
           0.0020804438280166435,
           0.008321775312066574,
           0.0027739251040221915,
           0.0006934812760055479,
           0.0013869625520110957,
           0,
           0,
           0.004160887656033287,
           0.009015256588072122,
           0.0013869625520110957,
           0.0027739251040221915,
           0.0062413314840499305,
           0.0006934812760055479,
           0.0020804438280166435,
           0.011789181692094313,
           0.0048543689320388345,
           0.0006934812760055479,
           0.0034674063800277394,
           0,
           0,
           0,
           0
          ],
          [
           0,
           0.0020804438280166435,
           0.0013869625520110957,
           0,
           0,
           0,
           0,
           0,
           0,
           0,
           0,
           0,
           0.0006934812760055479,
           0.0006934812760055479,
           0,
           0,
           0,
           0,
           0,
           0.0013869625520110957,
           0,
           0,
           0,
           0,
           0,
           0
          ],
          [
           0,
           0,
           0,
           0,
           0,
           0,
           0,
           0,
           0,
           0,
           0,
           0,
           0,
           0,
           0,
           0,
           0,
           0,
           0,
           0,
           0,
           0,
           0,
           0,
           0,
           0
          ],
          [
           0.004160887656033287,
           0.0006934812760055479,
           0.0034674063800277394,
           0.0020804438280166435,
           0,
           0,
           0.0013869625520110957,
           0,
           0.0006934812760055479,
           0.0006934812760055479,
           0,
           0,
           0.0013869625520110957,
           0,
           0.0013869625520110957,
           0.0006934812760055479,
           0.0006934812760055479,
           0.0006934812760055479,
           0.0006934812760055479,
           0.0013869625520110957,
           0,
           0.0006934812760055479,
           0,
           0,
           0,
           0
          ],
          [
           0.0034674063800277394,
           0.0006934812760055479,
           0.0048543689320388345,
           0.0013869625520110957,
           0.0006934812760055479,
           0.0020804438280166435,
           0.0027739251040221915,
           0,
           0,
           0,
           0,
           0.0006934812760055479,
           0.0013869625520110957,
           0.0006934812760055479,
           0.0013869625520110957,
           0.0048543689320388345,
           0,
           0.0006934812760055479,
           0.0020804438280166435,
           0.0020804438280166435,
           0,
           0.0006934812760055479,
           0,
           0,
           0,
           0
          ],
          [
           0.0048543689320388345,
           0.0006934812760055479,
           0.0034674063800277394,
           0.0013869625520110957,
           0,
           0.0013869625520110957,
           0.0006934812760055479,
           0.0006934812760055479,
           0.0013869625520110957,
           0,
           0,
           0,
           0.0020804438280166435,
           0,
           0,
           0.0027739251040221915,
           0.0006934812760055479,
           0.0013869625520110957,
           0.0027739251040221915,
           0.004160887656033287,
           0.0006934812760055479,
           0,
           0,
           0,
           0,
           0
          ],
          [
           0.0076282940360610264,
           0.0020804438280166435,
           0.0076282940360610264,
           0.0048543689320388345,
           0.0027739251040221915,
           0.011095700416088766,
           0,
           0.0020804438280166435,
           0.0006934812760055479,
           0.0013869625520110957,
           0,
           0.005547850208044383,
           0.009015256588072122,
           0.0020804438280166435,
           0.0013869625520110957,
           0.006934812760055479,
           0,
           0.009015256588072122,
           0.004160887656033287,
           0.004160887656033287,
           0.0006934812760055479,
           0.0062413314840499305,
           0,
           0,
           0,
           0
          ],
          [
           0,
           0.0006934812760055479,
           0.005547850208044383,
           0,
           0.0006934812760055479,
           0.0013869625520110957,
           0.0020804438280166435,
           0.0006934812760055479,
           0,
           0,
           0,
           0.0006934812760055479,
           0.0006934812760055479,
           0.0006934812760055479,
           0,
           0.0020804438280166435,
           0,
           0.0013869625520110957,
           0,
           0.005547850208044383,
           0,
           0.0006934812760055479,
           0,
           0.0006934812760055479,
           0,
           0
          ],
          [
           0,
           0,
           0,
           0,
           0,
           0,
           0,
           0,
           0,
           0,
           0,
           0,
           0,
           0,
           0,
           0,
           0,
           0,
           0,
           0,
           0,
           0,
           0,
           0,
           0,
           0
          ],
          [
           0.0048543689320388345,
           0.004160887656033287,
           0.009708737864077669,
           0.0013869625520110957,
           0.0006934812760055479,
           0.004160887656033287,
           0.0020804438280166435,
           0.0006934812760055479,
           0.0006934812760055479,
           0.0020804438280166435,
           0,
           0.0076282940360610264,
           0.0034674063800277394,
           0.0013869625520110957,
           0.0034674063800277394,
           0.0034674063800277394,
           0,
           0.0020804438280166435,
           0.006934812760055479,
           0.0027739251040221915,
           0.0013869625520110957,
           0.0006934812760055479,
           0,
           0,
           0,
           0.0006934812760055479
          ],
          [
           0.0027739251040221915,
           0.0048543689320388345,
           0.0048543689320388345,
           0.0034674063800277394,
           0,
           0.004160887656033287,
           0.0013869625520110957,
           0,
           0.0020804438280166435,
           0,
           0,
           0.0013869625520110957,
           0.0027739251040221915,
           0.0013869625520110957,
           0.0006934812760055479,
           0.005547850208044383,
           0.0006934812760055479,
           0.0013869625520110957,
           0.0013869625520110957,
           0.0034674063800277394,
           0,
           0.0020804438280166435,
           0,
           0,
           0,
           0
          ],
          [
           0.0013869625520110957,
           0.0062413314840499305,
           0.013869625520110958,
           0.0027739251040221915,
           0.0020804438280166435,
           0.005547850208044383,
           0.006934812760055479,
           0.0027739251040221915,
           0.0006934812760055479,
           0.0034674063800277394,
           0,
           0.004160887656033287,
           0.009015256588072122,
           0.0020804438280166435,
           0.0006934812760055479,
           0.015256588072122053,
           0.0006934812760055479,
           0.0027739251040221915,
           0.0076282940360610264,
           0.009015256588072122,
           0,
           0.0048543689320388345,
           0,
           0,
           0,
           0
          ],
          [
           0.0034674063800277394,
           0.0013869625520110957,
           0.0020804438280166435,
           0.0020804438280166435,
           0.0006934812760055479,
           0.0013869625520110957,
           0.0006934812760055479,
           0,
           0,
           0.0013869625520110957,
           0,
           0.0013869625520110957,
           0.0013869625520110957,
           0,
           0,
           0.0013869625520110957,
           0,
           0.0013869625520110957,
           0.0006934812760055479,
           0.0020804438280166435,
           0,
           0.0020804438280166435,
           0,
           0,
           0,
           0
          ],
          [
           0,
           0.0020804438280166435,
           0.006934812760055479,
           0,
           0,
           0.0006934812760055479,
           0.0006934812760055479,
           0,
           0,
           0,
           0,
           0.0006934812760055479,
           0,
           0.0013869625520110957,
           0,
           0.0020804438280166435,
           0,
           0.0027739251040221915,
           0.0027739251040221915,
           0.0027739251040221915,
           0,
           0,
           0,
           0,
           0,
           0
          ],
          [
           0,
           0,
           0,
           0,
           0,
           0,
           0,
           0,
           0,
           0,
           0,
           0,
           0,
           0,
           0,
           0,
           0,
           0,
           0,
           0,
           0,
           0,
           0,
           0,
           0,
           0
          ],
          [
           0.0006934812760055479,
           0.0020804438280166435,
           0.0006934812760055479,
           0,
           0,
           0.0020804438280166435,
           0.0006934812760055479,
           0,
           0,
           0,
           0,
           0,
           0,
           0,
           0,
           0.0013869625520110957,
           0,
           0,
           0,
           0,
           0,
           0,
           0,
           0,
           0,
           0
          ],
          [
           0,
           0,
           0,
           0,
           0,
           0,
           0,
           0,
           0,
           0,
           0,
           0,
           0,
           0,
           0,
           0,
           0,
           0,
           0,
           0,
           0,
           0,
           0,
           0,
           0,
           0
          ],
          [
           0,
           0,
           0.0006934812760055479,
           0,
           0,
           0,
           0,
           0,
           0,
           0.0013869625520110957,
           0,
           0,
           0,
           0,
           0,
           0.0013869625520110957,
           0,
           0,
           0,
           0.0006934812760055479,
           0,
           0,
           0,
           0,
           0,
           0.0006934812760055479
          ]
         ]
        },
        {
         "coloraxis": "coloraxis",
         "name": "0-3",
         "type": "heatmap",
         "visible": false,
         "x": [
          "a",
          "b",
          "c",
          "d",
          "e",
          "f",
          "g",
          "h",
          "i",
          "j",
          "k",
          "l",
          "m",
          "n",
          "o",
          "p",
          "q",
          "r",
          "s",
          "t",
          "u",
          "v",
          "w",
          "x",
          "y",
          "z"
         ],
         "xaxis": "x9",
         "y": [
          "a",
          "b",
          "c",
          "d",
          "e",
          "f",
          "g",
          "h",
          "i",
          "j",
          "k",
          "l",
          "m",
          "n",
          "o",
          "p",
          "q",
          "r",
          "s",
          "t",
          "u",
          "v",
          "w",
          "x",
          "y",
          "z"
         ],
         "yaxis": "y9",
         "z": [
          [
           0.0159500693481276,
           0.010402219140083218,
           0.0159500693481276,
           0.0076282940360610264,
           0.0034674063800277394,
           0.015256588072122053,
           0.005547850208044383,
           0.0006934812760055479,
           0.0034674063800277394,
           0.0020804438280166435,
           0,
           0.015256588072122053,
           0.011095700416088766,
           0.0076282940360610264,
           0.0062413314840499305,
           0.016643550624133148,
           0,
           0.012482662968099861,
           0.014563106796116505,
           0.011095700416088766,
           0.0034674063800277394,
           0.015256588072122053,
           0,
           0,
           0,
           0.0020804438280166435
          ],
          [
           0.0020804438280166435,
           0.0027739251040221915,
           0.0006934812760055479,
           0,
           0,
           0,
           0.0013869625520110957,
           0,
           0,
           0,
           0,
           0.0020804438280166435,
           0,
           0,
           0,
           0.0020804438280166435,
           0.0006934812760055479,
           0.0013869625520110957,
           0.0006934812760055479,
           0.0013869625520110957,
           0.0006934812760055479,
           0.0013869625520110957,
           0,
           0,
           0,
           0
          ],
          [
           0.0006934812760055479,
           0.005547850208044383,
           0.0062413314840499305,
           0,
           0.0027739251040221915,
           0.005547850208044383,
           0.0013869625520110957,
           0,
           0,
           0,
           0,
           0.004160887656033287,
           0.0020804438280166435,
           0.0006934812760055479,
           0.0020804438280166435,
           0.009015256588072122,
           0.0006934812760055479,
           0.0027739251040221915,
           0.0006934812760055479,
           0.009015256588072122,
           0.0013869625520110957,
           0,
           0,
           0,
           0,
           0.0006934812760055479
          ],
          [
           0.008321775312066574,
           0.004160887656033287,
           0.0048543689320388345,
           0.0027739251040221915,
           0.0006934812760055479,
           0.0048543689320388345,
           0.0020804438280166435,
           0,
           0.0013869625520110957,
           0,
           0,
           0.0048543689320388345,
           0.0034674063800277394,
           0,
           0.0006934812760055479,
           0.004160887656033287,
           0.0006934812760055479,
           0.0006934812760055479,
           0.0048543689320388345,
           0.0034674063800277394,
           0.0020804438280166435,
           0.0020804438280166435,
           0,
           0,
           0,
           0
          ],
          [
           0.0062413314840499305,
           0.0020804438280166435,
           0.0027739251040221915,
           0.004160887656033287,
           0.0006934812760055479,
           0.0020804438280166435,
           0.0020804438280166435,
           0.0027739251040221915,
           0.0006934812760055479,
           0.0006934812760055479,
           0,
           0.0034674063800277394,
           0.005547850208044383,
           0.0048543689320388345,
           0.0034674063800277394,
           0.005547850208044383,
           0,
           0.006934812760055479,
           0.0013869625520110957,
           0.0034674063800277394,
           0,
           0.0048543689320388345,
           0,
           0,
           0,
           0.0006934812760055479
          ],
          [
           0,
           0,
           0.0006934812760055479,
           0,
           0,
           0,
           0.0013869625520110957,
           0,
           0,
           0,
           0,
           0,
           0,
           0.0006934812760055479,
           0,
           0,
           0,
           0,
           0.0006934812760055479,
           0.0006934812760055479,
           0,
           0,
           0,
           0,
           0,
           0
          ],
          [
           0.0027739251040221915,
           0.0020804438280166435,
           0.0013869625520110957,
           0,
           0,
           0.0013869625520110957,
           0.0020804438280166435,
           0,
           0,
           0,
           0,
           0.0027739251040221915,
           0.0034674063800277394,
           0,
           0.0006934812760055479,
           0.0034674063800277394,
           0,
           0,
           0.0006934812760055479,
           0.0020804438280166435,
           0,
           0.0013869625520110957,
           0,
           0,
           0,
           0
          ],
          [
           0,
           0.0034674063800277394,
           0.0006934812760055479,
           0.0006934812760055479,
           0,
           0.0027739251040221915,
           0.0013869625520110957,
           0,
           0,
           0.0013869625520110957,
           0,
           0.0020804438280166435,
           0.004160887656033287,
           0.0013869625520110957,
           0,
           0.0027739251040221915,
           0,
           0.0013869625520110957,
           0.0020804438280166435,
           0.0013869625520110957,
           0,
           0.0020804438280166435,
           0,
           0,
           0,
           0
          ],
          [
           0.009015256588072122,
           0.0027739251040221915,
           0.008321775312066574,
           0.0020804438280166435,
           0.0020804438280166435,
           0.008321775312066574,
           0.0027739251040221915,
           0.0006934812760055479,
           0.0013869625520110957,
           0,
           0,
           0.004160887656033287,
           0.009015256588072122,
           0.0013869625520110957,
           0.0027739251040221915,
           0.0062413314840499305,
           0.0006934812760055479,
           0.0020804438280166435,
           0.011789181692094313,
           0.0048543689320388345,
           0.0006934812760055479,
           0.0034674063800277394,
           0,
           0,
           0,
           0
          ],
          [
           0,
           0.0020804438280166435,
           0.0013869625520110957,
           0,
           0,
           0,
           0,
           0,
           0,
           0,
           0,
           0,
           0.0006934812760055479,
           0.0006934812760055479,
           0,
           0,
           0,
           0,
           0,
           0.0013869625520110957,
           0,
           0,
           0,
           0,
           0,
           0
          ],
          [
           0,
           0,
           0,
           0,
           0,
           0,
           0,
           0,
           0,
           0,
           0,
           0,
           0,
           0,
           0,
           0,
           0,
           0,
           0,
           0,
           0,
           0,
           0,
           0,
           0,
           0
          ],
          [
           0.004160887656033287,
           0.0006934812760055479,
           0.0034674063800277394,
           0.0020804438280166435,
           0,
           0,
           0.0013869625520110957,
           0,
           0.0006934812760055479,
           0.0006934812760055479,
           0,
           0,
           0.0013869625520110957,
           0,
           0.0013869625520110957,
           0.0006934812760055479,
           0.0006934812760055479,
           0.0006934812760055479,
           0.0006934812760055479,
           0.0013869625520110957,
           0,
           0.0006934812760055479,
           0,
           0,
           0,
           0
          ],
          [
           0.0034674063800277394,
           0.0006934812760055479,
           0.0048543689320388345,
           0.0013869625520110957,
           0.0006934812760055479,
           0.0020804438280166435,
           0.0027739251040221915,
           0,
           0,
           0,
           0,
           0.0006934812760055479,
           0.0013869625520110957,
           0.0006934812760055479,
           0.0013869625520110957,
           0.0048543689320388345,
           0,
           0.0006934812760055479,
           0.0020804438280166435,
           0.0020804438280166435,
           0,
           0.0006934812760055479,
           0,
           0,
           0,
           0
          ],
          [
           0.0048543689320388345,
           0.0006934812760055479,
           0.0034674063800277394,
           0.0013869625520110957,
           0,
           0.0013869625520110957,
           0.0006934812760055479,
           0.0006934812760055479,
           0.0013869625520110957,
           0,
           0,
           0,
           0.0020804438280166435,
           0,
           0,
           0.0027739251040221915,
           0.0006934812760055479,
           0.0013869625520110957,
           0.0027739251040221915,
           0.004160887656033287,
           0.0006934812760055479,
           0,
           0,
           0,
           0,
           0
          ],
          [
           0.0076282940360610264,
           0.0020804438280166435,
           0.0076282940360610264,
           0.0048543689320388345,
           0.0027739251040221915,
           0.011095700416088766,
           0,
           0.0020804438280166435,
           0.0006934812760055479,
           0.0013869625520110957,
           0,
           0.005547850208044383,
           0.009015256588072122,
           0.0020804438280166435,
           0.0013869625520110957,
           0.006934812760055479,
           0,
           0.009015256588072122,
           0.004160887656033287,
           0.004160887656033287,
           0.0006934812760055479,
           0.0062413314840499305,
           0,
           0,
           0,
           0
          ],
          [
           0,
           0.0006934812760055479,
           0.005547850208044383,
           0,
           0.0006934812760055479,
           0.0013869625520110957,
           0.0020804438280166435,
           0.0006934812760055479,
           0,
           0,
           0,
           0.0006934812760055479,
           0.0006934812760055479,
           0.0006934812760055479,
           0,
           0.0020804438280166435,
           0,
           0.0013869625520110957,
           0,
           0.005547850208044383,
           0,
           0.0006934812760055479,
           0,
           0.0006934812760055479,
           0,
           0
          ],
          [
           0,
           0,
           0,
           0,
           0,
           0,
           0,
           0,
           0,
           0,
           0,
           0,
           0,
           0,
           0,
           0,
           0,
           0,
           0,
           0,
           0,
           0,
           0,
           0,
           0,
           0
          ],
          [
           0.0048543689320388345,
           0.004160887656033287,
           0.009708737864077669,
           0.0013869625520110957,
           0.0006934812760055479,
           0.004160887656033287,
           0.0020804438280166435,
           0.0006934812760055479,
           0.0006934812760055479,
           0.0020804438280166435,
           0,
           0.0076282940360610264,
           0.0034674063800277394,
           0.0013869625520110957,
           0.0034674063800277394,
           0.0034674063800277394,
           0,
           0.0020804438280166435,
           0.006934812760055479,
           0.0027739251040221915,
           0.0013869625520110957,
           0.0006934812760055479,
           0,
           0,
           0,
           0.0006934812760055479
          ],
          [
           0.0027739251040221915,
           0.0048543689320388345,
           0.0048543689320388345,
           0.0034674063800277394,
           0,
           0.004160887656033287,
           0.0013869625520110957,
           0,
           0.0020804438280166435,
           0,
           0,
           0.0013869625520110957,
           0.0027739251040221915,
           0.0013869625520110957,
           0.0006934812760055479,
           0.005547850208044383,
           0.0006934812760055479,
           0.0013869625520110957,
           0.0013869625520110957,
           0.0034674063800277394,
           0,
           0.0020804438280166435,
           0,
           0,
           0,
           0
          ],
          [
           0.0013869625520110957,
           0.0062413314840499305,
           0.013869625520110958,
           0.0027739251040221915,
           0.0020804438280166435,
           0.005547850208044383,
           0.006934812760055479,
           0.0027739251040221915,
           0.0006934812760055479,
           0.0034674063800277394,
           0,
           0.004160887656033287,
           0.009015256588072122,
           0.0020804438280166435,
           0.0006934812760055479,
           0.015256588072122053,
           0.0006934812760055479,
           0.0027739251040221915,
           0.0076282940360610264,
           0.009015256588072122,
           0,
           0.0048543689320388345,
           0,
           0,
           0,
           0
          ],
          [
           0.0034674063800277394,
           0.0013869625520110957,
           0.0020804438280166435,
           0.0020804438280166435,
           0.0006934812760055479,
           0.0013869625520110957,
           0.0006934812760055479,
           0,
           0,
           0.0013869625520110957,
           0,
           0.0013869625520110957,
           0.0013869625520110957,
           0,
           0,
           0.0013869625520110957,
           0,
           0.0013869625520110957,
           0.0006934812760055479,
           0.0020804438280166435,
           0,
           0.0020804438280166435,
           0,
           0,
           0,
           0
          ],
          [
           0,
           0.0020804438280166435,
           0.006934812760055479,
           0,
           0,
           0.0006934812760055479,
           0.0006934812760055479,
           0,
           0,
           0,
           0,
           0.0006934812760055479,
           0,
           0.0013869625520110957,
           0,
           0.0020804438280166435,
           0,
           0.0027739251040221915,
           0.0027739251040221915,
           0.0027739251040221915,
           0,
           0,
           0,
           0,
           0,
           0
          ],
          [
           0,
           0,
           0,
           0,
           0,
           0,
           0,
           0,
           0,
           0,
           0,
           0,
           0,
           0,
           0,
           0,
           0,
           0,
           0,
           0,
           0,
           0,
           0,
           0,
           0,
           0
          ],
          [
           0.0006934812760055479,
           0.0020804438280166435,
           0.0006934812760055479,
           0,
           0,
           0.0020804438280166435,
           0.0006934812760055479,
           0,
           0,
           0,
           0,
           0,
           0,
           0,
           0,
           0.0013869625520110957,
           0,
           0,
           0,
           0,
           0,
           0,
           0,
           0,
           0,
           0
          ],
          [
           0,
           0,
           0,
           0,
           0,
           0,
           0,
           0,
           0,
           0,
           0,
           0,
           0,
           0,
           0,
           0,
           0,
           0,
           0,
           0,
           0,
           0,
           0,
           0,
           0,
           0
          ],
          [
           0,
           0,
           0.0006934812760055479,
           0,
           0,
           0,
           0,
           0,
           0,
           0.0013869625520110957,
           0,
           0,
           0,
           0,
           0,
           0.0013869625520110957,
           0,
           0,
           0,
           0.0006934812760055479,
           0,
           0,
           0,
           0,
           0,
           0.0006934812760055479
          ]
         ]
        },
        {
         "coloraxis": "coloraxis5",
         "name": "0-4",
         "type": "heatmap",
         "visible": true,
         "x": [
          "a",
          "b",
          "c",
          "d",
          "e",
          "f",
          "g",
          "h",
          "i",
          "j",
          "k",
          "l",
          "m",
          "n",
          "o",
          "p",
          "q",
          "r",
          "s",
          "t",
          "u",
          "v",
          "w",
          "x",
          "y",
          "z"
         ],
         "xaxis": "x13",
         "y": [
          "a",
          "b",
          "c",
          "d",
          "e",
          "f",
          "g",
          "h",
          "i",
          "j",
          "k",
          "l",
          "m",
          "n",
          "o",
          "p",
          "q",
          "r",
          "s",
          "t",
          "u",
          "v",
          "w",
          "x",
          "y",
          "z"
         ],
         "yaxis": "y13",
         "z": [
          [
           0.0159500693481276,
           0.021497919556171984,
           0.029819694868238558,
           0.006934812760055479,
           0.0034674063800277394,
           0.02011095700416089,
           0.011789181692094313,
           0.0027739251040221915,
           0.0020804438280166435,
           0.0034674063800277394,
           0,
           0.013176144244105409,
           0.020804438280166437,
           0.0048543689320388345,
           0.0062413314840499305,
           0.030513176144244106,
           0.0027739251040221915,
           0.010402219140083218,
           0.01872399445214979,
           0.02288488210818308,
           0.0034674063800277394,
           0.006934812760055479,
           0,
           0,
           0,
           0.0006934812760055479
          ],
          [
           0,
           0,
           0,
           0,
           0,
           0,
           0,
           0,
           0,
           0,
           0,
           0,
           0,
           0,
           0,
           0,
           0,
           0,
           0,
           0,
           0,
           0,
           0,
           0,
           0,
           0
          ],
          [
           0,
           0,
           0,
           0,
           0,
           0,
           0,
           0,
           0,
           0,
           0,
           0,
           0,
           0,
           0,
           0,
           0,
           0,
           0,
           0,
           0,
           0,
           0,
           0,
           0,
           0
          ],
          [
           0,
           0,
           0,
           0,
           0,
           0,
           0,
           0,
           0,
           0,
           0,
           0,
           0,
           0,
           0,
           0,
           0,
           0,
           0,
           0,
           0,
           0,
           0,
           0,
           0,
           0
          ],
          [
           0.0034674063800277394,
           0.004160887656033287,
           0.016643550624133148,
           0.0027739251040221915,
           0.0013869625520110957,
           0.0062413314840499305,
           0.004160887656033287,
           0.0006934812760055479,
           0.0020804438280166435,
           0.0006934812760055479,
           0,
           0.006934812760055479,
           0.0048543689320388345,
           0.0027739251040221915,
           0.0006934812760055479,
           0.010402219140083218,
           0.0013869625520110957,
           0.0013869625520110957,
           0.005547850208044383,
           0.009015256588072122,
           0,
           0.0027739251040221915,
           0,
           0,
           0,
           0
          ],
          [
           0,
           0,
           0,
           0,
           0,
           0,
           0,
           0,
           0,
           0,
           0,
           0,
           0,
           0,
           0,
           0,
           0,
           0,
           0,
           0,
           0,
           0,
           0,
           0,
           0,
           0
          ],
          [
           0,
           0,
           0,
           0,
           0,
           0,
           0,
           0,
           0,
           0,
           0,
           0,
           0,
           0,
           0,
           0,
           0,
           0,
           0,
           0,
           0,
           0,
           0,
           0,
           0,
           0
          ],
          [
           0,
           0,
           0,
           0,
           0,
           0,
           0,
           0,
           0,
           0,
           0,
           0,
           0,
           0,
           0,
           0,
           0,
           0,
           0,
           0,
           0,
           0,
           0,
           0,
           0,
           0
          ],
          [
           0.0006934812760055479,
           0,
           0.0006934812760055479,
           0.0006934812760055479,
           0.0006934812760055479,
           0,
           0,
           0.0006934812760055479,
           0,
           0,
           0,
           0,
           0,
           0,
           0,
           0.0006934812760055479,
           0,
           0,
           0.0006934812760055479,
           0,
           0,
           0.0006934812760055479,
           0,
           0,
           0,
           0
          ],
          [
           0,
           0,
           0,
           0,
           0,
           0,
           0,
           0,
           0,
           0,
           0,
           0,
           0,
           0,
           0,
           0,
           0,
           0,
           0,
           0,
           0,
           0,
           0,
           0,
           0,
           0
          ],
          [
           0,
           0,
           0,
           0,
           0,
           0,
           0,
           0,
           0,
           0,
           0,
           0,
           0,
           0,
           0,
           0,
           0,
           0,
           0,
           0,
           0,
           0,
           0,
           0,
           0,
           0
          ],
          [
           0.0034674063800277394,
           0.0020804438280166435,
           0.004160887656033287,
           0.0013869625520110957,
           0,
           0.005547850208044383,
           0.0006934812760055479,
           0.0013869625520110957,
           0.0013869625520110957,
           0,
           0,
           0.0020804438280166435,
           0.0034674063800277394,
           0.0027739251040221915,
           0,
           0.0027739251040221915,
           0,
           0.0020804438280166435,
           0.0013869625520110957,
           0.0020804438280166435,
           0.0006934812760055479,
           0.0048543689320388345,
           0,
           0,
           0,
           0
          ],
          [
           0.0020804438280166435,
           0.0006934812760055479,
           0.0034674063800277394,
           0,
           0.0006934812760055479,
           0.0006934812760055479,
           0,
           0.0006934812760055479,
           0,
           0.0013869625520110957,
           0,
           0.0006934812760055479,
           0.0013869625520110957,
           0.0013869625520110957,
           0.0013869625520110957,
           0.0020804438280166435,
           0,
           0.0006934812760055479,
           0.0006934812760055479,
           0.0006934812760055479,
           0,
           0,
           0,
           0,
           0,
           0
          ],
          [
           0,
           0.0006934812760055479,
           0.0006934812760055479,
           0,
           0,
           0,
           0,
           0.0006934812760055479,
           0,
           0,
           0,
           0,
           0,
           0,
           0,
           0.0006934812760055479,
           0,
           0,
           0,
           0,
           0,
           0,
           0,
           0,
           0,
           0
          ],
          [
           0.023578363384188627,
           0.020804438280166437,
           0.030513176144244106,
           0.009015256588072122,
           0.005547850208044383,
           0.016643550624133148,
           0.0159500693481276,
           0.0013869625520110957,
           0.0048543689320388345,
           0.005547850208044383,
           0,
           0.018030513176144243,
           0.01872399445214979,
           0.0062413314840499305,
           0.009015256588072122,
           0.027045769764216365,
           0.0006934812760055479,
           0.011789181692094313,
           0.021497919556171984,
           0.024965325936199722,
           0.0027739251040221915,
           0.014563106796116505,
           0,
           0,
           0,
           0.0013869625520110957
          ],
          [
           0,
           0,
           0,
           0,
           0,
           0,
           0,
           0,
           0,
           0,
           0,
           0,
           0,
           0,
           0,
           0,
           0,
           0,
           0,
           0,
           0,
           0,
           0,
           0,
           0,
           0
          ],
          [
           0,
           0,
           0,
           0,
           0,
           0,
           0,
           0,
           0,
           0,
           0,
           0,
           0,
           0,
           0,
           0,
           0,
           0,
           0,
           0,
           0,
           0,
           0,
           0,
           0,
           0
          ],
          [
           0.011095700416088766,
           0.005547850208044383,
           0.011095700416088766,
           0.006934812760055479,
           0.0027739251040221915,
           0.012482662968099861,
           0.0048543689320388345,
           0.0013869625520110957,
           0.0013869625520110957,
           0.0013869625520110957,
           0,
           0.009708737864077669,
           0.009708737864077669,
           0.0034674063800277394,
           0.004160887656033287,
           0.0159500693481276,
           0,
           0.013869625520110958,
           0.012482662968099861,
           0.0076282940360610264,
           0.0006934812760055479,
           0.009708737864077669,
           0,
           0,
           0,
           0.0020804438280166435
          ],
          [
           0.015256588072122053,
           0.0048543689320388345,
           0.0076282940360610264,
           0.009015256588072122,
           0.0027739251040221915,
           0.010402219140083218,
           0.0020804438280166435,
           0.0013869625520110957,
           0.0013869625520110957,
           0.0020804438280166435,
           0,
           0.010402219140083218,
           0.010402219140083218,
           0.004160887656033287,
           0.0034674063800277394,
           0.0076282940360610264,
           0.0006934812760055479,
           0.010402219140083218,
           0.004160887656033287,
           0.008321775312066574,
           0.0027739251040221915,
           0.0076282940360610264,
           0,
           0,
           0,
           0.0006934812760055479
          ],
          [
           0,
           0,
           0,
           0,
           0,
           0,
           0,
           0,
           0,
           0,
           0,
           0,
           0,
           0,
           0,
           0,
           0,
           0,
           0,
           0,
           0,
           0,
           0,
           0,
           0,
           0
          ],
          [
           0,
           0.0006934812760055479,
           0.0006934812760055479,
           0,
           0,
           0,
           0,
           0,
           0,
           0,
           0,
           0,
           0.0006934812760055479,
           0,
           0,
           0,
           0,
           0,
           0.0006934812760055479,
           0.0006934812760055479,
           0.0006934812760055479,
           0,
           0,
           0.0006934812760055479,
           0,
           0
          ],
          [
           0,
           0,
           0,
           0,
           0,
           0,
           0,
           0,
           0,
           0,
           0,
           0,
           0,
           0,
           0,
           0,
           0,
           0,
           0,
           0,
           0,
           0,
           0,
           0,
           0,
           0
          ],
          [
           0,
           0,
           0,
           0,
           0,
           0,
           0,
           0,
           0,
           0,
           0,
           0,
           0,
           0,
           0,
           0,
           0,
           0,
           0,
           0,
           0,
           0,
           0,
           0,
           0,
           0
          ],
          [
           0,
           0,
           0,
           0,
           0,
           0,
           0,
           0,
           0,
           0,
           0,
           0,
           0,
           0,
           0,
           0,
           0,
           0,
           0,
           0.0006934812760055479,
           0,
           0,
           0,
           0,
           0,
           0
          ],
          [
           0,
           0,
           0,
           0,
           0,
           0,
           0,
           0,
           0,
           0,
           0,
           0,
           0,
           0,
           0,
           0,
           0,
           0,
           0,
           0,
           0,
           0,
           0,
           0,
           0,
           0
          ],
          [
           0.0027739251040221915,
           0,
           0.0013869625520110957,
           0,
           0,
           0.0020804438280166435,
           0,
           0,
           0,
           0,
           0,
           0,
           0.0006934812760055479,
           0.0013869625520110957,
           0,
           0,
           0,
           0.0006934812760055479,
           0.0006934812760055479,
           0,
           0,
           0.0013869625520110957,
           0,
           0,
           0,
           0
          ]
         ]
        },
        {
         "coloraxis": "coloraxis",
         "name": "0-4",
         "type": "heatmap",
         "visible": false,
         "x": [
          "a",
          "b",
          "c",
          "d",
          "e",
          "f",
          "g",
          "h",
          "i",
          "j",
          "k",
          "l",
          "m",
          "n",
          "o",
          "p",
          "q",
          "r",
          "s",
          "t",
          "u",
          "v",
          "w",
          "x",
          "y",
          "z"
         ],
         "xaxis": "x13",
         "y": [
          "a",
          "b",
          "c",
          "d",
          "e",
          "f",
          "g",
          "h",
          "i",
          "j",
          "k",
          "l",
          "m",
          "n",
          "o",
          "p",
          "q",
          "r",
          "s",
          "t",
          "u",
          "v",
          "w",
          "x",
          "y",
          "z"
         ],
         "yaxis": "y13",
         "z": [
          [
           0.0159500693481276,
           0.021497919556171984,
           0.029819694868238558,
           0.006934812760055479,
           0.0034674063800277394,
           0.02011095700416089,
           0.011789181692094313,
           0.0027739251040221915,
           0.0020804438280166435,
           0.0034674063800277394,
           0,
           0.013176144244105409,
           0.020804438280166437,
           0.0048543689320388345,
           0.0062413314840499305,
           0.030513176144244106,
           0.0027739251040221915,
           0.010402219140083218,
           0.01872399445214979,
           0.02288488210818308,
           0.0034674063800277394,
           0.006934812760055479,
           0,
           0,
           0,
           0.0006934812760055479
          ],
          [
           0,
           0,
           0,
           0,
           0,
           0,
           0,
           0,
           0,
           0,
           0,
           0,
           0,
           0,
           0,
           0,
           0,
           0,
           0,
           0,
           0,
           0,
           0,
           0,
           0,
           0
          ],
          [
           0,
           0,
           0,
           0,
           0,
           0,
           0,
           0,
           0,
           0,
           0,
           0,
           0,
           0,
           0,
           0,
           0,
           0,
           0,
           0,
           0,
           0,
           0,
           0,
           0,
           0
          ],
          [
           0,
           0,
           0,
           0,
           0,
           0,
           0,
           0,
           0,
           0,
           0,
           0,
           0,
           0,
           0,
           0,
           0,
           0,
           0,
           0,
           0,
           0,
           0,
           0,
           0,
           0
          ],
          [
           0.0034674063800277394,
           0.004160887656033287,
           0.016643550624133148,
           0.0027739251040221915,
           0.0013869625520110957,
           0.0062413314840499305,
           0.004160887656033287,
           0.0006934812760055479,
           0.0020804438280166435,
           0.0006934812760055479,
           0,
           0.006934812760055479,
           0.0048543689320388345,
           0.0027739251040221915,
           0.0006934812760055479,
           0.010402219140083218,
           0.0013869625520110957,
           0.0013869625520110957,
           0.005547850208044383,
           0.009015256588072122,
           0,
           0.0027739251040221915,
           0,
           0,
           0,
           0
          ],
          [
           0,
           0,
           0,
           0,
           0,
           0,
           0,
           0,
           0,
           0,
           0,
           0,
           0,
           0,
           0,
           0,
           0,
           0,
           0,
           0,
           0,
           0,
           0,
           0,
           0,
           0
          ],
          [
           0,
           0,
           0,
           0,
           0,
           0,
           0,
           0,
           0,
           0,
           0,
           0,
           0,
           0,
           0,
           0,
           0,
           0,
           0,
           0,
           0,
           0,
           0,
           0,
           0,
           0
          ],
          [
           0,
           0,
           0,
           0,
           0,
           0,
           0,
           0,
           0,
           0,
           0,
           0,
           0,
           0,
           0,
           0,
           0,
           0,
           0,
           0,
           0,
           0,
           0,
           0,
           0,
           0
          ],
          [
           0.0006934812760055479,
           0,
           0.0006934812760055479,
           0.0006934812760055479,
           0.0006934812760055479,
           0,
           0,
           0.0006934812760055479,
           0,
           0,
           0,
           0,
           0,
           0,
           0,
           0.0006934812760055479,
           0,
           0,
           0.0006934812760055479,
           0,
           0,
           0.0006934812760055479,
           0,
           0,
           0,
           0
          ],
          [
           0,
           0,
           0,
           0,
           0,
           0,
           0,
           0,
           0,
           0,
           0,
           0,
           0,
           0,
           0,
           0,
           0,
           0,
           0,
           0,
           0,
           0,
           0,
           0,
           0,
           0
          ],
          [
           0,
           0,
           0,
           0,
           0,
           0,
           0,
           0,
           0,
           0,
           0,
           0,
           0,
           0,
           0,
           0,
           0,
           0,
           0,
           0,
           0,
           0,
           0,
           0,
           0,
           0
          ],
          [
           0.0034674063800277394,
           0.0020804438280166435,
           0.004160887656033287,
           0.0013869625520110957,
           0,
           0.005547850208044383,
           0.0006934812760055479,
           0.0013869625520110957,
           0.0013869625520110957,
           0,
           0,
           0.0020804438280166435,
           0.0034674063800277394,
           0.0027739251040221915,
           0,
           0.0027739251040221915,
           0,
           0.0020804438280166435,
           0.0013869625520110957,
           0.0020804438280166435,
           0.0006934812760055479,
           0.0048543689320388345,
           0,
           0,
           0,
           0
          ],
          [
           0.0020804438280166435,
           0.0006934812760055479,
           0.0034674063800277394,
           0,
           0.0006934812760055479,
           0.0006934812760055479,
           0,
           0.0006934812760055479,
           0,
           0.0013869625520110957,
           0,
           0.0006934812760055479,
           0.0013869625520110957,
           0.0013869625520110957,
           0.0013869625520110957,
           0.0020804438280166435,
           0,
           0.0006934812760055479,
           0.0006934812760055479,
           0.0006934812760055479,
           0,
           0,
           0,
           0,
           0,
           0
          ],
          [
           0,
           0.0006934812760055479,
           0.0006934812760055479,
           0,
           0,
           0,
           0,
           0.0006934812760055479,
           0,
           0,
           0,
           0,
           0,
           0,
           0,
           0.0006934812760055479,
           0,
           0,
           0,
           0,
           0,
           0,
           0,
           0,
           0,
           0
          ],
          [
           0.023578363384188627,
           0.020804438280166437,
           0.030513176144244106,
           0.009015256588072122,
           0.005547850208044383,
           0.016643550624133148,
           0.0159500693481276,
           0.0013869625520110957,
           0.0048543689320388345,
           0.005547850208044383,
           0,
           0.018030513176144243,
           0.01872399445214979,
           0.0062413314840499305,
           0.009015256588072122,
           0.027045769764216365,
           0.0006934812760055479,
           0.011789181692094313,
           0.021497919556171984,
           0.024965325936199722,
           0.0027739251040221915,
           0.014563106796116505,
           0,
           0,
           0,
           0.0013869625520110957
          ],
          [
           0,
           0,
           0,
           0,
           0,
           0,
           0,
           0,
           0,
           0,
           0,
           0,
           0,
           0,
           0,
           0,
           0,
           0,
           0,
           0,
           0,
           0,
           0,
           0,
           0,
           0
          ],
          [
           0,
           0,
           0,
           0,
           0,
           0,
           0,
           0,
           0,
           0,
           0,
           0,
           0,
           0,
           0,
           0,
           0,
           0,
           0,
           0,
           0,
           0,
           0,
           0,
           0,
           0
          ],
          [
           0.011095700416088766,
           0.005547850208044383,
           0.011095700416088766,
           0.006934812760055479,
           0.0027739251040221915,
           0.012482662968099861,
           0.0048543689320388345,
           0.0013869625520110957,
           0.0013869625520110957,
           0.0013869625520110957,
           0,
           0.009708737864077669,
           0.009708737864077669,
           0.0034674063800277394,
           0.004160887656033287,
           0.0159500693481276,
           0,
           0.013869625520110958,
           0.012482662968099861,
           0.0076282940360610264,
           0.0006934812760055479,
           0.009708737864077669,
           0,
           0,
           0,
           0.0020804438280166435
          ],
          [
           0.015256588072122053,
           0.0048543689320388345,
           0.0076282940360610264,
           0.009015256588072122,
           0.0027739251040221915,
           0.010402219140083218,
           0.0020804438280166435,
           0.0013869625520110957,
           0.0013869625520110957,
           0.0020804438280166435,
           0,
           0.010402219140083218,
           0.010402219140083218,
           0.004160887656033287,
           0.0034674063800277394,
           0.0076282940360610264,
           0.0006934812760055479,
           0.010402219140083218,
           0.004160887656033287,
           0.008321775312066574,
           0.0027739251040221915,
           0.0076282940360610264,
           0,
           0,
           0,
           0.0006934812760055479
          ],
          [
           0,
           0,
           0,
           0,
           0,
           0,
           0,
           0,
           0,
           0,
           0,
           0,
           0,
           0,
           0,
           0,
           0,
           0,
           0,
           0,
           0,
           0,
           0,
           0,
           0,
           0
          ],
          [
           0,
           0.0006934812760055479,
           0.0006934812760055479,
           0,
           0,
           0,
           0,
           0,
           0,
           0,
           0,
           0,
           0.0006934812760055479,
           0,
           0,
           0,
           0,
           0,
           0.0006934812760055479,
           0.0006934812760055479,
           0.0006934812760055479,
           0,
           0,
           0.0006934812760055479,
           0,
           0
          ],
          [
           0,
           0,
           0,
           0,
           0,
           0,
           0,
           0,
           0,
           0,
           0,
           0,
           0,
           0,
           0,
           0,
           0,
           0,
           0,
           0,
           0,
           0,
           0,
           0,
           0,
           0
          ],
          [
           0,
           0,
           0,
           0,
           0,
           0,
           0,
           0,
           0,
           0,
           0,
           0,
           0,
           0,
           0,
           0,
           0,
           0,
           0,
           0,
           0,
           0,
           0,
           0,
           0,
           0
          ],
          [
           0,
           0,
           0,
           0,
           0,
           0,
           0,
           0,
           0,
           0,
           0,
           0,
           0,
           0,
           0,
           0,
           0,
           0,
           0,
           0.0006934812760055479,
           0,
           0,
           0,
           0,
           0,
           0
          ],
          [
           0,
           0,
           0,
           0,
           0,
           0,
           0,
           0,
           0,
           0,
           0,
           0,
           0,
           0,
           0,
           0,
           0,
           0,
           0,
           0,
           0,
           0,
           0,
           0,
           0,
           0
          ],
          [
           0.0027739251040221915,
           0,
           0.0013869625520110957,
           0,
           0,
           0.0020804438280166435,
           0,
           0,
           0,
           0,
           0,
           0,
           0.0006934812760055479,
           0.0013869625520110957,
           0,
           0,
           0,
           0.0006934812760055479,
           0.0006934812760055479,
           0,
           0,
           0.0013869625520110957,
           0,
           0,
           0,
           0
          ]
         ]
        },
        {
         "coloraxis": "coloraxis4",
         "name": "1-2",
         "type": "heatmap",
         "visible": true,
         "x": [
          "a",
          "b",
          "c",
          "d",
          "e",
          "f",
          "g",
          "h",
          "i",
          "j",
          "k",
          "l",
          "m",
          "n",
          "o",
          "p",
          "q",
          "r",
          "s",
          "t",
          "u",
          "v",
          "w",
          "x",
          "y",
          "z"
         ],
         "xaxis": "x6",
         "y": [
          "a",
          "b",
          "c",
          "d",
          "e",
          "f",
          "g",
          "h",
          "i",
          "j",
          "k",
          "l",
          "m",
          "n",
          "o",
          "p",
          "q",
          "r",
          "s",
          "t",
          "u",
          "v",
          "w",
          "x",
          "y",
          "z"
         ],
         "yaxis": "y6",
         "z": [
          [
           0,
           0.0006934812760055479,
           0.0013869625520110957,
           0.0013869625520110957,
           0.0034674063800277394,
           0.0006934812760055479,
           0,
           0.0034674063800277394,
           0.0034674063800277394,
           0,
           0,
           0.0034674063800277394,
           0.0013869625520110957,
           0.0006934812760055479,
           0.0027739251040221915,
           0.0006934812760055479,
           0,
           0.02565880721220527,
           0.0006934812760055479,
           0.0006934812760055479,
           0.0027739251040221915,
           0.0006934812760055479,
           0,
           0.0020804438280166435,
           0,
           0
          ],
          [
           0.009015256588072122,
           0,
           0,
           0,
           0.004160887656033287,
           0,
           0,
           0,
           0.0020804438280166435,
           0,
           0,
           0.0006934812760055479,
           0.0027739251040221915,
           0,
           0.0076282940360610264,
           0,
           0,
           0,
           0,
           0,
           0.0027739251040221915,
           0,
           0,
           0,
           0,
           0
          ],
          [
           0.017337031900138695,
           0,
           0,
           0,
           0.004160887656033287,
           0,
           0,
           0,
           0.0076282940360610264,
           0,
           0,
           0.0006934812760055479,
           0,
           0,
           0.014563106796116505,
           0.0006934812760055479,
           0,
           0.0013869625520110957,
           0,
           0,
           0.0048543689320388345,
           0,
           0,
           0,
           0,
           0
          ],
          [
           0.005547850208044383,
           0,
           0,
           0,
           0.010402219140083218,
           0,
           0,
           0,
           0.0048543689320388345,
           0,
           0,
           0,
           0,
           0.0020804438280166435,
           0.006934812760055479,
           0,
           0,
           0.0034674063800277394,
           0,
           0,
           0.0034674063800277394,
           0,
           0,
           0,
           0,
           0
          ],
          [
           0,
           0.0006934812760055479,
           0.0013869625520110957,
           0.0027739251040221915,
           0,
           0.0006934812760055479,
           0.0006934812760055479,
           0.0020804438280166435,
           0.0013869625520110957,
           0,
           0,
           0.0034674063800277394,
           0.0020804438280166435,
           0.0020804438280166435,
           0.004160887656033287,
           0.0013869625520110957,
           0,
           0.021497919556171984,
           0,
           0.0013869625520110957,
           0.0048543689320388345,
           0.0013869625520110957,
           0,
           0,
           0,
           0.0006934812760055479
          ],
          [
           0.0013869625520110957,
           0,
           0,
           0,
           0.0006934812760055479,
           0,
           0,
           0,
           0.0013869625520110957,
           0,
           0,
           0,
           0,
           0.0013869625520110957,
           0.0013869625520110957,
           0,
           0,
           0.0006934812760055479,
           0,
           0,
           0.0020804438280166435,
           0,
           0,
           0,
           0,
           0
          ],
          [
           0.009015256588072122,
           0,
           0,
           0,
           0.0062413314840499305,
           0,
           0,
           0,
           0.005547850208044383,
           0,
           0,
           0.0013869625520110957,
           0,
           0.0006934812760055479,
           0.005547850208044383,
           0,
           0,
           0.0013869625520110957,
           0,
           0,
           0.0027739251040221915,
           0,
           0,
           0,
           0,
           0
          ],
          [
           0,
           0,
           0.0013869625520110957,
           0,
           0,
           0,
           0,
           0,
           0,
           0,
           0,
           0.0013869625520110957,
           0,
           0.0006934812760055479,
           0,
           0,
           0,
           0,
           0,
           0,
           0,
           0,
           0,
           0,
           0,
           0
          ],
          [
           0.011095700416088766,
           0,
           0.0013869625520110957,
           0.0013869625520110957,
           0.014563106796116505,
           0.0006934812760055479,
           0,
           0.0006934812760055479,
           0,
           0,
           0,
           0.004160887656033287,
           0.0013869625520110957,
           0.0034674063800277394,
           0.009015256588072122,
           0.0020804438280166435,
           0,
           0.012482662968099861,
           0.0006934812760055479,
           0.004160887656033287,
           0.009708737864077669,
           0.0020804438280166435,
           0,
           0.0020804438280166435,
           0,
           0
          ],
          [
           0.0006934812760055479,
           0,
           0,
           0,
           0.0006934812760055479,
           0,
           0,
           0,
           0,
           0,
           0,
           0,
           0,
           0.0013869625520110957,
           0.0006934812760055479,
           0,
           0,
           0,
           0,
           0,
           0.0020804438280166435,
           0,
           0,
           0,
           0,
           0
          ],
          [
           0,
           0,
           0,
           0,
           0,
           0,
           0,
           0,
           0,
           0,
           0,
           0,
           0,
           0,
           0,
           0,
           0,
           0,
           0,
           0,
           0,
           0,
           0,
           0,
           0,
           0
          ],
          [
           0.024271844660194174,
           0,
           0,
           0,
           0.015256588072122053,
           0,
           0,
           0,
           0.0076282940360610264,
           0,
           0,
           0,
           0,
           0,
           0.018030513176144243,
           0,
           0,
           0,
           0,
           0.0006934812760055479,
           0.0076282940360610264,
           0,
           0,
           0,
           0,
           0
          ],
          [
           0.009015256588072122,
           0,
           0,
           0,
           0.004160887656033287,
           0,
           0,
           0,
           0.005547850208044383,
           0,
           0,
           0.0006934812760055479,
           0,
           0,
           0.010402219140083218,
           0,
           0,
           0.0020804438280166435,
           0,
           0,
           0.0048543689320388345,
           0,
           0,
           0,
           0,
           0
          ],
          [
           0.02565880721220527,
           0,
           0,
           0,
           0.027045769764216365,
           0,
           0,
           0,
           0.02288488210818308,
           0,
           0,
           0,
           0,
           0,
           0.0159500693481276,
           0,
           0,
           0.0006934812760055479,
           0,
           0.0006934812760055479,
           0.009015256588072122,
           0,
           0,
           0,
           0,
           0
          ],
          [
           0,
           0.0006934812760055479,
           0.0027739251040221915,
           0.0020804438280166435,
           0.0013869625520110957,
           0,
           0.0006934812760055479,
           0.0006934812760055479,
           0.004160887656033287,
           0,
           0,
           0.004160887656033287,
           0.0006934812760055479,
           0.0013869625520110957,
           0,
           0.0013869625520110957,
           0,
           0.0076282940360610264,
           0,
           0.0006934812760055479,
           0.0006934812760055479,
           0,
           0,
           0.0006934812760055479,
           0,
           0
          ],
          [
           0.0062413314840499305,
           0,
           0,
           0,
           0.0013869625520110957,
           0,
           0,
           0,
           0.0013869625520110957,
           0,
           0,
           0,
           0.0027739251040221915,
           0,
           0.0027739251040221915,
           0,
           0,
           0,
           0.0006934812760055479,
           0,
           0.004160887656033287,
           0,
           0,
           0.0006934812760055479,
           0,
           0
          ],
          [
           0.0027739251040221915,
           0,
           0,
           0,
           0.0006934812760055479,
           0,
           0,
           0,
           0.0006934812760055479,
           0,
           0,
           0,
           0,
           0,
           0.0006934812760055479,
           0,
           0,
           0,
           0.0006934812760055479,
           0,
           0.0006934812760055479,
           0,
           0,
           0,
           0,
           0
          ],
          [
           0.03814147018030513,
           0.0027739251040221915,
           0,
           0,
           0.029819694868238558,
           0,
           0,
           0,
           0.011789181692094313,
           0,
           0,
           0,
           0,
           0,
           0.0319001386962552,
           0,
           0,
           0.0020804438280166435,
           0,
           0.0020804438280166435,
           0.02011095700416089,
           0,
           0,
           0,
           0,
           0
          ],
          [
           0.0159500693481276,
           0,
           0,
           0,
           0.018030513176144243,
           0,
           0,
           0,
           0.014563106796116505,
           0,
           0,
           0,
           0,
           0.0006934812760055479,
           0.017337031900138695,
           0,
           0,
           0.0006934812760055479,
           0.0034674063800277394,
           0,
           0.009015256588072122,
           0,
           0,
           0,
           0,
           0
          ],
          [
           0.012482662968099861,
           0.0006934812760055479,
           0,
           0,
           0.010402219140083218,
           0,
           0,
           0,
           0.006934812760055479,
           0,
           0,
           0.0013869625520110957,
           0,
           0.0034674063800277394,
           0.011095700416088766,
           0.0006934812760055479,
           0,
           0.0006934812760055479,
           0.0027739251040221915,
           0,
           0.009015256588072122,
           0,
           0,
           0.0006934812760055479,
           0,
           0
          ],
          [
           0.0076282940360610264,
           0.0006934812760055479,
           0.0006934812760055479,
           0,
           0.0020804438280166435,
           0,
           0.0020804438280166435,
           0.0013869625520110957,
           0.0013869625520110957,
           0.0006934812760055479,
           0,
           0.0048543689320388345,
           0.0006934812760055479,
           0.0006934812760055479,
           0.010402219140083218,
           0,
           0,
           0.009708737864077669,
           0.0013869625520110957,
           0.0013869625520110957,
           0,
           0.0006934812760055479,
           0,
           0,
           0,
           0
          ],
          [
           0.006934812760055479,
           0.0006934812760055479,
           0,
           0.0006934812760055479,
           0.004160887656033287,
           0,
           0,
           0,
           0.0062413314840499305,
           0,
           0,
           0,
           0,
           0.0006934812760055479,
           0.0048543689320388345,
           0,
           0,
           0.0006934812760055479,
           0,
           0,
           0.0020804438280166435,
           0,
           0,
           0,
           0,
           0
          ],
          [
           0,
           0,
           0,
           0,
           0,
           0,
           0,
           0,
           0,
           0,
           0,
           0,
           0,
           0,
           0,
           0,
           0,
           0,
           0,
           0,
           0,
           0,
           0,
           0,
           0,
           0
          ],
          [
           0.0006934812760055479,
           0,
           0,
           0,
           0.0027739251040221915,
           0,
           0,
           0,
           0.0020804438280166435,
           0,
           0,
           0,
           0,
           0,
           0.0013869625520110957,
           0,
           0,
           0,
           0,
           0,
           0.0013869625520110957,
           0,
           0,
           0,
           0,
           0
          ],
          [
           0,
           0,
           0,
           0,
           0,
           0,
           0,
           0,
           0,
           0,
           0,
           0,
           0,
           0,
           0,
           0,
           0,
           0,
           0,
           0,
           0,
           0,
           0,
           0,
           0,
           0
          ],
          [
           0.005547850208044383,
           0,
           0,
           0,
           0.0013869625520110957,
           0,
           0,
           0,
           0.0013869625520110957,
           0,
           0,
           0,
           0,
           0.0006934812760055479,
           0.0020804438280166435,
           0,
           0,
           0,
           0,
           0,
           0.0020804438280166435,
           0,
           0,
           0,
           0,
           0
          ]
         ]
        },
        {
         "coloraxis": "coloraxis",
         "name": "1-2",
         "type": "heatmap",
         "visible": false,
         "x": [
          "a",
          "b",
          "c",
          "d",
          "e",
          "f",
          "g",
          "h",
          "i",
          "j",
          "k",
          "l",
          "m",
          "n",
          "o",
          "p",
          "q",
          "r",
          "s",
          "t",
          "u",
          "v",
          "w",
          "x",
          "y",
          "z"
         ],
         "xaxis": "x6",
         "y": [
          "a",
          "b",
          "c",
          "d",
          "e",
          "f",
          "g",
          "h",
          "i",
          "j",
          "k",
          "l",
          "m",
          "n",
          "o",
          "p",
          "q",
          "r",
          "s",
          "t",
          "u",
          "v",
          "w",
          "x",
          "y",
          "z"
         ],
         "yaxis": "y6",
         "z": [
          [
           0,
           0.0006934812760055479,
           0.0013869625520110957,
           0.0013869625520110957,
           0.0034674063800277394,
           0.0006934812760055479,
           0,
           0.0034674063800277394,
           0.0034674063800277394,
           0,
           0,
           0.0034674063800277394,
           0.0013869625520110957,
           0.0006934812760055479,
           0.0027739251040221915,
           0.0006934812760055479,
           0,
           0.02565880721220527,
           0.0006934812760055479,
           0.0006934812760055479,
           0.0027739251040221915,
           0.0006934812760055479,
           0,
           0.0020804438280166435,
           0,
           0
          ],
          [
           0.009015256588072122,
           0,
           0,
           0,
           0.004160887656033287,
           0,
           0,
           0,
           0.0020804438280166435,
           0,
           0,
           0.0006934812760055479,
           0.0027739251040221915,
           0,
           0.0076282940360610264,
           0,
           0,
           0,
           0,
           0,
           0.0027739251040221915,
           0,
           0,
           0,
           0,
           0
          ],
          [
           0.017337031900138695,
           0,
           0,
           0,
           0.004160887656033287,
           0,
           0,
           0,
           0.0076282940360610264,
           0,
           0,
           0.0006934812760055479,
           0,
           0,
           0.014563106796116505,
           0.0006934812760055479,
           0,
           0.0013869625520110957,
           0,
           0,
           0.0048543689320388345,
           0,
           0,
           0,
           0,
           0
          ],
          [
           0.005547850208044383,
           0,
           0,
           0,
           0.010402219140083218,
           0,
           0,
           0,
           0.0048543689320388345,
           0,
           0,
           0,
           0,
           0.0020804438280166435,
           0.006934812760055479,
           0,
           0,
           0.0034674063800277394,
           0,
           0,
           0.0034674063800277394,
           0,
           0,
           0,
           0,
           0
          ],
          [
           0,
           0.0006934812760055479,
           0.0013869625520110957,
           0.0027739251040221915,
           0,
           0.0006934812760055479,
           0.0006934812760055479,
           0.0020804438280166435,
           0.0013869625520110957,
           0,
           0,
           0.0034674063800277394,
           0.0020804438280166435,
           0.0020804438280166435,
           0.004160887656033287,
           0.0013869625520110957,
           0,
           0.021497919556171984,
           0,
           0.0013869625520110957,
           0.0048543689320388345,
           0.0013869625520110957,
           0,
           0,
           0,
           0.0006934812760055479
          ],
          [
           0.0013869625520110957,
           0,
           0,
           0,
           0.0006934812760055479,
           0,
           0,
           0,
           0.0013869625520110957,
           0,
           0,
           0,
           0,
           0.0013869625520110957,
           0.0013869625520110957,
           0,
           0,
           0.0006934812760055479,
           0,
           0,
           0.0020804438280166435,
           0,
           0,
           0,
           0,
           0
          ],
          [
           0.009015256588072122,
           0,
           0,
           0,
           0.0062413314840499305,
           0,
           0,
           0,
           0.005547850208044383,
           0,
           0,
           0.0013869625520110957,
           0,
           0.0006934812760055479,
           0.005547850208044383,
           0,
           0,
           0.0013869625520110957,
           0,
           0,
           0.0027739251040221915,
           0,
           0,
           0,
           0,
           0
          ],
          [
           0,
           0,
           0.0013869625520110957,
           0,
           0,
           0,
           0,
           0,
           0,
           0,
           0,
           0.0013869625520110957,
           0,
           0.0006934812760055479,
           0,
           0,
           0,
           0,
           0,
           0,
           0,
           0,
           0,
           0,
           0,
           0
          ],
          [
           0.011095700416088766,
           0,
           0.0013869625520110957,
           0.0013869625520110957,
           0.014563106796116505,
           0.0006934812760055479,
           0,
           0.0006934812760055479,
           0,
           0,
           0,
           0.004160887656033287,
           0.0013869625520110957,
           0.0034674063800277394,
           0.009015256588072122,
           0.0020804438280166435,
           0,
           0.012482662968099861,
           0.0006934812760055479,
           0.004160887656033287,
           0.009708737864077669,
           0.0020804438280166435,
           0,
           0.0020804438280166435,
           0,
           0
          ],
          [
           0.0006934812760055479,
           0,
           0,
           0,
           0.0006934812760055479,
           0,
           0,
           0,
           0,
           0,
           0,
           0,
           0,
           0.0013869625520110957,
           0.0006934812760055479,
           0,
           0,
           0,
           0,
           0,
           0.0020804438280166435,
           0,
           0,
           0,
           0,
           0
          ],
          [
           0,
           0,
           0,
           0,
           0,
           0,
           0,
           0,
           0,
           0,
           0,
           0,
           0,
           0,
           0,
           0,
           0,
           0,
           0,
           0,
           0,
           0,
           0,
           0,
           0,
           0
          ],
          [
           0.024271844660194174,
           0,
           0,
           0,
           0.015256588072122053,
           0,
           0,
           0,
           0.0076282940360610264,
           0,
           0,
           0,
           0,
           0,
           0.018030513176144243,
           0,
           0,
           0,
           0,
           0.0006934812760055479,
           0.0076282940360610264,
           0,
           0,
           0,
           0,
           0
          ],
          [
           0.009015256588072122,
           0,
           0,
           0,
           0.004160887656033287,
           0,
           0,
           0,
           0.005547850208044383,
           0,
           0,
           0.0006934812760055479,
           0,
           0,
           0.010402219140083218,
           0,
           0,
           0.0020804438280166435,
           0,
           0,
           0.0048543689320388345,
           0,
           0,
           0,
           0,
           0
          ],
          [
           0.02565880721220527,
           0,
           0,
           0,
           0.027045769764216365,
           0,
           0,
           0,
           0.02288488210818308,
           0,
           0,
           0,
           0,
           0,
           0.0159500693481276,
           0,
           0,
           0.0006934812760055479,
           0,
           0.0006934812760055479,
           0.009015256588072122,
           0,
           0,
           0,
           0,
           0
          ],
          [
           0,
           0.0006934812760055479,
           0.0027739251040221915,
           0.0020804438280166435,
           0.0013869625520110957,
           0,
           0.0006934812760055479,
           0.0006934812760055479,
           0.004160887656033287,
           0,
           0,
           0.004160887656033287,
           0.0006934812760055479,
           0.0013869625520110957,
           0,
           0.0013869625520110957,
           0,
           0.0076282940360610264,
           0,
           0.0006934812760055479,
           0.0006934812760055479,
           0,
           0,
           0.0006934812760055479,
           0,
           0
          ],
          [
           0.0062413314840499305,
           0,
           0,
           0,
           0.0013869625520110957,
           0,
           0,
           0,
           0.0013869625520110957,
           0,
           0,
           0,
           0.0027739251040221915,
           0,
           0.0027739251040221915,
           0,
           0,
           0,
           0.0006934812760055479,
           0,
           0.004160887656033287,
           0,
           0,
           0.0006934812760055479,
           0,
           0
          ],
          [
           0.0027739251040221915,
           0,
           0,
           0,
           0.0006934812760055479,
           0,
           0,
           0,
           0.0006934812760055479,
           0,
           0,
           0,
           0,
           0,
           0.0006934812760055479,
           0,
           0,
           0,
           0.0006934812760055479,
           0,
           0.0006934812760055479,
           0,
           0,
           0,
           0,
           0
          ],
          [
           0.03814147018030513,
           0.0027739251040221915,
           0,
           0,
           0.029819694868238558,
           0,
           0,
           0,
           0.011789181692094313,
           0,
           0,
           0,
           0,
           0,
           0.0319001386962552,
           0,
           0,
           0.0020804438280166435,
           0,
           0.0020804438280166435,
           0.02011095700416089,
           0,
           0,
           0,
           0,
           0
          ],
          [
           0.0159500693481276,
           0,
           0,
           0,
           0.018030513176144243,
           0,
           0,
           0,
           0.014563106796116505,
           0,
           0,
           0,
           0,
           0.0006934812760055479,
           0.017337031900138695,
           0,
           0,
           0.0006934812760055479,
           0.0034674063800277394,
           0,
           0.009015256588072122,
           0,
           0,
           0,
           0,
           0
          ],
          [
           0.012482662968099861,
           0.0006934812760055479,
           0,
           0,
           0.010402219140083218,
           0,
           0,
           0,
           0.006934812760055479,
           0,
           0,
           0.0013869625520110957,
           0,
           0.0034674063800277394,
           0.011095700416088766,
           0.0006934812760055479,
           0,
           0.0006934812760055479,
           0.0027739251040221915,
           0,
           0.009015256588072122,
           0,
           0,
           0.0006934812760055479,
           0,
           0
          ],
          [
           0.0076282940360610264,
           0.0006934812760055479,
           0.0006934812760055479,
           0,
           0.0020804438280166435,
           0,
           0.0020804438280166435,
           0.0013869625520110957,
           0.0013869625520110957,
           0.0006934812760055479,
           0,
           0.0048543689320388345,
           0.0006934812760055479,
           0.0006934812760055479,
           0.010402219140083218,
           0,
           0,
           0.009708737864077669,
           0.0013869625520110957,
           0.0013869625520110957,
           0,
           0.0006934812760055479,
           0,
           0,
           0,
           0
          ],
          [
           0.006934812760055479,
           0.0006934812760055479,
           0,
           0.0006934812760055479,
           0.004160887656033287,
           0,
           0,
           0,
           0.0062413314840499305,
           0,
           0,
           0,
           0,
           0.0006934812760055479,
           0.0048543689320388345,
           0,
           0,
           0.0006934812760055479,
           0,
           0,
           0.0020804438280166435,
           0,
           0,
           0,
           0,
           0
          ],
          [
           0,
           0,
           0,
           0,
           0,
           0,
           0,
           0,
           0,
           0,
           0,
           0,
           0,
           0,
           0,
           0,
           0,
           0,
           0,
           0,
           0,
           0,
           0,
           0,
           0,
           0
          ],
          [
           0.0006934812760055479,
           0,
           0,
           0,
           0.0027739251040221915,
           0,
           0,
           0,
           0.0020804438280166435,
           0,
           0,
           0,
           0,
           0,
           0.0013869625520110957,
           0,
           0,
           0,
           0,
           0,
           0.0013869625520110957,
           0,
           0,
           0,
           0,
           0
          ],
          [
           0,
           0,
           0,
           0,
           0,
           0,
           0,
           0,
           0,
           0,
           0,
           0,
           0,
           0,
           0,
           0,
           0,
           0,
           0,
           0,
           0,
           0,
           0,
           0,
           0,
           0
          ],
          [
           0.005547850208044383,
           0,
           0,
           0,
           0.0013869625520110957,
           0,
           0,
           0,
           0.0013869625520110957,
           0,
           0,
           0,
           0,
           0.0006934812760055479,
           0.0020804438280166435,
           0,
           0,
           0,
           0,
           0,
           0.0020804438280166435,
           0,
           0,
           0,
           0,
           0
          ]
         ]
        },
        {
         "coloraxis": "coloraxis5",
         "name": "1-3",
         "type": "heatmap",
         "visible": true,
         "x": [
          "a",
          "b",
          "c",
          "d",
          "e",
          "f",
          "g",
          "h",
          "i",
          "j",
          "k",
          "l",
          "m",
          "n",
          "o",
          "p",
          "q",
          "r",
          "s",
          "t",
          "u",
          "v",
          "w",
          "x",
          "y",
          "z"
         ],
         "xaxis": "x10",
         "y": [
          "a",
          "b",
          "c",
          "d",
          "e",
          "f",
          "g",
          "h",
          "i",
          "j",
          "k",
          "l",
          "m",
          "n",
          "o",
          "p",
          "q",
          "r",
          "s",
          "t",
          "u",
          "v",
          "w",
          "x",
          "y",
          "z"
         ],
         "yaxis": "y10",
         "z": [
          [
           0.04576976421636616,
           0.0006934812760055479,
           0.0020804438280166435,
           0.0020804438280166435,
           0.02912621359223301,
           0,
           0.0006934812760055479,
           0.0006934812760055479,
           0.023578363384188627,
           0,
           0,
           0.004160887656033287,
           0.0020804438280166435,
           0.0048543689320388345,
           0.043689320388349516,
           0.0013869625520110957,
           0,
           0.009708737864077669,
           0.0027739251040221915,
           0.0027739251040221915,
           0.019417475728155338,
           0.0006934812760055479,
           0,
           0,
           0,
           0
          ],
          [
           0.0034674063800277394,
           0,
           0,
           0,
           0.0013869625520110957,
           0,
           0,
           0,
           0.0006934812760055479,
           0,
           0,
           0.0027739251040221915,
           0.0006934812760055479,
           0,
           0.0048543689320388345,
           0,
           0,
           0.0020804438280166435,
           0,
           0,
           0.0013869625520110957,
           0,
           0,
           0,
           0,
           0
          ],
          [
           0.010402219140083218,
           0,
           0,
           0,
           0.0062413314840499305,
           0,
           0,
           0,
           0.004160887656033287,
           0,
           0,
           0.0020804438280166435,
           0,
           0.0013869625520110957,
           0.012482662968099861,
           0.0027739251040221915,
           0,
           0.009708737864077669,
           0,
           0.0027739251040221915,
           0.0034674063800277394,
           0,
           0,
           0,
           0,
           0
          ],
          [
           0.014563106796116505,
           0,
           0.0013869625520110957,
           0.0006934812760055479,
           0.0076282940360610264,
           0,
           0.0006934812760055479,
           0,
           0.005547850208044383,
           0.0006934812760055479,
           0,
           0.0006934812760055479,
           0.0020804438280166435,
           0.0006934812760055479,
           0.009708737864077669,
           0,
           0,
           0.004160887656033287,
           0.0006934812760055479,
           0,
           0.004160887656033287,
           0.0006934812760055479,
           0,
           0.0013869625520110957,
           0,
           0.0006934812760055479
          ],
          [
           0.010402219140083218,
           0.0006934812760055479,
           0.0006934812760055479,
           0,
           0.01872399445214979,
           0,
           0,
           0,
           0.006934812760055479,
           0,
           0,
           0,
           0,
           0.0027739251040221915,
           0.013869625520110958,
           0,
           0,
           0.0034674063800277394,
           0.0020804438280166435,
           0,
           0.0048543689320388345,
           0,
           0,
           0,
           0,
           0
          ],
          [
           0.0006934812760055479,
           0,
           0,
           0,
           0,
           0,
           0,
           0.0006934812760055479,
           0.0006934812760055479,
           0,
           0,
           0,
           0,
           0,
           0.0006934812760055479,
           0,
           0,
           0.0006934812760055479,
           0,
           0,
           0.0006934812760055479,
           0,
           0,
           0,
           0,
           0
          ],
          [
           0.0034674063800277394,
           0,
           0,
           0.0013869625520110957,
           0.0027739251040221915,
           0.0006934812760055479,
           0,
           0,
           0.0027739251040221915,
           0,
           0,
           0,
           0.0013869625520110957,
           0,
           0.0034674063800277394,
           0,
           0,
           0.0048543689320388345,
           0,
           0,
           0.0034674063800277394,
           0,
           0,
           0,
           0,
           0
          ],
          [
           0.005547850208044383,
           0,
           0,
           0,
           0.0034674063800277394,
           0,
           0,
           0,
           0.009708737864077669,
           0,
           0,
           0,
           0,
           0,
           0.004160887656033287,
           0,
           0,
           0,
           0,
           0,
           0.0048543689320388345,
           0,
           0,
           0,
           0,
           0
          ],
          [
           0.023578363384188627,
           0.0027739251040221915,
           0,
           0.0013869625520110957,
           0.011789181692094313,
           0,
           0.0013869625520110957,
           0.0013869625520110957,
           0.010402219140083218,
           0,
           0,
           0.0006934812760055479,
           0,
           0.0027739251040221915,
           0.006934812760055479,
           0.0006934812760055479,
           0,
           0.0034674063800277394,
           0.0006934812760055479,
           0.0020804438280166435,
           0.013869625520110958,
           0.0006934812760055479,
           0,
           0,
           0,
           0
          ],
          [
           0.0020804438280166435,
           0,
           0,
           0,
           0.0006934812760055479,
           0,
           0,
           0,
           0.0013869625520110957,
           0,
           0,
           0,
           0,
           0,
           0.0006934812760055479,
           0,
           0,
           0.0013869625520110957,
           0,
           0,
           0,
           0,
           0,
           0,
           0,
           0
          ],
          [
           0,
           0,
           0,
           0,
           0,
           0,
           0,
           0,
           0,
           0,
           0,
           0,
           0,
           0,
           0,
           0,
           0,
           0,
           0,
           0,
           0,
           0,
           0,
           0,
           0,
           0
          ],
          [
           0.0020804438280166435,
           0,
           0.0006934812760055479,
           0.0006934812760055479,
           0.0006934812760055479,
           0,
           0,
           0.0013869625520110957,
           0.0027739251040221915,
           0,
           0,
           0,
           0.0013869625520110957,
           0,
           0.0020804438280166435,
           0.0006934812760055479,
           0,
           0.0020804438280166435,
           0,
           0,
           0.0034674063800277394,
           0.0013869625520110957,
           0,
           0.0013869625520110957,
           0,
           0
          ],
          [
           0.0048543689320388345,
           0,
           0.0006934812760055479,
           0,
           0.004160887656033287,
           0,
           0,
           0,
           0.0048543689320388345,
           0,
           0,
           0.0013869625520110957,
           0,
           0.0013869625520110957,
           0.0034674063800277394,
           0,
           0,
           0.0062413314840499305,
           0,
           0.0020804438280166435,
           0.0006934812760055479,
           0,
           0,
           0.0006934812760055479,
           0,
           0
          ],
          [
           0.0034674063800277394,
           0.0013869625520110957,
           0.0013869625520110957,
           0,
           0.0027739251040221915,
           0.0006934812760055479,
           0,
           0,
           0.0034674063800277394,
           0,
           0,
           0.0027739251040221915,
           0.0013869625520110957,
           0,
           0.0034674063800277394,
           0,
           0,
           0.0048543689320388345,
           0.0006934812760055479,
           0,
           0.0027739251040221915,
           0,
           0,
           0,
           0,
           0
          ],
          [
           0.02288488210818308,
           0,
           0,
           0,
           0.014563106796116505,
           0,
           0,
           0,
           0.012482662968099861,
           0,
           0,
           0.0027739251040221915,
           0.0013869625520110957,
           0.0020804438280166435,
           0.012482662968099861,
           0,
           0,
           0.004160887656033287,
           0.0006934812760055479,
           0.0006934812760055479,
           0.014563106796116505,
           0,
           0,
           0.0006934812760055479,
           0,
           0
          ],
          [
           0.006934812760055479,
           0,
           0,
           0,
           0.0013869625520110957,
           0,
           0,
           0.0006934812760055479,
           0.0027739251040221915,
           0,
           0,
           0.0006934812760055479,
           0,
           0,
           0.004160887656033287,
           0,
           0,
           0.005547850208044383,
           0,
           0.0006934812760055479,
           0.0006934812760055479,
           0,
           0,
           0,
           0,
           0
          ],
          [
           0,
           0,
           0,
           0,
           0,
           0,
           0,
           0,
           0,
           0,
           0,
           0,
           0,
           0,
           0,
           0,
           0,
           0,
           0,
           0,
           0,
           0,
           0,
           0,
           0,
           0
          ],
          [
           0.010402219140083218,
           0,
           0.0006934812760055479,
           0,
           0.012482662968099861,
           0,
           0.0006934812760055479,
           0.0006934812760055479,
           0.0062413314840499305,
           0,
           0,
           0.0034674063800277394,
           0.0013869625520110957,
           0.0020804438280166435,
           0.0159500693481276,
           0.0006934812760055479,
           0,
           0,
           0.0020804438280166435,
           0.0006934812760055479,
           0.005547850208044383,
           0.0006934812760055479,
           0,
           0.0006934812760055479,
           0,
           0
          ],
          [
           0.010402219140083218,
           0.0013869625520110957,
           0.0013869625520110957,
           0.0013869625520110957,
           0.0076282940360610264,
           0,
           0,
           0,
           0.0020804438280166435,
           0,
           0,
           0.0013869625520110957,
           0,
           0,
           0.010402219140083218,
           0,
           0,
           0.0048543689320388345,
           0,
           0,
           0.0027739251040221915,
           0.0006934812760055479,
           0,
           0,
           0,
           0
          ],
          [
           0.018030513176144243,
           0,
           0,
           0,
           0.026352288488210817,
           0.0006934812760055479,
           0,
           0.0013869625520110957,
           0.009708737864077669,
           0,
           0,
           0.0006934812760055479,
           0,
           0.0006934812760055479,
           0.02011095700416089,
           0.0006934812760055479,
           0,
           0.010402219140083218,
           0,
           0,
           0.011789181692094313,
           0,
           0,
           0.0013869625520110957,
           0,
           0
          ],
          [
           0.0048543689320388345,
           0,
           0,
           0.0006934812760055479,
           0.005547850208044383,
           0,
           0,
           0,
           0.0013869625520110957,
           0,
           0,
           0.0013869625520110957,
           0,
           0.0006934812760055479,
           0.0034674063800277394,
           0,
           0,
           0.0020804438280166435,
           0.0006934812760055479,
           0,
           0.0027739251040221915,
           0,
           0,
           0,
           0,
           0
          ],
          [
           0.0034674063800277394,
           0,
           0,
           0,
           0.004160887656033287,
           0,
           0,
           0.0013869625520110957,
           0,
           0,
           0,
           0.0006934812760055479,
           0,
           0,
           0.0027739251040221915,
           0,
           0,
           0.006934812760055479,
           0,
           0,
           0.0034674063800277394,
           0,
           0,
           0,
           0,
           0
          ],
          [
           0,
           0,
           0,
           0,
           0,
           0,
           0,
           0,
           0,
           0,
           0,
           0,
           0,
           0,
           0,
           0,
           0,
           0,
           0,
           0,
           0,
           0,
           0,
           0,
           0,
           0
          ],
          [
           0.0020804438280166435,
           0,
           0,
           0,
           0.0013869625520110957,
           0,
           0,
           0,
           0,
           0,
           0,
           0.0006934812760055479,
           0,
           0.0006934812760055479,
           0,
           0,
           0,
           0.0027739251040221915,
           0,
           0,
           0,
           0,
           0,
           0,
           0,
           0
          ],
          [
           0,
           0,
           0,
           0,
           0,
           0,
           0,
           0,
           0,
           0,
           0,
           0,
           0,
           0,
           0,
           0,
           0,
           0,
           0,
           0,
           0,
           0,
           0,
           0,
           0,
           0
          ],
          [
           0,
           0,
           0,
           0,
           0,
           0,
           0,
           0,
           0.0013869625520110957,
           0,
           0,
           0,
           0,
           0,
           0.0006934812760055479,
           0,
           0,
           0.0013869625520110957,
           0,
           0,
           0.0013869625520110957,
           0,
           0,
           0,
           0,
           0
          ]
         ]
        },
        {
         "coloraxis": "coloraxis",
         "name": "1-3",
         "type": "heatmap",
         "visible": false,
         "x": [
          "a",
          "b",
          "c",
          "d",
          "e",
          "f",
          "g",
          "h",
          "i",
          "j",
          "k",
          "l",
          "m",
          "n",
          "o",
          "p",
          "q",
          "r",
          "s",
          "t",
          "u",
          "v",
          "w",
          "x",
          "y",
          "z"
         ],
         "xaxis": "x10",
         "y": [
          "a",
          "b",
          "c",
          "d",
          "e",
          "f",
          "g",
          "h",
          "i",
          "j",
          "k",
          "l",
          "m",
          "n",
          "o",
          "p",
          "q",
          "r",
          "s",
          "t",
          "u",
          "v",
          "w",
          "x",
          "y",
          "z"
         ],
         "yaxis": "y10",
         "z": [
          [
           0.04576976421636616,
           0.0006934812760055479,
           0.0020804438280166435,
           0.0020804438280166435,
           0.02912621359223301,
           0,
           0.0006934812760055479,
           0.0006934812760055479,
           0.023578363384188627,
           0,
           0,
           0.004160887656033287,
           0.0020804438280166435,
           0.0048543689320388345,
           0.043689320388349516,
           0.0013869625520110957,
           0,
           0.009708737864077669,
           0.0027739251040221915,
           0.0027739251040221915,
           0.019417475728155338,
           0.0006934812760055479,
           0,
           0,
           0,
           0
          ],
          [
           0.0034674063800277394,
           0,
           0,
           0,
           0.0013869625520110957,
           0,
           0,
           0,
           0.0006934812760055479,
           0,
           0,
           0.0027739251040221915,
           0.0006934812760055479,
           0,
           0.0048543689320388345,
           0,
           0,
           0.0020804438280166435,
           0,
           0,
           0.0013869625520110957,
           0,
           0,
           0,
           0,
           0
          ],
          [
           0.010402219140083218,
           0,
           0,
           0,
           0.0062413314840499305,
           0,
           0,
           0,
           0.004160887656033287,
           0,
           0,
           0.0020804438280166435,
           0,
           0.0013869625520110957,
           0.012482662968099861,
           0.0027739251040221915,
           0,
           0.009708737864077669,
           0,
           0.0027739251040221915,
           0.0034674063800277394,
           0,
           0,
           0,
           0,
           0
          ],
          [
           0.014563106796116505,
           0,
           0.0013869625520110957,
           0.0006934812760055479,
           0.0076282940360610264,
           0,
           0.0006934812760055479,
           0,
           0.005547850208044383,
           0.0006934812760055479,
           0,
           0.0006934812760055479,
           0.0020804438280166435,
           0.0006934812760055479,
           0.009708737864077669,
           0,
           0,
           0.004160887656033287,
           0.0006934812760055479,
           0,
           0.004160887656033287,
           0.0006934812760055479,
           0,
           0.0013869625520110957,
           0,
           0.0006934812760055479
          ],
          [
           0.010402219140083218,
           0.0006934812760055479,
           0.0006934812760055479,
           0,
           0.01872399445214979,
           0,
           0,
           0,
           0.006934812760055479,
           0,
           0,
           0,
           0,
           0.0027739251040221915,
           0.013869625520110958,
           0,
           0,
           0.0034674063800277394,
           0.0020804438280166435,
           0,
           0.0048543689320388345,
           0,
           0,
           0,
           0,
           0
          ],
          [
           0.0006934812760055479,
           0,
           0,
           0,
           0,
           0,
           0,
           0.0006934812760055479,
           0.0006934812760055479,
           0,
           0,
           0,
           0,
           0,
           0.0006934812760055479,
           0,
           0,
           0.0006934812760055479,
           0,
           0,
           0.0006934812760055479,
           0,
           0,
           0,
           0,
           0
          ],
          [
           0.0034674063800277394,
           0,
           0,
           0.0013869625520110957,
           0.0027739251040221915,
           0.0006934812760055479,
           0,
           0,
           0.0027739251040221915,
           0,
           0,
           0,
           0.0013869625520110957,
           0,
           0.0034674063800277394,
           0,
           0,
           0.0048543689320388345,
           0,
           0,
           0.0034674063800277394,
           0,
           0,
           0,
           0,
           0
          ],
          [
           0.005547850208044383,
           0,
           0,
           0,
           0.0034674063800277394,
           0,
           0,
           0,
           0.009708737864077669,
           0,
           0,
           0,
           0,
           0,
           0.004160887656033287,
           0,
           0,
           0,
           0,
           0,
           0.0048543689320388345,
           0,
           0,
           0,
           0,
           0
          ],
          [
           0.023578363384188627,
           0.0027739251040221915,
           0,
           0.0013869625520110957,
           0.011789181692094313,
           0,
           0.0013869625520110957,
           0.0013869625520110957,
           0.010402219140083218,
           0,
           0,
           0.0006934812760055479,
           0,
           0.0027739251040221915,
           0.006934812760055479,
           0.0006934812760055479,
           0,
           0.0034674063800277394,
           0.0006934812760055479,
           0.0020804438280166435,
           0.013869625520110958,
           0.0006934812760055479,
           0,
           0,
           0,
           0
          ],
          [
           0.0020804438280166435,
           0,
           0,
           0,
           0.0006934812760055479,
           0,
           0,
           0,
           0.0013869625520110957,
           0,
           0,
           0,
           0,
           0,
           0.0006934812760055479,
           0,
           0,
           0.0013869625520110957,
           0,
           0,
           0,
           0,
           0,
           0,
           0,
           0
          ],
          [
           0,
           0,
           0,
           0,
           0,
           0,
           0,
           0,
           0,
           0,
           0,
           0,
           0,
           0,
           0,
           0,
           0,
           0,
           0,
           0,
           0,
           0,
           0,
           0,
           0,
           0
          ],
          [
           0.0020804438280166435,
           0,
           0.0006934812760055479,
           0.0006934812760055479,
           0.0006934812760055479,
           0,
           0,
           0.0013869625520110957,
           0.0027739251040221915,
           0,
           0,
           0,
           0.0013869625520110957,
           0,
           0.0020804438280166435,
           0.0006934812760055479,
           0,
           0.0020804438280166435,
           0,
           0,
           0.0034674063800277394,
           0.0013869625520110957,
           0,
           0.0013869625520110957,
           0,
           0
          ],
          [
           0.0048543689320388345,
           0,
           0.0006934812760055479,
           0,
           0.004160887656033287,
           0,
           0,
           0,
           0.0048543689320388345,
           0,
           0,
           0.0013869625520110957,
           0,
           0.0013869625520110957,
           0.0034674063800277394,
           0,
           0,
           0.0062413314840499305,
           0,
           0.0020804438280166435,
           0.0006934812760055479,
           0,
           0,
           0.0006934812760055479,
           0,
           0
          ],
          [
           0.0034674063800277394,
           0.0013869625520110957,
           0.0013869625520110957,
           0,
           0.0027739251040221915,
           0.0006934812760055479,
           0,
           0,
           0.0034674063800277394,
           0,
           0,
           0.0027739251040221915,
           0.0013869625520110957,
           0,
           0.0034674063800277394,
           0,
           0,
           0.0048543689320388345,
           0.0006934812760055479,
           0,
           0.0027739251040221915,
           0,
           0,
           0,
           0,
           0
          ],
          [
           0.02288488210818308,
           0,
           0,
           0,
           0.014563106796116505,
           0,
           0,
           0,
           0.012482662968099861,
           0,
           0,
           0.0027739251040221915,
           0.0013869625520110957,
           0.0020804438280166435,
           0.012482662968099861,
           0,
           0,
           0.004160887656033287,
           0.0006934812760055479,
           0.0006934812760055479,
           0.014563106796116505,
           0,
           0,
           0.0006934812760055479,
           0,
           0
          ],
          [
           0.006934812760055479,
           0,
           0,
           0,
           0.0013869625520110957,
           0,
           0,
           0.0006934812760055479,
           0.0027739251040221915,
           0,
           0,
           0.0006934812760055479,
           0,
           0,
           0.004160887656033287,
           0,
           0,
           0.005547850208044383,
           0,
           0.0006934812760055479,
           0.0006934812760055479,
           0,
           0,
           0,
           0,
           0
          ],
          [
           0,
           0,
           0,
           0,
           0,
           0,
           0,
           0,
           0,
           0,
           0,
           0,
           0,
           0,
           0,
           0,
           0,
           0,
           0,
           0,
           0,
           0,
           0,
           0,
           0,
           0
          ],
          [
           0.010402219140083218,
           0,
           0.0006934812760055479,
           0,
           0.012482662968099861,
           0,
           0.0006934812760055479,
           0.0006934812760055479,
           0.0062413314840499305,
           0,
           0,
           0.0034674063800277394,
           0.0013869625520110957,
           0.0020804438280166435,
           0.0159500693481276,
           0.0006934812760055479,
           0,
           0,
           0.0020804438280166435,
           0.0006934812760055479,
           0.005547850208044383,
           0.0006934812760055479,
           0,
           0.0006934812760055479,
           0,
           0
          ],
          [
           0.010402219140083218,
           0.0013869625520110957,
           0.0013869625520110957,
           0.0013869625520110957,
           0.0076282940360610264,
           0,
           0,
           0,
           0.0020804438280166435,
           0,
           0,
           0.0013869625520110957,
           0,
           0,
           0.010402219140083218,
           0,
           0,
           0.0048543689320388345,
           0,
           0,
           0.0027739251040221915,
           0.0006934812760055479,
           0,
           0,
           0,
           0
          ],
          [
           0.018030513176144243,
           0,
           0,
           0,
           0.026352288488210817,
           0.0006934812760055479,
           0,
           0.0013869625520110957,
           0.009708737864077669,
           0,
           0,
           0.0006934812760055479,
           0,
           0.0006934812760055479,
           0.02011095700416089,
           0.0006934812760055479,
           0,
           0.010402219140083218,
           0,
           0,
           0.011789181692094313,
           0,
           0,
           0.0013869625520110957,
           0,
           0
          ],
          [
           0.0048543689320388345,
           0,
           0,
           0.0006934812760055479,
           0.005547850208044383,
           0,
           0,
           0,
           0.0013869625520110957,
           0,
           0,
           0.0013869625520110957,
           0,
           0.0006934812760055479,
           0.0034674063800277394,
           0,
           0,
           0.0020804438280166435,
           0.0006934812760055479,
           0,
           0.0027739251040221915,
           0,
           0,
           0,
           0,
           0
          ],
          [
           0.0034674063800277394,
           0,
           0,
           0,
           0.004160887656033287,
           0,
           0,
           0.0013869625520110957,
           0,
           0,
           0,
           0.0006934812760055479,
           0,
           0,
           0.0027739251040221915,
           0,
           0,
           0.006934812760055479,
           0,
           0,
           0.0034674063800277394,
           0,
           0,
           0,
           0,
           0
          ],
          [
           0,
           0,
           0,
           0,
           0,
           0,
           0,
           0,
           0,
           0,
           0,
           0,
           0,
           0,
           0,
           0,
           0,
           0,
           0,
           0,
           0,
           0,
           0,
           0,
           0,
           0
          ],
          [
           0.0020804438280166435,
           0,
           0,
           0,
           0.0013869625520110957,
           0,
           0,
           0,
           0,
           0,
           0,
           0.0006934812760055479,
           0,
           0.0006934812760055479,
           0,
           0,
           0,
           0.0027739251040221915,
           0,
           0,
           0,
           0,
           0,
           0,
           0,
           0
          ],
          [
           0,
           0,
           0,
           0,
           0,
           0,
           0,
           0,
           0,
           0,
           0,
           0,
           0,
           0,
           0,
           0,
           0,
           0,
           0,
           0,
           0,
           0,
           0,
           0,
           0,
           0
          ],
          [
           0,
           0,
           0,
           0,
           0,
           0,
           0,
           0,
           0.0013869625520110957,
           0,
           0,
           0,
           0,
           0,
           0.0006934812760055479,
           0,
           0,
           0.0013869625520110957,
           0,
           0,
           0.0013869625520110957,
           0,
           0,
           0,
           0,
           0
          ]
         ]
        },
        {
         "coloraxis": "coloraxis6",
         "name": "1-4",
         "type": "heatmap",
         "visible": true,
         "x": [
          "a",
          "b",
          "c",
          "d",
          "e",
          "f",
          "g",
          "h",
          "i",
          "j",
          "k",
          "l",
          "m",
          "n",
          "o",
          "p",
          "q",
          "r",
          "s",
          "t",
          "u",
          "v",
          "w",
          "x",
          "y",
          "z"
         ],
         "xaxis": "x14",
         "y": [
          "a",
          "b",
          "c",
          "d",
          "e",
          "f",
          "g",
          "h",
          "i",
          "j",
          "k",
          "l",
          "m",
          "n",
          "o",
          "p",
          "q",
          "r",
          "s",
          "t",
          "u",
          "v",
          "w",
          "x",
          "y",
          "z"
         ],
         "yaxis": "y14",
         "z": [
          [
           0.06171983356449376,
           0,
           0.0020804438280166435,
           0.0027739251040221915,
           0.04022191400832178,
           0,
           0.0013869625520110957,
           0.0027739251040221915,
           0.027045769764216365,
           0.0006934812760055479,
           0,
           0.0048543689320388345,
           0.0034674063800277394,
           0.0034674063800277394,
           0.046463245492371706,
           0.0013869625520110957,
           0,
           0.028432732316227463,
           0.0034674063800277394,
           0.0034674063800277394,
           0.022191400832177532,
           0.0013869625520110957,
           0,
           0.0020804438280166435,
           0,
           0
          ],
          [
           0,
           0,
           0,
           0,
           0,
           0,
           0,
           0,
           0,
           0,
           0,
           0,
           0,
           0,
           0,
           0,
           0,
           0,
           0,
           0,
           0,
           0,
           0,
           0,
           0,
           0
          ],
          [
           0,
           0,
           0,
           0,
           0,
           0,
           0,
           0,
           0,
           0,
           0,
           0,
           0,
           0,
           0,
           0,
           0,
           0,
           0,
           0,
           0,
           0,
           0,
           0,
           0,
           0
          ],
          [
           0,
           0,
           0,
           0,
           0,
           0,
           0,
           0,
           0,
           0,
           0,
           0,
           0,
           0,
           0,
           0,
           0,
           0,
           0,
           0,
           0,
           0,
           0,
           0,
           0,
           0
          ],
          [
           0.012482662968099861,
           0,
           0.0013869625520110957,
           0.0006934812760055479,
           0.016643550624133148,
           0,
           0,
           0.0020804438280166435,
           0.0062413314840499305,
           0,
           0,
           0.004160887656033287,
           0.0006934812760055479,
           0,
           0.021497919556171984,
           0.0006934812760055479,
           0,
           0.015256588072122053,
           0,
           0,
           0.005547850208044383,
           0,
           0,
           0.0006934812760055479,
           0,
           0
          ],
          [
           0,
           0,
           0,
           0,
           0,
           0,
           0,
           0,
           0,
           0,
           0,
           0,
           0,
           0,
           0,
           0,
           0,
           0,
           0,
           0,
           0,
           0,
           0,
           0,
           0,
           0
          ],
          [
           0,
           0,
           0,
           0,
           0,
           0,
           0,
           0,
           0,
           0,
           0,
           0,
           0,
           0,
           0,
           0,
           0,
           0,
           0,
           0,
           0,
           0,
           0,
           0,
           0,
           0
          ],
          [
           0,
           0,
           0,
           0,
           0,
           0,
           0,
           0,
           0,
           0,
           0,
           0,
           0,
           0,
           0,
           0,
           0,
           0,
           0,
           0,
           0,
           0,
           0,
           0,
           0,
           0
          ],
          [
           0.0013869625520110957,
           0,
           0,
           0,
           0.0006934812760055479,
           0,
           0,
           0,
           0,
           0,
           0,
           0.0006934812760055479,
           0,
           0,
           0.0013869625520110957,
           0,
           0,
           0,
           0.0006934812760055479,
           0,
           0.0006934812760055479,
           0,
           0,
           0,
           0,
           0
          ],
          [
           0,
           0,
           0,
           0,
           0,
           0,
           0,
           0,
           0,
           0,
           0,
           0,
           0,
           0,
           0,
           0,
           0,
           0,
           0,
           0,
           0,
           0,
           0,
           0,
           0,
           0
          ],
          [
           0,
           0,
           0,
           0,
           0,
           0,
           0,
           0,
           0,
           0,
           0,
           0,
           0,
           0,
           0,
           0,
           0,
           0,
           0,
           0,
           0,
           0,
           0,
           0,
           0,
           0
          ],
          [
           0.010402219140083218,
           0.0006934812760055479,
           0,
           0.0006934812760055479,
           0.005547850208044383,
           0,
           0.0006934812760055479,
           0,
           0.006934812760055479,
           0,
           0,
           0,
           0,
           0.0013869625520110957,
           0.008321775312066574,
           0,
           0,
           0.0013869625520110957,
           0.0006934812760055479,
           0.0006934812760055479,
           0.0048543689320388345,
           0,
           0,
           0,
           0,
           0
          ],
          [
           0.0027739251040221915,
           0,
           0,
           0,
           0.0034674063800277394,
           0,
           0,
           0,
           0.0006934812760055479,
           0,
           0,
           0.0013869625520110957,
           0,
           0.0013869625520110957,
           0.0048543689320388345,
           0,
           0,
           0.0006934812760055479,
           0.0006934812760055479,
           0,
           0.0027739251040221915,
           0,
           0,
           0,
           0,
           0
          ],
          [
           0.0006934812760055479,
           0,
           0,
           0,
           0,
           0,
           0,
           0,
           0.0006934812760055479,
           0,
           0,
           0,
           0,
           0,
           0.0013869625520110957,
           0,
           0,
           0,
           0,
           0,
           0,
           0,
           0,
           0,
           0,
           0
          ],
          [
           0.056865464632454926,
           0.004160887656033287,
           0.0027739251040221915,
           0.0013869625520110957,
           0.04507628294036061,
           0.0013869625520110957,
           0.0006934812760055479,
           0.0027739251040221915,
           0.036754507628294034,
           0,
           0,
           0.0076282940360610264,
           0.004160887656033287,
           0.006934812760055479,
           0.04230235783633842,
           0.004160887656033287,
           0,
           0.02912621359223301,
           0.0013869625520110957,
           0.0034674063800277394,
           0.03259361997226075,
           0.0034674063800277394,
           0,
           0.0027739251040221915,
           0,
           0.0006934812760055479
          ],
          [
           0,
           0,
           0,
           0,
           0,
           0,
           0,
           0,
           0,
           0,
           0,
           0,
           0,
           0,
           0,
           0,
           0,
           0,
           0,
           0,
           0,
           0,
           0,
           0,
           0,
           0
          ],
          [
           0,
           0,
           0,
           0,
           0,
           0,
           0,
           0,
           0,
           0,
           0,
           0,
           0,
           0,
           0,
           0,
           0,
           0,
           0,
           0,
           0,
           0,
           0,
           0,
           0,
           0
          ],
          [
           0.030513176144244106,
           0.0013869625520110957,
           0.0013869625520110957,
           0.0020804438280166435,
           0.029819694868238558,
           0,
           0,
           0.0006934812760055479,
           0.01872399445214979,
           0,
           0,
           0.004160887656033287,
           0.0020804438280166435,
           0.0013869625520110957,
           0.02565880721220527,
           0.0006934812760055479,
           0,
           0.005547850208044383,
           0.0013869625520110957,
           0.0006934812760055479,
           0.021497919556171984,
           0,
           0,
           0.0006934812760055479,
           0,
           0
          ],
          [
           0.02565880721220527,
           0.0006934812760055479,
           0.0006934812760055479,
           0.0006934812760055479,
           0.019417475728155338,
           0.0006934812760055479,
           0.0006934812760055479,
           0,
           0.0159500693481276,
           0,
           0,
           0.0027739251040221915,
           0.0013869625520110957,
           0.005547850208044383,
           0.026352288488210817,
           0,
           0,
           0.009015256588072122,
           0.0020804438280166435,
           0.0020804438280166435,
           0.013869625520110958,
           0,
           0,
           0,
           0,
           0
          ],
          [
           0,
           0,
           0,
           0,
           0,
           0,
           0,
           0,
           0,
           0,
           0,
           0,
           0,
           0,
           0,
           0,
           0,
           0,
           0,
           0,
           0,
           0,
           0,
           0,
           0,
           0
          ],
          [
           0.0027739251040221915,
           0,
           0.0006934812760055479,
           0,
           0,
           0,
           0,
           0,
           0,
           0,
           0,
           0,
           0,
           0,
           0,
           0,
           0,
           0.0006934812760055479,
           0,
           0,
           0.0006934812760055479,
           0,
           0,
           0,
           0,
           0
          ],
          [
           0,
           0,
           0,
           0,
           0,
           0,
           0,
           0,
           0,
           0,
           0,
           0,
           0,
           0,
           0,
           0,
           0,
           0,
           0,
           0,
           0,
           0,
           0,
           0,
           0,
           0
          ],
          [
           0,
           0,
           0,
           0,
           0,
           0,
           0,
           0,
           0,
           0,
           0,
           0,
           0,
           0,
           0,
           0,
           0,
           0,
           0,
           0,
           0,
           0,
           0,
           0,
           0,
           0
          ],
          [
           0,
           0,
           0,
           0,
           0,
           0,
           0,
           0,
           0,
           0,
           0,
           0,
           0,
           0,
           0.0006934812760055479,
           0,
           0,
           0,
           0,
           0,
           0,
           0,
           0,
           0,
           0,
           0
          ],
          [
           0,
           0,
           0,
           0,
           0,
           0,
           0,
           0,
           0,
           0,
           0,
           0,
           0,
           0,
           0,
           0,
           0,
           0,
           0,
           0,
           0,
           0,
           0,
           0,
           0,
           0
          ],
          [
           0.004160887656033287,
           0,
           0,
           0,
           0.0020804438280166435,
           0,
           0,
           0,
           0,
           0,
           0,
           0.0006934812760055479,
           0,
           0,
           0.0006934812760055479,
           0,
           0,
           0.0006934812760055479,
           0,
           0.0013869625520110957,
           0.0013869625520110957,
           0,
           0,
           0,
           0,
           0
          ]
         ]
        },
        {
         "coloraxis": "coloraxis",
         "name": "1-4",
         "type": "heatmap",
         "visible": false,
         "x": [
          "a",
          "b",
          "c",
          "d",
          "e",
          "f",
          "g",
          "h",
          "i",
          "j",
          "k",
          "l",
          "m",
          "n",
          "o",
          "p",
          "q",
          "r",
          "s",
          "t",
          "u",
          "v",
          "w",
          "x",
          "y",
          "z"
         ],
         "xaxis": "x14",
         "y": [
          "a",
          "b",
          "c",
          "d",
          "e",
          "f",
          "g",
          "h",
          "i",
          "j",
          "k",
          "l",
          "m",
          "n",
          "o",
          "p",
          "q",
          "r",
          "s",
          "t",
          "u",
          "v",
          "w",
          "x",
          "y",
          "z"
         ],
         "yaxis": "y14",
         "z": [
          [
           0.06171983356449376,
           0,
           0.0020804438280166435,
           0.0027739251040221915,
           0.04022191400832178,
           0,
           0.0013869625520110957,
           0.0027739251040221915,
           0.027045769764216365,
           0.0006934812760055479,
           0,
           0.0048543689320388345,
           0.0034674063800277394,
           0.0034674063800277394,
           0.046463245492371706,
           0.0013869625520110957,
           0,
           0.028432732316227463,
           0.0034674063800277394,
           0.0034674063800277394,
           0.022191400832177532,
           0.0013869625520110957,
           0,
           0.0020804438280166435,
           0,
           0
          ],
          [
           0,
           0,
           0,
           0,
           0,
           0,
           0,
           0,
           0,
           0,
           0,
           0,
           0,
           0,
           0,
           0,
           0,
           0,
           0,
           0,
           0,
           0,
           0,
           0,
           0,
           0
          ],
          [
           0,
           0,
           0,
           0,
           0,
           0,
           0,
           0,
           0,
           0,
           0,
           0,
           0,
           0,
           0,
           0,
           0,
           0,
           0,
           0,
           0,
           0,
           0,
           0,
           0,
           0
          ],
          [
           0,
           0,
           0,
           0,
           0,
           0,
           0,
           0,
           0,
           0,
           0,
           0,
           0,
           0,
           0,
           0,
           0,
           0,
           0,
           0,
           0,
           0,
           0,
           0,
           0,
           0
          ],
          [
           0.012482662968099861,
           0,
           0.0013869625520110957,
           0.0006934812760055479,
           0.016643550624133148,
           0,
           0,
           0.0020804438280166435,
           0.0062413314840499305,
           0,
           0,
           0.004160887656033287,
           0.0006934812760055479,
           0,
           0.021497919556171984,
           0.0006934812760055479,
           0,
           0.015256588072122053,
           0,
           0,
           0.005547850208044383,
           0,
           0,
           0.0006934812760055479,
           0,
           0
          ],
          [
           0,
           0,
           0,
           0,
           0,
           0,
           0,
           0,
           0,
           0,
           0,
           0,
           0,
           0,
           0,
           0,
           0,
           0,
           0,
           0,
           0,
           0,
           0,
           0,
           0,
           0
          ],
          [
           0,
           0,
           0,
           0,
           0,
           0,
           0,
           0,
           0,
           0,
           0,
           0,
           0,
           0,
           0,
           0,
           0,
           0,
           0,
           0,
           0,
           0,
           0,
           0,
           0,
           0
          ],
          [
           0,
           0,
           0,
           0,
           0,
           0,
           0,
           0,
           0,
           0,
           0,
           0,
           0,
           0,
           0,
           0,
           0,
           0,
           0,
           0,
           0,
           0,
           0,
           0,
           0,
           0
          ],
          [
           0.0013869625520110957,
           0,
           0,
           0,
           0.0006934812760055479,
           0,
           0,
           0,
           0,
           0,
           0,
           0.0006934812760055479,
           0,
           0,
           0.0013869625520110957,
           0,
           0,
           0,
           0.0006934812760055479,
           0,
           0.0006934812760055479,
           0,
           0,
           0,
           0,
           0
          ],
          [
           0,
           0,
           0,
           0,
           0,
           0,
           0,
           0,
           0,
           0,
           0,
           0,
           0,
           0,
           0,
           0,
           0,
           0,
           0,
           0,
           0,
           0,
           0,
           0,
           0,
           0
          ],
          [
           0,
           0,
           0,
           0,
           0,
           0,
           0,
           0,
           0,
           0,
           0,
           0,
           0,
           0,
           0,
           0,
           0,
           0,
           0,
           0,
           0,
           0,
           0,
           0,
           0,
           0
          ],
          [
           0.010402219140083218,
           0.0006934812760055479,
           0,
           0.0006934812760055479,
           0.005547850208044383,
           0,
           0.0006934812760055479,
           0,
           0.006934812760055479,
           0,
           0,
           0,
           0,
           0.0013869625520110957,
           0.008321775312066574,
           0,
           0,
           0.0013869625520110957,
           0.0006934812760055479,
           0.0006934812760055479,
           0.0048543689320388345,
           0,
           0,
           0,
           0,
           0
          ],
          [
           0.0027739251040221915,
           0,
           0,
           0,
           0.0034674063800277394,
           0,
           0,
           0,
           0.0006934812760055479,
           0,
           0,
           0.0013869625520110957,
           0,
           0.0013869625520110957,
           0.0048543689320388345,
           0,
           0,
           0.0006934812760055479,
           0.0006934812760055479,
           0,
           0.0027739251040221915,
           0,
           0,
           0,
           0,
           0
          ],
          [
           0.0006934812760055479,
           0,
           0,
           0,
           0,
           0,
           0,
           0,
           0.0006934812760055479,
           0,
           0,
           0,
           0,
           0,
           0.0013869625520110957,
           0,
           0,
           0,
           0,
           0,
           0,
           0,
           0,
           0,
           0,
           0
          ],
          [
           0.056865464632454926,
           0.004160887656033287,
           0.0027739251040221915,
           0.0013869625520110957,
           0.04507628294036061,
           0.0013869625520110957,
           0.0006934812760055479,
           0.0027739251040221915,
           0.036754507628294034,
           0,
           0,
           0.0076282940360610264,
           0.004160887656033287,
           0.006934812760055479,
           0.04230235783633842,
           0.004160887656033287,
           0,
           0.02912621359223301,
           0.0013869625520110957,
           0.0034674063800277394,
           0.03259361997226075,
           0.0034674063800277394,
           0,
           0.0027739251040221915,
           0,
           0.0006934812760055479
          ],
          [
           0,
           0,
           0,
           0,
           0,
           0,
           0,
           0,
           0,
           0,
           0,
           0,
           0,
           0,
           0,
           0,
           0,
           0,
           0,
           0,
           0,
           0,
           0,
           0,
           0,
           0
          ],
          [
           0,
           0,
           0,
           0,
           0,
           0,
           0,
           0,
           0,
           0,
           0,
           0,
           0,
           0,
           0,
           0,
           0,
           0,
           0,
           0,
           0,
           0,
           0,
           0,
           0,
           0
          ],
          [
           0.030513176144244106,
           0.0013869625520110957,
           0.0013869625520110957,
           0.0020804438280166435,
           0.029819694868238558,
           0,
           0,
           0.0006934812760055479,
           0.01872399445214979,
           0,
           0,
           0.004160887656033287,
           0.0020804438280166435,
           0.0013869625520110957,
           0.02565880721220527,
           0.0006934812760055479,
           0,
           0.005547850208044383,
           0.0013869625520110957,
           0.0006934812760055479,
           0.021497919556171984,
           0,
           0,
           0.0006934812760055479,
           0,
           0
          ],
          [
           0.02565880721220527,
           0.0006934812760055479,
           0.0006934812760055479,
           0.0006934812760055479,
           0.019417475728155338,
           0.0006934812760055479,
           0.0006934812760055479,
           0,
           0.0159500693481276,
           0,
           0,
           0.0027739251040221915,
           0.0013869625520110957,
           0.005547850208044383,
           0.026352288488210817,
           0,
           0,
           0.009015256588072122,
           0.0020804438280166435,
           0.0020804438280166435,
           0.013869625520110958,
           0,
           0,
           0,
           0,
           0
          ],
          [
           0,
           0,
           0,
           0,
           0,
           0,
           0,
           0,
           0,
           0,
           0,
           0,
           0,
           0,
           0,
           0,
           0,
           0,
           0,
           0,
           0,
           0,
           0,
           0,
           0,
           0
          ],
          [
           0.0027739251040221915,
           0,
           0.0006934812760055479,
           0,
           0,
           0,
           0,
           0,
           0,
           0,
           0,
           0,
           0,
           0,
           0,
           0,
           0,
           0.0006934812760055479,
           0,
           0,
           0.0006934812760055479,
           0,
           0,
           0,
           0,
           0
          ],
          [
           0,
           0,
           0,
           0,
           0,
           0,
           0,
           0,
           0,
           0,
           0,
           0,
           0,
           0,
           0,
           0,
           0,
           0,
           0,
           0,
           0,
           0,
           0,
           0,
           0,
           0
          ],
          [
           0,
           0,
           0,
           0,
           0,
           0,
           0,
           0,
           0,
           0,
           0,
           0,
           0,
           0,
           0,
           0,
           0,
           0,
           0,
           0,
           0,
           0,
           0,
           0,
           0,
           0
          ],
          [
           0,
           0,
           0,
           0,
           0,
           0,
           0,
           0,
           0,
           0,
           0,
           0,
           0,
           0,
           0.0006934812760055479,
           0,
           0,
           0,
           0,
           0,
           0,
           0,
           0,
           0,
           0,
           0
          ],
          [
           0,
           0,
           0,
           0,
           0,
           0,
           0,
           0,
           0,
           0,
           0,
           0,
           0,
           0,
           0,
           0,
           0,
           0,
           0,
           0,
           0,
           0,
           0,
           0,
           0,
           0
          ],
          [
           0.004160887656033287,
           0,
           0,
           0,
           0.0020804438280166435,
           0,
           0,
           0,
           0,
           0,
           0,
           0.0006934812760055479,
           0,
           0,
           0.0006934812760055479,
           0,
           0,
           0.0006934812760055479,
           0,
           0.0013869625520110957,
           0.0013869625520110957,
           0,
           0,
           0,
           0,
           0
          ]
         ]
        },
        {
         "coloraxis": "coloraxis6",
         "name": "2-3",
         "type": "heatmap",
         "visible": true,
         "x": [
          "a",
          "b",
          "c",
          "d",
          "e",
          "f",
          "g",
          "h",
          "i",
          "j",
          "k",
          "l",
          "m",
          "n",
          "o",
          "p",
          "q",
          "r",
          "s",
          "t",
          "u",
          "v",
          "w",
          "x",
          "y",
          "z"
         ],
         "xaxis": "x11",
         "y": [
          "a",
          "b",
          "c",
          "d",
          "e",
          "f",
          "g",
          "h",
          "i",
          "j",
          "k",
          "l",
          "m",
          "n",
          "o",
          "p",
          "q",
          "r",
          "s",
          "t",
          "u",
          "v",
          "w",
          "x",
          "y",
          "z"
         ],
         "yaxis": "y11",
         "z": [
          [
           0,
           0.0027739251040221915,
           0.024965325936199722,
           0.009015256588072122,
           0.0027739251040221915,
           0.0034674063800277394,
           0.011095700416088766,
           0.0027739251040221915,
           0.012482662968099861,
           0.0013869625520110957,
           0,
           0.01872399445214979,
           0.011095700416088766,
           0.010402219140083218,
           0.0006934812760055479,
           0.005547850208044383,
           0,
           0.024965325936199722,
           0.013176144244105409,
           0.020804438280166437,
           0.0034674063800277394,
           0.008321775312066574,
           0,
           0.004160887656033287,
           0,
           0.004160887656033287
          ],
          [
           0.0006934812760055479,
           0,
           0,
           0,
           0.0013869625520110957,
           0,
           0,
           0,
           0.0020804438280166435,
           0,
           0,
           0,
           0.008321775312066574,
           0,
           0.0006934812760055479,
           0,
           0,
           0.0020804438280166435,
           0,
           0,
           0.0020804438280166435,
           0,
           0,
           0,
           0,
           0
          ],
          [
           0.005547850208044383,
           0,
           0,
           0,
           0.0034674063800277394,
           0,
           0,
           0,
           0.009015256588072122,
           0,
           0,
           0.0020804438280166435,
           0,
           0.006934812760055479,
           0.004160887656033287,
           0,
           0,
           0.009708737864077669,
           0.009015256588072122,
           0,
           0.005547850208044383,
           0,
           0,
           0,
           0,
           0
          ],
          [
           0.009015256588072122,
           0,
           0,
           0,
           0.0027739251040221915,
           0,
           0,
           0,
           0.0076282940360610264,
           0,
           0,
           0.0034674063800277394,
           0,
           0.012482662968099861,
           0.0013869625520110957,
           0,
           0,
           0.012482662968099861,
           0.0006934812760055479,
           0,
           0.0062413314840499305,
           0,
           0,
           0,
           0,
           0
          ],
          [
           0,
           0.0020804438280166435,
           0.0020804438280166435,
           0.0062413314840499305,
           0,
           0.0013869625520110957,
           0.0006934812760055479,
           0,
           0.0006934812760055479,
           0,
           0,
           0.004160887656033287,
           0.005547850208044383,
           0.0020804438280166435,
           0.0027739251040221915,
           0.0020804438280166435,
           0,
           0.0062413314840499305,
           0.005547850208044383,
           0.008321775312066574,
           0.0006934812760055479,
           0.008321775312066574,
           0,
           0.0006934812760055479,
           0,
           0.0048543689320388345
          ],
          [
           0,
           0,
           0,
           0,
           0.0006934812760055479,
           0,
           0,
           0,
           0,
           0,
           0,
           0.0006934812760055479,
           0,
           0.0006934812760055479,
           0,
           0,
           0,
           0.0013869625520110957,
           0,
           0,
           0.0006934812760055479,
           0,
           0,
           0,
           0,
           0
          ],
          [
           0.0027739251040221915,
           0,
           0,
           0,
           0.004160887656033287,
           0,
           0,
           0,
           0.0034674063800277394,
           0,
           0,
           0.0020804438280166435,
           0,
           0.009015256588072122,
           0,
           0,
           0,
           0.0013869625520110957,
           0.0013869625520110957,
           0,
           0,
           0,
           0,
           0,
           0,
           0
          ],
          [
           0,
           0,
           0.006934812760055479,
           0,
           0,
           0,
           0,
           0,
           0,
           0,
           0,
           0.010402219140083218,
           0,
           0.009708737864077669,
           0,
           0,
           0,
           0,
           0.0006934812760055479,
           0,
           0,
           0,
           0,
           0,
           0,
           0
          ],
          [
           0.0027739251040221915,
           0.006934812760055479,
           0.0048543689320388345,
           0.009708737864077669,
           0.0062413314840499305,
           0.0013869625520110957,
           0.0027739251040221915,
           0,
           0,
           0,
           0,
           0.0048543689320388345,
           0.0020804438280166435,
           0.0062413314840499305,
           0.0006934812760055479,
           0.0027739251040221915,
           0,
           0.011789181692094313,
           0.0027739251040221915,
           0.009708737864077669,
           0.0013869625520110957,
           0.0048543689320388345,
           0,
           0.0006934812760055479,
           0,
           0.0020804438280166435
          ],
          [
           0.0006934812760055479,
           0,
           0,
           0,
           0.0006934812760055479,
           0,
           0,
           0,
           0.0006934812760055479,
           0,
           0,
           0,
           0,
           0.0020804438280166435,
           0.0006934812760055479,
           0,
           0,
           0.0013869625520110957,
           0,
           0,
           0,
           0,
           0,
           0,
           0,
           0
          ],
          [
           0,
           0,
           0,
           0,
           0,
           0,
           0,
           0,
           0,
           0,
           0,
           0,
           0,
           0,
           0,
           0,
           0,
           0,
           0,
           0,
           0,
           0,
           0,
           0,
           0,
           0
          ],
          [
           0.0020804438280166435,
           0,
           0.0013869625520110957,
           0,
           0.0048543689320388345,
           0,
           0.0006934812760055479,
           0,
           0.0027739251040221915,
           0,
           0,
           0,
           0,
           0,
           0.0034674063800277394,
           0.0027739251040221915,
           0,
           0,
           0,
           0,
           0.0027739251040221915,
           0,
           0,
           0,
           0,
           0
          ],
          [
           0.0034674063800277394,
           0,
           0,
           0,
           0.0013869625520110957,
           0,
           0.0013869625520110957,
           0,
           0.0048543689320388345,
           0,
           0,
           0.004160887656033287,
           0,
           0,
           0.0027739251040221915,
           0,
           0,
           0.0062413314840499305,
           0.0034674063800277394,
           0.0006934812760055479,
           0.0020804438280166435,
           0,
           0,
           0,
           0,
           0
          ],
          [
           0.0020804438280166435,
           0,
           0,
           0,
           0.006934812760055479,
           0,
           0.0020804438280166435,
           0,
           0.0048543689320388345,
           0,
           0,
           0,
           0,
           0,
           0.0027739251040221915,
           0,
           0,
           0.006934812760055479,
           0.0006934812760055479,
           0,
           0.0027739251040221915,
           0,
           0,
           0,
           0,
           0
          ],
          [
           0,
           0.0048543689320388345,
           0.0062413314840499305,
           0.006934812760055479,
           0,
           0,
           0.006934812760055479,
           0.0006934812760055479,
           0.004160887656033287,
           0.0034674063800277394,
           0,
           0.0062413314840499305,
           0.0034674063800277394,
           0.006934812760055479,
           0,
           0.005547850208044383,
           0,
           0.011789181692094313,
           0.0048543689320388345,
           0.011095700416088766,
           0.0006934812760055479,
           0.004160887656033287,
           0,
           0.0006934812760055479,
           0,
           0.0006934812760055479
          ],
          [
           0.0027739251040221915,
           0,
           0,
           0,
           0.0006934812760055479,
           0,
           0,
           0,
           0.0034674063800277394,
           0,
           0,
           0.0013869625520110957,
           0.005547850208044383,
           0,
           0.0013869625520110957,
           0,
           0,
           0.0034674063800277394,
           0.0027739251040221915,
           0,
           0.0020804438280166435,
           0,
           0,
           0,
           0,
           0
          ],
          [
           0,
           0,
           0,
           0,
           0,
           0,
           0,
           0,
           0,
           0,
           0,
           0,
           0,
           0,
           0,
           0,
           0,
           0,
           0,
           0,
           0,
           0,
           0,
           0,
           0,
           0
          ],
          [
           0.0034674063800277394,
           0.011095700416088766,
           0.0034674063800277394,
           0.0034674063800277394,
           0.0020804438280166435,
           0.0027739251040221915,
           0.0048543689320388345,
           0,
           0.0027739251040221915,
           0,
           0,
           0,
           0,
           0.0013869625520110957,
           0.0034674063800277394,
           0,
           0,
           0.013869625520110958,
           0,
           0.0076282940360610264,
           0.0027739251040221915,
           0.0013869625520110957,
           0,
           0,
           0,
           0
          ],
          [
           0.0034674063800277394,
           0,
           0,
           0,
           0.0034674063800277394,
           0,
           0,
           0,
           0.0027739251040221915,
           0,
           0,
           0.005547850208044383,
           0,
           0.0062413314840499305,
           0.0020804438280166435,
           0.0006934812760055479,
           0,
           0.0048543689320388345,
           0.009708737864077669,
           0,
           0.005547850208044383,
           0,
           0,
           0,
           0,
           0
          ],
          [
           0.009015256588072122,
           0,
           0,
           0,
           0.005547850208044383,
           0,
           0,
           0,
           0.011095700416088766,
           0,
           0,
           0.0062413314840499305,
           0,
           0.024271844660194174,
           0.0020804438280166435,
           0,
           0,
           0.012482662968099861,
           0.024965325936199722,
           0,
           0.004160887656033287,
           0,
           0,
           0.0020804438280166435,
           0,
           0
          ],
          [
           0.0006934812760055479,
           0.0013869625520110957,
           0.0013869625520110957,
           0.0013869625520110957,
           0.0013869625520110957,
           0,
           0.0020804438280166435,
           0,
           0,
           0.0006934812760055479,
           0,
           0,
           0.0006934812760055479,
           0.0020804438280166435,
           0,
           0.0006934812760055479,
           0.0062413314840499305,
           0.0020804438280166435,
           0,
           0.0020804438280166435,
           0,
           0,
           0,
           0,
           0,
           0.0006934812760055479
          ],
          [
           0.005547850208044383,
           0,
           0,
           0,
           0.0027739251040221915,
           0,
           0,
           0,
           0.0034674063800277394,
           0,
           0,
           0.0034674063800277394,
           0,
           0,
           0.0006934812760055479,
           0,
           0,
           0.005547850208044383,
           0,
           0,
           0.0013869625520110957,
           0,
           0,
           0,
           0,
           0
          ],
          [
           0,
           0,
           0,
           0,
           0,
           0,
           0,
           0,
           0,
           0,
           0,
           0,
           0,
           0,
           0,
           0,
           0,
           0,
           0,
           0,
           0,
           0,
           0,
           0,
           0,
           0
          ],
          [
           0.0013869625520110957,
           0,
           0,
           0,
           0.0006934812760055479,
           0,
           0,
           0,
           0.0034674063800277394,
           0,
           0,
           0,
           0,
           0,
           0,
           0,
           0,
           0,
           0,
           0,
           0.0020804438280166435,
           0,
           0,
           0,
           0,
           0
          ],
          [
           0,
           0,
           0,
           0,
           0,
           0,
           0,
           0,
           0,
           0,
           0,
           0,
           0,
           0,
           0,
           0,
           0,
           0,
           0,
           0,
           0,
           0,
           0,
           0,
           0,
           0
          ],
          [
           0.0006934812760055479,
           0,
           0,
           0,
           0.0006934812760055479,
           0,
           0,
           0,
           0.0013869625520110957,
           0,
           0,
           0,
           0,
           0.0013869625520110957,
           0,
           0,
           0,
           0,
           0,
           0,
           0,
           0,
           0,
           0,
           0,
           0.0006934812760055479
          ]
         ]
        },
        {
         "coloraxis": "coloraxis",
         "name": "2-3",
         "type": "heatmap",
         "visible": false,
         "x": [
          "a",
          "b",
          "c",
          "d",
          "e",
          "f",
          "g",
          "h",
          "i",
          "j",
          "k",
          "l",
          "m",
          "n",
          "o",
          "p",
          "q",
          "r",
          "s",
          "t",
          "u",
          "v",
          "w",
          "x",
          "y",
          "z"
         ],
         "xaxis": "x11",
         "y": [
          "a",
          "b",
          "c",
          "d",
          "e",
          "f",
          "g",
          "h",
          "i",
          "j",
          "k",
          "l",
          "m",
          "n",
          "o",
          "p",
          "q",
          "r",
          "s",
          "t",
          "u",
          "v",
          "w",
          "x",
          "y",
          "z"
         ],
         "yaxis": "y11",
         "z": [
          [
           0,
           0.0027739251040221915,
           0.024965325936199722,
           0.009015256588072122,
           0.0027739251040221915,
           0.0034674063800277394,
           0.011095700416088766,
           0.0027739251040221915,
           0.012482662968099861,
           0.0013869625520110957,
           0,
           0.01872399445214979,
           0.011095700416088766,
           0.010402219140083218,
           0.0006934812760055479,
           0.005547850208044383,
           0,
           0.024965325936199722,
           0.013176144244105409,
           0.020804438280166437,
           0.0034674063800277394,
           0.008321775312066574,
           0,
           0.004160887656033287,
           0,
           0.004160887656033287
          ],
          [
           0.0006934812760055479,
           0,
           0,
           0,
           0.0013869625520110957,
           0,
           0,
           0,
           0.0020804438280166435,
           0,
           0,
           0,
           0.008321775312066574,
           0,
           0.0006934812760055479,
           0,
           0,
           0.0020804438280166435,
           0,
           0,
           0.0020804438280166435,
           0,
           0,
           0,
           0,
           0
          ],
          [
           0.005547850208044383,
           0,
           0,
           0,
           0.0034674063800277394,
           0,
           0,
           0,
           0.009015256588072122,
           0,
           0,
           0.0020804438280166435,
           0,
           0.006934812760055479,
           0.004160887656033287,
           0,
           0,
           0.009708737864077669,
           0.009015256588072122,
           0,
           0.005547850208044383,
           0,
           0,
           0,
           0,
           0
          ],
          [
           0.009015256588072122,
           0,
           0,
           0,
           0.0027739251040221915,
           0,
           0,
           0,
           0.0076282940360610264,
           0,
           0,
           0.0034674063800277394,
           0,
           0.012482662968099861,
           0.0013869625520110957,
           0,
           0,
           0.012482662968099861,
           0.0006934812760055479,
           0,
           0.0062413314840499305,
           0,
           0,
           0,
           0,
           0
          ],
          [
           0,
           0.0020804438280166435,
           0.0020804438280166435,
           0.0062413314840499305,
           0,
           0.0013869625520110957,
           0.0006934812760055479,
           0,
           0.0006934812760055479,
           0,
           0,
           0.004160887656033287,
           0.005547850208044383,
           0.0020804438280166435,
           0.0027739251040221915,
           0.0020804438280166435,
           0,
           0.0062413314840499305,
           0.005547850208044383,
           0.008321775312066574,
           0.0006934812760055479,
           0.008321775312066574,
           0,
           0.0006934812760055479,
           0,
           0.0048543689320388345
          ],
          [
           0,
           0,
           0,
           0,
           0.0006934812760055479,
           0,
           0,
           0,
           0,
           0,
           0,
           0.0006934812760055479,
           0,
           0.0006934812760055479,
           0,
           0,
           0,
           0.0013869625520110957,
           0,
           0,
           0.0006934812760055479,
           0,
           0,
           0,
           0,
           0
          ],
          [
           0.0027739251040221915,
           0,
           0,
           0,
           0.004160887656033287,
           0,
           0,
           0,
           0.0034674063800277394,
           0,
           0,
           0.0020804438280166435,
           0,
           0.009015256588072122,
           0,
           0,
           0,
           0.0013869625520110957,
           0.0013869625520110957,
           0,
           0,
           0,
           0,
           0,
           0,
           0
          ],
          [
           0,
           0,
           0.006934812760055479,
           0,
           0,
           0,
           0,
           0,
           0,
           0,
           0,
           0.010402219140083218,
           0,
           0.009708737864077669,
           0,
           0,
           0,
           0,
           0.0006934812760055479,
           0,
           0,
           0,
           0,
           0,
           0,
           0
          ],
          [
           0.0027739251040221915,
           0.006934812760055479,
           0.0048543689320388345,
           0.009708737864077669,
           0.0062413314840499305,
           0.0013869625520110957,
           0.0027739251040221915,
           0,
           0,
           0,
           0,
           0.0048543689320388345,
           0.0020804438280166435,
           0.0062413314840499305,
           0.0006934812760055479,
           0.0027739251040221915,
           0,
           0.011789181692094313,
           0.0027739251040221915,
           0.009708737864077669,
           0.0013869625520110957,
           0.0048543689320388345,
           0,
           0.0006934812760055479,
           0,
           0.0020804438280166435
          ],
          [
           0.0006934812760055479,
           0,
           0,
           0,
           0.0006934812760055479,
           0,
           0,
           0,
           0.0006934812760055479,
           0,
           0,
           0,
           0,
           0.0020804438280166435,
           0.0006934812760055479,
           0,
           0,
           0.0013869625520110957,
           0,
           0,
           0,
           0,
           0,
           0,
           0,
           0
          ],
          [
           0,
           0,
           0,
           0,
           0,
           0,
           0,
           0,
           0,
           0,
           0,
           0,
           0,
           0,
           0,
           0,
           0,
           0,
           0,
           0,
           0,
           0,
           0,
           0,
           0,
           0
          ],
          [
           0.0020804438280166435,
           0,
           0.0013869625520110957,
           0,
           0.0048543689320388345,
           0,
           0.0006934812760055479,
           0,
           0.0027739251040221915,
           0,
           0,
           0,
           0,
           0,
           0.0034674063800277394,
           0.0027739251040221915,
           0,
           0,
           0,
           0,
           0.0027739251040221915,
           0,
           0,
           0,
           0,
           0
          ],
          [
           0.0034674063800277394,
           0,
           0,
           0,
           0.0013869625520110957,
           0,
           0.0013869625520110957,
           0,
           0.0048543689320388345,
           0,
           0,
           0.004160887656033287,
           0,
           0,
           0.0027739251040221915,
           0,
           0,
           0.0062413314840499305,
           0.0034674063800277394,
           0.0006934812760055479,
           0.0020804438280166435,
           0,
           0,
           0,
           0,
           0
          ],
          [
           0.0020804438280166435,
           0,
           0,
           0,
           0.006934812760055479,
           0,
           0.0020804438280166435,
           0,
           0.0048543689320388345,
           0,
           0,
           0,
           0,
           0,
           0.0027739251040221915,
           0,
           0,
           0.006934812760055479,
           0.0006934812760055479,
           0,
           0.0027739251040221915,
           0,
           0,
           0,
           0,
           0
          ],
          [
           0,
           0.0048543689320388345,
           0.0062413314840499305,
           0.006934812760055479,
           0,
           0,
           0.006934812760055479,
           0.0006934812760055479,
           0.004160887656033287,
           0.0034674063800277394,
           0,
           0.0062413314840499305,
           0.0034674063800277394,
           0.006934812760055479,
           0,
           0.005547850208044383,
           0,
           0.011789181692094313,
           0.0048543689320388345,
           0.011095700416088766,
           0.0006934812760055479,
           0.004160887656033287,
           0,
           0.0006934812760055479,
           0,
           0.0006934812760055479
          ],
          [
           0.0027739251040221915,
           0,
           0,
           0,
           0.0006934812760055479,
           0,
           0,
           0,
           0.0034674063800277394,
           0,
           0,
           0.0013869625520110957,
           0.005547850208044383,
           0,
           0.0013869625520110957,
           0,
           0,
           0.0034674063800277394,
           0.0027739251040221915,
           0,
           0.0020804438280166435,
           0,
           0,
           0,
           0,
           0
          ],
          [
           0,
           0,
           0,
           0,
           0,
           0,
           0,
           0,
           0,
           0,
           0,
           0,
           0,
           0,
           0,
           0,
           0,
           0,
           0,
           0,
           0,
           0,
           0,
           0,
           0,
           0
          ],
          [
           0.0034674063800277394,
           0.011095700416088766,
           0.0034674063800277394,
           0.0034674063800277394,
           0.0020804438280166435,
           0.0027739251040221915,
           0.0048543689320388345,
           0,
           0.0027739251040221915,
           0,
           0,
           0,
           0,
           0.0013869625520110957,
           0.0034674063800277394,
           0,
           0,
           0.013869625520110958,
           0,
           0.0076282940360610264,
           0.0027739251040221915,
           0.0013869625520110957,
           0,
           0,
           0,
           0
          ],
          [
           0.0034674063800277394,
           0,
           0,
           0,
           0.0034674063800277394,
           0,
           0,
           0,
           0.0027739251040221915,
           0,
           0,
           0.005547850208044383,
           0,
           0.0062413314840499305,
           0.0020804438280166435,
           0.0006934812760055479,
           0,
           0.0048543689320388345,
           0.009708737864077669,
           0,
           0.005547850208044383,
           0,
           0,
           0,
           0,
           0
          ],
          [
           0.009015256588072122,
           0,
           0,
           0,
           0.005547850208044383,
           0,
           0,
           0,
           0.011095700416088766,
           0,
           0,
           0.0062413314840499305,
           0,
           0.024271844660194174,
           0.0020804438280166435,
           0,
           0,
           0.012482662968099861,
           0.024965325936199722,
           0,
           0.004160887656033287,
           0,
           0,
           0.0020804438280166435,
           0,
           0
          ],
          [
           0.0006934812760055479,
           0.0013869625520110957,
           0.0013869625520110957,
           0.0013869625520110957,
           0.0013869625520110957,
           0,
           0.0020804438280166435,
           0,
           0,
           0.0006934812760055479,
           0,
           0,
           0.0006934812760055479,
           0.0020804438280166435,
           0,
           0.0006934812760055479,
           0.0062413314840499305,
           0.0020804438280166435,
           0,
           0.0020804438280166435,
           0,
           0,
           0,
           0,
           0,
           0.0006934812760055479
          ],
          [
           0.005547850208044383,
           0,
           0,
           0,
           0.0027739251040221915,
           0,
           0,
           0,
           0.0034674063800277394,
           0,
           0,
           0.0034674063800277394,
           0,
           0,
           0.0006934812760055479,
           0,
           0,
           0.005547850208044383,
           0,
           0,
           0.0013869625520110957,
           0,
           0,
           0,
           0,
           0
          ],
          [
           0,
           0,
           0,
           0,
           0,
           0,
           0,
           0,
           0,
           0,
           0,
           0,
           0,
           0,
           0,
           0,
           0,
           0,
           0,
           0,
           0,
           0,
           0,
           0,
           0,
           0
          ],
          [
           0.0013869625520110957,
           0,
           0,
           0,
           0.0006934812760055479,
           0,
           0,
           0,
           0.0034674063800277394,
           0,
           0,
           0,
           0,
           0,
           0,
           0,
           0,
           0,
           0,
           0,
           0.0020804438280166435,
           0,
           0,
           0,
           0,
           0
          ],
          [
           0,
           0,
           0,
           0,
           0,
           0,
           0,
           0,
           0,
           0,
           0,
           0,
           0,
           0,
           0,
           0,
           0,
           0,
           0,
           0,
           0,
           0,
           0,
           0,
           0,
           0
          ],
          [
           0.0006934812760055479,
           0,
           0,
           0,
           0.0006934812760055479,
           0,
           0,
           0,
           0.0013869625520110957,
           0,
           0,
           0,
           0,
           0.0013869625520110957,
           0,
           0,
           0,
           0,
           0,
           0,
           0,
           0,
           0,
           0,
           0,
           0.0006934812760055479
          ]
         ]
        },
        {
         "coloraxis": "coloraxis7",
         "name": "2-4",
         "type": "heatmap",
         "visible": true,
         "x": [
          "a",
          "b",
          "c",
          "d",
          "e",
          "f",
          "g",
          "h",
          "i",
          "j",
          "k",
          "l",
          "m",
          "n",
          "o",
          "p",
          "q",
          "r",
          "s",
          "t",
          "u",
          "v",
          "w",
          "x",
          "y",
          "z"
         ],
         "xaxis": "x15",
         "y": [
          "a",
          "b",
          "c",
          "d",
          "e",
          "f",
          "g",
          "h",
          "i",
          "j",
          "k",
          "l",
          "m",
          "n",
          "o",
          "p",
          "q",
          "r",
          "s",
          "t",
          "u",
          "v",
          "w",
          "x",
          "y",
          "z"
         ],
         "yaxis": "y15",
         "z": [
          [
           0.020804438280166437,
           0.009015256588072122,
           0.0062413314840499305,
           0.004160887656033287,
           0.02011095700416089,
           0.0027739251040221915,
           0.008321775312066574,
           0,
           0.026352288488210817,
           0,
           0,
           0.02011095700416089,
           0.009015256588072122,
           0.03398058252427184,
           0.011095700416088766,
           0.0020804438280166435,
           0,
           0.036061026352288486,
           0.022191400832177532,
           0.0048543689320388345,
           0.01872399445214979,
           0.0006934812760055479,
           0,
           0.0006934812760055479,
           0,
           0.0020804438280166435
          ],
          [
           0,
           0,
           0,
           0,
           0,
           0,
           0,
           0,
           0,
           0,
           0,
           0,
           0,
           0,
           0,
           0,
           0,
           0,
           0,
           0,
           0,
           0,
           0,
           0,
           0,
           0
          ],
          [
           0,
           0,
           0,
           0,
           0,
           0,
           0,
           0,
           0,
           0,
           0,
           0,
           0,
           0,
           0,
           0,
           0,
           0,
           0,
           0,
           0,
           0,
           0,
           0,
           0,
           0
          ],
          [
           0,
           0,
           0,
           0,
           0,
           0,
           0,
           0,
           0,
           0,
           0,
           0,
           0,
           0,
           0,
           0,
           0,
           0,
           0,
           0,
           0,
           0,
           0,
           0,
           0,
           0
          ],
          [
           0.011789181692094313,
           0.004160887656033287,
           0.0006934812760055479,
           0.0013869625520110957,
           0.005547850208044383,
           0.0006934812760055479,
           0.0013869625520110957,
           0,
           0.011789181692094313,
           0,
           0,
           0.0027739251040221915,
           0.0006934812760055479,
           0.011095700416088766,
           0.0034674063800277394,
           0,
           0.004160887656033287,
           0.013176144244105409,
           0.008321775312066574,
           0,
           0.005547850208044383,
           0.0006934812760055479,
           0,
           0,
           0,
           0.0006934812760055479
          ],
          [
           0,
           0,
           0,
           0,
           0,
           0,
           0,
           0,
           0,
           0,
           0,
           0,
           0,
           0,
           0,
           0,
           0,
           0,
           0,
           0,
           0,
           0,
           0,
           0,
           0,
           0
          ],
          [
           0,
           0,
           0,
           0,
           0,
           0,
           0,
           0,
           0,
           0,
           0,
           0,
           0,
           0,
           0,
           0,
           0,
           0,
           0,
           0,
           0,
           0,
           0,
           0,
           0,
           0
          ],
          [
           0,
           0,
           0,
           0,
           0,
           0,
           0,
           0,
           0,
           0,
           0,
           0,
           0,
           0,
           0,
           0,
           0,
           0,
           0,
           0,
           0,
           0,
           0,
           0,
           0,
           0
          ],
          [
           0,
           0,
           0,
           0,
           0,
           0,
           0,
           0,
           0.0006934812760055479,
           0,
           0,
           0.0006934812760055479,
           0,
           0.0006934812760055479,
           0,
           0,
           0.0020804438280166435,
           0.0006934812760055479,
           0.0006934812760055479,
           0,
           0,
           0,
           0,
           0,
           0,
           0
          ],
          [
           0,
           0,
           0,
           0,
           0,
           0,
           0,
           0,
           0,
           0,
           0,
           0,
           0,
           0,
           0,
           0,
           0,
           0,
           0,
           0,
           0,
           0,
           0,
           0,
           0,
           0
          ],
          [
           0,
           0,
           0,
           0,
           0,
           0,
           0,
           0,
           0,
           0,
           0,
           0,
           0,
           0,
           0,
           0,
           0,
           0,
           0,
           0,
           0,
           0,
           0,
           0,
           0,
           0
          ],
          [
           0,
           0.0013869625520110957,
           0.0048543689320388345,
           0.0006934812760055479,
           0.0013869625520110957,
           0,
           0.0013869625520110957,
           0,
           0.0006934812760055479,
           0,
           0,
           0,
           0.0006934812760055479,
           0.0062413314840499305,
           0,
           0.0006934812760055479,
           0,
           0.006934812760055479,
           0.0013869625520110957,
           0.008321775312066574,
           0.0034674063800277394,
           0.0034674063800277394,
           0,
           0,
           0,
           0.0006934812760055479
          ],
          [
           0,
           0.0006934812760055479,
           0,
           0.0013869625520110957,
           0,
           0.0013869625520110957,
           0.0013869625520110957,
           0,
           0,
           0.0006934812760055479,
           0,
           0.0006934812760055479,
           0.0013869625520110957,
           0.0006934812760055479,
           0,
           0.0020804438280166435,
           0,
           0.0020804438280166435,
           0.0006934812760055479,
           0.004160887656033287,
           0,
           0.0013869625520110957,
           0,
           0,
           0,
           0
          ],
          [
           0,
           0,
           0.0006934812760055479,
           0,
           0,
           0.0006934812760055479,
           0,
           0,
           0,
           0,
           0,
           0.0013869625520110957,
           0,
           0,
           0,
           0,
           0,
           0,
           0,
           0,
           0,
           0,
           0,
           0,
           0,
           0
          ],
          [
           0.020804438280166437,
           0.004160887656033287,
           0.016643550624133148,
           0.009015256588072122,
           0.02011095700416089,
           0.0020804438280166435,
           0.005547850208044383,
           0,
           0.02565880721220527,
           0.0006934812760055479,
           0,
           0.022191400832177532,
           0.0076282940360610264,
           0.033287101248266296,
           0.011789181692094313,
           0.0020804438280166435,
           0,
           0.04576976421636616,
           0.028432732316227463,
           0.010402219140083218,
           0.0159500693481276,
           0.0034674063800277394,
           0,
           0.0027739251040221915,
           0,
           0.0020804438280166435
          ],
          [
           0,
           0,
           0,
           0,
           0,
           0,
           0,
           0,
           0,
           0,
           0,
           0,
           0,
           0,
           0,
           0,
           0,
           0,
           0,
           0,
           0,
           0,
           0,
           0,
           0,
           0
          ],
          [
           0,
           0,
           0,
           0,
           0,
           0,
           0,
           0,
           0,
           0,
           0,
           0,
           0,
           0,
           0,
           0,
           0,
           0,
           0,
           0,
           0,
           0,
           0,
           0,
           0,
           0
          ],
          [
           0.0006934812760055479,
           0.005547850208044383,
           0.011095700416088766,
           0.011789181692094313,
           0.0006934812760055479,
           0.0006934812760055479,
           0.009015256588072122,
           0.0013869625520110957,
           0.006934812760055479,
           0.0013869625520110957,
           0,
           0.013176144244105409,
           0.011095700416088766,
           0.0062413314840499305,
           0.0006934812760055479,
           0.0076282940360610264,
           0,
           0.014563106796116505,
           0.0076282940360610264,
           0.01872399445214979,
           0.0020804438280166435,
           0.009708737864077669,
           0,
           0.0027739251040221915,
           0,
           0.0048543689320388345
          ],
          [
           0.0020804438280166435,
           0.004160887656033287,
           0.010402219140083218,
           0.0076282940360610264,
           0.0048543689320388345,
           0.0006934812760055479,
           0.0034674063800277394,
           0.0013869625520110957,
           0.009015256588072122,
           0.0027739251040221915,
           0,
           0.011095700416088766,
           0.0048543689320388345,
           0.009708737864077669,
           0.0027739251040221915,
           0.0034674063800277394,
           0,
           0.013869625520110958,
           0.009708737864077669,
           0.013176144244105409,
           0,
           0.0076282940360610264,
           0,
           0.0020804438280166435,
           0,
           0.0027739251040221915
          ],
          [
           0,
           0,
           0,
           0,
           0,
           0,
           0,
           0,
           0,
           0,
           0,
           0,
           0,
           0,
           0,
           0,
           0,
           0,
           0,
           0,
           0,
           0,
           0,
           0,
           0,
           0
          ],
          [
           0,
           0,
           0.0006934812760055479,
           0,
           0,
           0,
           0,
           0.0006934812760055479,
           0,
           0,
           0,
           0,
           0.0013869625520110957,
           0,
           0,
           0,
           0,
           0.0006934812760055479,
           0.0006934812760055479,
           0,
           0.0006934812760055479,
           0,
           0,
           0,
           0,
           0
          ],
          [
           0,
           0,
           0,
           0,
           0,
           0,
           0,
           0,
           0,
           0,
           0,
           0,
           0,
           0,
           0,
           0,
           0,
           0,
           0,
           0,
           0,
           0,
           0,
           0,
           0,
           0
          ],
          [
           0,
           0,
           0,
           0,
           0,
           0,
           0,
           0,
           0,
           0,
           0,
           0,
           0,
           0,
           0,
           0,
           0,
           0,
           0,
           0,
           0,
           0,
           0,
           0,
           0,
           0
          ],
          [
           0,
           0,
           0,
           0,
           0,
           0,
           0,
           0,
           0,
           0,
           0,
           0,
           0,
           0,
           0,
           0,
           0,
           0.0006934812760055479,
           0,
           0,
           0,
           0,
           0,
           0,
           0,
           0
          ],
          [
           0,
           0,
           0,
           0,
           0,
           0,
           0,
           0,
           0,
           0,
           0,
           0,
           0,
           0,
           0,
           0,
           0,
           0,
           0,
           0,
           0,
           0,
           0,
           0,
           0,
           0
          ],
          [
           0,
           0,
           0,
           0.0006934812760055479,
           0,
           0,
           0.0020804438280166435,
           0,
           0,
           0,
           0,
           0.0013869625520110957,
           0,
           0,
           0,
           0.0020804438280166435,
           0,
           0.004160887656033287,
           0,
           0.0006934812760055479,
           0,
           0,
           0,
           0,
           0,
           0
          ]
         ]
        },
        {
         "coloraxis": "coloraxis",
         "name": "2-4",
         "type": "heatmap",
         "visible": false,
         "x": [
          "a",
          "b",
          "c",
          "d",
          "e",
          "f",
          "g",
          "h",
          "i",
          "j",
          "k",
          "l",
          "m",
          "n",
          "o",
          "p",
          "q",
          "r",
          "s",
          "t",
          "u",
          "v",
          "w",
          "x",
          "y",
          "z"
         ],
         "xaxis": "x15",
         "y": [
          "a",
          "b",
          "c",
          "d",
          "e",
          "f",
          "g",
          "h",
          "i",
          "j",
          "k",
          "l",
          "m",
          "n",
          "o",
          "p",
          "q",
          "r",
          "s",
          "t",
          "u",
          "v",
          "w",
          "x",
          "y",
          "z"
         ],
         "yaxis": "y15",
         "z": [
          [
           0.020804438280166437,
           0.009015256588072122,
           0.0062413314840499305,
           0.004160887656033287,
           0.02011095700416089,
           0.0027739251040221915,
           0.008321775312066574,
           0,
           0.026352288488210817,
           0,
           0,
           0.02011095700416089,
           0.009015256588072122,
           0.03398058252427184,
           0.011095700416088766,
           0.0020804438280166435,
           0,
           0.036061026352288486,
           0.022191400832177532,
           0.0048543689320388345,
           0.01872399445214979,
           0.0006934812760055479,
           0,
           0.0006934812760055479,
           0,
           0.0020804438280166435
          ],
          [
           0,
           0,
           0,
           0,
           0,
           0,
           0,
           0,
           0,
           0,
           0,
           0,
           0,
           0,
           0,
           0,
           0,
           0,
           0,
           0,
           0,
           0,
           0,
           0,
           0,
           0
          ],
          [
           0,
           0,
           0,
           0,
           0,
           0,
           0,
           0,
           0,
           0,
           0,
           0,
           0,
           0,
           0,
           0,
           0,
           0,
           0,
           0,
           0,
           0,
           0,
           0,
           0,
           0
          ],
          [
           0,
           0,
           0,
           0,
           0,
           0,
           0,
           0,
           0,
           0,
           0,
           0,
           0,
           0,
           0,
           0,
           0,
           0,
           0,
           0,
           0,
           0,
           0,
           0,
           0,
           0
          ],
          [
           0.011789181692094313,
           0.004160887656033287,
           0.0006934812760055479,
           0.0013869625520110957,
           0.005547850208044383,
           0.0006934812760055479,
           0.0013869625520110957,
           0,
           0.011789181692094313,
           0,
           0,
           0.0027739251040221915,
           0.0006934812760055479,
           0.011095700416088766,
           0.0034674063800277394,
           0,
           0.004160887656033287,
           0.013176144244105409,
           0.008321775312066574,
           0,
           0.005547850208044383,
           0.0006934812760055479,
           0,
           0,
           0,
           0.0006934812760055479
          ],
          [
           0,
           0,
           0,
           0,
           0,
           0,
           0,
           0,
           0,
           0,
           0,
           0,
           0,
           0,
           0,
           0,
           0,
           0,
           0,
           0,
           0,
           0,
           0,
           0,
           0,
           0
          ],
          [
           0,
           0,
           0,
           0,
           0,
           0,
           0,
           0,
           0,
           0,
           0,
           0,
           0,
           0,
           0,
           0,
           0,
           0,
           0,
           0,
           0,
           0,
           0,
           0,
           0,
           0
          ],
          [
           0,
           0,
           0,
           0,
           0,
           0,
           0,
           0,
           0,
           0,
           0,
           0,
           0,
           0,
           0,
           0,
           0,
           0,
           0,
           0,
           0,
           0,
           0,
           0,
           0,
           0
          ],
          [
           0,
           0,
           0,
           0,
           0,
           0,
           0,
           0,
           0.0006934812760055479,
           0,
           0,
           0.0006934812760055479,
           0,
           0.0006934812760055479,
           0,
           0,
           0.0020804438280166435,
           0.0006934812760055479,
           0.0006934812760055479,
           0,
           0,
           0,
           0,
           0,
           0,
           0
          ],
          [
           0,
           0,
           0,
           0,
           0,
           0,
           0,
           0,
           0,
           0,
           0,
           0,
           0,
           0,
           0,
           0,
           0,
           0,
           0,
           0,
           0,
           0,
           0,
           0,
           0,
           0
          ],
          [
           0,
           0,
           0,
           0,
           0,
           0,
           0,
           0,
           0,
           0,
           0,
           0,
           0,
           0,
           0,
           0,
           0,
           0,
           0,
           0,
           0,
           0,
           0,
           0,
           0,
           0
          ],
          [
           0,
           0.0013869625520110957,
           0.0048543689320388345,
           0.0006934812760055479,
           0.0013869625520110957,
           0,
           0.0013869625520110957,
           0,
           0.0006934812760055479,
           0,
           0,
           0,
           0.0006934812760055479,
           0.0062413314840499305,
           0,
           0.0006934812760055479,
           0,
           0.006934812760055479,
           0.0013869625520110957,
           0.008321775312066574,
           0.0034674063800277394,
           0.0034674063800277394,
           0,
           0,
           0,
           0.0006934812760055479
          ],
          [
           0,
           0.0006934812760055479,
           0,
           0.0013869625520110957,
           0,
           0.0013869625520110957,
           0.0013869625520110957,
           0,
           0,
           0.0006934812760055479,
           0,
           0.0006934812760055479,
           0.0013869625520110957,
           0.0006934812760055479,
           0,
           0.0020804438280166435,
           0,
           0.0020804438280166435,
           0.0006934812760055479,
           0.004160887656033287,
           0,
           0.0013869625520110957,
           0,
           0,
           0,
           0
          ],
          [
           0,
           0,
           0.0006934812760055479,
           0,
           0,
           0.0006934812760055479,
           0,
           0,
           0,
           0,
           0,
           0.0013869625520110957,
           0,
           0,
           0,
           0,
           0,
           0,
           0,
           0,
           0,
           0,
           0,
           0,
           0,
           0
          ],
          [
           0.020804438280166437,
           0.004160887656033287,
           0.016643550624133148,
           0.009015256588072122,
           0.02011095700416089,
           0.0020804438280166435,
           0.005547850208044383,
           0,
           0.02565880721220527,
           0.0006934812760055479,
           0,
           0.022191400832177532,
           0.0076282940360610264,
           0.033287101248266296,
           0.011789181692094313,
           0.0020804438280166435,
           0,
           0.04576976421636616,
           0.028432732316227463,
           0.010402219140083218,
           0.0159500693481276,
           0.0034674063800277394,
           0,
           0.0027739251040221915,
           0,
           0.0020804438280166435
          ],
          [
           0,
           0,
           0,
           0,
           0,
           0,
           0,
           0,
           0,
           0,
           0,
           0,
           0,
           0,
           0,
           0,
           0,
           0,
           0,
           0,
           0,
           0,
           0,
           0,
           0,
           0
          ],
          [
           0,
           0,
           0,
           0,
           0,
           0,
           0,
           0,
           0,
           0,
           0,
           0,
           0,
           0,
           0,
           0,
           0,
           0,
           0,
           0,
           0,
           0,
           0,
           0,
           0,
           0
          ],
          [
           0.0006934812760055479,
           0.005547850208044383,
           0.011095700416088766,
           0.011789181692094313,
           0.0006934812760055479,
           0.0006934812760055479,
           0.009015256588072122,
           0.0013869625520110957,
           0.006934812760055479,
           0.0013869625520110957,
           0,
           0.013176144244105409,
           0.011095700416088766,
           0.0062413314840499305,
           0.0006934812760055479,
           0.0076282940360610264,
           0,
           0.014563106796116505,
           0.0076282940360610264,
           0.01872399445214979,
           0.0020804438280166435,
           0.009708737864077669,
           0,
           0.0027739251040221915,
           0,
           0.0048543689320388345
          ],
          [
           0.0020804438280166435,
           0.004160887656033287,
           0.010402219140083218,
           0.0076282940360610264,
           0.0048543689320388345,
           0.0006934812760055479,
           0.0034674063800277394,
           0.0013869625520110957,
           0.009015256588072122,
           0.0027739251040221915,
           0,
           0.011095700416088766,
           0.0048543689320388345,
           0.009708737864077669,
           0.0027739251040221915,
           0.0034674063800277394,
           0,
           0.013869625520110958,
           0.009708737864077669,
           0.013176144244105409,
           0,
           0.0076282940360610264,
           0,
           0.0020804438280166435,
           0,
           0.0027739251040221915
          ],
          [
           0,
           0,
           0,
           0,
           0,
           0,
           0,
           0,
           0,
           0,
           0,
           0,
           0,
           0,
           0,
           0,
           0,
           0,
           0,
           0,
           0,
           0,
           0,
           0,
           0,
           0
          ],
          [
           0,
           0,
           0.0006934812760055479,
           0,
           0,
           0,
           0,
           0.0006934812760055479,
           0,
           0,
           0,
           0,
           0.0013869625520110957,
           0,
           0,
           0,
           0,
           0.0006934812760055479,
           0.0006934812760055479,
           0,
           0.0006934812760055479,
           0,
           0,
           0,
           0,
           0
          ],
          [
           0,
           0,
           0,
           0,
           0,
           0,
           0,
           0,
           0,
           0,
           0,
           0,
           0,
           0,
           0,
           0,
           0,
           0,
           0,
           0,
           0,
           0,
           0,
           0,
           0,
           0
          ],
          [
           0,
           0,
           0,
           0,
           0,
           0,
           0,
           0,
           0,
           0,
           0,
           0,
           0,
           0,
           0,
           0,
           0,
           0,
           0,
           0,
           0,
           0,
           0,
           0,
           0,
           0
          ],
          [
           0,
           0,
           0,
           0,
           0,
           0,
           0,
           0,
           0,
           0,
           0,
           0,
           0,
           0,
           0,
           0,
           0,
           0.0006934812760055479,
           0,
           0,
           0,
           0,
           0,
           0,
           0,
           0
          ],
          [
           0,
           0,
           0,
           0,
           0,
           0,
           0,
           0,
           0,
           0,
           0,
           0,
           0,
           0,
           0,
           0,
           0,
           0,
           0,
           0,
           0,
           0,
           0,
           0,
           0,
           0
          ],
          [
           0,
           0,
           0,
           0.0006934812760055479,
           0,
           0,
           0.0020804438280166435,
           0,
           0,
           0,
           0,
           0.0013869625520110957,
           0,
           0,
           0,
           0.0020804438280166435,
           0,
           0.004160887656033287,
           0,
           0.0006934812760055479,
           0,
           0,
           0,
           0,
           0,
           0
          ]
         ]
        },
        {
         "coloraxis": "coloraxis8",
         "name": "3-4",
         "type": "heatmap",
         "visible": true,
         "x": [
          "a",
          "b",
          "c",
          "d",
          "e",
          "f",
          "g",
          "h",
          "i",
          "j",
          "k",
          "l",
          "m",
          "n",
          "o",
          "p",
          "q",
          "r",
          "s",
          "t",
          "u",
          "v",
          "w",
          "x",
          "y",
          "z"
         ],
         "xaxis": "x16",
         "y": [
          "a",
          "b",
          "c",
          "d",
          "e",
          "f",
          "g",
          "h",
          "i",
          "j",
          "k",
          "l",
          "m",
          "n",
          "o",
          "p",
          "q",
          "r",
          "s",
          "t",
          "u",
          "v",
          "w",
          "x",
          "y",
          "z"
         ],
         "yaxis": "y16",
         "z": [
          [
           0,
           0.006934812760055479,
           0.022191400832177532,
           0.02288488210818308,
           0.0027739251040221915,
           0.0013869625520110957,
           0.011789181692094313,
           0.013869625520110958,
           0.02288488210818308,
           0.0027739251040221915,
           0,
           0.010402219140083218,
           0.0159500693481276,
           0.010402219140083218,
           0.0034674063800277394,
           0.010402219140083218,
           0,
           0.026352288488210817,
           0.01872399445214979,
           0.03814147018030513,
           0.0034674063800277394,
           0.009015256588072122,
           0,
           0.0034674063800277394,
           0,
           0.0020804438280166435
          ],
          [
           0,
           0,
           0,
           0,
           0,
           0,
           0,
           0,
           0,
           0,
           0,
           0,
           0,
           0,
           0,
           0,
           0,
           0,
           0,
           0,
           0,
           0,
           0,
           0,
           0,
           0
          ],
          [
           0,
           0,
           0,
           0,
           0,
           0,
           0,
           0,
           0,
           0,
           0,
           0,
           0,
           0,
           0,
           0,
           0,
           0,
           0,
           0,
           0,
           0,
           0,
           0,
           0,
           0
          ],
          [
           0,
           0,
           0,
           0,
           0,
           0,
           0,
           0,
           0,
           0,
           0,
           0,
           0,
           0,
           0,
           0,
           0,
           0,
           0,
           0,
           0,
           0,
           0,
           0,
           0,
           0
          ],
          [
           0.0006934812760055479,
           0.0027739251040221915,
           0.004160887656033287,
           0.009015256588072122,
           0,
           0.0013869625520110957,
           0.0013869625520110957,
           0,
           0.0013869625520110957,
           0.0006934812760055479,
           0,
           0.0027739251040221915,
           0.005547850208044383,
           0.004160887656033287,
           0,
           0.006934812760055479,
           0,
           0.009708737864077669,
           0.004160887656033287,
           0.019417475728155338,
           0.0062413314840499305,
           0.0048543689320388345,
           0,
           0.0020804438280166435,
           0,
           0.0006934812760055479
          ],
          [
           0,
           0,
           0,
           0,
           0,
           0,
           0,
           0,
           0,
           0,
           0,
           0,
           0,
           0,
           0,
           0,
           0,
           0,
           0,
           0,
           0,
           0,
           0,
           0,
           0,
           0
          ],
          [
           0,
           0,
           0,
           0,
           0,
           0,
           0,
           0,
           0,
           0,
           0,
           0,
           0,
           0,
           0,
           0,
           0,
           0,
           0,
           0,
           0,
           0,
           0,
           0,
           0,
           0
          ],
          [
           0,
           0,
           0,
           0,
           0,
           0,
           0,
           0,
           0,
           0,
           0,
           0,
           0,
           0,
           0,
           0,
           0,
           0,
           0,
           0,
           0,
           0,
           0,
           0,
           0,
           0
          ],
          [
           0,
           0.0006934812760055479,
           0,
           0,
           0.0013869625520110957,
           0,
           0,
           0.0006934812760055479,
           0,
           0,
           0,
           0,
           0,
           0,
           0.0006934812760055479,
           0,
           0,
           0,
           0,
           0,
           0.0020804438280166435,
           0,
           0,
           0,
           0,
           0
          ],
          [
           0,
           0,
           0,
           0,
           0,
           0,
           0,
           0,
           0,
           0,
           0,
           0,
           0,
           0,
           0,
           0,
           0,
           0,
           0,
           0,
           0,
           0,
           0,
           0,
           0,
           0
          ],
          [
           0,
           0,
           0,
           0,
           0,
           0,
           0,
           0,
           0,
           0,
           0,
           0,
           0,
           0,
           0,
           0,
           0,
           0,
           0,
           0,
           0,
           0,
           0,
           0,
           0,
           0
          ],
          [
           0.02565880721220527,
           0,
           0,
           0,
           0.005547850208044383,
           0,
           0,
           0,
           0.009015256588072122,
           0,
           0,
           0,
           0,
           0,
           0.0020804438280166435,
           0,
           0,
           0,
           0,
           0,
           0,
           0,
           0,
           0,
           0,
           0
          ],
          [
           0.0006934812760055479,
           0,
           0,
           0,
           0.0062413314840499305,
           0,
           0,
           0,
           0.006934812760055479,
           0,
           0,
           0,
           0,
           0,
           0.0013869625520110957,
           0,
           0,
           0,
           0,
           0,
           0.0034674063800277394,
           0,
           0,
           0,
           0,
           0
          ],
          [
           0,
           0,
           0,
           0,
           0.0013869625520110957,
           0,
           0,
           0,
           0,
           0,
           0,
           0,
           0,
           0,
           0.0013869625520110957,
           0,
           0,
           0,
           0,
           0,
           0,
           0,
           0,
           0,
           0,
           0
          ],
          [
           0.033287101248266296,
           0.005547850208044383,
           0.02912621359223301,
           0.024271844660194174,
           0.004160887656033287,
           0.0013869625520110957,
           0.011095700416088766,
           0.013176144244105409,
           0.019417475728155338,
           0.0027739251040221915,
           0,
           0.0076282940360610264,
           0.009015256588072122,
           0.013176144244105409,
           0.0006934812760055479,
           0.005547850208044383,
           0,
           0.028432732316227463,
           0.021497919556171984,
           0.044382801664355064,
           0.0027739251040221915,
           0.009015256588072122,
           0,
           0.0020804438280166435,
           0,
           0.0020804438280166435
          ],
          [
           0,
           0,
           0,
           0,
           0,
           0,
           0,
           0,
           0,
           0,
           0,
           0,
           0,
           0,
           0,
           0,
           0,
           0,
           0,
           0,
           0,
           0,
           0,
           0,
           0,
           0
          ],
          [
           0,
           0,
           0,
           0,
           0,
           0,
           0,
           0,
           0,
           0,
           0,
           0,
           0,
           0,
           0,
           0,
           0,
           0,
           0,
           0,
           0,
           0,
           0,
           0,
           0,
           0
          ],
          [
           0.09084604715672677,
           0,
           0,
           0,
           0.02011095700416089,
           0,
           0,
           0,
           0.013176144244105409,
           0,
           0,
           0,
           0,
           0,
           0.024271844660194174,
           0,
           0,
           0,
           0,
           0,
           0,
           0,
           0,
           0,
           0,
           0
          ],
          [
           0.038834951456310676,
           0,
           0,
           0,
           0.021497919556171984,
           0,
           0,
           0,
           0.009015256588072122,
           0,
           0,
           0,
           0,
           0.0013869625520110957,
           0.052011095700416086,
           0,
           0,
           0,
           0,
           0,
           0.0048543689320388345,
           0,
           0,
           0,
           0,
           0
          ],
          [
           0,
           0,
           0,
           0,
           0,
           0,
           0,
           0,
           0,
           0,
           0,
           0,
           0,
           0,
           0,
           0,
           0,
           0,
           0,
           0,
           0,
           0,
           0,
           0,
           0,
           0
          ],
          [
           0.0020804438280166435,
           0.0013869625520110957,
           0,
           0,
           0.0006934812760055479,
           0,
           0,
           0,
           0,
           0,
           0,
           0,
           0,
           0,
           0,
           0.0006934812760055479,
           0,
           0,
           0,
           0,
           0,
           0,
           0,
           0,
           0,
           0
          ],
          [
           0,
           0,
           0,
           0,
           0,
           0,
           0,
           0,
           0,
           0,
           0,
           0,
           0,
           0,
           0,
           0,
           0,
           0,
           0,
           0,
           0,
           0,
           0,
           0,
           0,
           0
          ],
          [
           0,
           0,
           0,
           0,
           0,
           0,
           0,
           0,
           0,
           0,
           0,
           0,
           0,
           0,
           0,
           0,
           0,
           0,
           0,
           0,
           0,
           0,
           0,
           0,
           0,
           0
          ],
          [
           0.0006934812760055479,
           0,
           0,
           0,
           0,
           0,
           0,
           0,
           0,
           0,
           0,
           0,
           0,
           0,
           0,
           0,
           0,
           0,
           0,
           0,
           0,
           0,
           0,
           0,
           0,
           0
          ],
          [
           0,
           0,
           0,
           0,
           0,
           0,
           0,
           0,
           0,
           0,
           0,
           0,
           0,
           0,
           0,
           0,
           0,
           0,
           0,
           0,
           0,
           0,
           0,
           0,
           0,
           0
          ],
          [
           0.0034674063800277394,
           0,
           0,
           0,
           0.0006934812760055479,
           0,
           0,
           0,
           0.0027739251040221915,
           0,
           0,
           0,
           0,
           0,
           0.0034674063800277394,
           0,
           0,
           0,
           0,
           0,
           0.0006934812760055479,
           0,
           0,
           0,
           0,
           0
          ]
         ]
        },
        {
         "coloraxis": "coloraxis",
         "name": "3-4",
         "type": "heatmap",
         "visible": false,
         "x": [
          "a",
          "b",
          "c",
          "d",
          "e",
          "f",
          "g",
          "h",
          "i",
          "j",
          "k",
          "l",
          "m",
          "n",
          "o",
          "p",
          "q",
          "r",
          "s",
          "t",
          "u",
          "v",
          "w",
          "x",
          "y",
          "z"
         ],
         "xaxis": "x16",
         "y": [
          "a",
          "b",
          "c",
          "d",
          "e",
          "f",
          "g",
          "h",
          "i",
          "j",
          "k",
          "l",
          "m",
          "n",
          "o",
          "p",
          "q",
          "r",
          "s",
          "t",
          "u",
          "v",
          "w",
          "x",
          "y",
          "z"
         ],
         "yaxis": "y16",
         "z": [
          [
           0,
           0.006934812760055479,
           0.022191400832177532,
           0.02288488210818308,
           0.0027739251040221915,
           0.0013869625520110957,
           0.011789181692094313,
           0.013869625520110958,
           0.02288488210818308,
           0.0027739251040221915,
           0,
           0.010402219140083218,
           0.0159500693481276,
           0.010402219140083218,
           0.0034674063800277394,
           0.010402219140083218,
           0,
           0.026352288488210817,
           0.01872399445214979,
           0.03814147018030513,
           0.0034674063800277394,
           0.009015256588072122,
           0,
           0.0034674063800277394,
           0,
           0.0020804438280166435
          ],
          [
           0,
           0,
           0,
           0,
           0,
           0,
           0,
           0,
           0,
           0,
           0,
           0,
           0,
           0,
           0,
           0,
           0,
           0,
           0,
           0,
           0,
           0,
           0,
           0,
           0,
           0
          ],
          [
           0,
           0,
           0,
           0,
           0,
           0,
           0,
           0,
           0,
           0,
           0,
           0,
           0,
           0,
           0,
           0,
           0,
           0,
           0,
           0,
           0,
           0,
           0,
           0,
           0,
           0
          ],
          [
           0,
           0,
           0,
           0,
           0,
           0,
           0,
           0,
           0,
           0,
           0,
           0,
           0,
           0,
           0,
           0,
           0,
           0,
           0,
           0,
           0,
           0,
           0,
           0,
           0,
           0
          ],
          [
           0.0006934812760055479,
           0.0027739251040221915,
           0.004160887656033287,
           0.009015256588072122,
           0,
           0.0013869625520110957,
           0.0013869625520110957,
           0,
           0.0013869625520110957,
           0.0006934812760055479,
           0,
           0.0027739251040221915,
           0.005547850208044383,
           0.004160887656033287,
           0,
           0.006934812760055479,
           0,
           0.009708737864077669,
           0.004160887656033287,
           0.019417475728155338,
           0.0062413314840499305,
           0.0048543689320388345,
           0,
           0.0020804438280166435,
           0,
           0.0006934812760055479
          ],
          [
           0,
           0,
           0,
           0,
           0,
           0,
           0,
           0,
           0,
           0,
           0,
           0,
           0,
           0,
           0,
           0,
           0,
           0,
           0,
           0,
           0,
           0,
           0,
           0,
           0,
           0
          ],
          [
           0,
           0,
           0,
           0,
           0,
           0,
           0,
           0,
           0,
           0,
           0,
           0,
           0,
           0,
           0,
           0,
           0,
           0,
           0,
           0,
           0,
           0,
           0,
           0,
           0,
           0
          ],
          [
           0,
           0,
           0,
           0,
           0,
           0,
           0,
           0,
           0,
           0,
           0,
           0,
           0,
           0,
           0,
           0,
           0,
           0,
           0,
           0,
           0,
           0,
           0,
           0,
           0,
           0
          ],
          [
           0,
           0.0006934812760055479,
           0,
           0,
           0.0013869625520110957,
           0,
           0,
           0.0006934812760055479,
           0,
           0,
           0,
           0,
           0,
           0,
           0.0006934812760055479,
           0,
           0,
           0,
           0,
           0,
           0.0020804438280166435,
           0,
           0,
           0,
           0,
           0
          ],
          [
           0,
           0,
           0,
           0,
           0,
           0,
           0,
           0,
           0,
           0,
           0,
           0,
           0,
           0,
           0,
           0,
           0,
           0,
           0,
           0,
           0,
           0,
           0,
           0,
           0,
           0
          ],
          [
           0,
           0,
           0,
           0,
           0,
           0,
           0,
           0,
           0,
           0,
           0,
           0,
           0,
           0,
           0,
           0,
           0,
           0,
           0,
           0,
           0,
           0,
           0,
           0,
           0,
           0
          ],
          [
           0.02565880721220527,
           0,
           0,
           0,
           0.005547850208044383,
           0,
           0,
           0,
           0.009015256588072122,
           0,
           0,
           0,
           0,
           0,
           0.0020804438280166435,
           0,
           0,
           0,
           0,
           0,
           0,
           0,
           0,
           0,
           0,
           0
          ],
          [
           0.0006934812760055479,
           0,
           0,
           0,
           0.0062413314840499305,
           0,
           0,
           0,
           0.006934812760055479,
           0,
           0,
           0,
           0,
           0,
           0.0013869625520110957,
           0,
           0,
           0,
           0,
           0,
           0.0034674063800277394,
           0,
           0,
           0,
           0,
           0
          ],
          [
           0,
           0,
           0,
           0,
           0.0013869625520110957,
           0,
           0,
           0,
           0,
           0,
           0,
           0,
           0,
           0,
           0.0013869625520110957,
           0,
           0,
           0,
           0,
           0,
           0,
           0,
           0,
           0,
           0,
           0
          ],
          [
           0.033287101248266296,
           0.005547850208044383,
           0.02912621359223301,
           0.024271844660194174,
           0.004160887656033287,
           0.0013869625520110957,
           0.011095700416088766,
           0.013176144244105409,
           0.019417475728155338,
           0.0027739251040221915,
           0,
           0.0076282940360610264,
           0.009015256588072122,
           0.013176144244105409,
           0.0006934812760055479,
           0.005547850208044383,
           0,
           0.028432732316227463,
           0.021497919556171984,
           0.044382801664355064,
           0.0027739251040221915,
           0.009015256588072122,
           0,
           0.0020804438280166435,
           0,
           0.0020804438280166435
          ],
          [
           0,
           0,
           0,
           0,
           0,
           0,
           0,
           0,
           0,
           0,
           0,
           0,
           0,
           0,
           0,
           0,
           0,
           0,
           0,
           0,
           0,
           0,
           0,
           0,
           0,
           0
          ],
          [
           0,
           0,
           0,
           0,
           0,
           0,
           0,
           0,
           0,
           0,
           0,
           0,
           0,
           0,
           0,
           0,
           0,
           0,
           0,
           0,
           0,
           0,
           0,
           0,
           0,
           0
          ],
          [
           0.09084604715672677,
           0,
           0,
           0,
           0.02011095700416089,
           0,
           0,
           0,
           0.013176144244105409,
           0,
           0,
           0,
           0,
           0,
           0.024271844660194174,
           0,
           0,
           0,
           0,
           0,
           0,
           0,
           0,
           0,
           0,
           0
          ],
          [
           0.038834951456310676,
           0,
           0,
           0,
           0.021497919556171984,
           0,
           0,
           0,
           0.009015256588072122,
           0,
           0,
           0,
           0,
           0.0013869625520110957,
           0.052011095700416086,
           0,
           0,
           0,
           0,
           0,
           0.0048543689320388345,
           0,
           0,
           0,
           0,
           0
          ],
          [
           0,
           0,
           0,
           0,
           0,
           0,
           0,
           0,
           0,
           0,
           0,
           0,
           0,
           0,
           0,
           0,
           0,
           0,
           0,
           0,
           0,
           0,
           0,
           0,
           0,
           0
          ],
          [
           0.0020804438280166435,
           0.0013869625520110957,
           0,
           0,
           0.0006934812760055479,
           0,
           0,
           0,
           0,
           0,
           0,
           0,
           0,
           0,
           0,
           0.0006934812760055479,
           0,
           0,
           0,
           0,
           0,
           0,
           0,
           0,
           0,
           0
          ],
          [
           0,
           0,
           0,
           0,
           0,
           0,
           0,
           0,
           0,
           0,
           0,
           0,
           0,
           0,
           0,
           0,
           0,
           0,
           0,
           0,
           0,
           0,
           0,
           0,
           0,
           0
          ],
          [
           0,
           0,
           0,
           0,
           0,
           0,
           0,
           0,
           0,
           0,
           0,
           0,
           0,
           0,
           0,
           0,
           0,
           0,
           0,
           0,
           0,
           0,
           0,
           0,
           0,
           0
          ],
          [
           0.0006934812760055479,
           0,
           0,
           0,
           0,
           0,
           0,
           0,
           0,
           0,
           0,
           0,
           0,
           0,
           0,
           0,
           0,
           0,
           0,
           0,
           0,
           0,
           0,
           0,
           0,
           0
          ],
          [
           0,
           0,
           0,
           0,
           0,
           0,
           0,
           0,
           0,
           0,
           0,
           0,
           0,
           0,
           0,
           0,
           0,
           0,
           0,
           0,
           0,
           0,
           0,
           0,
           0,
           0
          ],
          [
           0.0034674063800277394,
           0,
           0,
           0,
           0.0006934812760055479,
           0,
           0,
           0,
           0.0027739251040221915,
           0,
           0,
           0,
           0,
           0,
           0.0034674063800277394,
           0,
           0,
           0,
           0,
           0,
           0.0006934812760055479,
           0,
           0,
           0,
           0,
           0
          ]
         ]
        }
       ],
       "layout": {
        "coloraxis": {
         "colorscale": [
          [
           0,
           "rgb(12,51,131)"
          ],
          [
           0.25,
           "rgb(10,136,186)"
          ],
          [
           0.5,
           "rgb(242,211,56)"
          ],
          [
           0.75,
           "rgb(242,143,56)"
          ],
          [
           1,
           "rgb(217,30,30)"
          ]
         ],
         "showscale": false
        },
        "coloraxis10": {
         "colorscale": [
          [
           0,
           "rgb(12,51,131)"
          ],
          [
           0.25,
           "rgb(10,136,186)"
          ],
          [
           0.5,
           "rgb(242,211,56)"
          ],
          [
           0.75,
           "rgb(242,143,56)"
          ],
          [
           1,
           "rgb(217,30,30)"
          ]
         ],
         "showscale": false
        },
        "coloraxis11": {
         "colorscale": [
          [
           0,
           "rgb(12,51,131)"
          ],
          [
           0.25,
           "rgb(10,136,186)"
          ],
          [
           0.5,
           "rgb(242,211,56)"
          ],
          [
           0.75,
           "rgb(242,143,56)"
          ],
          [
           1,
           "rgb(217,30,30)"
          ]
         ],
         "showscale": false
        },
        "coloraxis2": {
         "colorscale": [
          [
           0,
           "rgb(12,51,131)"
          ],
          [
           0.25,
           "rgb(10,136,186)"
          ],
          [
           0.5,
           "rgb(242,211,56)"
          ],
          [
           0.75,
           "rgb(242,143,56)"
          ],
          [
           1,
           "rgb(217,30,30)"
          ]
         ],
         "showscale": false
        },
        "coloraxis3": {
         "colorscale": [
          [
           0,
           "rgb(12,51,131)"
          ],
          [
           0.25,
           "rgb(10,136,186)"
          ],
          [
           0.5,
           "rgb(242,211,56)"
          ],
          [
           0.75,
           "rgb(242,143,56)"
          ],
          [
           1,
           "rgb(217,30,30)"
          ]
         ],
         "showscale": false
        },
        "coloraxis4": {
         "colorscale": [
          [
           0,
           "rgb(12,51,131)"
          ],
          [
           0.25,
           "rgb(10,136,186)"
          ],
          [
           0.5,
           "rgb(242,211,56)"
          ],
          [
           0.75,
           "rgb(242,143,56)"
          ],
          [
           1,
           "rgb(217,30,30)"
          ]
         ],
         "showscale": false
        },
        "coloraxis5": {
         "colorscale": [
          [
           0,
           "rgb(12,51,131)"
          ],
          [
           0.25,
           "rgb(10,136,186)"
          ],
          [
           0.5,
           "rgb(242,211,56)"
          ],
          [
           0.75,
           "rgb(242,143,56)"
          ],
          [
           1,
           "rgb(217,30,30)"
          ]
         ],
         "showscale": false
        },
        "coloraxis6": {
         "colorscale": [
          [
           0,
           "rgb(12,51,131)"
          ],
          [
           0.25,
           "rgb(10,136,186)"
          ],
          [
           0.5,
           "rgb(242,211,56)"
          ],
          [
           0.75,
           "rgb(242,143,56)"
          ],
          [
           1,
           "rgb(217,30,30)"
          ]
         ],
         "showscale": false
        },
        "coloraxis7": {
         "colorscale": [
          [
           0,
           "rgb(12,51,131)"
          ],
          [
           0.25,
           "rgb(10,136,186)"
          ],
          [
           0.5,
           "rgb(242,211,56)"
          ],
          [
           0.75,
           "rgb(242,143,56)"
          ],
          [
           1,
           "rgb(217,30,30)"
          ]
         ],
         "showscale": false
        },
        "coloraxis8": {
         "colorscale": [
          [
           0,
           "rgb(12,51,131)"
          ],
          [
           0.25,
           "rgb(10,136,186)"
          ],
          [
           0.5,
           "rgb(242,211,56)"
          ],
          [
           0.75,
           "rgb(242,143,56)"
          ],
          [
           1,
           "rgb(217,30,30)"
          ]
         ],
         "showscale": false
        },
        "coloraxis9": {
         "colorscale": [
          [
           0,
           "rgb(12,51,131)"
          ],
          [
           0.25,
           "rgb(10,136,186)"
          ],
          [
           0.5,
           "rgb(242,211,56)"
          ],
          [
           0.75,
           "rgb(242,143,56)"
          ],
          [
           1,
           "rgb(217,30,30)"
          ]
         ],
         "showscale": false
        },
        "height": 800,
        "template": {
         "data": {
          "bar": [
           {
            "error_x": {
             "color": "#2a3f5f"
            },
            "error_y": {
             "color": "#2a3f5f"
            },
            "marker": {
             "line": {
              "color": "#E5ECF6",
              "width": 0.5
             },
             "pattern": {
              "fillmode": "overlay",
              "size": 10,
              "solidity": 0.2
             }
            },
            "type": "bar"
           }
          ],
          "barpolar": [
           {
            "marker": {
             "line": {
              "color": "#E5ECF6",
              "width": 0.5
             },
             "pattern": {
              "fillmode": "overlay",
              "size": 10,
              "solidity": 0.2
             }
            },
            "type": "barpolar"
           }
          ],
          "carpet": [
           {
            "aaxis": {
             "endlinecolor": "#2a3f5f",
             "gridcolor": "white",
             "linecolor": "white",
             "minorgridcolor": "white",
             "startlinecolor": "#2a3f5f"
            },
            "baxis": {
             "endlinecolor": "#2a3f5f",
             "gridcolor": "white",
             "linecolor": "white",
             "minorgridcolor": "white",
             "startlinecolor": "#2a3f5f"
            },
            "type": "carpet"
           }
          ],
          "choropleth": [
           {
            "colorbar": {
             "outlinewidth": 0,
             "ticks": ""
            },
            "type": "choropleth"
           }
          ],
          "contour": [
           {
            "colorbar": {
             "outlinewidth": 0,
             "ticks": ""
            },
            "colorscale": [
             [
              0,
              "#0d0887"
             ],
             [
              0.1111111111111111,
              "#46039f"
             ],
             [
              0.2222222222222222,
              "#7201a8"
             ],
             [
              0.3333333333333333,
              "#9c179e"
             ],
             [
              0.4444444444444444,
              "#bd3786"
             ],
             [
              0.5555555555555556,
              "#d8576b"
             ],
             [
              0.6666666666666666,
              "#ed7953"
             ],
             [
              0.7777777777777778,
              "#fb9f3a"
             ],
             [
              0.8888888888888888,
              "#fdca26"
             ],
             [
              1,
              "#f0f921"
             ]
            ],
            "type": "contour"
           }
          ],
          "contourcarpet": [
           {
            "colorbar": {
             "outlinewidth": 0,
             "ticks": ""
            },
            "type": "contourcarpet"
           }
          ],
          "heatmap": [
           {
            "colorbar": {
             "outlinewidth": 0,
             "ticks": ""
            },
            "colorscale": [
             [
              0,
              "#0d0887"
             ],
             [
              0.1111111111111111,
              "#46039f"
             ],
             [
              0.2222222222222222,
              "#7201a8"
             ],
             [
              0.3333333333333333,
              "#9c179e"
             ],
             [
              0.4444444444444444,
              "#bd3786"
             ],
             [
              0.5555555555555556,
              "#d8576b"
             ],
             [
              0.6666666666666666,
              "#ed7953"
             ],
             [
              0.7777777777777778,
              "#fb9f3a"
             ],
             [
              0.8888888888888888,
              "#fdca26"
             ],
             [
              1,
              "#f0f921"
             ]
            ],
            "type": "heatmap"
           }
          ],
          "heatmapgl": [
           {
            "colorbar": {
             "outlinewidth": 0,
             "ticks": ""
            },
            "colorscale": [
             [
              0,
              "#0d0887"
             ],
             [
              0.1111111111111111,
              "#46039f"
             ],
             [
              0.2222222222222222,
              "#7201a8"
             ],
             [
              0.3333333333333333,
              "#9c179e"
             ],
             [
              0.4444444444444444,
              "#bd3786"
             ],
             [
              0.5555555555555556,
              "#d8576b"
             ],
             [
              0.6666666666666666,
              "#ed7953"
             ],
             [
              0.7777777777777778,
              "#fb9f3a"
             ],
             [
              0.8888888888888888,
              "#fdca26"
             ],
             [
              1,
              "#f0f921"
             ]
            ],
            "type": "heatmapgl"
           }
          ],
          "histogram": [
           {
            "marker": {
             "pattern": {
              "fillmode": "overlay",
              "size": 10,
              "solidity": 0.2
             }
            },
            "type": "histogram"
           }
          ],
          "histogram2d": [
           {
            "colorbar": {
             "outlinewidth": 0,
             "ticks": ""
            },
            "colorscale": [
             [
              0,
              "#0d0887"
             ],
             [
              0.1111111111111111,
              "#46039f"
             ],
             [
              0.2222222222222222,
              "#7201a8"
             ],
             [
              0.3333333333333333,
              "#9c179e"
             ],
             [
              0.4444444444444444,
              "#bd3786"
             ],
             [
              0.5555555555555556,
              "#d8576b"
             ],
             [
              0.6666666666666666,
              "#ed7953"
             ],
             [
              0.7777777777777778,
              "#fb9f3a"
             ],
             [
              0.8888888888888888,
              "#fdca26"
             ],
             [
              1,
              "#f0f921"
             ]
            ],
            "type": "histogram2d"
           }
          ],
          "histogram2dcontour": [
           {
            "colorbar": {
             "outlinewidth": 0,
             "ticks": ""
            },
            "colorscale": [
             [
              0,
              "#0d0887"
             ],
             [
              0.1111111111111111,
              "#46039f"
             ],
             [
              0.2222222222222222,
              "#7201a8"
             ],
             [
              0.3333333333333333,
              "#9c179e"
             ],
             [
              0.4444444444444444,
              "#bd3786"
             ],
             [
              0.5555555555555556,
              "#d8576b"
             ],
             [
              0.6666666666666666,
              "#ed7953"
             ],
             [
              0.7777777777777778,
              "#fb9f3a"
             ],
             [
              0.8888888888888888,
              "#fdca26"
             ],
             [
              1,
              "#f0f921"
             ]
            ],
            "type": "histogram2dcontour"
           }
          ],
          "mesh3d": [
           {
            "colorbar": {
             "outlinewidth": 0,
             "ticks": ""
            },
            "type": "mesh3d"
           }
          ],
          "parcoords": [
           {
            "line": {
             "colorbar": {
              "outlinewidth": 0,
              "ticks": ""
             }
            },
            "type": "parcoords"
           }
          ],
          "pie": [
           {
            "automargin": true,
            "type": "pie"
           }
          ],
          "scatter": [
           {
            "fillpattern": {
             "fillmode": "overlay",
             "size": 10,
             "solidity": 0.2
            },
            "type": "scatter"
           }
          ],
          "scatter3d": [
           {
            "line": {
             "colorbar": {
              "outlinewidth": 0,
              "ticks": ""
             }
            },
            "marker": {
             "colorbar": {
              "outlinewidth": 0,
              "ticks": ""
             }
            },
            "type": "scatter3d"
           }
          ],
          "scattercarpet": [
           {
            "marker": {
             "colorbar": {
              "outlinewidth": 0,
              "ticks": ""
             }
            },
            "type": "scattercarpet"
           }
          ],
          "scattergeo": [
           {
            "marker": {
             "colorbar": {
              "outlinewidth": 0,
              "ticks": ""
             }
            },
            "type": "scattergeo"
           }
          ],
          "scattergl": [
           {
            "marker": {
             "colorbar": {
              "outlinewidth": 0,
              "ticks": ""
             }
            },
            "type": "scattergl"
           }
          ],
          "scattermapbox": [
           {
            "marker": {
             "colorbar": {
              "outlinewidth": 0,
              "ticks": ""
             }
            },
            "type": "scattermapbox"
           }
          ],
          "scatterpolar": [
           {
            "marker": {
             "colorbar": {
              "outlinewidth": 0,
              "ticks": ""
             }
            },
            "type": "scatterpolar"
           }
          ],
          "scatterpolargl": [
           {
            "marker": {
             "colorbar": {
              "outlinewidth": 0,
              "ticks": ""
             }
            },
            "type": "scatterpolargl"
           }
          ],
          "scatterternary": [
           {
            "marker": {
             "colorbar": {
              "outlinewidth": 0,
              "ticks": ""
             }
            },
            "type": "scatterternary"
           }
          ],
          "surface": [
           {
            "colorbar": {
             "outlinewidth": 0,
             "ticks": ""
            },
            "colorscale": [
             [
              0,
              "#0d0887"
             ],
             [
              0.1111111111111111,
              "#46039f"
             ],
             [
              0.2222222222222222,
              "#7201a8"
             ],
             [
              0.3333333333333333,
              "#9c179e"
             ],
             [
              0.4444444444444444,
              "#bd3786"
             ],
             [
              0.5555555555555556,
              "#d8576b"
             ],
             [
              0.6666666666666666,
              "#ed7953"
             ],
             [
              0.7777777777777778,
              "#fb9f3a"
             ],
             [
              0.8888888888888888,
              "#fdca26"
             ],
             [
              1,
              "#f0f921"
             ]
            ],
            "type": "surface"
           }
          ],
          "table": [
           {
            "cells": {
             "fill": {
              "color": "#EBF0F8"
             },
             "line": {
              "color": "white"
             }
            },
            "header": {
             "fill": {
              "color": "#C8D4E3"
             },
             "line": {
              "color": "white"
             }
            },
            "type": "table"
           }
          ]
         },
         "layout": {
          "annotationdefaults": {
           "arrowcolor": "#2a3f5f",
           "arrowhead": 0,
           "arrowwidth": 1
          },
          "autotypenumbers": "strict",
          "coloraxis": {
           "colorbar": {
            "outlinewidth": 0,
            "ticks": ""
           }
          },
          "colorscale": {
           "diverging": [
            [
             0,
             "#8e0152"
            ],
            [
             0.1,
             "#c51b7d"
            ],
            [
             0.2,
             "#de77ae"
            ],
            [
             0.3,
             "#f1b6da"
            ],
            [
             0.4,
             "#fde0ef"
            ],
            [
             0.5,
             "#f7f7f7"
            ],
            [
             0.6,
             "#e6f5d0"
            ],
            [
             0.7,
             "#b8e186"
            ],
            [
             0.8,
             "#7fbc41"
            ],
            [
             0.9,
             "#4d9221"
            ],
            [
             1,
             "#276419"
            ]
           ],
           "sequential": [
            [
             0,
             "#0d0887"
            ],
            [
             0.1111111111111111,
             "#46039f"
            ],
            [
             0.2222222222222222,
             "#7201a8"
            ],
            [
             0.3333333333333333,
             "#9c179e"
            ],
            [
             0.4444444444444444,
             "#bd3786"
            ],
            [
             0.5555555555555556,
             "#d8576b"
            ],
            [
             0.6666666666666666,
             "#ed7953"
            ],
            [
             0.7777777777777778,
             "#fb9f3a"
            ],
            [
             0.8888888888888888,
             "#fdca26"
            ],
            [
             1,
             "#f0f921"
            ]
           ],
           "sequentialminus": [
            [
             0,
             "#0d0887"
            ],
            [
             0.1111111111111111,
             "#46039f"
            ],
            [
             0.2222222222222222,
             "#7201a8"
            ],
            [
             0.3333333333333333,
             "#9c179e"
            ],
            [
             0.4444444444444444,
             "#bd3786"
            ],
            [
             0.5555555555555556,
             "#d8576b"
            ],
            [
             0.6666666666666666,
             "#ed7953"
            ],
            [
             0.7777777777777778,
             "#fb9f3a"
            ],
            [
             0.8888888888888888,
             "#fdca26"
            ],
            [
             1,
             "#f0f921"
            ]
           ]
          },
          "colorway": [
           "#636efa",
           "#EF553B",
           "#00cc96",
           "#ab63fa",
           "#FFA15A",
           "#19d3f3",
           "#FF6692",
           "#B6E880",
           "#FF97FF",
           "#FECB52"
          ],
          "font": {
           "color": "#2a3f5f"
          },
          "geo": {
           "bgcolor": "white",
           "lakecolor": "white",
           "landcolor": "#E5ECF6",
           "showlakes": true,
           "showland": true,
           "subunitcolor": "white"
          },
          "hoverlabel": {
           "align": "left"
          },
          "hovermode": "closest",
          "mapbox": {
           "style": "light"
          },
          "paper_bgcolor": "white",
          "plot_bgcolor": "#E5ECF6",
          "polar": {
           "angularaxis": {
            "gridcolor": "white",
            "linecolor": "white",
            "ticks": ""
           },
           "bgcolor": "#E5ECF6",
           "radialaxis": {
            "gridcolor": "white",
            "linecolor": "white",
            "ticks": ""
           }
          },
          "scene": {
           "xaxis": {
            "backgroundcolor": "#E5ECF6",
            "gridcolor": "white",
            "gridwidth": 2,
            "linecolor": "white",
            "showbackground": true,
            "ticks": "",
            "zerolinecolor": "white"
           },
           "yaxis": {
            "backgroundcolor": "#E5ECF6",
            "gridcolor": "white",
            "gridwidth": 2,
            "linecolor": "white",
            "showbackground": true,
            "ticks": "",
            "zerolinecolor": "white"
           },
           "zaxis": {
            "backgroundcolor": "#E5ECF6",
            "gridcolor": "white",
            "gridwidth": 2,
            "linecolor": "white",
            "showbackground": true,
            "ticks": "",
            "zerolinecolor": "white"
           }
          },
          "shapedefaults": {
           "line": {
            "color": "#2a3f5f"
           }
          },
          "ternary": {
           "aaxis": {
            "gridcolor": "white",
            "linecolor": "white",
            "ticks": ""
           },
           "baxis": {
            "gridcolor": "white",
            "linecolor": "white",
            "ticks": ""
           },
           "bgcolor": "#E5ECF6",
           "caxis": {
            "gridcolor": "white",
            "linecolor": "white",
            "ticks": ""
           }
          },
          "title": {
           "x": 0.05
          },
          "xaxis": {
           "automargin": true,
           "gridcolor": "white",
           "linecolor": "white",
           "ticks": "",
           "title": {
            "standoff": 15
           },
           "zerolinecolor": "white",
           "zerolinewidth": 2
          },
          "yaxis": {
           "automargin": true,
           "gridcolor": "white",
           "linecolor": "white",
           "ticks": "",
           "title": {
            "standoff": 15
           },
           "zerolinecolor": "white",
           "zerolinewidth": 2
          }
         }
        },
        "title": {
         "text": "Element correlation per position"
        },
        "updatemenus": [
         {
          "buttons": [
           {
            "args": [
             {
              "visible": [
               true,
               false
              ]
             }
            ],
            "label": "Independent Scales"
           },
           {
            "args": [
             {
              "visible": [
               false,
               true
              ]
             }
            ],
            "label": "Single Scale"
           }
          ],
          "direction": "down",
          "pad": {
           "r": 10,
           "t": 10
          },
          "showactive": true,
          "x": 1,
          "xanchor": "right",
          "y": 1.1,
          "yanchor": "top"
         }
        ],
        "width": 800,
        "xaxis": {
         "anchor": "y",
         "domain": [
          0,
          0.2425
         ],
         "matches": "x13",
         "showticklabels": false
        },
        "xaxis10": {
         "anchor": "y10",
         "domain": [
          0.2525,
          0.495
         ],
         "matches": "x14",
         "showticklabels": false
        },
        "xaxis11": {
         "anchor": "y11",
         "domain": [
          0.505,
          0.7475
         ],
         "matches": "x15",
         "showticklabels": false
        },
        "xaxis12": {
         "anchor": "y12",
         "domain": [
          0.7575000000000001,
          1
         ],
         "matches": "x16",
         "showticklabels": false
        },
        "xaxis13": {
         "anchor": "y13",
         "domain": [
          0,
          0.2425
         ],
         "showticklabels": false,
         "side": "bottom",
         "title": {
          "text": "p0"
         }
        },
        "xaxis14": {
         "anchor": "y14",
         "domain": [
          0.2525,
          0.495
         ],
         "showticklabels": false,
         "side": "bottom",
         "title": {
          "text": "p1"
         }
        },
        "xaxis15": {
         "anchor": "y15",
         "domain": [
          0.505,
          0.7475
         ],
         "showticklabels": false,
         "side": "bottom",
         "title": {
          "text": "p2"
         }
        },
        "xaxis16": {
         "anchor": "y16",
         "domain": [
          0.7575000000000001,
          1
         ],
         "showticklabels": false,
         "side": "bottom",
         "title": {
          "text": "p3"
         }
        },
        "xaxis2": {
         "anchor": "y2",
         "domain": [
          0.2525,
          0.495
         ],
         "matches": "x14",
         "showticklabels": false
        },
        "xaxis3": {
         "anchor": "y3",
         "domain": [
          0.505,
          0.7475
         ],
         "matches": "x15",
         "showticklabels": false
        },
        "xaxis4": {
         "anchor": "y4",
         "domain": [
          0.7575000000000001,
          1
         ],
         "matches": "x16",
         "showticklabels": false
        },
        "xaxis5": {
         "anchor": "y5",
         "domain": [
          0,
          0.2425
         ],
         "matches": "x13",
         "showticklabels": false
        },
        "xaxis6": {
         "anchor": "y6",
         "domain": [
          0.2525,
          0.495
         ],
         "matches": "x14",
         "showticklabels": false
        },
        "xaxis7": {
         "anchor": "y7",
         "domain": [
          0.505,
          0.7475
         ],
         "matches": "x15",
         "showticklabels": false
        },
        "xaxis8": {
         "anchor": "y8",
         "domain": [
          0.7575000000000001,
          1
         ],
         "matches": "x16",
         "showticklabels": false
        },
        "xaxis9": {
         "anchor": "y9",
         "domain": [
          0,
          0.2425
         ],
         "matches": "x13",
         "showticklabels": false
        },
        "yaxis": {
         "anchor": "x",
         "domain": [
          0.7575000000000001,
          1
         ],
         "showticklabels": false,
         "title": {
          "text": "p1"
         }
        },
        "yaxis10": {
         "anchor": "x10",
         "domain": [
          0.2525,
          0.495
         ],
         "matches": "y9",
         "showticklabels": false
        },
        "yaxis11": {
         "anchor": "x11",
         "domain": [
          0.2525,
          0.495
         ],
         "matches": "y9",
         "showticklabels": false
        },
        "yaxis12": {
         "anchor": "x12",
         "domain": [
          0.2525,
          0.495
         ],
         "matches": "y9",
         "showticklabels": false
        },
        "yaxis13": {
         "anchor": "x13",
         "domain": [
          0,
          0.2425
         ],
         "showticklabels": false,
         "title": {
          "text": "p4"
         }
        },
        "yaxis14": {
         "anchor": "x14",
         "domain": [
          0,
          0.2425
         ],
         "matches": "y13",
         "showticklabels": false
        },
        "yaxis15": {
         "anchor": "x15",
         "domain": [
          0,
          0.2425
         ],
         "matches": "y13",
         "showticklabels": false
        },
        "yaxis16": {
         "anchor": "x16",
         "domain": [
          0,
          0.2425
         ],
         "matches": "y13",
         "showticklabels": false
        },
        "yaxis2": {
         "anchor": "x2",
         "domain": [
          0.7575000000000001,
          1
         ],
         "matches": "y",
         "showticklabels": false
        },
        "yaxis3": {
         "anchor": "x3",
         "domain": [
          0.7575000000000001,
          1
         ],
         "matches": "y",
         "showticklabels": false
        },
        "yaxis4": {
         "anchor": "x4",
         "domain": [
          0.7575000000000001,
          1
         ],
         "matches": "y",
         "showticklabels": false
        },
        "yaxis5": {
         "anchor": "x5",
         "domain": [
          0.505,
          0.7475
         ],
         "showticklabels": false,
         "title": {
          "text": "p2"
         }
        },
        "yaxis6": {
         "anchor": "x6",
         "domain": [
          0.505,
          0.7475
         ],
         "matches": "y5",
         "showticklabels": false
        },
        "yaxis7": {
         "anchor": "x7",
         "domain": [
          0.505,
          0.7475
         ],
         "matches": "y5",
         "showticklabels": false
        },
        "yaxis8": {
         "anchor": "x8",
         "domain": [
          0.505,
          0.7475
         ],
         "matches": "y5",
         "showticklabels": false
        },
        "yaxis9": {
         "anchor": "x9",
         "domain": [
          0.2525,
          0.495
         ],
         "showticklabels": false,
         "title": {
          "text": "p3"
         }
        }
       }
      }
     },
     "metadata": {},
     "output_type": "display_data"
    }
   ],
   "source": [
    "# Ploting Heatmap\n",
    "\n",
    "# Creating figure\n",
    "fig = sp.make_subplots(\n",
    "    rows=NUMBER_OF_ELEMENTS - 1, \n",
    "    cols=NUMBER_OF_ELEMENTS - 1,\n",
    "    shared_xaxes=True,\n",
    "    shared_yaxes=True,\n",
    "    vertical_spacing=0.01,\n",
    "    horizontal_spacing=0.01,\n",
    ")\n",
    "\n",
    "# Creating traces\n",
    "for i in range(NUMBER_OF_ELEMENTS):\n",
    "    for j in range(i + 1, NUMBER_OF_ELEMENTS):\n",
    "\n",
    "        df_temp = df_elements_pos_corr[f\"p{i}\"].loc[f\"p{j}\"]\n",
    "\n",
    "        if df_temp is None:\n",
    "            continue\n",
    "\n",
    "        fig.add_trace(\n",
    "            go.Heatmap(\n",
    "                x=df_temp.columns,\n",
    "                y=df_temp.index,\n",
    "                z=df_temp / len(df),\n",
    "                name=f\"{i}-{j}\",\n",
    "                visible=True,\n",
    "                coloraxis=f\"coloraxis{i + j + 1}\",\n",
    "            ),\n",
    "            row=j, \n",
    "            col=i + 1,\n",
    "        )\n",
    "\n",
    "        fig.add_trace(\n",
    "            go.Heatmap(\n",
    "                x=df_temp.columns,\n",
    "                y=df_temp.index,\n",
    "                z=df_temp / len(df),\n",
    "                name=f\"{i}-{j}\",\n",
    "                visible=False,\n",
    "                coloraxis=f\"coloraxis1\",\n",
    "            ),\n",
    "            row=j, \n",
    "            col=i + 1,\n",
    "        )\n",
    "\n",
    "# Updating layout\n",
    "coloraxis = dict(colorscale=\"Portland\", showscale=False)\n",
    "coloraxes = {f\"coloraxis{i + 1}\": coloraxis for i in range(int(((NUMBER_OF_ELEMENTS ** 2) - NUMBER_OF_ELEMENTS) / 2) + 1)}\n",
    "\n",
    "fig.update_layout(\n",
    "    title=\"Element correlation per position\",\n",
    "    height=800,\n",
    "    width=800,\n",
    "    **coloraxes,\n",
    ")\n",
    "\n",
    "fig.update_xaxes(showticklabels=False)\n",
    "fig.update_yaxes(showticklabels=False)\n",
    "\n",
    "for i in range(NUMBER_OF_ELEMENTS - 1):\n",
    "    fig.update_xaxes(title_text=f\"p{i}\", side=\"bottom\", row=NUMBER_OF_ELEMENTS - 1, col=i + 1)\n",
    "    fig.update_yaxes(title_text=f\"p{NUMBER_OF_ELEMENTS - i - 1}\", row=NUMBER_OF_ELEMENTS - i - 1, col=1)\n",
    "\n",
    "# Adding dropdown\n",
    "fig.update_layout(\n",
    "    updatemenus=[\n",
    "        dict(\n",
    "            buttons=list([\n",
    "                dict(\n",
    "                    args=[{\"visible\": [True, False]}],\n",
    "                    label=\"Independent Scales\",\n",
    "                ),\n",
    "                dict(\n",
    "                    args=[{\"visible\": [False, True]}],\n",
    "                    label=\"Single Scale\",\n",
    "                ),\n",
    "            ]),\n",
    "            direction=\"down\",\n",
    "            pad={\"r\": 10, \"t\": 10},\n",
    "            showactive=True,\n",
    "            x=1,\n",
    "            xanchor=\"right\",\n",
    "            y=1.1,\n",
    "            yanchor=\"top\"\n",
    "        ),\n",
    "    ]\n",
    ")\n",
    "\n",
    "# Showing figure\n",
    "fig.show()"
   ]
  }
 ],
 "metadata": {
  "interpreter": {
   "hash": "2be5faf79681da6f2a61fdfdd5405d65d042280f7fba6178067603e3a2925119"
  },
  "kernelspec": {
   "display_name": "Python 3.10.1 64-bit",
   "language": "python",
   "name": "python3"
  },
  "language_info": {
   "codemirror_mode": {
    "name": "ipython",
    "version": 3
   },
   "file_extension": ".py",
   "mimetype": "text/x-python",
   "name": "python",
   "nbconvert_exporter": "python",
   "pygments_lexer": "ipython3",
   "version": "3.10.4"
  },
  "orig_nbformat": 4
 },
 "nbformat": 4,
 "nbformat_minor": 2
}
